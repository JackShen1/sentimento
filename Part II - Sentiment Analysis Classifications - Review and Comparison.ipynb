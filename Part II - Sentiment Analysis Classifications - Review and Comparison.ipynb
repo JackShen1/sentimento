{
 "cells": [
  {
   "cell_type": "markdown",
   "metadata": {},
   "source": [
    "<h1 align=\"center\">PART II</h1>\n",
    "<h1 align=\"center\">Sentiment Analysis Classifications - Review and Comparison</h1>\n",
    "\n",
    "First, we needed to create vector words. For simplicity, we used a pre-trained model.\n",
    "\n",
    "Google was able to teach the Word2Vec model on a massive Google News dataset that contained over 100 billion different words! Google has created [3 million vector words](https://code.google.com/archive/p/word2vec/#Pre-trained_word_and_phrase_vectors) from this model, each with a dimension of 300.\n",
    "\n",
    "Ideally, we would use these vectors, but because the vector-word matrix is quite large (3.6 GB), we used a much more manageable matrix, which was trained using [GloVe](https://nlp.stanford.edu/projects/glove/), with a similar model of vector word generation. This matrix contains 400,000 vector words, each with a dimension of 50. You can also download model [here](https://www.kaggle.com/anindya2906/glove6b?select=glove.6B.50d.txt).\n",
    "\n",
    "#### How word2vec works:\n",
    "\n",
    "The idea behind word2vec is that:\n",
    "\n",
    "    Take a 3 layer neural network. (1 input layer + 1 hidden layer + 1 output layer)\n",
    "    Feed it a word and train it to predict its neighbouring word.\n",
    "    Remove the last (output layer) and keep the input and hidden layer.\n",
    "    Now, input a word from within the vocabulary. The output given at the hidden layer is the ‘word embedding’ of the input word.\n",
    "    \n",
    "Two popular examples of methods of learning word embeddings from text include:\n",
    "\n",
    "    Word2Vec\n",
    "    GloVe\n",
    "\n",
    "To get started, let's download the necessary libraries:"
   ]
  },
  {
   "cell_type": "code",
   "execution_count": 1,
   "metadata": {},
   "outputs": [],
   "source": [
    "import numpy as np\n",
    "import pandas as pd\n",
    "import pickle\n",
    "import gensim, logging\n",
    "import gensim.models.keyedvectors as word2vec\n",
    "import matplotlib.pyplot as plt\n",
    "\n",
    "%matplotlib inline"
   ]
  },
  {
   "cell_type": "markdown",
   "metadata": {},
   "source": [
    "Also let's write a style for alignment in the middle of all graphs, images, etc:"
   ]
  },
  {
   "cell_type": "code",
   "execution_count": 2,
   "metadata": {},
   "outputs": [
    {
     "data": {
      "text/html": [
       "\n",
       "<style>\n",
       ".output_png {\n",
       "    display: table-cell;\n",
       "    text-align: center;\n",
       "    vertical-align: middle;\n",
       "}\n",
       "</style>\n"
      ],
      "text/plain": [
       "<IPython.core.display.HTML object>"
      ]
     },
     "execution_count": 2,
     "metadata": {},
     "output_type": "execute_result"
    }
   ],
   "source": [
    "from IPython.core.display import HTML\n",
    "HTML(\"\"\"\n",
    "<style>\n",
    ".output_png {\n",
    "    display: table-cell;\n",
    "    text-align: center;\n",
    "    vertical-align: middle;\n",
    "}\n",
    "</style>\n",
    "\"\"\")"
   ]
  },
  {
   "cell_type": "markdown",
   "metadata": {},
   "source": [
    "Next, we will load the sample data we processed in the previous part:"
   ]
  },
  {
   "cell_type": "code",
   "execution_count": 3,
   "metadata": {},
   "outputs": [],
   "source": [
    "with open('documents.pql', 'rb') as f:\n",
    "     docs = pickle.load(f)"
   ]
  },
  {
   "cell_type": "code",
   "execution_count": 4,
   "metadata": {},
   "outputs": [
    {
     "name": "stdout",
     "output_type": "stream",
     "text": [
      "Number of documents: 38544\n"
     ]
    }
   ],
   "source": [
    "print(\"Number of documents:\", len(docs))"
   ]
  },
  {
   "cell_type": "markdown",
   "metadata": {},
   "source": [
    "Now we will load our glove model in word2vec format. Because the GloVe dump from Stanford's site is slightly different from the word2vec format. You can convert a GloVe file to word2vec format using the following command in your console:\n",
    "\n",
    "`python -m gensim.scripts.glove2word2vec --input  model/glove.6B.50d.txt --output model/glove.6B.50d.w2vformat.txt`\n",
    "\n",
    "After that you can delete original GloVe model.\n",
    "\n",
    "Next operation may take some time, as the model contains 400 000 words, so we will get a 400 000 x 50 embedding matrix that contains all the values of the word vectors."
   ]
  },
  {
   "cell_type": "code",
   "execution_count": 5,
   "metadata": {},
   "outputs": [],
   "source": [
    "model = word2vec.KeyedVectors.load_word2vec_format('model/glove.6B.50d.w2vformat.txt', binary=False)"
   ]
  },
  {
   "cell_type": "markdown",
   "metadata": {},
   "source": [
    "Now let's get a list of all the words from our dictionary:"
   ]
  },
  {
   "cell_type": "code",
   "execution_count": 6,
   "metadata": {},
   "outputs": [],
   "source": [
    "words = list(model.vocab)"
   ]
  },
  {
   "cell_type": "markdown",
   "metadata": {},
   "source": [
    "Just to make sure everything is loaded correctly, we can look at the dimensions of the dictionary list and the embedding matrix:"
   ]
  },
  {
   "cell_type": "code",
   "execution_count": 7,
   "metadata": {},
   "outputs": [
    {
     "name": "stdout",
     "output_type": "stream",
     "text": [
      "['the', ',', '.', 'of', 'to', 'and', 'in', 'a', '\"', \"'s\", 'for', '-', 'that', 'on', 'is', 'was', 'said', 'with', 'he', 'as', 'it', 'by', 'at', '(', ')', 'from', 'his', \"''\", '``', 'an', 'be', 'has', 'are', 'have', 'but', 'were', 'not', 'this', 'who', 'they', 'had', 'i', 'which', 'will', 'their', ':', 'or', 'its', 'one', 'after'] \n",
      "\n",
      "Total words: 400000 \n",
      "\n",
      "Word-Vectors shape: (400000, 50)\n"
     ]
    }
   ],
   "source": [
    "print(words[:50], \"\\n\\nTotal words:\", len(words), \"\\n\\nWord-Vectors shape:\", model.vectors.shape)"
   ]
  },
  {
   "cell_type": "markdown",
   "metadata": {},
   "source": [
    "We can also find a word like \"football\" in our word list and then access the corresponding vector through the embedding matrix:"
   ]
  },
  {
   "cell_type": "code",
   "execution_count": 8,
   "metadata": {},
   "outputs": [
    {
     "name": "stdout",
     "output_type": "stream",
     "text": [
      "[-1.8209    0.70094  -1.1403    0.34363  -0.42266  -0.92479  -1.3942\n",
      "  0.28512  -0.78416  -0.52579   0.89627   0.35899  -0.80087  -0.34636\n",
      "  1.0854   -0.087046  0.63411   1.1429   -1.6264    0.41326  -1.1283\n",
      " -0.16645   0.17424   0.99585  -0.81838  -1.7724    0.078281  0.13382\n",
      " -0.59779  -0.45068   2.5474    1.0693   -0.27017  -0.75646   0.24757\n",
      "  1.0261    0.11329   0.17668  -0.23257  -1.1561   -0.10665  -0.25377\n",
      " -0.65102   0.32393  -0.58262   0.88137  -0.13465   0.96903  -0.076259\n",
      " -0.59909 ]\n"
     ]
    }
   ],
   "source": [
    "print(model['football'])"
   ]
  },
  {
   "cell_type": "markdown",
   "metadata": {},
   "source": [
    "<h2 align=\"center\">Word Average Embedding Model</h2>\n",
    "\n",
    "Well, let's start analyzing our vectors. Our first approach will be the **word average embedding model**. \n",
    "\n",
    "The essence of this naive approach is to take the average of all word vectors from a sentence to get one 50-dimensional vector that represents the tone of the whole sentence that we feed the model and try to get some quick result.\n",
    "\n",
    "We didn't have to put a try/except, but even though I cleaned up our sample, there were a couple of words left after the processing that needed to be searched for and removed."
   ]
  },
  {
   "cell_type": "code",
   "execution_count": 9,
   "metadata": {},
   "outputs": [],
   "source": [
    "def sent_embed(words, docs):\n",
    "    x_sent_embed, y_sent_embed = [], []\n",
    "    count_words, count_non_words = 0, 0  \n",
    "    \n",
    "    # recover the embedding of each sentence with the average of the vector that composes it\n",
    "    # sent - sentence, state - state of the sentence (pos/neg)\n",
    "    for sent, state in docs:\n",
    "        # average embedding of all words in a sentence\n",
    "        sent_embed = []\n",
    "        for word in sent:\n",
    "            try:\n",
    "                # if word is present in the dictionary - add its vector representation\n",
    "                count_words += 1\n",
    "                sent_embed.append(model[word])\n",
    "            except KeyError:\n",
    "                # if word is not in the dictionary - add a zero vector\n",
    "                count_non_words += 1\n",
    "                sent_embed.append([0] * 50)\n",
    "        \n",
    "        # add a sentence vector to the list\n",
    "        x_sent_embed.append(np.mean(sent_embed, axis=0).tolist())\n",
    "        \n",
    "        # add a label to y_sent_embed\n",
    "        if state == 'pos': y_sent_embed.append(1)\n",
    "        elif state == 'neg': y_sent_embed.append(0)\n",
    "            \n",
    "    print(count_non_words, \"out of\", count_words, \"words were not found in the vocabulary.\")\n",
    "    \n",
    "    return x_sent_embed, y_sent_embed"
   ]
  },
  {
   "cell_type": "code",
   "execution_count": 10,
   "metadata": {},
   "outputs": [
    {
     "name": "stdout",
     "output_type": "stream",
     "text": [
      "30709 out of 1802696 words were not found in the vocabulary.\n"
     ]
    }
   ],
   "source": [
    "x, y = sent_embed(words, docs)"
   ]
  },
  {
   "cell_type": "markdown",
   "metadata": {},
   "source": [
    "<h2 align=\"center\">Cosine Similarity</h2>\n",
    "\n",
    "To measure the similarity of 2 words, we need a way to measure the degree of similarity between 2 embedding vectors for these 2 words. Given 2 vectors $u$ and $v$, cosine similarity is determined as follows:\n",
    "\n",
    "$$\\text{cosine_similarity(u, v)} = \\frac {u . v} {||u||_2 ||v||_2} = cos(\\theta)$$\n",
    "\n",
    "where: \n",
    "\n",
    "* $u.v$ - dot product (or inner product) of two vectors;\n",
    "\n",
    "* $||u||_2$ - norm (or length) of the vector $u$;\n",
    "    \n",
    "    * **Note**: norm of $u$ is defined as $ ||u||_2 = \\sqrt{\\sum_{i=1}^{n} u_i^2}$)\n",
    "\n",
    "* $\\theta$ is the angle between $u$ and $v$. \n",
    "\n",
    "This similarity depends on the angle between $u$ and $v$. If $u$ and $v$ are very similar, their cosine similarity will be close to 1; if they are dissimilar, the cosine similarity will take a smaller value. \n",
    "\n",
    "**`cosine_similarity()`** is a method that used to estimate the similarity between word vectors."
   ]
  },
  {
   "cell_type": "code",
   "execution_count": 11,
   "metadata": {},
   "outputs": [],
   "source": [
    "def cosine_similarity(u, v):\n",
    "    \"\"\"\n",
    "    Cosine similarity reflects the degree of similariy between u and v\n",
    "        \n",
    "    Arguments:\n",
    "        u -- a word vector of shape (n,)          \n",
    "        v -- a word vector of shape (n,)\n",
    "\n",
    "    Returns:\n",
    "        cosine_similarity -- the cosine similarity between u and v defined by the formula above.\n",
    "    \"\"\"\n",
    "    \n",
    "    distance = 0.0\n",
    "    \n",
    "    # compute the dot product between u and v\n",
    "    dot = np.dot(u,v)\n",
    "    \n",
    "    # compute the L2 norm of u\n",
    "    norm_u = np.sqrt(sum(u**2))\n",
    "    \n",
    "    # Compute the L2 norm of v\n",
    "    norm_v = np.sqrt(sum(v**2))\n",
    "    \n",
    "    # Compute the cosine similarity defined by formula above\n",
    "    cosine_similarity = dot/(norm_u*norm_v)\n",
    "    \n",
    "    return cosine_similarity"
   ]
  },
  {
   "cell_type": "markdown",
   "metadata": {},
   "source": [
    "Let's check the cosine similarity on 2 negative sentences:"
   ]
  },
  {
   "cell_type": "code",
   "execution_count": 12,
   "metadata": {},
   "outputs": [
    {
     "name": "stdout",
     "output_type": "stream",
     "text": [
      "Sentence #5:  (['eager', 'read', 'book', 'reading', 'left', 'completely', 'flat', 'rest', 'iceberg', 'hardly', 'smith', 'barely', 'give', 'could', 'reading', 'sport', 'illustrated', 'minnesota', 'sport', 'page', 'admits', 'football', 'majority', 'book', 'leisurely', 'describes', 'basic', 'part', 'football', 'career', 'book', 'touted', 'full', 'complete', 'story', 'learned', 'watching', 'stimpy', 'draft', 'type', 'meaty', 'story', 'want', 'read', 'telling', 'inside', 'detail', 'smith', 'deal', 'people', 'wanted', 'friend', 'girlfriend', 'star', 'football', 'player', 'friend', 'could', 'trust', 'need', 'trust', 'thought', 'enter', 'mind', 'look', 'hire', 'agent', 'goofing', 'missing', 'class', 'summer', 'covered', 'story', 'time', 'ohio', 'state', 'begin', 'using', 'football', 'smart', 'enough', 'study', 'break', 'coaching', 'process', 'mentally', 'challenging', 'happened', 'plan', 'medical', 'school', 'know', 'story', 'football', 'part', 'iceberg', 'already', 'documented', 'also', 'felt', 'smith', 'wrote', 'book', 'defending', 'america', 'attacking', 'feel', 'need', 'explain', 'paid', 'much', 'highly', 'paid', 'athlete', 'story', 'sorry', 'dime', 'dozen', 'compare', 'sitting', 'money', 'scenario', 'average', 'truth', 'many', 'people', 'take', 'worker', 'value', 'thing', 'money', 'happy', 'leaving', 'grammatical', 'error', 'reviewer', 'felt', 'like', 'reading', 'average', 'high', 'school', 'creative', 'writing', 'project', 'went', 'next', 'half', 'quote', 'wellspring', 'deep', 'philosophy', 'music', 'smith', 'note', 'percent', 'american', 'read', '10th', 'grade', 'level', 'well', 'book', 'certainly', 'reading', 'ability', 'many', 'people', 'lesson', 'book', 'smith', 'opportunity', 'swallow', 'pride', 'take', 'coaching', 'come', 'better', 'solution', 'book', 'another', 'time', 'hired', 'editor', 'writing', 'consultant', 'could', 'give', 'guidance', 'build', 'character', 'help', 'feel', 'story', 'instead', 'smith', 'felt', 'necessary', 'alone', 'emotion', 'sorry', 'compared', 'autobiography', 'emotional', 'book', 'sure', 'smith', 'thing', 'mike', 'gutter', 'thoughtful', 'honest', 'trustworthy', 'dependable', 'passionate', 'felt', 'best', 'story', 'would', 'demonstrate', 'characteristic', 'left', 'book', 'instead', 'still', 'looking', 'rest', 'iceberg'], 'neg') \n",
      "\n",
      "Sentence #7:  (['value', 'amazon', 'product', 'review', 'purchased', 'many', 'item', 'based', 'customer', 'feedback', 'purchased', 'phone', 'home', 'depot', 'returning', 'today', 'large', 'comfort', 'reception', 'letter', 'small', 'need', 'reading', 'glass', 'could'], 'neg')\n",
      "\n",
      "Sentence Embedding #5:  [0.01131779607385397, 0.23367555439472198, -0.056668754667043686, -0.24764131009578705, 0.430510550737381, 0.07081332057714462, -0.5177653431892395, -0.03903905302286148, -0.13728252053260803, 0.07700246572494507, -0.16849233210086823, 0.2067411094903946, -0.2801123857498169, -0.0610094778239727, 0.4939613342285156, -0.03934195637702942, 0.09831012785434723, 0.0422029048204422, -0.13356490433216095, -0.3223132789134979, -0.019953656941652298, 0.3334996700286865, 0.1518217921257019, 0.1095254123210907, 0.3594696521759033, -1.2954380512237549, -0.4831620156764984, -0.019770419225096703, 0.25212976336479187, -0.24769696593284607, 2.5406434535980225, 0.12557470798492432, -0.07102328538894653, -0.3904299736022949, 0.004364060703665018, 0.05013019219040871, -0.018428627401590347, 0.1928984671831131, 0.04191068187355995, -0.34819087386131287, -0.03821679949760437, -0.005490944255143404, -0.026860175654292107, 0.24909710884094238, -0.06916779279708862, 0.10717158019542694, -0.020162032917141914, 0.12701380252838135, -0.062044110149145126, 0.2513098120689392] \n",
      "\n",
      "Sentence Embedding #7:  [0.3527010381221771, 0.2081831991672516, 0.196530282497406, 0.01412939466536045, 0.4114040434360504, -0.11001740396022797, -0.7598518133163452, -0.23773261904716492, 0.21618972718715668, 0.04337448254227638, -0.009442123584449291, 0.12009995430707932, 0.19873353838920593, -0.2239973098039627, 0.2292730212211609, 0.16251251101493835, -0.3181024193763733, -0.0012830018531531096, -0.013101363554596901, -0.6070674061775208, 0.5082429051399231, -0.11066173762083054, -0.10543221235275269, 0.06870473176240921, -0.03560367971658707, -1.0910638570785522, -0.3817167282104492, 0.06267320364713669, 0.2765468955039978, -0.19624170660972595, 2.7380640506744385, 0.017234284430742264, 0.04990572854876518, -0.27236661314964294, 0.1264142394065857, -0.03530830889940262, 0.05308012664318085, 0.12018389999866486, -0.011113389395177364, -0.18697331845760345, 0.3190408945083618, -0.006428159307688475, -0.012993931770324707, 0.22762437164783478, -0.07230773568153381, 0.152089923620224, -0.20201432704925537, 0.20428138971328735, 0.01430835947394371, 0.13926735520362854]\n"
     ]
    }
   ],
   "source": [
    "print(\"Sentence #5: \", docs[5], \"\\n\\nSentence #7: \", docs[7])\n",
    "print(\"\\nSentence Embedding #5: \", x[5], \"\\n\\nSentence Embedding #7: \", x[7])"
   ]
  },
  {
   "cell_type": "code",
   "execution_count": 13,
   "metadata": {},
   "outputs": [
    {
     "name": "stdout",
     "output_type": "stream",
     "text": [
      "cosine_similarity =  0.8968743967161681\n"
     ]
    }
   ],
   "source": [
    "print(\"cosine_similarity = \", cosine_similarity(np.array(x[5]), np.array(x[7])))"
   ]
  },
  {
   "cell_type": "markdown",
   "metadata": {},
   "source": [
    "A value of 0.89 indicates that the sentences are close to each other, and so it is.\n",
    "\n",
    "Let's check on two positive sentences:"
   ]
  },
  {
   "cell_type": "code",
   "execution_count": 14,
   "metadata": {},
   "outputs": [
    {
     "name": "stdout",
     "output_type": "stream",
     "text": [
      "Sentence #1:  (['diehard', 'graco', 'daughter', 'born', 'graco', 'snugride', 'rated', 'infant', 'seat', 'stock', 'consumer', 'report', 'infant', 'seat', 'great', 'part', 'travel', 'system', 'loved', 'stroller', 'seat', 'outgrew', 'seat', 'around', 'year', 'tried', 'eddie', 'bauer', 'convertible', 'seat', 'next', 'horrible', 'strap', 'always', 'twisted', 'daughter', 'head', 'always', 'fell', 'forward', 'onto', 'chest', 'fell', 'asleep', 'quickly', 'changed', 'graco', 'comfortsport', 'overhead', 'drop', 'loved', 'padding', 'head', 'rested', 'side', 'carseat', 'instead', 'chest', 'strap', 'never', 'twisted', 'easy', 'heavy', 'around', 'airport', 'outgrew', 'seat', 'decided', 'make', 'switch', 'britax', 'although', 'roundabout', 'rate', 'went', 'marathon', 'thing', 'like', 'infant', 'latch', 'need', 'child', '3yrs', 'higher', 'weight', 'limit', 'roundabout', 'honda', 'accord', 'door', 'husband', 'drive', 'door', 'toyota', 'echo', 'tiny', 'seat', 'perfectly', 'well', 'vehicle', 'forward', 'facing', 'position', 'toyota', 'latch', 'honda', 'move', 'partly', 'fact', 'husband', 'excellent', 'installing', 'partly', 'seat', 'weight', 'quite', 'heavy', 'pain', 'haul', 'around', 'airport', 'husband', 'usually', 'loosens', 'strap', 'wear', 'like', 'backpack', 'airport', 'daughter', 'love', 'girly', 'print', 'granite', 'plenty', 'room', 'never', 'uncomfortable', 'sleeping', 'head', 'chest', 'either', 'though', 'bright', 'year', 'never', 'able', 'seat', 'love', 'fact', '65lbs', 'five', 'point', 'restraint', 'strap', 'never', 'twist', 'britax', 'also', 'thoughtful', 'thing', 'like', 'adding', 'velcro', 'side', 'seat', 'hold', 'strap', 'place', 'putting', 'child', 'padded', 'area', 'clip', 'child', 'burned', 'plastic', 'summer', 'freezing', 'winter', 'plan', 'staying', 'britax'], 'pos') \n",
      "\n",
      "Sentence #4:  (['best', 'carseat', 'perego', 'britax', 'weighs', 'pound', 'break', 'easy', 'adjust', 'best', 'feature', 'base', 'designed', 'move', 'graco', 'infant', 'seat', 'completely', 'flipped', 'sideways', 'made', 'turn', 'secure', 'even', 'special', 'belt', 'clip', 'side', 'canopy', 'floppy', 'still', 'star'], 'pos')\n",
      "\n",
      "Sentence Embedding #1:  [0.12711267170236737, 0.09236475469575064, 0.1266332291272759, -0.3013924247956748, 0.294683316376447, 0.19624675583867915, -0.3043137320414023, -0.03493387958727003, -0.0061060525680500305, -0.11686981351259852, 0.0443252307245803, -0.011276101143878014, -0.26993070709101774, 0.03044914987060379, 0.24125360968253, 0.33569200120642373, -0.15215016011392973, 0.10218650844810745, -0.10612362727034287, -0.5607575885239032, 0.018712027263038798, 0.197580213804826, -0.03804364950329961, 0.02118312717094773, 0.11329135551025755, -1.125217992181335, -0.2051172027914006, 0.36529712330122466, 0.3430080961860981, -0.17787827458741562, 2.094838625420638, 0.2979897524642407, -0.07502967412100056, -0.025080831284708564, 0.1635532991838504, 0.06514588520732388, 0.12988997355887227, 0.18282932833936372, 0.03143368033452979, -0.2425769464789681, -0.1511472329278502, 0.12855439917235303, -0.020095951993863194, 0.09676632000568522, -0.0409723698006322, -0.05890869530416577, 0.03822630964523491, -0.3853921659247532, 0.03171381270741952, -0.07378304081607472] \n",
      "\n",
      "Sentence Embedding #4:  [-0.024003845115657896, 0.032413323933724314, 0.27177543845027685, -0.19323246960993856, 0.24157759512308985, 0.07526156672975048, -0.2760535052511841, -0.2720376163961191, 0.08585320168640465, 0.045967813464812934, 0.02758947404799983, 0.036348608118714765, -0.12089703255333006, 0.2962150317616761, 0.10597237956244498, 0.26013640710152686, -0.014499877695925534, -0.014260866533732042, -0.17533631611149758, -0.5312268664129078, -0.12386704773234669, -0.007135688385460526, 0.0460448763333261, 0.014909687997715082, 0.0422693156870082, -0.8960106205195189, -0.11439847142901272, 0.3665759698487818, 0.38871053216280416, -0.17619909485802054, 2.1205024998635054, 0.12035856361035258, -0.14507543152649305, 0.09130546535016038, 0.19292692920134868, 0.1704116902546957, 0.11577803136606235, 0.2672465007635765, -0.20746869717549998, -0.485804874508176, 0.03960801559878746, 0.1643327432248043, 0.007201527449069545, 0.038974627503193915, -0.1504140937468037, -0.030792123987339437, 0.24923472222872078, -0.3328784227996948, -0.03202455530845327, 0.00434977759141475]\n"
     ]
    }
   ],
   "source": [
    "print(\"Sentence #1: \", docs[1], \"\\n\\nSentence #4: \", docs[4])\n",
    "print(\"\\nSentence Embedding #1: \", x[1], \"\\n\\nSentence Embedding #4: \", x[4])"
   ]
  },
  {
   "cell_type": "code",
   "execution_count": 15,
   "metadata": {},
   "outputs": [
    {
     "name": "stdout",
     "output_type": "stream",
     "text": [
      "cosine_similarity =  0.9481159093219256\n"
     ]
    }
   ],
   "source": [
    "print(\"cosine_similarity = \", cosine_similarity(np.array(x[1]), np.array(x[4])))"
   ]
  },
  {
   "cell_type": "markdown",
   "metadata": {},
   "source": [
    "These sentences are also close to each other. \n",
    "\n",
    "So now let's check sentences with different states:"
   ]
  },
  {
   "cell_type": "code",
   "execution_count": 16,
   "metadata": {},
   "outputs": [
    {
     "name": "stdout",
     "output_type": "stream",
     "text": [
      "Sentence #1:  (['love', 'crate', 'smart', 'little', 'learned', 'zipper', 'undone', 'escape', 'course', 'home', 'find', 'small', 'gift', 'left', 'behind'], 'pos') \n",
      "\n",
      "Sentence #5:  (['product', 'generate', 'enough', 'heat', 'provide', 'relief', 'sore', 'aching', 'muscle', 'massaging', 'action', 'actually', 'vibration', 'action', 'heat', 'switched', 'vibration', 'action', 'reduced', 'dramatically'], 'neg')\n"
     ]
    }
   ],
   "source": [
    "print(\"Sentence #1: \", docs[0], \"\\n\\nSentence #5: \", docs[6])"
   ]
  },
  {
   "cell_type": "code",
   "execution_count": 17,
   "metadata": {},
   "outputs": [
    {
     "name": "stdout",
     "output_type": "stream",
     "text": [
      "cosine_similarity =  0.7410293614966914\n"
     ]
    }
   ],
   "source": [
    "print(\"cosine_similarity = \", cosine_similarity(np.array(x[0]), np.array(x[6])))"
   ]
  },
  {
   "cell_type": "markdown",
   "metadata": {},
   "source": [
    "As we see, our average embedding still has some problems with separating different classes with cosine similarity."
   ]
  },
  {
   "cell_type": "markdown",
   "metadata": {},
   "source": [
    "<h2 align=\"center\">Split Corpus</h2>"
   ]
  },
  {
   "cell_type": "markdown",
   "metadata": {},
   "source": [
    "Now, for further work, we will divide our corpus for training, testing and development sets:"
   ]
  },
  {
   "cell_type": "code",
   "execution_count": 18,
   "metadata": {},
   "outputs": [],
   "source": [
    "from sklearn.model_selection import train_test_split\n",
    "\n",
    "# train test\n",
    "x_train, x_test, y_train, y_test = train_test_split(x, y, test_size=0.2, random_state=42)\n",
    "\n",
    "# train dev\n",
    "x_train, x_val, y_train, y_val = train_test_split(x_train, y_train, test_size=0.2, random_state=42)"
   ]
  },
  {
   "cell_type": "code",
   "execution_count": 19,
   "metadata": {},
   "outputs": [
    {
     "name": "stdout",
     "output_type": "stream",
     "text": [
      "Length of x_train: 24668 | Length of y_train: 24668\n",
      "Length of x_test:   7709 | Length of y_test:  7709\n",
      "Length of x_val:    6167 | Length of y_val:   6167\n"
     ]
    }
   ],
   "source": [
    "print('Length of x_train:', len(x_train), '| Length of y_train:', len(y_train))\n",
    "print('Length of x_test:  ', len(x_test), '| Length of y_test: ', len(y_test))\n",
    "print('Length of x_val:   ', len(x_val), '| Length of y_val:  ', len(y_val))"
   ]
  },
  {
   "cell_type": "code",
   "execution_count": 20,
   "metadata": {},
   "outputs": [
    {
     "name": "stdout",
     "output_type": "stream",
     "text": [
      "Shape of x_train set: (24668, 50)\n"
     ]
    }
   ],
   "source": [
    "print(\"Shape of x_train set:\", np.array(x_train).shape)"
   ]
  },
  {
   "cell_type": "markdown",
   "metadata": {},
   "source": [
    "<h2 align=\"center\">Visualization of Classification Report</h2>\n",
    "\n",
    "We will need these methods when we start to visualize our data, so we will write them now.\n",
    "\n",
    "The following function takes the conclusion of the `classification_report` function as an argument and plots the results ( function is based on [this](https://stackoverflow.com/a/31689645/14467732) solution)."
   ]
  },
  {
   "cell_type": "code",
   "execution_count": 21,
   "metadata": {},
   "outputs": [],
   "source": [
    "def plot_classification_report(classification_report, title='Classification Report', cmap='RdBu'):\n",
    "    \n",
    "    lines = classification_report.split('\\n')\n",
    "\n",
    "    classes, plotMat, support, class_names = [], [], [], []\n",
    "    \n",
    "    for line in lines[2 : (len(lines) - 5)]:\n",
    "        t = line.strip().split()\n",
    "        if len(t) < 2: continue\n",
    "        classes.append(t[0])\n",
    "        v = [float(x) for x in t[1: len(t) - 1]]\n",
    "        support.append(int(t[-1]))\n",
    "        class_names.append(t[0])\n",
    "        plotMat.append(v)\n",
    "\n",
    "    xlabel = 'Metrics'\n",
    "    ylabel = 'Classes'\n",
    "    \n",
    "    xticklabels = ['Precision', 'Recall', 'F1-score']\n",
    "    yticklabels = ['{0} ({1})'.format(class_names[idx], sup) for idx, sup  in enumerate(support)]\n",
    "    \n",
    "    figure_width = 25\n",
    "    figure_height = len(class_names) + 7\n",
    "    correct_orientation = False\n",
    "    \n",
    "    heatmap(np.array(plotMat), title, xlabel, ylabel, xticklabels, yticklabels, figure_width, figure_height, correct_orientation, cmap=cmap)"
   ]
  },
  {
   "cell_type": "markdown",
   "metadata": {},
   "source": [
    "This function is designed to create a heatmap with text in each cell using the matplotlib library (code based on idea from [here](https://stackoverflow.com/a/16124677/14467732)):"
   ]
  },
  {
   "cell_type": "code",
   "execution_count": 22,
   "metadata": {},
   "outputs": [],
   "source": [
    "def heatmap(AUC, title, xlabel, ylabel, xticklabels, yticklabels, figure_width=40, figure_height=20, correct_orientation=False, cmap='RdBu'):\n",
    "    fig, ax = plt.subplots()\n",
    "    c = ax.pcolor(AUC, edgecolors='k', linestyle='dashed', linewidths=0.2, cmap=cmap)\n",
    "\n",
    "    # put the major ticks at the middle of each cell\n",
    "    ax.set_yticks(np.arange(AUC.shape[0]) + 0.5, minor=False)\n",
    "    ax.set_xticks(np.arange(AUC.shape[1]) + 0.5, minor=False)\n",
    "\n",
    "    # set tick labels\n",
    "    ax.set_xticklabels(xticklabels, minor=False)\n",
    "    ax.set_yticklabels(yticklabels, minor=False)\n",
    "\n",
    "    # set title and x/y labels\n",
    "    plt.title(title)\n",
    "    plt.xlabel(xlabel)\n",
    "    plt.ylabel(ylabel)      \n",
    "\n",
    "    # remove last blank column\n",
    "    plt.xlim( (0, AUC.shape[1]) )\n",
    "\n",
    "    # turn off all the ticks\n",
    "    ax = plt.gca()    \n",
    "    for t in ax.xaxis.get_major_ticks():\n",
    "        t.tick1On = False\n",
    "        t.tick2On = False\n",
    "    for t in ax.yaxis.get_major_ticks():\n",
    "        t.tick1On = False\n",
    "        t.tick2On = False\n",
    "\n",
    "    # add color bar\n",
    "    plt.colorbar(c)\n",
    "\n",
    "    # add text in each cell \n",
    "    show_val(c)\n",
    "\n",
    "    # proper orientation (origin at the top left instead of bottom left)\n",
    "    if correct_orientation:\n",
    "        ax.invert_yaxis()\n",
    "        ax.xaxis.tick_top()       \n",
    "\n",
    "    # resize \n",
    "    fig = plt.gcf()\n",
    "    fig.set_size_inches(cm_to_inch(figure_width, figure_height))"
   ]
  },
  {
   "cell_type": "markdown",
   "metadata": {},
   "source": [
    "This function just inserts the text into the cells of the heatmap (idea is taken from [here](https://stackoverflow.com/a/25074150/14467732)):"
   ]
  },
  {
   "cell_type": "code",
   "execution_count": 23,
   "metadata": {},
   "outputs": [],
   "source": [
    "def show_val(pc, fmt=\"%.2f\", **kw):\n",
    "    pc.update_scalarmappable()\n",
    "    ax = pc.axes\n",
    "    for p, color, value in zip(pc.get_paths(), pc.get_facecolors(), pc.get_array()):\n",
    "        x, y = p.vertices[:-2, :].mean(0)\n",
    "        if np.all(color[:3] > 0.5):\n",
    "            color = (0.0, 0.0, 0.0)\n",
    "        else:\n",
    "            color = (1.0, 1.0, 1.0)\n",
    "        ax.text(x, y, fmt % value, ha=\"center\", va=\"center\", color=color, **kw)"
   ]
  },
  {
   "cell_type": "markdown",
   "metadata": {},
   "source": [
    "The last auxiliary function is intended to specify the size of the figure in centimeters in matplotlib, because by default there is only the method `set_size_inches`, therefore, we will convert inches to centimeters and use this method:"
   ]
  },
  {
   "cell_type": "code",
   "execution_count": 24,
   "metadata": {},
   "outputs": [],
   "source": [
    "def cm_to_inch(*dim):\n",
    "    inch = 2.54\n",
    "    return tuple(i/inch for i in dim[0]) if type(dim[0]) == tuple else tuple(i/inch for i in dim)"
   ]
  },
  {
   "cell_type": "markdown",
   "metadata": {},
   "source": [
    "**Note:** To better understand the following classifiers, I advise you to read [this article](https://towardsdatascience.com/comparative-study-on-classic-machine-learning-algorithms-24f9ff6ab222) or other similar ones that you will find on the Internet."
   ]
  },
  {
   "cell_type": "markdown",
   "metadata": {},
   "source": [
    "<h2 align=\"center\">KNN Model</h2>\n",
    "\n",
    "The K-nearest neighbors (KNN) algorithm is a type of supervised machine learning algorithms. KNN is extremely easy to implement in its most basic form, and yet performs quite complex classification tasks.  It is a lazy learning algorithm since it doesn't have a specialized training phase. Rather, it uses all of the data for training while classifying a new data point or instance.  KNN is also a non-parametric learning algorithm, which means that it doesn't assume anything about the underlying data.\n",
    "\n",
    "\n",
    "KNN  algorithm simply calculates the distance of a new data point to all other training data points. The distance can be of any type e.g Euclidean or Manhattan etc. It then selects the K-nearest data points, where K can be any integer. Finally it assigns the data point to the class to which the majority of the K data points belong.\n",
    "\n",
    "Now, let's build KNN classifier model.\n",
    "\n",
    "First, we import the `KNeighborsClassifier` module and create KNN classifier object by passing argument number of neighbors in `KNeighborsClassifier()` function. Then, fit our model on the train set using `fit()` and perform prediction on the test set using `predict()`.\n",
    "\n",
    "One way to help find the best value of neighbors is to plot the graph of neighbor value and the corresponding error rate for the dataset. We will plot the mean error for the predicted values of test set for all the neighbor values between 1 and 25.\n",
    "To do so, let's first calculate the mean of error for all the predicted values where neighbor ranges from 1 and 25:"
   ]
  },
  {
   "cell_type": "code",
   "execution_count": 25,
   "metadata": {},
   "outputs": [],
   "source": [
    "from sklearn.neighbors import KNeighborsClassifier\n",
    "\n",
    "error = []\n",
    "\n",
    "# calculating error for neighbor values between 1 and 25\n",
    "for i in range(1, 25):\n",
    "    knn = KNeighborsClassifier(n_neighbors=i)\n",
    "    knn.fit(x_train, y_train)\n",
    "    pred_i = knn.predict(x_test)\n",
    "    error.append(np.mean(pred_i != y_test))"
   ]
  },
  {
   "cell_type": "markdown",
   "metadata": {},
   "source": [
    "The next step is to plot the error values against neighbor values:"
   ]
  },
  {
   "cell_type": "code",
   "execution_count": 26,
   "metadata": {},
   "outputs": [
    {
     "data": {
      "text/plain": [
       "Text(0, 0.5, 'Mean Error')"
      ]
     },
     "execution_count": 26,
     "metadata": {},
     "output_type": "execute_result"
    },
    {
     "data": {
      "image/png": "[encoded data removed]",
      "text/plain": [
       "<Figure size 720x360 with 1 Axes>"
      ]
     },
     "metadata": {
      "needs_background": "light"
     },
     "output_type": "display_data"
    }
   ],
   "source": [
    "plt.figure(figsize=(10, 5))\n",
    "plt.plot(range(1, 25), error, color='black', linestyle='dashed', marker='o', markerfacecolor='green', markersize=10)\n",
    "plt.title('Error Rate Neighbor Value')\n",
    "plt.xlabel('Neighbor Value')\n",
    "plt.ylabel('Mean Error')"
   ]
  },
  {
   "cell_type": "markdown",
   "metadata": {},
   "source": [
    "As we can see, it is best to take k=5, but still mean error a little higher than normal."
   ]
  },
  {
   "cell_type": "code",
   "execution_count": 27,
   "metadata": {},
   "outputs": [
    {
     "name": "stdout",
     "output_type": "stream",
     "text": [
      "Nearest Neighbors Result (k=5):\n",
      "-----------------------------------\n",
      "Accuracy Score (k=5): 71.46%\n",
      "Accuracy (x_train, y_train): 100.0%\n"
     ]
    }
   ],
   "source": [
    "# create KNN Classifier\n",
    "knn = KNeighborsClassifier(n_neighbors=5, weights='distance')\n",
    "\n",
    "# train the classifier using the training sets\n",
    "knn.fit(x_train, y_train)\n",
    "\n",
    "# predict the response for test dataset\n",
    "y_pred = knn.predict(x_test)\n",
    "\n",
    "print(\"Nearest Neighbors Result (k=5):\\n\" + '-' * 35)\n",
    "print(\"Accuracy Score (k=5):\", str(round(knn.score(x_test, y_test) * 100, 2)) + '%')\n",
    "print(\"Accuracy (x_train, y_train):\", str(round(knn.score(x_train, y_train), 4) * 100) + '%')"
   ]
  },
  {
   "cell_type": "markdown",
   "metadata": {},
   "source": [
    "The accuracy of the model is good, we can work with it.\n",
    "\n",
    "Now let's explore our KNN Classification results with help of `classification_report` function from sklearn.metrics:"
   ]
  },
  {
   "cell_type": "code",
   "execution_count": 28,
   "metadata": {},
   "outputs": [
    {
     "name": "stdout",
     "output_type": "stream",
     "text": [
      "\n",
      "Classification KNN:\n",
      "               precision    recall  f1-score   support\n",
      "\n",
      "           0       0.67      0.65      0.66      3292\n",
      "           1       0.74      0.77      0.75      4417\n",
      "\n",
      "    accuracy                           0.71      7709\n",
      "   macro avg       0.71      0.71      0.71      7709\n",
      "weighted avg       0.71      0.71      0.71      7709\n",
      "\n"
     ]
    }
   ],
   "source": [
    "from sklearn.metrics import classification_report\n",
    "print('\\nClassification KNN:\\n', classification_report(y_test, knn.predict(x_test)))"
   ]
  },
  {
   "cell_type": "markdown",
   "metadata": {},
   "source": [
    "Now finally let's visualize our classification report:"
   ]
  },
  {
   "cell_type": "code",
   "execution_count": 29,
   "metadata": {},
   "outputs": [
    {
     "data": {
      "image/png": "[encoded data removed]",
      "text/plain": [
       "<Figure size 708.661x255.118 with 2 Axes>"
      ]
     },
     "metadata": {
      "needs_background": "light"
     },
     "output_type": "display_data"
    }
   ],
   "source": [
    "plot_classification_report(classification_report(y_test, knn.predict(x_test)), title='KNN Classification Report')"
   ]
  },
  {
   "cell_type": "markdown",
   "metadata": {},
   "source": [
    "<h2 align=\"center\">Logistic Regression</h2>\n",
    "\n",
    "Logistic Regression is a Machine Learning classification algorithm that is used to predict the probability of a categorical dependent variable. In logistic regression, the dependent variable is a binary variable that contains data coded as 1 (yes, success, etc.) or 0 (no, failure, etc.). In other words, the logistic regression model predicts P(Y=1) as a function of X."
   ]
  },
  {
   "cell_type": "code",
   "execution_count": 30,
   "metadata": {},
   "outputs": [
    {
     "data": {
      "text/plain": [
       "LogisticRegression(multi_class='ovr', n_jobs=1, solver='liblinear')"
      ]
     },
     "execution_count": 30,
     "metadata": {},
     "output_type": "execute_result"
    }
   ],
   "source": [
    "from sklearn.linear_model import LogisticRegression\n",
    "\n",
    "logit = LogisticRegression(solver='liblinear', multi_class='ovr', n_jobs=1)\n",
    "logit.fit(x_train, y_train)"
   ]
  },
  {
   "cell_type": "code",
   "execution_count": 31,
   "metadata": {},
   "outputs": [
    {
     "name": "stdout",
     "output_type": "stream",
     "text": [
      "Accuracy Score: 72.79%\n"
     ]
    }
   ],
   "source": [
    "print(\"Accuracy Score:\", str(round(logit.score(x_test, y_test) * 100, 2)) + '%')"
   ]
  },
  {
   "cell_type": "code",
   "execution_count": 32,
   "metadata": {},
   "outputs": [
    {
     "name": "stdout",
     "output_type": "stream",
     "text": [
      "\n",
      "Classification Logistic Regression:\n",
      "               precision    recall  f1-score   support\n",
      "\n",
      "           0       0.70      0.64      0.67      3292\n",
      "           1       0.75      0.79      0.77      4417\n",
      "\n",
      "    accuracy                           0.73      7709\n",
      "   macro avg       0.72      0.72      0.72      7709\n",
      "weighted avg       0.73      0.73      0.73      7709\n",
      "\n"
     ]
    }
   ],
   "source": [
    "print('\\nClassification Logistic Regression:\\n', classification_report(y_test, logit.predict(x_test)))"
   ]
  },
  {
   "cell_type": "markdown",
   "metadata": {},
   "source": [
    "Now let's visualize our classification report:"
   ]
  },
  {
   "cell_type": "code",
   "execution_count": 33,
   "metadata": {},
   "outputs": [
    {
     "data": {
      "image/png": "[encoded data removed]",
      "text/plain": [
       "<Figure size 708.661x255.118 with 2 Axes>"
      ]
     },
     "metadata": {
      "needs_background": "light"
     },
     "output_type": "display_data"
    }
   ],
   "source": [
    "plot_classification_report(classification_report(y_test, logit.predict(x_test)), title='Logistic Regression Classification Report')"
   ]
  },
  {
   "cell_type": "markdown",
   "metadata": {},
   "source": [
    "<h2 align=\"center\">Random Forest Classifier</h2>\n",
    "\n",
    "The Random forest or Random Decision Forest is a supervised Machine learning algorithm used for classification, regression, and other tasks using decision trees.\n",
    "\n",
    "The Random forest classifier creates a set of decision trees from a randomly selected subset of the training set. It is basically a set of decision trees (DT) from a randomly selected subset of the training set and then It collects the votes from different decision trees to decide the final prediction."
   ]
  },
  {
   "cell_type": "code",
   "execution_count": 34,
   "metadata": {},
   "outputs": [
    {
     "name": "stdout",
     "output_type": "stream",
     "text": [
      "Accuracy Score: 75.56%\n"
     ]
    }
   ],
   "source": [
    "from sklearn.ensemble import RandomForestClassifier\n",
    "\n",
    "clf = RandomForestClassifier(n_estimators=100)\n",
    "clf.fit(x_train, y_train)\n",
    "\n",
    "print(\"Accuracy Score:\", str(round(clf.score(x_test, y_test), 4) * 100) + '%')"
   ]
  },
  {
   "cell_type": "code",
   "execution_count": 35,
   "metadata": {},
   "outputs": [
    {
     "name": "stdout",
     "output_type": "stream",
     "text": [
      "\n",
      "Classification Random Forest:\n",
      "               precision    recall  f1-score   support\n",
      "\n",
      "           0       0.75      0.64      0.69      3292\n",
      "           1       0.76      0.84      0.80      4417\n",
      "\n",
      "    accuracy                           0.76      7709\n",
      "   macro avg       0.75      0.74      0.74      7709\n",
      "weighted avg       0.76      0.76      0.75      7709\n",
      "\n"
     ]
    }
   ],
   "source": [
    "print('\\nClassification Random Forest:\\n', classification_report(y_test, clf.predict(x_test)))"
   ]
  },
  {
   "cell_type": "markdown",
   "metadata": {},
   "source": [
    "Now let's visualize our classification report:"
   ]
  },
  {
   "cell_type": "code",
   "execution_count": 36,
   "metadata": {},
   "outputs": [
    {
     "data": {
      "image/png": "[encoded data removed]",
      "text/plain": [
       "<Figure size 708.661x255.118 with 2 Axes>"
      ]
     },
     "metadata": {
      "needs_background": "light"
     },
     "output_type": "display_data"
    }
   ],
   "source": [
    "plot_classification_report(classification_report(y_test, clf.predict(x_test)), title='Random Forest Classification Report')"
   ]
  },
  {
   "cell_type": "markdown",
   "metadata": {},
   "source": [
    "<h2 align=\"center\">SVM Model</h2>\n",
    "\n",
    "Support vector machines (SVMs) are a set of supervised learning methods used for classification, regression and outliers detection.\n",
    "\n",
    "The advantages of support vector machines are:\n",
    "\n",
    "    + Effective in high dimensional spaces.\n",
    "\n",
    "    + Still effective in cases where number of dimensions is greater than the number of samples.\n",
    "\n",
    "    + Uses a subset of training points in the decision function (called support vectors), so it is also memory efficient.\n",
    "\n",
    "    + Versatile: different Kernel functions can be specified for the decision function. Common kernels are provided, but it is also possible to specify custom kernels.\n",
    "\n",
    "The disadvantages of support vector machines include:\n",
    "\n",
    "    - If the number of features is much greater than the number of samples, avoid over-fitting in choosing Kernel functions and regularization term is crucial.\n",
    "\n",
    "    - SVMs do not directly provide probability estimates, these are calculated using an expensive five-fold cross-validation (see Scores and probabilities, below).\n",
    "    \n",
    "You can read more about it [here](https://en.wikipedia.org/wiki/Support-vector_machine)."
   ]
  },
  {
   "cell_type": "code",
   "execution_count": 37,
   "metadata": {},
   "outputs": [
    {
     "name": "stdout",
     "output_type": "stream",
     "text": [
      "Accuracy Score: 73.11%\n"
     ]
    }
   ],
   "source": [
    "from sklearn import svm\n",
    "\n",
    "SVM = svm.SVC(C=1.0, kernel='linear', degree=3, gamma='auto', probability=True)\n",
    "SVM.fit(x_train, y_train)\n",
    "\n",
    "print(\"Accuracy Score:\", str(round(SVM.score(x_test, y_test), 4) * 100) + '%')"
   ]
  },
  {
   "cell_type": "code",
   "execution_count": 38,
   "metadata": {},
   "outputs": [
    {
     "name": "stdout",
     "output_type": "stream",
     "text": [
      "\n",
      "Classification SVM:\n",
      "               precision    recall  f1-score   support\n",
      "\n",
      "           0       0.70      0.65      0.67      3292\n",
      "           1       0.75      0.79      0.77      4417\n",
      "\n",
      "    accuracy                           0.73      7709\n",
      "   macro avg       0.73      0.72      0.72      7709\n",
      "weighted avg       0.73      0.73      0.73      7709\n",
      "\n"
     ]
    }
   ],
   "source": [
    "print('\\nClassification SVM:\\n', classification_report(y_test, SVM.predict(x_test)))"
   ]
  },
  {
   "cell_type": "code",
   "execution_count": 39,
   "metadata": {},
   "outputs": [
    {
     "data": {
      "image/png": "[encoded data removed]",
      "text/plain": [
       "<Figure size 708.661x255.118 with 2 Axes>"
      ]
     },
     "metadata": {
      "needs_background": "light"
     },
     "output_type": "display_data"
    }
   ],
   "source": [
    "plot_classification_report(classification_report(y_test, SVM.predict(x_test)), title='SVM Classification Report')"
   ]
  },
  {
   "cell_type": "markdown",
   "metadata": {},
   "source": [
    "<h2 align=\"center\">Comparison of Models</h2> \n",
    "\n",
    "A useful tool when predicting the probability of a binary outcome is the Receiver Operating Characteristic curve, or ROC curve.\n",
    "\n",
    "It is a plot of the false positive rate (x-axis) versus the true positive rate (y-axis) for a number of different candidate threshold values between 0.0 and 1.0. Put another way, it plots the false alarm rate versus the hit rate.\n",
    "\n",
    "The true positive rate is calculated as the number of true positives divided by the sum of the number of true positives and the number of false negatives. It describes how good the model is at predicting the positive class when the actual outcome is positive.\n",
    "\n",
    "The false positive rate is calculated as the number of false positives divided by the sum of the number of false positives and the number of true negatives.\n",
    "\n",
    "It is also called the false alarm rate as it summarizes how often a positive class is predicted when the actual outcome is negative.\n",
    "\n",
    "To make this clear:\n",
    "* Smaller values on the x-axis of the plot indicate lower false positives and higher true negatives.\n",
    "* Larger values on the y-axis of the plot indicate higher true positives and lower false negatives."
   ]
  },
  {
   "cell_type": "code",
   "execution_count": 40,
   "metadata": {},
   "outputs": [],
   "source": [
    "from sklearn import metrics\n",
    "from sklearn.metrics import roc_curve, auc\n",
    "\n",
    "fprKNN, tprKNN, thresholdsKNN = metrics.roc_curve(y_test, knn.predict_proba(x_test)[:, 1])\n",
    "fprLR, tprLR, thresholdsLR = metrics.roc_curve(y_test, logit.predict_proba(x_test)[:, 1])\n",
    "fprCLF, tprCLF, thresholdCLF = metrics.roc_curve(y_test, clf.predict_proba(x_test)[:, 1])\n",
    "fprSVM, trpSVM, thresholdSVM = metrics.roc_curve(y_test, SVM.predict_proba(x_test)[:, 1])"
   ]
  },
  {
   "cell_type": "code",
   "execution_count": 41,
   "metadata": {},
   "outputs": [
    {
     "data": {
      "image/png": "[encoded data removed]",
      "text/plain": [
       "<Figure size 576x360 with 1 Axes>"
      ]
     },
     "metadata": {
      "needs_background": "light"
     },
     "output_type": "display_data"
    }
   ],
   "source": [
    "linewidth = 2\n",
    "plt.figure(figsize=(8, 5))\n",
    "\n",
    "plt.plot(fprKNN, tprKNN, color='#db6114', lw=linewidth, label='ROC Curve KNN (AUC = %0.3f)' % auc(fprKNN, tprKNN))\n",
    "plt.plot(fprLR, tprLR, color='#1565c0', lw=linewidth, label='ROC Curve Logistic Regression (AUC = %0.3f)' % auc(fprLR, tprLR))\n",
    "plt.plot(fprCLF, tprCLF, color='#2e7d32',lw=linewidth, label='ROC Curve Random Forest (AUC = %0.3f)' % auc(fprCLF, tprCLF))\n",
    "plt.plot(fprSVM, trpSVM, color='#6557d2',lw=linewidth, label='ROC Curve SVM (AUC = %0.3f)' % auc(fprSVM, trpSVM))\n",
    "plt.plot([0, 1], [0, 1], color='#616161', lw=linewidth, linestyle='--')\n",
    "\n",
    "plt.xlim([0.0, 1.0])\n",
    "plt.ylim([0.0, 1.05])\n",
    "\n",
    "plt.xlabel('False Positive Rate')\n",
    "plt.ylabel('True Positive Rate')\n",
    "plt.title('ROC Curve Plots')\n",
    "plt.legend(loc=\"lower right\")\n",
    "\n",
    "plt.show()"
   ]
  },
  {
   "cell_type": "markdown",
   "metadata": {},
   "source": [
    "Based on these data, we can conclude that the best model so far is a **Random Forest Model** with `AUC = 83.5%` and `Accuracy Score = 75.56%`.\n",
    "\n",
    "Let's save this model:"
   ]
  },
  {
   "cell_type": "code",
   "execution_count": 43,
   "metadata": {},
   "outputs": [],
   "source": [
    "with open('RFModel.pickle', 'wb') as m:\n",
    "    pickle.dump(logit, m)"
   ]
  },
  {
   "cell_type": "markdown",
   "metadata": {},
   "source": [
    "Let's check if everything is loaded correctly:"
   ]
  },
  {
   "cell_type": "code",
   "execution_count": 47,
   "metadata": {},
   "outputs": [
    {
     "name": "stdout",
     "output_type": "stream",
     "text": [
      "Random Forest Accuracy Score: 75.56%\n"
     ]
    }
   ],
   "source": [
    "with open('RFModel.pickle', 'rb') as m:\n",
    "     rf = pickle.load(m)\n",
    "\n",
    "print(\"Random Forest Accuracy Score:\", str(round(clf.score(x_test, y_test), 4) * 100) + '%')"
   ]
  },
  {
   "cell_type": "markdown",
   "metadata": {},
   "source": [
    "In the next part we will finally try the **LSTM** neural network, which takes a sequence of words and remembers the order of words in a sentence, this approach should give us the best results."
   ]
  }
 ],
 "metadata": {
  "kernelspec": {
   "display_name": "Python 3",
   "language": "python",
   "name": "python3"
  },
  "language_info": {
   "codemirror_mode": {
    "name": "ipython",
    "version": 3
   },
   "file_extension": ".py",
   "mimetype": "text/x-python",
   "name": "python",
   "nbconvert_exporter": "python",
   "pygments_lexer": "ipython3",
   "version": "3.8.2"
  }
 },
 "nbformat": 4,
 "nbformat_minor": 4
}
