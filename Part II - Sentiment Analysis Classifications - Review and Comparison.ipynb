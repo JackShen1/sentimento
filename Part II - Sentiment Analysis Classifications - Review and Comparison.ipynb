{
 "cells": [
  {
   "cell_type": "markdown",
   "metadata": {},
   "source": [
    "<h1 align=\"center\">PART II</h1>\n",
    "<h1 align=\"center\">Sentiment Analysis Classifications - Review and Comparison</h1>\n",
    "\n",
    "First, we needed to create vector words. For simplicity, we used a pre-trained model.\n",
    "\n",
    "Google was able to teach the Word2Vec model on a massive Google News dataset that contained over 100 billion different words! Google has created [3 million vector words](https://code.google.com/archive/p/word2vec/#Pre-trained_word_and_phrase_vectors) from this model, each with a dimension of 300. We would use these vectors.\n",
    "\n",
    "#### How word2vec works:\n",
    "\n",
    "The idea behind word2vec is that:\n",
    "\n",
    "    Take a 3 layer neural network. (1 input layer + 1 hidden layer + 1 output layer)\n",
    "    Feed it a word and train it to predict its neighbouring word.\n",
    "    Remove the last (output layer) and keep the input and hidden layer.\n",
    "    Now, input a word from within the vocabulary. The output given at the hidden layer is the ‘word embedding’ of the input word.\n",
    "    \n",
    "Two popular examples of methods of learning word embeddings from text include:\n",
    "\n",
    "    Word2Vec\n",
    "    GloVe\n",
    "\n",
    "To get started, let's download the necessary libraries:"
   ]
  },
  {
   "cell_type": "code",
   "execution_count": 1,
   "metadata": {},
   "outputs": [],
   "source": [
    "import numpy as np\n",
    "import pandas as pd\n",
    "import pickle\n",
    "import gensim, logging\n",
    "import gensim.models.keyedvectors as word2vec\n",
    "import matplotlib.pyplot as plt\n",
    "\n",
    "%matplotlib inline"
   ]
  },
  {
   "cell_type": "markdown",
   "metadata": {},
   "source": [
    "Also let's write a style for alignment in the middle of all graphs, images, etc:"
   ]
  },
  {
   "cell_type": "code",
   "execution_count": 2,
   "metadata": {},
   "outputs": [
    {
     "data": {
      "text/html": [
       "\n",
       "<style>\n",
       ".output_png {\n",
       "    display: table-cell;\n",
       "    text-align: center;\n",
       "    vertical-align: middle;\n",
       "}\n",
       "</style>\n"
      ],
      "text/plain": [
       "<IPython.core.display.HTML object>"
      ]
     },
     "execution_count": 2,
     "metadata": {},
     "output_type": "execute_result"
    }
   ],
   "source": [
    "from IPython.core.display import HTML\n",
    "HTML(\"\"\"\n",
    "<style>\n",
    ".output_png {\n",
    "    display: table-cell;\n",
    "    text-align: center;\n",
    "    vertical-align: middle;\n",
    "}\n",
    "</style>\n",
    "\"\"\")"
   ]
  },
  {
   "cell_type": "markdown",
   "metadata": {},
   "source": [
    "Next, we will load the sample data we processed in the previous part:"
   ]
  },
  {
   "cell_type": "code",
   "execution_count": 3,
   "metadata": {},
   "outputs": [],
   "source": [
    "with open('documents.pql', 'rb') as f:\n",
    "     docs = pickle.load(f)"
   ]
  },
  {
   "cell_type": "code",
   "execution_count": 4,
   "metadata": {},
   "outputs": [
    {
     "name": "stdout",
     "output_type": "stream",
     "text": [
      "Number of documents: 38544\n"
     ]
    }
   ],
   "source": [
    "print(\"Number of documents:\", len(docs))"
   ]
  },
  {
   "cell_type": "markdown",
   "metadata": {},
   "source": [
    "Next operation may take some time, as the model contains 3 000 000 words, so we will get a 3 000 000 x 300 embedding matrix that contains all the values of the word vectors."
   ]
  },
  {
   "cell_type": "code",
   "execution_count": 5,
   "metadata": {},
   "outputs": [],
   "source": [
    "model = word2vec.KeyedVectors.load_word2vec_format('model/GoogleNews-vectors-negative300.bin', binary=True)"
   ]
  },
  {
   "cell_type": "markdown",
   "metadata": {},
   "source": [
    "Now let's get a list of all the words from our dictionary:"
   ]
  },
  {
   "cell_type": "code",
   "execution_count": 7,
   "metadata": {},
   "outputs": [],
   "source": [
    "words = list(model.index_to_key)"
   ]
  },
  {
   "cell_type": "markdown",
   "metadata": {},
   "source": [
    "Just to make sure everything is loaded correctly, we can look at the dimensions of the dictionary list and the embedding matrix:"
   ]
  },
  {
   "cell_type": "code",
   "execution_count": 9,
   "metadata": {},
   "outputs": [
    {
     "name": "stdout",
     "output_type": "stream",
     "text": [
      "['</s>', 'in', 'for', 'that', 'is', 'on', '##', 'The', 'with', 'said', 'was', 'the', 'at', 'not', 'as', 'it', 'be', 'from', 'by', 'are', 'I', 'have', 'he', 'will', 'has', '####', 'his', 'an', 'this', 'or', 'their', 'who', 'they', 'but', '$', 'had', 'year', 'were', 'we', 'more', '###', 'up', 'been', 'you', 'its', 'one', 'about', 'would', 'which', 'out'] \n",
      "\n",
      "Total words: 3000000 \n",
      "\n",
      "Word-Vectors shape: (3000000, 300)\n"
     ]
    }
   ],
   "source": [
    "print(words[:50], \"\\n\\nTotal words:\", len(words), \"\\n\\nWord-Vectors shape:\", model.vectors.shape)"
   ]
  },
  {
   "cell_type": "markdown",
   "metadata": {},
   "source": [
    "We can also find a word like \"football\" in our word list and then access the corresponding vector through the embedding matrix:"
   ]
  },
  {
   "cell_type": "code",
   "execution_count": 10,
   "metadata": {},
   "outputs": [
    {
     "name": "stdout",
     "output_type": "stream",
     "text": [
      "[-9.76562500e-02  3.19824219e-02  2.57812500e-01 -4.15039062e-02\n",
      "  1.01562500e-01 -1.00585938e-01  1.46484375e-01 -1.99218750e-01\n",
      "  1.53320312e-01  6.34765625e-02  8.39843750e-02 -3.00781250e-01\n",
      "  6.34765625e-02  2.08984375e-01 -2.11914062e-01  1.88476562e-01\n",
      " -8.34960938e-02  3.28125000e-01  2.79296875e-01 -1.40625000e-01\n",
      " -1.68945312e-01  2.04101562e-01  4.90722656e-02 -6.98852539e-03\n",
      "  9.42382812e-02  9.84191895e-04  3.12500000e-02  2.48046875e-01\n",
      "  3.35937500e-01  2.63671875e-01  5.68847656e-02  3.04687500e-01\n",
      "  1.21582031e-01 -1.97265625e-01  1.72119141e-02  9.96093750e-02\n",
      "  2.27539062e-01 -1.20605469e-01  1.23535156e-01  3.78906250e-01\n",
      "  2.36816406e-02 -1.86523438e-01  6.29882812e-02  1.52343750e-01\n",
      "  3.73535156e-02 -1.69921875e-01  1.06445312e-01 -4.98046875e-02\n",
      " -6.20117188e-02  1.68945312e-01  4.41894531e-02  2.78320312e-02\n",
      " -1.10839844e-01  4.49218750e-02  2.78320312e-02 -4.45312500e-01\n",
      "  3.49121094e-02 -6.22558594e-02 -3.93066406e-02 -2.01171875e-01\n",
      " -3.04687500e-01 -1.00585938e-01 -1.64062500e-01  1.52343750e-01\n",
      "  1.10351562e-01 -1.53320312e-01 -7.12890625e-02  7.95898438e-02\n",
      "  1.87500000e-01  6.88476562e-02  2.44140625e-01 -6.56127930e-04\n",
      " -1.91406250e-01  3.49121094e-02  1.97753906e-02 -5.41992188e-02\n",
      "  3.32031250e-02 -2.08007812e-01  9.86328125e-02 -1.90429688e-01\n",
      " -6.07910156e-02 -2.07031250e-01 -2.18505859e-02  8.78906250e-02\n",
      "  2.08984375e-01 -2.36328125e-01 -9.17968750e-02  2.26562500e-01\n",
      " -3.93066406e-02  9.13085938e-02  1.13525391e-02 -1.55273438e-01\n",
      "  6.78710938e-02 -4.90722656e-02  2.51770020e-03 -4.66308594e-02\n",
      "  9.17968750e-02  1.05957031e-01  2.10937500e-01  4.24804688e-02\n",
      " -4.95605469e-02  1.76757812e-01  3.32031250e-01 -4.22363281e-02\n",
      "  2.03125000e-01  2.98828125e-01  1.21093750e-01 -4.85839844e-02\n",
      " -1.41601562e-01 -2.51953125e-01 -2.20703125e-01  2.23632812e-01\n",
      "  2.22167969e-02  1.09375000e-01  3.14453125e-01  3.71093750e-01\n",
      " -4.83398438e-02  2.77343750e-01  1.27563477e-02 -9.61914062e-02\n",
      " -2.03125000e-01 -1.55273438e-01  1.10351562e-01 -6.54296875e-02\n",
      " -2.75390625e-01 -2.34375000e-01 -3.78906250e-01 -8.30078125e-02\n",
      " -1.25000000e-01 -1.40625000e-01 -9.27734375e-03 -4.21875000e-01\n",
      " -1.17187500e-01 -2.41210938e-01  3.44238281e-02  5.34057617e-03\n",
      " -2.98828125e-01  3.45703125e-01 -6.54296875e-02  5.54199219e-02\n",
      " -5.17578125e-02 -1.12792969e-01  2.01171875e-01  2.97851562e-02\n",
      "  1.05468750e-01  2.75390625e-01  1.02050781e-01 -1.66992188e-01\n",
      " -7.08007812e-02 -2.96875000e-01  1.50390625e-01  2.94921875e-01\n",
      " -1.97265625e-01  4.85839844e-02 -4.27734375e-01  1.55639648e-02\n",
      "  1.20605469e-01 -1.70898438e-01  6.68945312e-02 -1.50390625e-01\n",
      " -5.27343750e-02  6.49414062e-02  3.78417969e-02  1.74560547e-02\n",
      "  1.44531250e-01 -1.47460938e-01  1.07421875e-01 -1.96289062e-01\n",
      " -5.20019531e-02 -6.29882812e-02 -1.71875000e-01  2.25830078e-02\n",
      " -5.27954102e-03 -1.22558594e-01 -6.25000000e-02  8.85009766e-04\n",
      "  1.84326172e-02  1.12792969e-01 -1.11328125e-01  1.00731850e-05\n",
      "  2.41210938e-01  6.64062500e-02 -2.45361328e-02  1.89208984e-02\n",
      " -1.83105469e-02  3.06640625e-01  1.83105469e-02 -3.85742188e-02\n",
      "  1.81640625e-01  2.27355957e-03  1.45507812e-01  6.73828125e-02\n",
      " -1.68457031e-02  1.87500000e-01 -1.21093750e-01  2.17285156e-02\n",
      "  1.29882812e-01  1.55273438e-01 -7.81250000e-02  5.05371094e-02\n",
      " -7.66601562e-02 -1.18164062e-01  4.51660156e-02 -3.71093750e-02\n",
      "  2.48046875e-01 -3.10546875e-01  1.98242188e-01 -2.37304688e-01\n",
      " -2.18505859e-02 -9.76562500e-02 -1.08032227e-02  1.69921875e-01\n",
      "  1.13769531e-01 -5.17578125e-02 -1.94335938e-01  9.47265625e-02\n",
      "  1.28906250e-01  2.05078125e-02 -2.77343750e-01 -8.69140625e-02\n",
      "  1.26342773e-02 -4.57031250e-01 -1.33789062e-01 -8.15429688e-02\n",
      "  2.89062500e-01  1.89453125e-01  1.62109375e-01 -1.64794922e-02\n",
      "  3.75366211e-03 -1.38671875e-01 -1.04980469e-01 -1.20117188e-01\n",
      " -1.13525391e-02  5.15136719e-02  4.68750000e-02 -8.93554688e-02\n",
      "  2.56347656e-02 -2.77343750e-01  1.05468750e-01 -1.03027344e-01\n",
      "  2.07031250e-01 -1.67968750e-01  1.99218750e-01  1.67236328e-02\n",
      " -1.80664062e-01  1.06445312e-01 -3.39843750e-01 -5.81054688e-02\n",
      " -3.35937500e-01  4.39453125e-02  8.59375000e-02  4.44335938e-02\n",
      "  2.74658203e-03  1.70898438e-01  7.42187500e-02 -3.06396484e-02\n",
      " -7.86132812e-02  5.03540039e-03 -1.16699219e-01  3.18359375e-01\n",
      "  2.63671875e-01 -9.47265625e-02  1.21582031e-01  1.52343750e-01\n",
      " -2.33398438e-01  3.84765625e-01 -1.13281250e-01  4.15039062e-02\n",
      " -2.20703125e-01  1.05590820e-02 -3.41796875e-02  7.56835938e-02\n",
      " -2.36328125e-01 -6.98242188e-02  3.03955078e-02 -2.00195312e-01\n",
      "  1.74804688e-01 -1.57226562e-01 -3.95507812e-02 -2.69531250e-01\n",
      " -1.11816406e-01  1.04980469e-01  1.14746094e-01 -2.47955322e-04\n",
      " -1.42578125e-01 -1.63085938e-01 -2.63671875e-01  1.44531250e-01\n",
      "  1.63085938e-01  2.19726562e-02 -2.06054688e-01 -3.17382812e-02\n",
      " -1.56250000e-01 -1.09375000e-01  4.57031250e-01  2.71484375e-01\n",
      "  6.12792969e-02  2.01416016e-03 -1.21582031e-01  1.58203125e-01]\n"
     ]
    }
   ],
   "source": [
    "print(model['football'])"
   ]
  },
  {
   "cell_type": "markdown",
   "metadata": {},
   "source": [
    "<h2 align=\"center\">Word Average Embedding Model</h2>\n",
    "\n",
    "Well, let's start analyzing our vectors. Our first approach will be the **word average embedding model**. \n",
    "\n",
    "The essence of this naive approach is to take the average of all word vectors from a sentence to get one 300-dimensional vector that represents the tone of the whole sentence that we feed the model and try to get some quick result.\n",
    "\n",
    "We didn't have to put a try/except, but even though I cleaned up our sample, there were a couple of words left after the processing that needed to be searched for and removed."
   ]
  },
  {
   "cell_type": "code",
   "execution_count": 11,
   "metadata": {},
   "outputs": [],
   "source": [
    "def sent_embed(words, docs):\n",
    "    x_sent_embed, y_sent_embed = [], []\n",
    "    count_words, count_non_words = 0, 0  \n",
    "    \n",
    "    # recover the embedding of each sentence with the average of the vector that composes it\n",
    "    # sent - sentence, state - state of the sentence (pos/neg)\n",
    "    for sent, state in docs:\n",
    "        # average embedding of all words in a sentence\n",
    "        sent_embed = []\n",
    "        for word in sent:\n",
    "            try:\n",
    "                # if word is present in the dictionary - add its vector representation\n",
    "                count_words += 1\n",
    "                sent_embed.append(model[word])\n",
    "            except KeyError:\n",
    "                # if word is not in the dictionary - add a zero vector\n",
    "                count_non_words += 1\n",
    "                sent_embed.append([0] * 300)\n",
    "        \n",
    "        # add a sentence vector to the list\n",
    "        x_sent_embed.append(np.mean(sent_embed, axis=0).tolist())\n",
    "        \n",
    "        # add a label to y_sent_embed\n",
    "        if state == 'pos': y_sent_embed.append(1)\n",
    "        elif state == 'neg': y_sent_embed.append(0)\n",
    "            \n",
    "    print(count_non_words, \"out of\", count_words, \"words were not found in the vocabulary.\")\n",
    "    \n",
    "    return x_sent_embed, y_sent_embed"
   ]
  },
  {
   "cell_type": "code",
   "execution_count": 12,
   "metadata": {},
   "outputs": [
    {
     "name": "stdout",
     "output_type": "stream",
     "text": [
      "48251 out of 1802696 words were not found in the vocabulary.\n"
     ]
    }
   ],
   "source": [
    "x, y = sent_embed(words, docs)"
   ]
  },
  {
   "cell_type": "markdown",
   "metadata": {},
   "source": [
    "<h2 align=\"center\">Cosine Similarity</h2>\n",
    "\n",
    "To measure the similarity of 2 words, we need a way to measure the degree of similarity between 2 embedding vectors for these 2 words. Given 2 vectors $u$ and $v$, cosine similarity is determined as follows:\n",
    "\n",
    "$$\\text{cosine_similarity(u, v)} = \\frac {u . v} {||u||_2 ||v||_2} = cos(\\theta)$$\n",
    "\n",
    "where: \n",
    "\n",
    "* $u.v$ - dot product (or inner product) of two vectors;\n",
    "\n",
    "* $||u||_2$ - norm (or length) of the vector $u$;\n",
    "    \n",
    "    * **Note**: norm of $u$ is defined as $ ||u||_2 = \\sqrt{\\sum_{i=1}^{n} u_i^2}$)\n",
    "\n",
    "* $\\theta$ is the angle between $u$ and $v$. \n",
    "\n",
    "This similarity depends on the angle between $u$ and $v$. If $u$ and $v$ are very similar, their cosine similarity will be close to 1; if they are dissimilar, the cosine similarity will take a smaller value. \n",
    "\n",
    "**`cosine_similarity()`** is a method that used to estimate the similarity between word vectors."
   ]
  },
  {
   "cell_type": "code",
   "execution_count": 13,
   "metadata": {},
   "outputs": [],
   "source": [
    "def cosine_similarity(u, v):\n",
    "    \"\"\"\n",
    "    Cosine similarity reflects the degree of similariy between u and v\n",
    "        \n",
    "    Arguments:\n",
    "        u -- a word vector of shape (n,)          \n",
    "        v -- a word vector of shape (n,)\n",
    "\n",
    "    Returns:\n",
    "        cosine_similarity -- the cosine similarity between u and v defined by the formula above.\n",
    "    \"\"\"\n",
    "    \n",
    "    distance = 0.0\n",
    "    \n",
    "    # compute the dot product between u and v\n",
    "    dot = np.dot(u,v)\n",
    "    \n",
    "    # compute the L2 norm of u\n",
    "    norm_u = np.sqrt(sum(u**2))\n",
    "    \n",
    "    # Compute the L2 norm of v\n",
    "    norm_v = np.sqrt(sum(v**2))\n",
    "    \n",
    "    # Compute the cosine similarity defined by formula above\n",
    "    cosine_similarity = dot/(norm_u*norm_v)\n",
    "    \n",
    "    return cosine_similarity"
   ]
  },
  {
   "cell_type": "markdown",
   "metadata": {},
   "source": [
    "<h2 align=\"center\">Split Corpus</h2>"
   ]
  },
  {
   "cell_type": "markdown",
   "metadata": {},
   "source": [
    "Now, for further work, we will divide our corpus for training, testing and development sets:"
   ]
  },
  {
   "cell_type": "code",
   "execution_count": 21,
   "metadata": {},
   "outputs": [],
   "source": [
    "from sklearn.model_selection import train_test_split\n",
    "\n",
    "# train test\n",
    "x_train, x_test, y_train, y_test = train_test_split(x, y, test_size=0.2, random_state=42)\n",
    "\n",
    "# train dev\n",
    "x_train, x_val, y_train, y_val = train_test_split(x_train, y_train, test_size=0.2, random_state=42)"
   ]
  },
  {
   "cell_type": "code",
   "execution_count": 22,
   "metadata": {},
   "outputs": [
    {
     "name": "stdout",
     "output_type": "stream",
     "text": [
      "Length of x_train: 24668 | Length of y_train: 24668\n",
      "Length of x_test:   7709 | Length of y_test:  7709\n",
      "Length of x_val:    6167 | Length of y_val:   6167\n"
     ]
    }
   ],
   "source": [
    "print('Length of x_train:', len(x_train), '| Length of y_train:', len(y_train))\n",
    "print('Length of x_test:  ', len(x_test), '| Length of y_test: ', len(y_test))\n",
    "print('Length of x_val:   ', len(x_val), '| Length of y_val:  ', len(y_val))"
   ]
  },
  {
   "cell_type": "code",
   "execution_count": 23,
   "metadata": {},
   "outputs": [
    {
     "name": "stdout",
     "output_type": "stream",
     "text": [
      "Shape of x_train set: (24668, 300)\n"
     ]
    }
   ],
   "source": [
    "print(\"Shape of x_train set:\", np.array(x_train).shape)"
   ]
  },
  {
   "cell_type": "markdown",
   "metadata": {},
   "source": [
    "<h2 align=\"center\">Visualization of Classification Report</h2>\n",
    "\n",
    "We will need these methods when we start to visualize our data, so we will write them now.\n",
    "\n",
    "The following function takes the conclusion of the `classification_report` function as an argument and plots the results ( function is based on [this](https://stackoverflow.com/a/31689645/14467732) solution)."
   ]
  },
  {
   "cell_type": "code",
   "execution_count": 24,
   "metadata": {},
   "outputs": [],
   "source": [
    "def plot_classification_report(classification_report, title='Classification Report', cmap='RdBu'):\n",
    "    \n",
    "    lines = classification_report.split('\\n')\n",
    "\n",
    "    classes, plotMat, support, class_names = [], [], [], []\n",
    "    \n",
    "    for line in lines[2 : (len(lines) - 5)]:\n",
    "        t = line.strip().split()\n",
    "        if len(t) < 2: continue\n",
    "        classes.append(t[0])\n",
    "        v = [float(x) for x in t[1: len(t) - 1]]\n",
    "        support.append(int(t[-1]))\n",
    "        class_names.append(t[0])\n",
    "        plotMat.append(v)\n",
    "\n",
    "    xlabel = 'Metrics'\n",
    "    ylabel = 'Classes'\n",
    "    \n",
    "    xticklabels = ['Precision', 'Recall', 'F1-score']\n",
    "    yticklabels = ['{0} ({1})'.format(class_names[idx], sup) for idx, sup  in enumerate(support)]\n",
    "    \n",
    "    figure_width = 25\n",
    "    figure_height = len(class_names) + 7\n",
    "    correct_orientation = False\n",
    "    \n",
    "    heatmap(np.array(plotMat), title, xlabel, ylabel, xticklabels, yticklabels, figure_width, figure_height, correct_orientation, cmap=cmap)"
   ]
  },
  {
   "cell_type": "markdown",
   "metadata": {},
   "source": [
    "This function is designed to create a heatmap with text in each cell using the matplotlib library (code based on idea from [here](https://stackoverflow.com/a/16124677/14467732)):"
   ]
  },
  {
   "cell_type": "code",
   "execution_count": 25,
   "metadata": {},
   "outputs": [],
   "source": [
    "def heatmap(AUC, title, xlabel, ylabel, xticklabels, yticklabels, figure_width=40, figure_height=20, correct_orientation=False, cmap='RdBu'):\n",
    "    fig, ax = plt.subplots()\n",
    "    c = ax.pcolor(AUC, edgecolors='k', linestyle='dashed', linewidths=0.2, cmap=cmap)\n",
    "\n",
    "    # put the major ticks at the middle of each cell\n",
    "    ax.set_yticks(np.arange(AUC.shape[0]) + 0.5, minor=False)\n",
    "    ax.set_xticks(np.arange(AUC.shape[1]) + 0.5, minor=False)\n",
    "\n",
    "    # set tick labels\n",
    "    ax.set_xticklabels(xticklabels, minor=False)\n",
    "    ax.set_yticklabels(yticklabels, minor=False)\n",
    "\n",
    "    # set title and x/y labels\n",
    "    plt.title(title)\n",
    "    plt.xlabel(xlabel)\n",
    "    plt.ylabel(ylabel)      \n",
    "\n",
    "    # remove last blank column\n",
    "    plt.xlim( (0, AUC.shape[1]) )\n",
    "\n",
    "    # turn off all the ticks\n",
    "    ax = plt.gca()    \n",
    "    for t in ax.xaxis.get_major_ticks():\n",
    "        t.tick1On = False\n",
    "        t.tick2On = False\n",
    "    for t in ax.yaxis.get_major_ticks():\n",
    "        t.tick1On = False\n",
    "        t.tick2On = False\n",
    "\n",
    "    # add color bar\n",
    "    plt.colorbar(c)\n",
    "\n",
    "    # add text in each cell \n",
    "    show_val(c)\n",
    "\n",
    "    # proper orientation (origin at the top left instead of bottom left)\n",
    "    if correct_orientation:\n",
    "        ax.invert_yaxis()\n",
    "        ax.xaxis.tick_top()       \n",
    "\n",
    "    # resize \n",
    "    fig = plt.gcf()\n",
    "    fig.set_size_inches(cm_to_inch(figure_width, figure_height))"
   ]
  },
  {
   "cell_type": "markdown",
   "metadata": {},
   "source": [
    "This function just inserts the text into the cells of the heatmap (idea is taken from [here](https://stackoverflow.com/a/25074150/14467732)):"
   ]
  },
  {
   "cell_type": "code",
   "execution_count": 26,
   "metadata": {},
   "outputs": [],
   "source": [
    "def show_val(pc, fmt=\"%.2f\", **kw):\n",
    "    pc.update_scalarmappable()\n",
    "    ax = pc.axes\n",
    "    for p, color, value in zip(pc.get_paths(), pc.get_facecolors(), pc.get_array()):\n",
    "        x, y = p.vertices[:-2, :].mean(0)\n",
    "        if np.all(color[:3] > 0.5):\n",
    "            color = (0.0, 0.0, 0.0)\n",
    "        else:\n",
    "            color = (1.0, 1.0, 1.0)\n",
    "        ax.text(x, y, fmt % value, ha=\"center\", va=\"center\", color=color, **kw)"
   ]
  },
  {
   "cell_type": "markdown",
   "metadata": {},
   "source": [
    "The last auxiliary function is intended to specify the size of the figure in centimeters in matplotlib, because by default there is only the method `set_size_inches`, therefore, we will convert inches to centimeters and use this method:"
   ]
  },
  {
   "cell_type": "code",
   "execution_count": 27,
   "metadata": {},
   "outputs": [],
   "source": [
    "def cm_to_inch(*dim):\n",
    "    inch = 2.54\n",
    "    return tuple(i/inch for i in dim[0]) if type(dim[0]) == tuple else tuple(i/inch for i in dim)"
   ]
  },
  {
   "cell_type": "markdown",
   "metadata": {},
   "source": [
    "**Note:** To better understand the following classifiers, I advise you to read [this article](https://towardsdatascience.com/comparative-study-on-classic-machine-learning-algorithms-24f9ff6ab222) or other similar ones that you will find on the Internet."
   ]
  },
  {
   "cell_type": "markdown",
   "metadata": {},
   "source": [
    "<h2 align=\"center\">KNN Model</h2>\n",
    "\n",
    "The K-nearest neighbors (KNN) algorithm is a type of supervised machine learning algorithms. KNN is extremely easy to implement in its most basic form, and yet performs quite complex classification tasks.  It is a lazy learning algorithm since it doesn't have a specialized training phase. Rather, it uses all of the data for training while classifying a new data point or instance.  KNN is also a non-parametric learning algorithm, which means that it doesn't assume anything about the underlying data.\n",
    "\n",
    "\n",
    "KNN  algorithm simply calculates the distance of a new data point to all other training data points. The distance can be of any type e.g Euclidean or Manhattan etc. It then selects the K-nearest data points, where K can be any integer. Finally it assigns the data point to the class to which the majority of the K data points belong.\n",
    "\n",
    "Now, let's build KNN classifier model.\n",
    "\n",
    "First, we import the `KNeighborsClassifier` module and create KNN classifier object by passing argument number of neighbors in `KNeighborsClassifier()` function. Then, fit our model on the train set using `fit()` and perform prediction on the test set using `predict()`.\n",
    "\n",
    "One way to help find the best value of neighbors is to plot the graph of neighbor value and the corresponding error rate for the dataset. We will plot the mean error for the predicted values of test set for all the neighbor values between 1 and 25.\n",
    "To do so, let's first calculate the mean of error for all the predicted values where neighbor ranges from 1 and 25:"
   ]
  },
  {
   "cell_type": "code",
   "execution_count": 28,
   "metadata": {},
   "outputs": [],
   "source": [
    "from sklearn.neighbors import KNeighborsClassifier\n",
    "\n",
    "error = []\n",
    "\n",
    "# calculating error for neighbor values between 1 and 25\n",
    "for i in range(1, 25):\n",
    "    knn = KNeighborsClassifier(n_neighbors=i)\n",
    "    knn.fit(x_train, y_train)\n",
    "    pred_i = knn.predict(x_test)\n",
    "    error.append(np.mean(pred_i != y_test))"
   ]
  },
  {
   "cell_type": "markdown",
   "metadata": {},
   "source": [
    "The next step is to plot the error values against neighbor values:"
   ]
  },
  {
   "cell_type": "code",
   "execution_count": 29,
   "metadata": {},
   "outputs": [
    {
     "data": {
      "text/plain": [
       "Text(0, 0.5, 'Mean Error')"
      ]
     },
     "execution_count": 29,
     "metadata": {},
     "output_type": "execute_result"
    },
    {
     "data": {
      "image/png": "[encoded data removed]",
      "text/plain": [
       "<Figure size 720x360 with 1 Axes>"
      ]
     },
     "metadata": {
      "needs_background": "light"
     },
     "output_type": "display_data"
    }
   ],
   "source": [
    "plt.figure(figsize=(10, 5))\n",
    "plt.plot(range(1, 25), error, color='black', linestyle='dashed', marker='o', markerfacecolor='green', markersize=10)\n",
    "plt.title('Error Rate Neighbor Value')\n",
    "plt.xlabel('Neighbor Value')\n",
    "plt.ylabel('Mean Error')"
   ]
  },
  {
   "cell_type": "markdown",
   "metadata": {},
   "source": [
    "As we can see, it is best to take k=19, but still mean error a little higher than normal."
   ]
  },
  {
   "cell_type": "code",
   "execution_count": 30,
   "metadata": {},
   "outputs": [
    {
     "name": "stdout",
     "output_type": "stream",
     "text": [
      "Nearest Neighbors Result (k=19):\n",
      "-----------------------------------\n",
      "Accuracy Score (k=19): 75.41%\n",
      "Accuracy (x_train, y_train): 100.0%\n"
     ]
    }
   ],
   "source": [
    "# create KNN Classifier\n",
    "knn = KNeighborsClassifier(n_neighbors=19, weights='distance')\n",
    "\n",
    "# train the classifier using the training sets\n",
    "knn.fit(x_train, y_train)\n",
    "\n",
    "# predict the response for test dataset\n",
    "y_pred = knn.predict(x_test)\n",
    "\n",
    "print(\"Nearest Neighbors Result (k=19):\\n\" + '-' * 35)\n",
    "print(\"Accuracy Score (k=19):\", str(round(knn.score(x_test, y_test) * 100, 2)) + '%')\n",
    "print(\"Accuracy (x_train, y_train):\", str(round(knn.score(x_train, y_train), 4) * 100) + '%')"
   ]
  },
  {
   "cell_type": "markdown",
   "metadata": {},
   "source": [
    "The accuracy of the model is good, we can work with it.\n",
    "\n",
    "Now let's explore our KNN Classification results with help of `classification_report` function from sklearn.metrics:"
   ]
  },
  {
   "cell_type": "code",
   "execution_count": 31,
   "metadata": {},
   "outputs": [
    {
     "name": "stdout",
     "output_type": "stream",
     "text": [
      "\n",
      "Classification KNN:\n",
      "               precision    recall  f1-score   support\n",
      "\n",
      "           0       0.75      0.64      0.69      3331\n",
      "           1       0.75      0.84      0.80      4378\n",
      "\n",
      "    accuracy                           0.75      7709\n",
      "   macro avg       0.75      0.74      0.74      7709\n",
      "weighted avg       0.75      0.75      0.75      7709\n",
      "\n"
     ]
    }
   ],
   "source": [
    "from sklearn.metrics import classification_report\n",
    "print('\\nClassification KNN:\\n', classification_report(y_test, knn.predict(x_test)))"
   ]
  },
  {
   "cell_type": "markdown",
   "metadata": {},
   "source": [
    "Now finally let's visualize our classification report:"
   ]
  },
  {
   "cell_type": "code",
   "execution_count": 32,
   "metadata": {},
   "outputs": [
    {
     "data": {
      "image/png": "[encoded data removed]",
      "text/plain": [
       "<Figure size 708.661x255.118 with 2 Axes>"
      ]
     },
     "metadata": {
      "needs_background": "light"
     },
     "output_type": "display_data"
    }
   ],
   "source": [
    "plot_classification_report(classification_report(y_test, knn.predict(x_test)), title='KNN Classification Report')"
   ]
  },
  {
   "cell_type": "markdown",
   "metadata": {},
   "source": [
    "<h2 align=\"center\">Logistic Regression</h2>\n",
    "\n",
    "Logistic Regression is a Machine Learning classification algorithm that is used to predict the probability of a categorical dependent variable. In logistic regression, the dependent variable is a binary variable that contains data coded as 1 (yes, success, etc.) or 0 (no, failure, etc.). In other words, the logistic regression model predicts P(Y=1) as a function of X."
   ]
  },
  {
   "cell_type": "code",
   "execution_count": 33,
   "metadata": {},
   "outputs": [
    {
     "data": {
      "text/plain": [
       "LogisticRegression(multi_class='ovr', n_jobs=1, solver='liblinear')"
      ]
     },
     "execution_count": 33,
     "metadata": {},
     "output_type": "execute_result"
    }
   ],
   "source": [
    "from sklearn.linear_model import LogisticRegression\n",
    "\n",
    "logit = LogisticRegression(solver='liblinear', multi_class='ovr', n_jobs=1)\n",
    "logit.fit(x_train, y_train)"
   ]
  },
  {
   "cell_type": "code",
   "execution_count": 34,
   "metadata": {},
   "outputs": [
    {
     "name": "stdout",
     "output_type": "stream",
     "text": [
      "Accuracy Score: 80.58%\n"
     ]
    }
   ],
   "source": [
    "print(\"Accuracy Score:\", str(round(logit.score(x_test, y_test) * 100, 2)) + '%')"
   ]
  },
  {
   "cell_type": "code",
   "execution_count": 35,
   "metadata": {},
   "outputs": [
    {
     "name": "stdout",
     "output_type": "stream",
     "text": [
      "\n",
      "Classification Logistic Regression:\n",
      "               precision    recall  f1-score   support\n",
      "\n",
      "           0       0.79      0.76      0.77      3331\n",
      "           1       0.82      0.84      0.83      4378\n",
      "\n",
      "    accuracy                           0.81      7709\n",
      "   macro avg       0.80      0.80      0.80      7709\n",
      "weighted avg       0.81      0.81      0.81      7709\n",
      "\n"
     ]
    }
   ],
   "source": [
    "print('\\nClassification Logistic Regression:\\n', classification_report(y_test, logit.predict(x_test)))"
   ]
  },
  {
   "cell_type": "markdown",
   "metadata": {},
   "source": [
    "Now let's visualize our classification report:"
   ]
  },
  {
   "cell_type": "code",
   "execution_count": 36,
   "metadata": {},
   "outputs": [
    {
     "data": {
      "image/png": "[encoded data removed]",
      "text/plain": [
       "<Figure size 708.661x255.118 with 2 Axes>"
      ]
     },
     "metadata": {
      "needs_background": "light"
     },
     "output_type": "display_data"
    }
   ],
   "source": [
    "plot_classification_report(classification_report(y_test, logit.predict(x_test)), title='Logistic Regression Classification Report')"
   ]
  },
  {
   "cell_type": "markdown",
   "metadata": {},
   "source": [
    "<h2 align=\"center\">Random Forest Classifier</h2>\n",
    "\n",
    "The Random forest or Random Decision Forest is a supervised Machine learning algorithm used for classification, regression, and other tasks using decision trees.\n",
    "\n",
    "The Random forest classifier creates a set of decision trees from a randomly selected subset of the training set. It is basically a set of decision trees (DT) from a randomly selected subset of the training set and then It collects the votes from different decision trees to decide the final prediction."
   ]
  },
  {
   "cell_type": "code",
   "execution_count": 37,
   "metadata": {},
   "outputs": [
    {
     "name": "stdout",
     "output_type": "stream",
     "text": [
      "Accuracy Score: 79.54%\n"
     ]
    }
   ],
   "source": [
    "from sklearn.ensemble import RandomForestClassifier\n",
    "\n",
    "clf = RandomForestClassifier(n_estimators=100)\n",
    "clf.fit(x_train, y_train)\n",
    "\n",
    "print(\"Accuracy Score:\", str(round(clf.score(x_test, y_test), 4) * 100) + '%')"
   ]
  },
  {
   "cell_type": "code",
   "execution_count": 38,
   "metadata": {},
   "outputs": [
    {
     "name": "stdout",
     "output_type": "stream",
     "text": [
      "\n",
      "Classification Random Forest:\n",
      "               precision    recall  f1-score   support\n",
      "\n",
      "           0       0.81      0.69      0.74      3331\n",
      "           1       0.79      0.88      0.83      4378\n",
      "\n",
      "    accuracy                           0.80      7709\n",
      "   macro avg       0.80      0.78      0.79      7709\n",
      "weighted avg       0.80      0.80      0.79      7709\n",
      "\n"
     ]
    }
   ],
   "source": [
    "print('\\nClassification Random Forest:\\n', classification_report(y_test, clf.predict(x_test)))"
   ]
  },
  {
   "cell_type": "markdown",
   "metadata": {},
   "source": [
    "Now let's visualize our classification report:"
   ]
  },
  {
   "cell_type": "code",
   "execution_count": 39,
   "metadata": {},
   "outputs": [
    {
     "data": {
      "image/png": "[encoded data removed]",
      "text/plain": [
       "<Figure size 708.661x255.118 with 2 Axes>"
      ]
     },
     "metadata": {
      "needs_background": "light"
     },
     "output_type": "display_data"
    }
   ],
   "source": [
    "plot_classification_report(classification_report(y_test, clf.predict(x_test)), title='Random Forest Classification Report')"
   ]
  },
  {
   "cell_type": "markdown",
   "metadata": {},
   "source": [
    "<h2 align=\"center\">SVM Model</h2>\n",
    "\n",
    "Support vector machines (SVMs) are a set of supervised learning methods used for classification, regression and outliers detection.\n",
    "\n",
    "The advantages of support vector machines are:\n",
    "\n",
    "    + Effective in high dimensional spaces.\n",
    "\n",
    "    + Still effective in cases where number of dimensions is greater than the number of samples.\n",
    "\n",
    "    + Uses a subset of training points in the decision function (called support vectors), so it is also memory efficient.\n",
    "\n",
    "    + Versatile: different Kernel functions can be specified for the decision function. Common kernels are provided, but it is also possible to specify custom kernels.\n",
    "\n",
    "The disadvantages of support vector machines include:\n",
    "\n",
    "    - If the number of features is much greater than the number of samples, avoid over-fitting in choosing Kernel functions and regularization term is crucial.\n",
    "\n",
    "    - SVMs do not directly provide probability estimates, these are calculated using an expensive five-fold cross-validation (see Scores and probabilities, below).\n",
    "    \n",
    "You can read more about it [here](https://en.wikipedia.org/wiki/Support-vector_machine)."
   ]
  },
  {
   "cell_type": "code",
   "execution_count": 41,
   "metadata": {},
   "outputs": [
    {
     "name": "stdout",
     "output_type": "stream",
     "text": [
      "Accuracy Score: 79.36%\n"
     ]
    }
   ],
   "source": [
    "from sklearn import svm\n",
    "\n",
    "SVM = svm.SVC(C=1.0, kernel='linear', degree=3, gamma='auto', probability=True)\n",
    "SVM.fit(x_train[int(len(x_train)*0.75):], y_train[int(len(y_train)*0.75):])\n",
    "\n",
    "print(\"Accuracy Score:\", str(round(SVM.score(x_test[int(len(x_test)*0.75):], y_test[int(len(y_test)*0.75):]), 4) * 100) + '%')"
   ]
  },
  {
   "cell_type": "code",
   "execution_count": 42,
   "metadata": {},
   "outputs": [
    {
     "name": "stdout",
     "output_type": "stream",
     "text": [
      "\n",
      "Classification SVM:\n",
      "               precision    recall  f1-score   support\n",
      "\n",
      "           0       0.78      0.76      0.77      3331\n",
      "           1       0.82      0.84      0.83      4378\n",
      "\n",
      "    accuracy                           0.80      7709\n",
      "   macro avg       0.80      0.80      0.80      7709\n",
      "weighted avg       0.80      0.80      0.80      7709\n",
      "\n"
     ]
    }
   ],
   "source": [
    "print('\\nClassification SVM:\\n', classification_report(y_test, SVM.predict(x_test)))"
   ]
  },
  {
   "cell_type": "code",
   "execution_count": 43,
   "metadata": {},
   "outputs": [
    {
     "data": {
      "image/png": "[encoded data removed]",
      "text/plain": [
       "<Figure size 708.661x255.118 with 2 Axes>"
      ]
     },
     "metadata": {
      "needs_background": "light"
     },
     "output_type": "display_data"
    }
   ],
   "source": [
    "plot_classification_report(classification_report(y_test, SVM.predict(x_test)), title='SVM Classification Report')"
   ]
  },
  {
   "cell_type": "markdown",
   "metadata": {},
   "source": [
    "<h2 align=\"center\">Comparison of Models</h2> \n",
    "\n",
    "A useful tool when predicting the probability of a binary outcome is the Receiver Operating Characteristic curve, or ROC curve.\n",
    "\n",
    "It is a plot of the false positive rate (x-axis) versus the true positive rate (y-axis) for a number of different candidate threshold values between 0.0 and 1.0. Put another way, it plots the false alarm rate versus the hit rate.\n",
    "\n",
    "The true positive rate is calculated as the number of true positives divided by the sum of the number of true positives and the number of false negatives. It describes how good the model is at predicting the positive class when the actual outcome is positive.\n",
    "\n",
    "The false positive rate is calculated as the number of false positives divided by the sum of the number of false positives and the number of true negatives.\n",
    "\n",
    "It is also called the false alarm rate as it summarizes how often a positive class is predicted when the actual outcome is negative.\n",
    "\n",
    "To make this clear:\n",
    "* Smaller values on the x-axis of the plot indicate lower false positives and higher true negatives.\n",
    "* Larger values on the y-axis of the plot indicate higher true positives and lower false negatives."
   ]
  },
  {
   "cell_type": "code",
   "execution_count": 44,
   "metadata": {},
   "outputs": [],
   "source": [
    "from sklearn import metrics\n",
    "from sklearn.metrics import roc_curve, auc\n",
    "\n",
    "fprKNN, tprKNN, thresholdsKNN = metrics.roc_curve(y_test, knn.predict_proba(x_test)[:, 1])\n",
    "fprLR, tprLR, thresholdsLR = metrics.roc_curve(y_test, logit.predict_proba(x_test)[:, 1])\n",
    "fprCLF, tprCLF, thresholdCLF = metrics.roc_curve(y_test, clf.predict_proba(x_test)[:, 1])\n",
    "fprSVM, trpSVM, thresholdSVM = metrics.roc_curve(y_test, SVM.predict_proba(x_test)[:, 1])"
   ]
  },
  {
   "cell_type": "code",
   "execution_count": 45,
   "metadata": {},
   "outputs": [
    {
     "data": {
      "image/png": "[encoded data removed]",
      "text/plain": [
       "<Figure size 576x360 with 1 Axes>"
      ]
     },
     "metadata": {
      "needs_background": "light"
     },
     "output_type": "display_data"
    }
   ],
   "source": [
    "linewidth = 2\n",
    "plt.figure(figsize=(8, 5))\n",
    "\n",
    "plt.plot(fprKNN, tprKNN, color='#db6114', lw=linewidth, label='ROC Curve KNN (AUC = %0.3f)' % auc(fprKNN, tprKNN))\n",
    "plt.plot(fprLR, tprLR, color='#1565c0', lw=linewidth, label='ROC Curve Logistic Regression (AUC = %0.3f)' % auc(fprLR, tprLR))\n",
    "plt.plot(fprCLF, tprCLF, color='#2e7d32',lw=linewidth, label='ROC Curve Random Forest (AUC = %0.3f)' % auc(fprCLF, tprCLF))\n",
    "plt.plot(fprSVM, trpSVM, color='#6557d2',lw=linewidth, label='ROC Curve SVM (AUC = %0.3f)' % auc(fprSVM, trpSVM))\n",
    "plt.plot([0, 1], [0, 1], color='#616161', lw=linewidth, linestyle='--')\n",
    "\n",
    "plt.xlim([0.0, 1.0])\n",
    "plt.ylim([0.0, 1.05])\n",
    "\n",
    "plt.xlabel('False Positive Rate')\n",
    "plt.ylabel('True Positive Rate')\n",
    "plt.title('ROC Curve Plots')\n",
    "plt.legend(loc=\"lower right\")\n",
    "\n",
    "plt.show()"
   ]
  },
  {
   "cell_type": "markdown",
   "metadata": {},
   "source": [
    "Based on these data, we can conclude that the best model so far is a **Logistic Regression Model** with `AUC = 88.3%` and `Accuracy Score = 80.58%`.\n",
    "\n",
    "Let's save this model:"
   ]
  },
  {
   "cell_type": "code",
   "execution_count": 46,
   "metadata": {},
   "outputs": [],
   "source": [
    "with open('LRModel.pickle', 'wb') as m:\n",
    "    pickle.dump(logit, m)"
   ]
  },
  {
   "cell_type": "markdown",
   "metadata": {},
   "source": [
    "Let's check if everything is loaded correctly:"
   ]
  },
  {
   "cell_type": "code",
   "execution_count": 47,
   "metadata": {
    "scrolled": true
   },
   "outputs": [
    {
     "name": "stdout",
     "output_type": "stream",
     "text": [
      "Logistic Regression Accuracy Score: 79.54%\n"
     ]
    }
   ],
   "source": [
    "with open('LRModel.pickle', 'rb') as m:\n",
    "     rf = pickle.load(m)\n",
    "\n",
    "print(\"Logistic Regression Accuracy Score:\", str(round(clf.score(x_test, y_test), 4) * 100) + '%')"
   ]
  },
  {
   "cell_type": "markdown",
   "metadata": {},
   "source": [
    "In the next part we will finally try the **LSTM** neural network, which takes a sequence of words and remembers the order of words in a sentence, this approach should give us the best results."
   ]
  }
 ],
 "metadata": {
  "kernelspec": {
   "display_name": "Python 3",
   "language": "python",
   "name": "python3"
  },
  "language_info": {
   "codemirror_mode": {
    "name": "ipython",
    "version": 3
   },
   "file_extension": ".py",
   "mimetype": "text/x-python",
   "name": "python",
   "nbconvert_exporter": "python",
   "pygments_lexer": "ipython3",
   "version": "3.8.2"
  }
 },
 "nbformat": 4,
 "nbformat_minor": 4
}
