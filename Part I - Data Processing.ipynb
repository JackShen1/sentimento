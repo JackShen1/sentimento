{
 "cells": [
  {
   "cell_type": "markdown",
   "metadata": {},
   "source": [
    "<h1 align=\"center\">PART I</h1>\n",
    "<h1 align=\"center\">Data Processing and Preparation for Training</h1>\n",
    "\n",
    "The aim was to process the semantic analysis of English texts, so the collection of positive and negative reviews was taken from [here](http://www.cs.jhu.edu/~mdredze/datasets/sentiment/), this dataset is based on a reviews of various Amazon products.\n",
    "\n",
    "To get started, install and unzip the archive ([unprocessed.tar.gz](http://www.cs.jhu.edu/~mdredze/datasets/sentiment/unprocessed.tar.gz)) and move the data to the project folder. Now, we import some libraries we need:"
   ]
  },
  {
   "cell_type": "code",
   "execution_count": 1,
   "metadata": {},
   "outputs": [],
   "source": [
    "import sklearn\n",
    "import numpy as np\n",
    "import pandas as pd\n",
    "import seaborn as sns\n",
    "import xml.etree.ElementTree as ET\n",
    "\n",
    "%matplotlib inline"
   ]
  },
  {
   "cell_type": "markdown",
   "metadata": {},
   "source": [
    "Also let's write a style for alignment in the middle of all graphs, images, etc:"
   ]
  },
  {
   "cell_type": "code",
   "execution_count": 2,
   "metadata": {},
   "outputs": [
    {
     "data": {
      "text/html": [
       "\n",
       "<style>\n",
       ".output_png {\n",
       "    display: table-cell;\n",
       "    text-align: center;\n",
       "    vertical-align: middle;\n",
       "}\n",
       "</style>\n"
      ],
      "text/plain": [
       "<IPython.core.display.HTML object>"
      ]
     },
     "execution_count": 2,
     "metadata": {},
     "output_type": "execute_result"
    }
   ],
   "source": [
    "from IPython.core.display import HTML\n",
    "HTML(\"\"\"\n",
    "<style>\n",
    ".output_png {\n",
    "    display: table-cell;\n",
    "    text-align: center;\n",
    "    vertical-align: middle;\n",
    "}\n",
    "</style>\n",
    "\"\"\")"
   ]
  },
  {
   "cell_type": "markdown",
   "metadata": {},
   "source": [
    "Since we only need files with positive and negative reviews, let's delete the others. And for our negative and positive reviews, we will add a parent tag in which all the reviews will be, so it will be easier to make xml tree. Also, our xml library will complain about the character `&` when parsing, so we will replace it with the word `and`:"
   ]
  },
  {
   "cell_type": "code",
   "execution_count": 3,
   "metadata": {},
   "outputs": [
    {
     "name": "stdout",
     "output_type": "stream",
     "text": [
      "Remove unnecessary files!\n",
      "Add additional tag to reviews!\n"
     ]
    }
   ],
   "source": [
    "import os\n",
    "\n",
    "for parent, dirnames, filenames in os.walk('sorted_data'):\n",
    "    for fn in filenames:\n",
    "        filepath = os.path.join(parent, fn)\n",
    "        if not (fn.startswith('positive') or fn.startswith('negative')):\n",
    "            os.remove(filepath)\n",
    "        else:\n",
    "            with open(filepath, 'r') as original: data = original.read().replace(\"&\", \"and\").replace(\"\u001a\", \"\")\n",
    "            with open(filepath, 'w') as modified: modified.writelines([\"<reviews>\\n\"] + data.splitlines(True)[1:-1] + [\"</reviews>\"])\n",
    "            # if you do it for the first time - uncomment line below \n",
    "            # with open(filepath, 'w') as modified: modified.writelines([\"<reviews>\\n\"] + data.splitlines(True) + [\"</reviews>\"])    \n",
    "\n",
    "print(\"Remove unnecessary files!\\nAdd additional tag to reviews!\")"
   ]
  },
  {
   "cell_type": "markdown",
   "metadata": {},
   "source": [
    "Next, since our reviews are in XML format, we need to process each line to get the value from the tags.\n",
    "\n",
    "**Note**: \n",
    "* **`errors='ignore'`** used to skip all possible incorrect characters in our documents;\n",
    "\n",
    "* **`readLines`** return all lines in the file, as a list where each line is an item in the list object."
   ]
  },
  {
   "cell_type": "code",
   "execution_count": 4,
   "metadata": {},
   "outputs": [
    {
     "name": "stdout",
     "output_type": "stream",
     "text": [
      "<reviews>\n",
      "\n",
      "<review><unique_id>\n",
      "\n",
      "B00008QS9V:it's_a_mighty_wind_a_blowin'!:carla_j._dinsmore_\"acoustic_music_junkie\"\n",
      "\n",
      "</unique_id>\n",
      "\n",
      "<unique_id>\n",
      "\n",
      "3276\n",
      "\n",
      "</unique_id>\n",
      "\n",
      "<asin>\n",
      "\n",
      "B00008QS9V\n",
      "\n",
      "</asin>\n",
      "\n"
     ]
    }
   ],
   "source": [
    "test_read = open('sorted_data/music/positive.review', 'r', encoding='utf8', errors='ignore').readlines()\n",
    "for i in range(10):\n",
    "    print(test_read[i])"
   ]
  },
  {
   "cell_type": "markdown",
   "metadata": {},
   "source": [
    "In our directory with test training sets we have two files - with positive and negative reviews, each of these files contains 1000 unprocessed reviews. Let's check this:"
   ]
  },
  {
   "cell_type": "code",
   "execution_count": 5,
   "metadata": {},
   "outputs": [
    {
     "name": "stdout",
     "output_type": "stream",
     "text": [
      "\n",
      "Number of Positive Reviews (Music): 1000 \n",
      "Number of Negative Reviews (Music): 1000\n"
     ]
    }
   ],
   "source": [
    "pos_reviews = open('sorted_data/music/positive.review', 'r', encoding='utf8', errors='ignore').read()\n",
    "neg_reviews = open('sorted_data/music/negative.review', 'r', encoding='utf8', errors='ignore').read()\n",
    "\n",
    "pos_rev_tree = ET.fromstring(pos_reviews)\n",
    "neg_rev_tree = ET.fromstring(neg_reviews)\n",
    "\n",
    "pos_tags = pos_rev_tree.findall('review')\n",
    "neg_tags = neg_rev_tree.findall('review')\n",
    "\n",
    "print('\\nNumber of Positive Reviews (Music):', len(pos_tags),\n",
    "      '\\nNumber of Negative Reviews (Music):', len(neg_tags))"
   ]
  },
  {
   "cell_type": "markdown",
   "metadata": {},
   "source": [
    "**Note:** \n",
    "* **`fromstring()`** parses XML from a string directly into an Element, which is the root element of the parsed tree;\n",
    "* **`findall() `** finds all elements with a tag which are direct children of the current element (`reviews`)."
   ]
  },
  {
   "cell_type": "markdown",
   "metadata": {},
   "source": [
    "<h2 align=\"center\">XML Parse</h2>\n",
    "\n",
    "Now we will try to parse our XML file at a basic level. We will create a dictionary from the lists. Each list will contain certain tags and their content for single review. We already have a tree with positive and negative reviews, so all that remains is to parse it. But before that, let's list all the tags in our xml files so we don't have to repeat:"
   ]
  },
  {
   "cell_type": "code",
   "execution_count": 6,
   "metadata": {},
   "outputs": [],
   "source": [
    "REVIEW_TAGS = ['unique_id', 'asin', 'product_name', 'helpful', 'rating', 'title',\n",
    "               'date', 'reviewer', 'reviewer_location', 'review_text']"
   ]
  },
  {
   "cell_type": "code",
   "execution_count": 7,
   "metadata": {},
   "outputs": [],
   "source": [
    "def parseXML(xml_reviews):\n",
    "    reviews = {}\n",
    "    count = 0\n",
    "\n",
    "    for item in xml_reviews:\n",
    "        count += 1\n",
    "        rev_name = 'review' + str(count)\n",
    "        reviews[rev_name] = [\n",
    "            REVIEW_TAGS[0] + ' | ' + item.find(REVIEW_TAGS[0]).text.strip(),\n",
    "            REVIEW_TAGS[1] + ' | ' + item.find(REVIEW_TAGS[1]).text.strip(),\n",
    "            REVIEW_TAGS[2] + ' | ' + item.find(REVIEW_TAGS[2]).text.strip(),\n",
    "            REVIEW_TAGS[3] + ' | ' + item.find(REVIEW_TAGS[3]).text.strip(),\n",
    "            REVIEW_TAGS[4] + ' | ' + item.find(REVIEW_TAGS[4]).text.strip(),\n",
    "            REVIEW_TAGS[5] + ' | ' + item.find(REVIEW_TAGS[5]).text.strip(),\n",
    "            REVIEW_TAGS[6] + ' | ' + item.find(REVIEW_TAGS[6]).text.strip(),\n",
    "            REVIEW_TAGS[7] + ' | ' + item.find(REVIEW_TAGS[7]).text.strip(),\n",
    "            REVIEW_TAGS[8] + ' | ' + item.find(REVIEW_TAGS[8]).text.strip(),\n",
    "            REVIEW_TAGS[9] + ' | ' + item.find(REVIEW_TAGS[9]).text.strip()\n",
    "        ]\n",
    "\n",
    "    return reviews"
   ]
  },
  {
   "cell_type": "markdown",
   "metadata": {},
   "source": [
    "Now let's actually create dictionaries with the required values and check output:"
   ]
  },
  {
   "cell_type": "code",
   "execution_count": 8,
   "metadata": {},
   "outputs": [
    {
     "data": {
      "text/plain": [
       "['unique_id | B00008QS9V:it\\'s_a_mighty_wind_a_blowin\\'!:carla_j._dinsmore_\"acoustic_music_junkie\"',\n",
       " 'asin | B00008QS9V',\n",
       " 'product_name | A Mighty Wind: The Album: Music: Various Artists',\n",
       " 'helpful | ',\n",
       " 'rating | 5.0',\n",
       " \"title | It's a Mighty Wind a blowin'!\",\n",
       " 'date | July 5, 2006',\n",
       " 'reviewer | Carla J. Dinsmore \"Acoustic music junkie\"',\n",
       " 'reviewer_location | Wilmington, DE USA',\n",
       " 'review_text | This is a wonderful album, that evokes memories of the 60\\'s folk boom, yet contains original songs. I was amazed at the fantastic harmonies and musical arrangements.\\nAnyone who loves the movie \"A Mighty Wind\" and who loves folk music will fall in love with this album. I know I did']"
      ]
     },
     "execution_count": 8,
     "metadata": {},
     "output_type": "execute_result"
    }
   ],
   "source": [
    "pos_reviews_dict = parseXML(pos_tags)\n",
    "neg_reviews_dict = parseXML(neg_tags)\n",
    "pos_reviews_dict['review1']"
   ]
  },
  {
   "cell_type": "markdown",
   "metadata": {},
   "source": [
    "Next, we will turn our reviews dictionaries into a Pandas DataFrame:"
   ]
  },
  {
   "cell_type": "code",
   "execution_count": 9,
   "metadata": {},
   "outputs": [],
   "source": [
    "def dict_to_dataframe(reviews_dict):\n",
    "    # prepare our dataframe for the data\n",
    "    df = pd.DataFrame(columns=REVIEW_TAGS)\n",
    "    count = 0\n",
    "    for val in reviews_dict.values():\n",
    "        df.loc[count] = [\n",
    "            val[0].split(\"|\")[1], val[1].split(\"|\")[1],\n",
    "            val[2].split(\"|\")[1], val[3].split(\"|\")[1],\n",
    "            val[4].split(\"|\")[1], val[5].split(\"|\")[1],\n",
    "            val[6].split(\"|\")[1], val[7].split(\"|\")[1],\n",
    "            val[8].split(\"|\")[1], val[9].split(\"|\")[1]\n",
    "        ]\n",
    "\n",
    "        count = count + 1\n",
    "\n",
    "    return df\n",
    "\n",
    "pos_music = dict_to_dataframe(pos_reviews_dict)\n",
    "neg_music = dict_to_dataframe(neg_reviews_dict)"
   ]
  },
  {
   "cell_type": "markdown",
   "metadata": {},
   "source": [
    "Let's check for correctness:"
   ]
  },
  {
   "cell_type": "code",
   "execution_count": 10,
   "metadata": {},
   "outputs": [
    {
     "data": {
      "text/html": [
       "<div>\n",
       "<style scoped>\n",
       "    .dataframe tbody tr th:only-of-type {\n",
       "        vertical-align: middle;\n",
       "    }\n",
       "\n",
       "    .dataframe tbody tr th {\n",
       "        vertical-align: top;\n",
       "    }\n",
       "\n",
       "    .dataframe thead th {\n",
       "        text-align: right;\n",
       "    }\n",
       "</style>\n",
       "<table border=\"1\" class=\"dataframe\">\n",
       "  <thead>\n",
       "    <tr style=\"text-align: right;\">\n",
       "      <th></th>\n",
       "      <th>unique_id</th>\n",
       "      <th>asin</th>\n",
       "      <th>product_name</th>\n",
       "      <th>helpful</th>\n",
       "      <th>rating</th>\n",
       "      <th>title</th>\n",
       "      <th>date</th>\n",
       "      <th>reviewer</th>\n",
       "      <th>reviewer_location</th>\n",
       "      <th>review_text</th>\n",
       "    </tr>\n",
       "  </thead>\n",
       "  <tbody>\n",
       "    <tr>\n",
       "      <th>0</th>\n",
       "      <td>B00008QS9V:it's_a_mighty_wind_a_blowin'!:carl...</td>\n",
       "      <td>B00008QS9V</td>\n",
       "      <td>A Mighty Wind: The Album: Music: Various Artists</td>\n",
       "      <td></td>\n",
       "      <td>5.0</td>\n",
       "      <td>It's a Mighty Wind a blowin'!</td>\n",
       "      <td>July 5, 2006</td>\n",
       "      <td>Carla J. Dinsmore \"Acoustic music junkie\"</td>\n",
       "      <td>Wilmington, DE USA</td>\n",
       "      <td>This is a wonderful album, that evokes memori...</td>\n",
       "    </tr>\n",
       "    <tr>\n",
       "      <th>1</th>\n",
       "      <td>B00005JJ04:sometime_tuesday_morning_defies_de...</td>\n",
       "      <td>B00005JJ04</td>\n",
       "      <td>Sometime Tuesday Morning: Music: Johnny A.</td>\n",
       "      <td>4 of 4</td>\n",
       "      <td>5.0</td>\n",
       "      <td>Sometime Tuesday Morning defies description</td>\n",
       "      <td>May 3, 2005</td>\n",
       "      <td>Tim Withee</td>\n",
       "      <td>Auburn, WA United States</td>\n",
       "      <td>On one hand, this CD is a straight ahead inst...</td>\n",
       "    </tr>\n",
       "    <tr>\n",
       "      <th>2</th>\n",
       "      <td>B0002W4SGS:atreyu_jr:hellrun_\"dustin\"</td>\n",
       "      <td>B0002W4SGS</td>\n",
       "      <td>The Caitiff Choir: Music: It Dies Today</td>\n",
       "      <td>0 of 1</td>\n",
       "      <td>5.0</td>\n",
       "      <td>atreyu JR</td>\n",
       "      <td>June 12, 2006</td>\n",
       "      <td>hellrun \"dustin\"</td>\n",
       "      <td>wisconsin</td>\n",
       "      <td>this band reminds me of the thrill i first go...</td>\n",
       "    </tr>\n",
       "  </tbody>\n",
       "</table>\n",
       "</div>"
      ],
      "text/plain": [
       "                                           unique_id         asin  \\\n",
       "0   B00008QS9V:it's_a_mighty_wind_a_blowin'!:carl...   B00008QS9V   \n",
       "1   B00005JJ04:sometime_tuesday_morning_defies_de...   B00005JJ04   \n",
       "2              B0002W4SGS:atreyu_jr:hellrun_\"dustin\"   B0002W4SGS   \n",
       "\n",
       "                                        product_name  helpful rating  \\\n",
       "0   A Mighty Wind: The Album: Music: Various Artists             5.0   \n",
       "1         Sometime Tuesday Morning: Music: Johnny A.   4 of 4    5.0   \n",
       "2            The Caitiff Choir: Music: It Dies Today   0 of 1    5.0   \n",
       "\n",
       "                                          title            date  \\\n",
       "0                 It's a Mighty Wind a blowin'!    July 5, 2006   \n",
       "1   Sometime Tuesday Morning defies description     May 3, 2005   \n",
       "2                                     atreyu JR   June 12, 2006   \n",
       "\n",
       "                                     reviewer          reviewer_location  \\\n",
       "0   Carla J. Dinsmore \"Acoustic music junkie\"         Wilmington, DE USA   \n",
       "1                                  Tim Withee   Auburn, WA United States   \n",
       "2                            hellrun \"dustin\"                  wisconsin   \n",
       "\n",
       "                                         review_text  \n",
       "0   This is a wonderful album, that evokes memori...  \n",
       "1   On one hand, this CD is a straight ahead inst...  \n",
       "2   this band reminds me of the thrill i first go...  "
      ]
     },
     "execution_count": 10,
     "metadata": {},
     "output_type": "execute_result"
    }
   ],
   "source": [
    "pos_music.head(n=3)"
   ]
  },
  {
   "cell_type": "code",
   "execution_count": 11,
   "metadata": {},
   "outputs": [
    {
     "data": {
      "text/html": [
       "<div>\n",
       "<style scoped>\n",
       "    .dataframe tbody tr th:only-of-type {\n",
       "        vertical-align: middle;\n",
       "    }\n",
       "\n",
       "    .dataframe tbody tr th {\n",
       "        vertical-align: top;\n",
       "    }\n",
       "\n",
       "    .dataframe thead th {\n",
       "        text-align: right;\n",
       "    }\n",
       "</style>\n",
       "<table border=\"1\" class=\"dataframe\">\n",
       "  <thead>\n",
       "    <tr style=\"text-align: right;\">\n",
       "      <th></th>\n",
       "      <th>unique_id</th>\n",
       "      <th>asin</th>\n",
       "      <th>product_name</th>\n",
       "      <th>helpful</th>\n",
       "      <th>rating</th>\n",
       "      <th>title</th>\n",
       "      <th>date</th>\n",
       "      <th>reviewer</th>\n",
       "      <th>reviewer_location</th>\n",
       "      <th>review_text</th>\n",
       "    </tr>\n",
       "  </thead>\n",
       "  <tbody>\n",
       "    <tr>\n",
       "      <th>0</th>\n",
       "      <td>B00004YWGC:what_can_i_say?:ms._aj_\"right\"</td>\n",
       "      <td>B00004YWGC</td>\n",
       "      <td>Back For The First Time: Music: Ludacris</td>\n",
       "      <td>1 of 13</td>\n",
       "      <td>2.0</td>\n",
       "      <td>What can I say?</td>\n",
       "      <td>May 4, 2006</td>\n",
       "      <td>Ms. AJ \"Right\"</td>\n",
       "      <td>North Carolina,  USA</td>\n",
       "      <td>I've always held the philosophy you are what ...</td>\n",
       "    </tr>\n",
       "    <tr>\n",
       "      <th>1</th>\n",
       "      <td>B000621498:not_quite_ready_for_prime_time.:g</td>\n",
       "      <td>B000621498</td>\n",
       "      <td>Things Aren't So Beautiful Now: Music: A Thor...</td>\n",
       "      <td>1 of 2</td>\n",
       "      <td>2.0</td>\n",
       "      <td>not quite ready for prime time.</td>\n",
       "      <td>May 8, 2006</td>\n",
       "      <td>g</td>\n",
       "      <td>san francisco</td>\n",
       "      <td>someone get this band a producer and put them...</td>\n",
       "    </tr>\n",
       "    <tr>\n",
       "      <th>2</th>\n",
       "      <td>B0000AQS1A:disapointment:super_dave_\"super_dave\"</td>\n",
       "      <td>B0000AQS1A</td>\n",
       "      <td>Chicken N Beer: Music: Ludacris</td>\n",
       "      <td>1 of 2</td>\n",
       "      <td>2.0</td>\n",
       "      <td>Disapointment</td>\n",
       "      <td>July 1, 2006</td>\n",
       "      <td>Super Dave \"Super Dave\"</td>\n",
       "      <td>Knoxville, TN</td>\n",
       "      <td>Tihs Album is not all that good when it came ...</td>\n",
       "    </tr>\n",
       "  </tbody>\n",
       "</table>\n",
       "</div>"
      ],
      "text/plain": [
       "                                           unique_id         asin  \\\n",
       "0          B00004YWGC:what_can_i_say?:ms._aj_\"right\"   B00004YWGC   \n",
       "1       B000621498:not_quite_ready_for_prime_time.:g   B000621498   \n",
       "2   B0000AQS1A:disapointment:super_dave_\"super_dave\"   B0000AQS1A   \n",
       "\n",
       "                                        product_name   helpful rating  \\\n",
       "0           Back For The First Time: Music: Ludacris   1 of 13    2.0   \n",
       "1   Things Aren't So Beautiful Now: Music: A Thor...    1 of 2    2.0   \n",
       "2                    Chicken N Beer: Music: Ludacris    1 of 2    2.0   \n",
       "\n",
       "                              title           date                  reviewer  \\\n",
       "0                   What can I say?    May 4, 2006            Ms. AJ \"Right\"   \n",
       "1   not quite ready for prime time.    May 8, 2006                         g   \n",
       "2                     Disapointment   July 1, 2006   Super Dave \"Super Dave\"   \n",
       "\n",
       "       reviewer_location                                        review_text  \n",
       "0   North Carolina,  USA   I've always held the philosophy you are what ...  \n",
       "1          san francisco   someone get this band a producer and put them...  \n",
       "2          Knoxville, TN   Tihs Album is not all that good when it came ...  "
      ]
     },
     "execution_count": 11,
     "metadata": {},
     "output_type": "execute_result"
    }
   ],
   "source": [
    "neg_music.head(n=3)"
   ]
  },
  {
   "cell_type": "markdown",
   "metadata": {},
   "source": [
    "Everything is correct, wonderful! \n",
    "\n",
    "And now we will do what we did above, but for a reviews of all categories of Amazon datasets:"
   ]
  },
  {
   "cell_type": "code",
   "execution_count": 12,
   "metadata": {},
   "outputs": [
    {
     "name": "stdout",
     "output_type": "stream",
     "text": [
      "————————————————————————————————————————————————————————————\n",
      "| Parse        sorted_data\\apparel\\negative.review         |\n",
      "| Parse        sorted_data\\apparel\\positive.review         |\n",
      "————————————————————————————————————————————————————————————\n",
      "| Parse       sorted_data\\automotive\\negative.review       |\n",
      "| Parse       sorted_data\\automotive\\positive.review       |\n",
      "————————————————————————————————————————————————————————————\n",
      "| Parse          sorted_data\\baby\\negative.review          |\n",
      "| Parse          sorted_data\\baby\\positive.review          |\n",
      "————————————————————————————————————————————————————————————\n",
      "| Parse         sorted_data\\beauty\\negative.review         |\n",
      "| Parse         sorted_data\\beauty\\positive.review         |\n",
      "————————————————————————————————————————————————————————————\n",
      "| Parse         sorted_data\\books\\negative.review          |\n",
      "| Parse         sorted_data\\books\\positive.review          |\n",
      "————————————————————————————————————————————————————————————\n",
      "| Parse     sorted_data\\camera_&_photo\\negative.review     |\n",
      "| Parse     sorted_data\\camera_&_photo\\positive.review     |\n",
      "————————————————————————————————————————————————————————————\n",
      "| Parse sorted_data\\cell_phones_&_service\\negative.review  |\n",
      "| Parse sorted_data\\cell_phones_&_service\\positive.review  |\n",
      "————————————————————————————————————————————————————————————\n",
      "| Parse sorted_data\\computer_&_video_games\\negative.review |\n",
      "| Parse sorted_data\\computer_&_video_games\\positive.review |\n",
      "————————————————————————————————————————————————————————————\n",
      "| Parse          sorted_data\\dvd\\negative.review           |\n",
      "| Parse          sorted_data\\dvd\\positive.review           |\n",
      "————————————————————————————————————————————————————————————\n",
      "| Parse      sorted_data\\electronics\\negative.review       |\n",
      "| Parse      sorted_data\\electronics\\positive.review       |\n",
      "————————————————————————————————————————————————————————————\n",
      "| Parse      sorted_data\\gourmet_food\\negative.review      |\n",
      "| Parse      sorted_data\\gourmet_food\\positive.review      |\n",
      "————————————————————————————————————————————————————————————\n",
      "| Parse        sorted_data\\grocery\\negative.review         |\n",
      "| Parse        sorted_data\\grocery\\positive.review         |\n",
      "————————————————————————————————————————————————————————————\n",
      "| Parse sorted_data\\health_&_personal_care\\negative.review |\n",
      "| Parse sorted_data\\health_&_personal_care\\positive.review |\n",
      "————————————————————————————————————————————————————————————\n",
      "| Parse   sorted_data\\jewelry_&_watches\\negative.review    |\n",
      "| Parse   sorted_data\\jewelry_&_watches\\positive.review    |\n",
      "————————————————————————————————————————————————————————————\n",
      "| Parse  sorted_data\\kitchen_&_housewares\\negative.review  |\n",
      "| Parse  sorted_data\\kitchen_&_housewares\\positive.review  |\n",
      "————————————————————————————————————————————————————————————\n",
      "| Parse       sorted_data\\magazines\\negative.review        |\n",
      "| Parse       sorted_data\\magazines\\positive.review        |\n",
      "————————————————————————————————————————————————————————————\n",
      "| Parse         sorted_data\\music\\negative.review          |\n",
      "| Parse         sorted_data\\music\\positive.review          |\n",
      "————————————————————————————————————————————————————————————\n",
      "| Parse  sorted_data\\musical_instruments\\negative.review   |\n",
      "| Parse  sorted_data\\musical_instruments\\positive.review   |\n",
      "————————————————————————————————————————————————————————————\n",
      "| Parse    sorted_data\\office_products\\negative.review     |\n",
      "| Parse    sorted_data\\office_products\\positive.review     |\n",
      "————————————————————————————————————————————————————————————\n",
      "| Parse     sorted_data\\outdoor_living\\negative.review     |\n",
      "| Parse     sorted_data\\outdoor_living\\positive.review     |\n",
      "————————————————————————————————————————————————————————————\n",
      "| Parse        sorted_data\\software\\negative.review        |\n",
      "| Parse        sorted_data\\software\\positive.review        |\n",
      "————————————————————————————————————————————————————————————\n",
      "| Parse   sorted_data\\sports_&_outdoors\\negative.review    |\n",
      "| Parse   sorted_data\\sports_&_outdoors\\positive.review    |\n",
      "————————————————————————————————————————————————————————————\n",
      "| Parse    sorted_data\\tools_&_hardware\\negative.review    |\n",
      "| Parse    sorted_data\\tools_&_hardware\\positive.review    |\n",
      "————————————————————————————————————————————————————————————\n",
      "| Parse      sorted_data\\toys_&_games\\negative.review      |\n",
      "| Parse      sorted_data\\toys_&_games\\positive.review      |\n",
      "————————————————————————————————————————————————————————————\n",
      "| Parse         sorted_data\\video\\negative.review          |\n",
      "| Parse         sorted_data\\video\\positive.review          |\n",
      "———————————————————————————————————————————————————————————— \n",
      "\n",
      "!!! Reviews parsing completed successfully !!!\n"
     ]
    }
   ],
   "source": [
    "pos_reviews, neg_reviews = [], []\n",
    "counter = 0 # for styled output \n",
    "\n",
    "for parent, dirnames, filenames in os.walk('sorted_data'):\n",
    "    for fn in filenames:\n",
    "        filepath = os.path.join(parent, fn)\n",
    "        if counter % 2 == 0: print(\"—\" * 60)\n",
    "        \n",
    "        if fn == \"positive.review\":\n",
    "            pos_rev_tree = ET.fromstring(open(filepath, 'r').read())\n",
    "            pos_tags = pos_rev_tree.findall('review')\n",
    "            pos_reviews.append(parseXML(pos_tags))\n",
    "            counter += 1\n",
    "            print(\"| Parse\", filepath.center(50), \"|\")\n",
    "        \n",
    "        if fn == \"negative.review\":\n",
    "            neg_rev_tree = ET.fromstring(open(filepath, 'r').read())\n",
    "            neg_tags = neg_rev_tree.findall('review')\n",
    "            neg_reviews.append(parseXML(neg_tags))\n",
    "            counter += 1\n",
    "            print(\"| Parse\", filepath.center(50), \"|\")\n",
    "\n",
    "print(\"—\" * 60, \"\\n\\n!!! Reviews parsing completed successfully !!!\")"
   ]
  },
  {
   "cell_type": "markdown",
   "metadata": {},
   "source": [
    "<h3 align=\"center\">Data to Pandas Dataframe</h3>"
   ]
  },
  {
   "cell_type": "markdown",
   "metadata": {},
   "source": [
    "We now have parsed positive and negative reviews for 25 different categories, so let's check this:"
   ]
  },
  {
   "cell_type": "code",
   "execution_count": 13,
   "metadata": {},
   "outputs": [
    {
     "name": "stdout",
     "output_type": "stream",
     "text": [
      "Number of Positive Categories: 25 \n",
      "Number of Negative Categories: 25\n",
      "\n",
      "Number of Positive Reviews (Automotive Category): 584 \n",
      "Number of Negative Reviews (Books Category): 1000\n"
     ]
    }
   ],
   "source": [
    "print(\"Number of Positive Categories:\", len(pos_reviews), \n",
    "    \"\\nNumber of Negative Categories:\", len(neg_reviews))\n",
    "\n",
    "print(\"\\nNumber of Positive Reviews (Automotive Category):\", len(pos_reviews[1]), \n",
    "      \"\\nNumber of Negative Reviews (Books Category):\", len(neg_reviews[4]))"
   ]
  },
  {
   "cell_type": "markdown",
   "metadata": {},
   "source": [
    "Now, we will turn our reviews dictionaries in each category into a Pandas DataFrame:\n",
    "\n",
    "**Note:** `pd.concat` - Concatenate pandas objects along a particular axis with optional set logic along the other axes."
   ]
  },
  {
   "cell_type": "code",
   "execution_count": 14,
   "metadata": {},
   "outputs": [],
   "source": [
    "positive_df, negative_df = pd.DataFrame(columns=REVIEW_TAGS), pd.DataFrame(columns=REVIEW_TAGS)"
   ]
  },
  {
   "cell_type": "code",
   "execution_count": 15,
   "metadata": {},
   "outputs": [
    {
     "name": "stdout",
     "output_type": "stream",
     "text": [
      "['unique_id | B0007QCQA4:good_sneakers:christopher_w._damico_\"macman\"', 'asin | B0007QCQA4', \"product_name | adidas Originals Men's Superstar II Basketball Shoe: Apparel\", 'helpful | 0 of 1', 'rating | 4.0', 'title | GOOD SNEAKERS', 'date | July 15, 2006', 'reviewer | Christopher W. Damico \"MACMAN\"', 'reviewer_location | NYC', \"review_text | GOOD LOOKING KICKS IF YOUR KICKIN IT OLD SCHOOL LIKE ME. AND COMFORTABLE. AND RELATIVELY CHEAP. I'LL ALWAYS KEEP A PAIR OF STAN SMITH'S AROUND FOR WEEKENDS\"] \n",
      "\n",
      "['unique_id | B0009N4F6I:works_very_well:i_have_9_cats', 'asin | B0009N4F6I', 'product_name | Wedgie Cup Holder: Automotive', 'helpful | 1 of 1', 'rating | 5.0', 'title | Works very well', 'date | August 19, 2006', 'reviewer | I have 9 cats', 'reviewer_location | Dela where?', \"review_text | I bought one today for my Mazda Tribute because I didn't like the built-in cup holders. It's actually very sturdy and fits very well.\"] \n",
      "\n",
      "['unique_id | B0002U1SFE:love_it!:a._kurczewski', 'asin | B0002U1SFE', 'product_name | Baby Einstein Discover and Play Activity Center: Baby', 'helpful | 1 of 1', 'rating | 4.0', 'title | Love it!', 'date | November 11, 2006', 'reviewer | A. Kurczewski', 'reviewer_location | Detroit, MI', 'review_text | My daughter loves this activity center.  I wish they would change two things about it.  I wish we could change out the toys and it folded up'] \n",
      "\n",
      "['unique_id | B0009U8XUU:one_of_the_products_i_am_pleased_with!:maggierose', 'asin | B0009U8XUU', 'product_name | Jonathan Product Redo Freshen-Up Mist For Hair and Skin(R): Beauty', 'helpful | 9 of 14', 'rating | 4.0', 'title | One of the products I am pleased with!', 'date | July 3, 2005', 'reviewer | maggierose', 'reviewer_location | Long Island, NY', 'review_text | I bought the Shampoo Theory and Condition Theory and this Redo Freshen-Up Mist. I have normal-type hair that needs to be washed every other day -- and if I use a lot of product, it needs to be washed every day. I have very sensitive skin too. This mist worked very well on my hair, definitely freshened it up and allowed me to restyle it with a quick blow dry. And it feels awesome on my skin. Well done, Jonathan'] \n",
      "\n",
      "['unique_id | 0375416811:founder_of_chick_lit:erin_oakes_\"avid_reader\"', 'asin | 0375416811', 'product_name | Bridget Jones Diary: Books: Helen Fielding,Tracie Bennett', 'helpful | ', 'rating | 5.0', 'title | Founder of chick lit', 'date | August 24, 2006', 'reviewer | Erin Oakes \"avid reader\"', 'reviewer_location | Central PA', \"review_text | Bridget Jones, modern day woman, brillant and doesn't know it, prone to accidents and mess ups but manages to come out of them.  \\n\\nThis is the book that started it all with the chick lit fever.  Bridget Jones is my hero!\"] \n",
      "\n",
      "['unique_id | B00009R6TA:great__backpack:w._mutual', 'asin | B00009R6TA', 'product_name | Canon Deluxe Photo Backpack 200EG for Canon EOS SLR Cameras: Camera and Photo', 'helpful | 1 of 1', 'rating | 5.0', 'title | great  backpack', 'date | November 12, 2006', 'reviewer | W. Mutual', 'reviewer_location | California', \"review_text | This is a great back pack! If there is anything I would change it would be the logo on the front. It's brite and shinny, and I'd rather not advertise that I have a camera in there! I colored it in with a felt pen and it works great....... Overall, I love the backpack!!\"] \n",
      "\n",
      "[\"unique_id | B0006J419Q:best_earpiece_i've_owned:d._jackson\", 'asin | B0006J419Q', 'product_name | Jabra C150 Headset for 2.5mm Universal Headset Jack: Cell Phones and Service', 'helpful | 1 of 2', 'rating | 5.0', \"title | Best earpiece I've owned\", 'date | August 29, 2006', 'reviewer | D. Jackson', 'reviewer_location | Washington, DC USA', \"review_text | I owned one of these for about three months, then it started to fall apart.  It was $30 at Best Buy.  I haven't replaced it, as $30 is a *lot*.\\n\\n$10?  I'm buying two more.  I can be moving 20 mph on my bicycle, talking to someone, with no problems.  It has far better sound quality than my 'backup', which is a Jabra with no boom.  The ear volume is adjustable on my phone, and I'm wondering what phones other reviewers have that won't let them adjust the volume\"] \n",
      "\n",
      "['unique_id | B0009Z3K9E:you_can\\'t_go_wrong_with_\"dawn_of_sorrow.\":k._m._bowles_\"i_like_pie\"', 'asin | B0009Z3K9E', 'product_name | Castlevania Dawn of Sorrow: Computer andamp; Video Games', 'helpful | 1 of 1', 'rating | 5.0', 'title | You can\\'t go wrong with \"Dawn of Sorrow.\"', 'date | October 7, 2006', 'reviewer | K. M. Bowles \"I Like pie\"', 'reviewer_location | VA Beach, VA', \"review_text | Castlevania: Dawn of Sorrow is the latest iteration of Konami's decades-old franchise and the first to appear on the Nintendo DS. Don't let the title fool you; this really isn't the dawn of anything, except maybe a bunch more Castlevania games on the DS. And the subtitle here is simply a workable way to include the letters D and S in the title of the game, as seems to be the requirement for the platform at this point. Dawn of Sorrow actually takes place a year after the events in Aria of Sorrow, which came out in 2003 on the Game Boy Advance. If you've played that game--or if you've played just about any recent Castlevania game actually--you'll be right at home with Dawn of Sorrow, because it's basically the same game repackaged to fit the DS. That isn't a bad thing though, because the Castlevania games have long carried the torch for good, old-fashioned 2D side-scrolling gameplay, and Dawn of Sorrow keeps that flame burning as bright as ever. \\n\\nThe star of Dawn of Sorrow is Soma Cruz, the young adventurer who narrowly avoided becoming the next Dracula in Aria of Sorrow. Soma has the ability to collect the souls of monsters he kills, thus inheriting their powers. A year after Soma escaped Dracula's castle, a mysterious woman named Celia shows up and attacks him. Celia is a priestess of a new cult that is attempting to resurrect Dracula. Since Soma already proved once before that he's capable of foiling the resurrection of the dark lord, the cult decides to eliminate him before he can mess up their plans as well. Soma survives the attack quite easily and Celia is forced to retreat. Apparently Soma doesn't take kindly to people who try to kill him, so he sets out to find Celia and prevent her from reviving Dracula. \\n\\nThe entire game takes place at the cult's base, which is a replica of Dracula's castle. In true Castlevania form you'll start off relatively weak, with only a knife and some mediocre armor. As you progress through areas of the castle, you'll fight monsters and search the mazelike hallways where you'll gain experience, as well as find new and better equipment. As you gain experience, you'll level up and your stats will increase in attack, defense, strength, constitution, intelligence, and luck. \\n\\nThroughout the game you'll also collect the souls of monsters you kill. These souls can be equipped to give Soma new abilities. There are three types of souls you can equip, as well as ability-type souls that grant you special powers without having to equip them. Ability souls are collected when you defeat bosses, and these abilities are usually required to progress through the game. By using these ability souls Soma can learn how to double-jump, move underwater, and break crystal blocks--all of which are required to access certain areas of the castle. \\n\\nCastlevania: Dawn of Sorrow sticks close to the tried-and-true formula, so it will be an instant hit with anyone with an affinity for the sort of explorative gameplay the series is known for. While it doesn't do much to distinguish itself as the first Castlevania on the DS, the updated look, excellent music, and added controls help to refine the series even further. The bottom line is: Whether you're familiar with the series or not, you can't go wrong with Dawn of Sorrow.\"] \n",
      "\n",
      "['unique_id | B0000TG9E2:excellent_fantasy,_with_provisos_:lonnie_e._holder_\"the_review\\'s_the_thing\"', 'asin | B0000TG9E2', \"product_name | Alice in Wonderland (Masterpiece Edition): DVD: Kathryn Beaumont,Ed Wynn,Richard Haydn,Sterling Holloway,Jerry Colonna,Verna Felton,J. Pat O'Malley,Bill Thompson,Heather Angel,Joseph Kearns,Larry Grey,Queenie Leonard,Dink Trout,Doris Lloyd,James MacDonald (II),Bill Lee (IV),Thurl Ravenscroft,Max Smith,Bob Hamlin,Don Barclay,Wilfred Jackson,Clyde Geronimi,Hamilton Luske\", 'helpful | 7 of 12', 'rating | 4.0', 'title | Excellent Fantasy, with Provisos', 'date | July 3, 2006', 'reviewer | Lonnie E. Holder \"The Review\\'s the Thing\"', 'reviewer_location | Sullivan, Illinois United States', 'review_text | The story of \"Alice in Wonderland\" was controversial from the moment that the Reverend Charles Lutwidge Dodgson, aka Lewis Carroll, wrote it.  Some took the story as horror rather than a childhood fantasy.  Others consider Alice\\'s journey as a trip into or through insanity.  For better or worse, Disney did capture many of these elements, and the same criticisms of the books that form the basis of this film apply to the film.  However, there are also those who loved the books and loved the film.  Normally I recommend Disney classis without reservations.  In the case of this movie, I will keep a couple of provisos.\\n\\nAlice is a young girl bored by her lessons.  As the length of the lessons grows, Alice soon drifts off, until a white rabbit passes by, muttering to himself that he is late.  Alice follows the white rabbit and falls into a rabbit hole that seems to fall forever.  Luckily for Alice her dress opens out into a kind of parachute and slows her descent.\\nOnce at the bottom of the hole, Alice discovers a door into which she is unable to pass because the door is too small.  However, there is a vial labeled \"drink me\" that Alice discovers makes her small enough to go through the door.\\n\\nAlice is soon on her way into a series of surreal adventures that are in the best tradition of adult animation.  Indeed, Alice might have worked better as an adult story given the number of references to adult vices and frailties throughout the film.  Even the fundamental basis of Alice\\'s journey through Wonderland owes as much to psychological references as it does childhood fantasies.  The ending of Alice\\'s journey in particular is quite frightening, especially to younger children, embodying all that can be horrible in nightmares.  I remember seeing \"Alice in Wonderland\" as a child, and I remember I thought the ending was scary, and I was relieved when Alice was able to escape back to the normal world.\\n\\nGiven that this film is well over fifty years old, I was disturbed by the smoking caterpillar, if for no other reason than our current knowledge of what smoking does.  The smoke did negatively affect Alice as it made her cough.  Perhaps there is an object lesson for children here.  While some consider many of the references to allude to drugs, I think that is a modern interpretation.  I think eating or drinking items to get larger or smaller was merely a convenient plot device for the author rather than an allegory for drug use.  Remember that this story was first published in 1869.\\n\\nI believe this film is excessively criticized by those who do not like its style and the post-era associations with negative elements that were never intended by the original author and by Disney.\\n\\nFor all these provisos, this film is excellent.  It matches \"Fantasia\" in its surreal visions, and the construct and tying together of the individual stories is superb.  The animation is marvelous as well, readily illustrating the vision of Alice\\'s journey.\\n\\nThis movie is one of those rare Disney films that I am unable to recommend to all viewers.  Whether you will enjoy this film is strictly a matter of personal taste.  If you enjoy animation oriented toward adults, then you may find this animation a treat.  If you are open-minded about the story and consider when the story was written and animated, you may also find that you enjoy it.  I do recommend this movie for slightly older children, perhaps 8 and above, considering some of the disturbing images.  Good luck!'] \n",
      "\n"
     ]
    },
    {
     "name": "stdout",
     "output_type": "stream",
     "text": [
      "['unique_id | B00008SCFU:fast_and_accurate:j._n._fong', 'asin | B00008SCFU', 'product_name | Kingston 256 MB Secure Digital Card ( SD/256 ): Electronics', 'helpful | ', 'rating | 5.0', 'title | Fast and Accurate', 'date | March 19, 2006', 'reviewer | J. N. Fong', 'reviewer_location | Castro Valley, CA  USA', \"review_text | I received my Kingston 256MB SD card just as advertised.\\nThe unit came in the mail exactly 2 days after I\\nordered. Worked perfectly and I'm very satisfied\"] \n",
      "\n",
      "['unique_id | B0000TVVEA:an_excellent_italian_gift_basket._.,:stewart__l', 'asin | B0000TVVEA', 'product_name | Italian Gift Basket - Classic (3.8 Pound) by igourmet.com: Gourmet Food', 'helpful | 5 of 11', 'rating | 5.0', 'title | An excellent italian gift basket. .,', 'date | November 24, 2005', 'reviewer | stewart  L', 'reviewer_location | flushing ,ny', 'review_text | This italian gift basket,captures the feeling of italy,at it best...When you send this to family or friends,they will definitly,feel the love and warmth,of italy,and is sure to please...5 star recommended..'] \n",
      "\n",
      "['unique_id | B000CN7BNE:fantastically_refreshing!:sn', 'asin | B000CN7BNE', 'product_name | Zico Pure Coconut Water, Passion Fruit with Orange Peel Flavor, 11-Ounce Units (Pack of 12): Grocery', 'helpful | ', 'rating | 4.0', 'title | fantastically refreshing!', 'date | November 18, 2006', 'reviewer | SN', 'reviewer_location | Austin,TX', \"review_text | I bought the natural flavour. Didn't find it very palatable the first time. But the next time was much better and now I am hooked on to it! An acquired taste, indeed! The 11-ounce is difficult to down in one go, though.\"] \n",
      "\n",
      "['unique_id | B00006WNPU:omron_body_fat_analyyzer:nicholas_tompanis', 'asin | B00006WNPU', 'product_name | Omron HBF-306 Body Fat Analyzer: Health and Personal Care', 'helpful | 5 of 6', 'rating | 5.0', 'title | Omron Body Fat Analyyzer', 'date | August 19, 2006', 'reviewer | Nicholas Tompanis', 'reviewer_location | Virginia Beach, VA', \"review_text | I've found the Omron very easy and practical to use.  It gives very good estimates of body fat percentages and BMI (body mass index) which can easily be used to illustrate a personal rate of progress for any dietary or weight training program.  For the money, it would be difficult to find something better\"] \n",
      "\n",
      "['unique_id | B000EX8N3E:outstanding_in_almost_every_way:b._siao', 'asin | B000EX8N3E', \"product_name | Casio Men's G-Shock Atomic Solar Watch # MTG920DA-1: Jewelry and Watches: Casio\", 'helpful | ', 'rating | 5.0', 'title | Outstanding In Almost Every Way', 'date | November 9, 2006', 'reviewer | B. Siao', 'reviewer_location | San Diego, CA', 'review_text | Elegant yet tough, this particular Casio has a metal bracelet and is extremely comfortable to wear.  The display is sharp, clear, and very easy to read.  I only wish it had a thermometer.  The watch is big and looks very macho on your wrist'] \n",
      "\n",
      "['unique_id | B0002D31QU:immediate_results!:a._sanford', 'asin | B0002D31QU', 'product_name | Premier Gentle Spray Anti-Bark Dog Collar: Kitchen and Housewares', 'helpful | 1 of 1', 'rating | 5.0', 'title | Immediate results!', 'date | October 24, 2006', 'reviewer | A. Sanford', 'reviewer_location | Blacksburg, VA USA', \"review_text | My grandma's 10 year old Yorkie just would never shut up.  He barked at our cat, at our parrot, and anything that moved really.  We bought this collar, and it worked perfectly and immediately.  One bark and it sprayed, and he would go running off...and stop barking!  I felt kinda bad for him, but his reaction was hilarious.  I couldn't stop laughing at him, poor thing.  However, he did learn that if the collar wasn't on, he wasn't going to get sprayed, so he would bark\"] \n",
      "\n",
      "['unique_id | B00005UMOQ:good_magazine:david_allen_hazlewood', 'asin | B00005UMOQ', 'product_name | Body + Soul: Magazines', 'helpful | ', 'rating | 5.0', 'title | Good magazine', 'date | November 15, 2006', 'reviewer | David Allen Hazlewood', 'reviewer_location | Tacoma, WA', 'review_text | I was sceptical at first. But after getting a few of the magazines I really got into the way they looked at the Whole Body health and didn\\'t JUST focus on \"body\" exercises like most magazines'] \n",
      "\n",
      "['unique_id | B00008QS9V:it\\'s_a_mighty_wind_a_blowin\\'!:carla_j._dinsmore_\"acoustic_music_junkie\"', 'asin | B00008QS9V', 'product_name | A Mighty Wind: The Album: Music: Various Artists', 'helpful | ', 'rating | 5.0', \"title | It's a Mighty Wind a blowin'!\", 'date | July 5, 2006', 'reviewer | Carla J. Dinsmore \"Acoustic music junkie\"', 'reviewer_location | Wilmington, DE USA', 'review_text | This is a wonderful album, that evokes memories of the 60\\'s folk boom, yet contains original songs. I was amazed at the fantastic harmonies and musical arrangements.\\nAnyone who loves the movie \"A Mighty Wind\" and who loves folk music will fall in love with this album. I know I did'] \n",
      "\n",
      "[\"unique_id | B000CNTDY4:good_series_if_you're_interested_in_rock,_and_metal.:a._bailey\", 'asin | B000CNTDY4', 'product_name | Metal Method Complete Basic Course Level 1 Thru Level 6 on DVD Doug Marks Classic Rock: Musical Instruments', 'helpful | 1 of 1', 'rating | 4.0', \"title | Good Series if you're interested in Rock, and Metal.\", 'date | June 15, 2006', 'reviewer | A. Bailey', 'reviewer_location | New York, NY', 'review_text | The videos are amazing! I would have to say better than amazing. The riffs, and solos that are taught are fun and work well with the level they correspond to, and I feel progresses well with a beginner and beyond at a consistant speed. The only problem is... that there is a grey area that overlaps the term beginner and intermediate so you may have to skip around the lessons to get on track with the course. For instance I decided to learn the riffs and practice the pull offs from the beginner DVDs and go straight into the intermediate levels of the course as the beginner sections where way to easy. But I would have to say if powerful riffs and electrifying solos is your passion then I know of no other course that will get you there quicker while having more fun doing it'] \n",
      "\n",
      "['unique_id | B0007LTJFO:excellent:book_reader_\"sam\"', 'asin | B0007LTJFO', 'product_name | Study Stand Wire Book Stand, 9-3/8\"x6\"x5-3/8\", Chrome Finish FEL10024: Office Products', 'helpful | 1 of 1', 'rating | 5.0', 'title | Excellent', 'date | August 12, 2006', 'reviewer | Book Reader \"Sam\"', 'reviewer_location | Baden, PA United States', \"review_text | This wire stand will hold large books easily and will allow you to turn the pages with ease. I should have bought two of them.\\nExcellent product and it's cheap\"] \n",
      "\n",
      "['unique_id | B00006WS5E:ignore_all_the_bad_press,_this_is_great:harriet_epstein_falkin_\"larry\"', 'asin | B00006WS5E', 'product_name | Brinkmann 810-5000-0 All-In-One Gas Outdoor Cooker: Outdoor Living', 'helpful | ', 'rating | 5.0', 'title | Ignore all the bad press, this is great', 'date | July 5, 2006', 'reviewer | Harriet Epstein Falkin \"larry\"', 'reviewer_location | Los Angeles, CA USA', 'review_text | I use this BBQ with Mesquite lump charcoal and have grilled excellent steaks, and smoked some pork ribs, a chicken, a London Broil and a giant hamburger so far.  No marinade, just a dry rub and on the grill.  The book included has accurate cook times as long as you keep the temperature needle on the \"i\" in Ideal for as much of the cook time as possible, which is not hard to do.  Make sure to \"cure\" it before you use it.  This burns off all the smells and chemicals that are in it from the manufacturing. Cure it using the propane burner.   Easy to assemble too'] \n",
      "\n",
      "['unique_id | B00081I76A:photoshop_cs2_wow!:orvsal', 'asin | B00081I76A', 'product_name | Adobe Photoshop CS2: Software', 'helpful | ', 'rating | 5.0', 'title | Photoshop CS2 WOW!', 'date | November 9, 2006', 'reviewer | OrvSal', 'reviewer_location | Sacramento,Ca', 'review_text | I am amazed what this program can do. It is a big difference from PS 5.5. It is a new learning curve but well worth it. What used to take me hours to do is now an action and done in 2 minutes. Amazon had the best price for me from a source I trust ordering from. It is worth it'] \n",
      "\n"
     ]
    },
    {
     "name": "stdout",
     "output_type": "stream",
     "text": [
      "['unique_id | B00024J7C6:which_is_the_biggest_monster:man_from_u.k._\"inside_canon\"', 'asin | B00024J7C6', 'product_name | Toilet Monster: Sports andamp; Outdoors', 'helpful | 14 of 22', 'rating | 5.0', 'title | Which is the biggest monster', 'date | January 30, 2006', 'reviewer | Man From U.K. \"Inside Canon\"', 'reviewer_location | MD USA', \"review_text | This monster is great...my old millionaire nan came over recently to tell us that she was about to take us out of her will because we had too much money already, and as luck would have it she had to use the bathroom during that same visit. We heard this scream from the bathroom and when we broke in we found our nan dead on the floor...luckily she hadn't gone to her attorney's office to sign the new will and we got our share after all...thanks toilet monster..you were worth the $15 + $5 shipping we paid for you\"] \n",
      "\n",
      "['unique_id | B000630AR4:make_life_easier:m._i._guerrero_\"sunsad\"', 'asin | B000630AR4', 'product_name | Car Wash Wipes: Tools and Hardware', 'helpful | 1 of 1', 'rating | 5.0', 'title | make life easier', 'date | March 16, 2006', 'reviewer | M. I. Guerrero \"sunsad\"', 'reviewer_location | ', \"review_text | These are great cleaning wipes. Living here on the east coast when it snows and the salt and road dirt get all over the car it's not so easy to get to a car wash right away, pull one of these out and it cleans so well and leaves a great shine. My husband and I use these even after going to a car wash when you see water spots just 1 sheet will clean it all up. I hope they don't stop making them. Lately have not been able to find them in the stores....\"] \n",
      "\n",
      "['unique_id | B0006I5G3M:now_a_clue_mystery_game_with_more_mysteries_to_solve!:melissa_lewis_\"sunflowergirl\"', 'asin | B0006I5G3M', 'product_name | Clue Mysteries: Toys andamp; Games', 'helpful | 7 of 9', 'rating | 4.0', 'title | Now a clue mystery game with more mysteries to solve!', 'date | May 31, 2006', 'reviewer | Melissa Lewis \"Sunflowergirl\"', 'reviewer_location | PA, USA', 'review_text | Excellent product! I really appreciate the option to choose any of the 50 given mystery cases to solve. After playing all 50, you can just start all over again! Fun, fun, fun game! THANKS'] \n",
      "\n",
      "['unique_id | 6301968972:just_as_true_today!:gary_d._thomas_\"brass_crass\"', 'asin | 6301968972', 'product_name | Hucksters: Video: Clark Gable,Deborah Kerr,Sydney Greenstreet,Adolphe Menjou,Ava Gardner,Keenan Wynn,Edward Arnold,Aubrey Mather,Richard Gaines,Frank Albertson,Douglas Fowley,Clinton Sundberg,Gloria Holden,Connie Gilchrist,Kathryn Card,Lillian Bronson,Vera Marshe,Ralph Bunker,Virginia Dale,Jimmy Conlin,Jack Conway', 'helpful | 1 of 1', 'rating | 5.0', 'title | Just as true today!', 'date | August 4, 2000', 'reviewer | Gary D. Thomas \"Brass Crass\"', 'reviewer_location | Studio City, CaliforniA', 'review_text | Picture this: Clark Gable and the whole passle of MGM stars and starlets!  Spins a great story, and all this in 1947, could be today, except they  dressed better. You will not forget the characterizations, especially  Sydney Greenstreet, eat your heart out Eddie Murphy, just a marvy little  film for all ages (God I love cliches!'] \n",
      "\n"
     ]
    }
   ],
   "source": [
    "for review in pos_reviews:\n",
    "    print(review['review1'], '\\n')\n",
    "    df = dict_to_dataframe(review)\n",
    "    positive_df = pd.concat([positive_df, df])\n",
    "    df.empty"
   ]
  },
  {
   "cell_type": "code",
   "execution_count": 16,
   "metadata": {},
   "outputs": [],
   "source": [
    "for review in neg_reviews:\n",
    "    df = dict_to_dataframe(review)\n",
    "    negative_df = pd.concat([negative_df, df])\n",
    "    df.empty"
   ]
  },
  {
   "cell_type": "markdown",
   "metadata": {},
   "source": [
    "Let's generate descriptive statistics. Pandas Dataframe descriptive statistics include those that summarize the central tendency, dispersion and shape of a dataset’s distribution, excluding NaN values. We will also check whether the number of positive and negative reviews has been preserved."
   ]
  },
  {
   "cell_type": "code",
   "execution_count": 17,
   "metadata": {},
   "outputs": [
    {
     "name": "stdout",
     "output_type": "stream",
     "text": [
      "\n",
      "Number of Positive Reviews (Dataframe): 21972 \n",
      "Number of Negative Reviews (Dataframe): 16576\n"
     ]
    },
    {
     "data": {
      "text/html": [
       "<div>\n",
       "<style scoped>\n",
       "    .dataframe tbody tr th:only-of-type {\n",
       "        vertical-align: middle;\n",
       "    }\n",
       "\n",
       "    .dataframe tbody tr th {\n",
       "        vertical-align: top;\n",
       "    }\n",
       "\n",
       "    .dataframe thead th {\n",
       "        text-align: right;\n",
       "    }\n",
       "</style>\n",
       "<table border=\"1\" class=\"dataframe\">\n",
       "  <thead>\n",
       "    <tr style=\"text-align: right;\">\n",
       "      <th></th>\n",
       "      <th>unique_id</th>\n",
       "      <th>asin</th>\n",
       "      <th>product_name</th>\n",
       "      <th>helpful</th>\n",
       "      <th>rating</th>\n",
       "      <th>title</th>\n",
       "      <th>date</th>\n",
       "      <th>reviewer</th>\n",
       "      <th>reviewer_location</th>\n",
       "      <th>review_text</th>\n",
       "    </tr>\n",
       "  </thead>\n",
       "  <tbody>\n",
       "    <tr>\n",
       "      <th>count</th>\n",
       "      <td>16576</td>\n",
       "      <td>16576</td>\n",
       "      <td>16576</td>\n",
       "      <td>16576</td>\n",
       "      <td>16576</td>\n",
       "      <td>16576</td>\n",
       "      <td>16576</td>\n",
       "      <td>16576</td>\n",
       "      <td>16576</td>\n",
       "      <td>16576</td>\n",
       "    </tr>\n",
       "    <tr>\n",
       "      <th>unique</th>\n",
       "      <td>15442</td>\n",
       "      <td>10905</td>\n",
       "      <td>10773</td>\n",
       "      <td>908</td>\n",
       "      <td>2</td>\n",
       "      <td>13330</td>\n",
       "      <td>1664</td>\n",
       "      <td>13427</td>\n",
       "      <td>5736</td>\n",
       "      <td>14726</td>\n",
       "    </tr>\n",
       "    <tr>\n",
       "      <th>top</th>\n",
       "      <td>B00005OLX1:sucks_sucks:jason</td>\n",
       "      <td>B00099QAQK</td>\n",
       "      <td>TIME [6-month subscription] [with $5 Bonus]: ...</td>\n",
       "      <td></td>\n",
       "      <td>1.0</td>\n",
       "      <td>Disappointed</td>\n",
       "      <td>January 9, 2007</td>\n",
       "      <td></td>\n",
       "      <td></td>\n",
       "      <td>This was my first download of this type and a...</td>\n",
       "    </tr>\n",
       "    <tr>\n",
       "      <th>freq</th>\n",
       "      <td>4</td>\n",
       "      <td>18</td>\n",
       "      <td>20</td>\n",
       "      <td>2748</td>\n",
       "      <td>10443</td>\n",
       "      <td>79</td>\n",
       "      <td>216</td>\n",
       "      <td>452</td>\n",
       "      <td>3572</td>\n",
       "      <td>18</td>\n",
       "    </tr>\n",
       "  </tbody>\n",
       "</table>\n",
       "</div>"
      ],
      "text/plain": [
       "                            unique_id         asin  \\\n",
       "count                           16576        16576   \n",
       "unique                          15442        10905   \n",
       "top      B00005OLX1:sucks_sucks:jason   B00099QAQK   \n",
       "freq                                4           18   \n",
       "\n",
       "                                             product_name helpful rating  \\\n",
       "count                                               16576   16576  16576   \n",
       "unique                                              10773     908      2   \n",
       "top      TIME [6-month subscription] [with $5 Bonus]: ...            1.0   \n",
       "freq                                                   20    2748  10443   \n",
       "\n",
       "                title              date reviewer reviewer_location  \\\n",
       "count           16576             16576    16576             16576   \n",
       "unique          13330              1664    13427              5736   \n",
       "top      Disappointed   January 9, 2007                              \n",
       "freq               79               216      452              3572   \n",
       "\n",
       "                                              review_text  \n",
       "count                                               16576  \n",
       "unique                                              14726  \n",
       "top      This was my first download of this type and a...  \n",
       "freq                                                   18  "
      ]
     },
     "execution_count": 17,
     "metadata": {},
     "output_type": "execute_result"
    }
   ],
   "source": [
    "print('\\nNumber of Positive Reviews (Dataframe):', len(positive_df),\n",
    "      '\\nNumber of Negative Reviews (Dataframe):', len(negative_df))\n",
    "\n",
    "positive_df.describe()\n",
    "negative_df.describe()"
   ]
  },
  {
   "cell_type": "markdown",
   "metadata": {},
   "source": [
    "Actually, `unique_id` has the same information as tags `asin`, `title` and `reviewer` so we can remove it:"
   ]
  },
  {
   "cell_type": "code",
   "execution_count": 18,
   "metadata": {},
   "outputs": [],
   "source": [
    "positive_df.drop('unique_id', axis=1, inplace=True)\n",
    "negative_df.drop('unique_id', axis=1, inplace=True)"
   ]
  },
  {
   "cell_type": "markdown",
   "metadata": {},
   "source": [
    "We will also add a new column `Class`, which will have the value of either `pos` or `neg`, it is necessary to distinguish between positive and negative reviews after concatenation."
   ]
  },
  {
   "cell_type": "code",
   "execution_count": 19,
   "metadata": {},
   "outputs": [],
   "source": [
    "positive_df['Class'] = \"pos\" # positive reviews\n",
    "negative_df['Class'] = \"neg\" # negative reviews\n",
    "\n",
    "reviews = pd.concat([positive_df, negative_df])"
   ]
  },
  {
   "cell_type": "markdown",
   "metadata": {},
   "source": [
    "Let's see what we got:"
   ]
  },
  {
   "cell_type": "code",
   "execution_count": 20,
   "metadata": {},
   "outputs": [
    {
     "data": {
      "text/html": [
       "<div>\n",
       "<style scoped>\n",
       "    .dataframe tbody tr th:only-of-type {\n",
       "        vertical-align: middle;\n",
       "    }\n",
       "\n",
       "    .dataframe tbody tr th {\n",
       "        vertical-align: top;\n",
       "    }\n",
       "\n",
       "    .dataframe thead th {\n",
       "        text-align: right;\n",
       "    }\n",
       "</style>\n",
       "<table border=\"1\" class=\"dataframe\">\n",
       "  <thead>\n",
       "    <tr style=\"text-align: right;\">\n",
       "      <th></th>\n",
       "      <th>asin</th>\n",
       "      <th>product_name</th>\n",
       "      <th>helpful</th>\n",
       "      <th>rating</th>\n",
       "      <th>title</th>\n",
       "      <th>date</th>\n",
       "      <th>reviewer</th>\n",
       "      <th>reviewer_location</th>\n",
       "      <th>review_text</th>\n",
       "      <th>Class</th>\n",
       "    </tr>\n",
       "  </thead>\n",
       "  <tbody>\n",
       "    <tr>\n",
       "      <th>0</th>\n",
       "      <td>B0007QCQA4</td>\n",
       "      <td>adidas Originals Men's Superstar II Basketbal...</td>\n",
       "      <td>0 of 1</td>\n",
       "      <td>4.0</td>\n",
       "      <td>GOOD SNEAKERS</td>\n",
       "      <td>July 15, 2006</td>\n",
       "      <td>Christopher W. Damico \"MACMAN\"</td>\n",
       "      <td>NYC</td>\n",
       "      <td>GOOD LOOKING KICKS IF YOUR KICKIN IT OLD SCHO...</td>\n",
       "      <td>pos</td>\n",
       "    </tr>\n",
       "    <tr>\n",
       "      <th>1</th>\n",
       "      <td>B0002Y2JYY</td>\n",
       "      <td>Elite Metal Aviator Sunglasses with Mirror Le...</td>\n",
       "      <td>3 of 5</td>\n",
       "      <td>4.0</td>\n",
       "      <td>Pretty Good</td>\n",
       "      <td>August 13, 2006</td>\n",
       "      <td>Sharon Civile \"Jackbauerfreak\"</td>\n",
       "      <td>Philadelphia, PA</td>\n",
       "      <td>These sunglasses are all right. They were a l...</td>\n",
       "      <td>pos</td>\n",
       "    </tr>\n",
       "  </tbody>\n",
       "</table>\n",
       "</div>"
      ],
      "text/plain": [
       "          asin                                       product_name  helpful  \\\n",
       "0   B0007QCQA4   adidas Originals Men's Superstar II Basketbal...   0 of 1   \n",
       "1   B0002Y2JYY   Elite Metal Aviator Sunglasses with Mirror Le...   3 of 5   \n",
       "\n",
       "  rating           title              date                         reviewer  \\\n",
       "0    4.0   GOOD SNEAKERS     July 15, 2006   Christopher W. Damico \"MACMAN\"   \n",
       "1    4.0     Pretty Good   August 13, 2006   Sharon Civile \"Jackbauerfreak\"   \n",
       "\n",
       "   reviewer_location                                        review_text Class  \n",
       "0                NYC   GOOD LOOKING KICKS IF YOUR KICKIN IT OLD SCHO...   pos  \n",
       "1   Philadelphia, PA   These sunglasses are all right. They were a l...   pos  "
      ]
     },
     "execution_count": 20,
     "metadata": {},
     "output_type": "execute_result"
    }
   ],
   "source": [
    "reviews.head(n=2)"
   ]
  },
  {
   "cell_type": "markdown",
   "metadata": {},
   "source": [
    "Let's print the full text of the review (`review_text`) for the text with id 1:"
   ]
  },
  {
   "cell_type": "code",
   "execution_count": 21,
   "metadata": {},
   "outputs": [
    {
     "data": {
      "text/plain": [
       "\" GOOD LOOKING KICKS IF YOUR KICKIN IT OLD SCHOOL LIKE ME. AND COMFORTABLE. AND RELATIVELY CHEAP. I'LL ALWAYS KEEP A PAIR OF STAN SMITH'S AROUND FOR WEEKENDS\""
      ]
     },
     "execution_count": 21,
     "metadata": {},
     "output_type": "execute_result"
    }
   ],
   "source": [
    "reviews.iloc[0, 8]"
   ]
  },
  {
   "cell_type": "markdown",
   "metadata": {},
   "source": [
    "Now our work with the formation of datasets is complete, let's move on."
   ]
  },
  {
   "cell_type": "markdown",
   "metadata": {},
   "source": [
    "<h2 align=\"center\">NLTK (Natural Language Toolkit)</h2>"
   ]
  },
  {
   "cell_type": "markdown",
   "metadata": {},
   "source": [
    "NLTK is a leading platform for building Python programs to work with human language data. \n",
    "\n",
    "It provides easy-to-use interfaces and lexical resources such as WordNet, along with a suite of text processing libraries for classification, tokenization, stemming, tagging, parsing, and semantic reasoning.\n",
    "\n",
    "**Note:** \n",
    "- **`word_tokenize`** - extract words from the text;\n",
    "- **`sent_tokenize`** - extract sentences from the text."
   ]
  },
  {
   "cell_type": "code",
   "execution_count": 22,
   "metadata": {},
   "outputs": [
    {
     "name": "stdout",
     "output_type": "stream",
     "text": [
      "\tReview ID4 - Words:\n",
      " ['Very', 'nice', 'basic', 'clothing', '.', 'I', 'think', 'the', 'size', 'is', 'fine', '.', 'I', 'really', 'like', 'being', 'able', 'to', 'find', 'these', 'shades', 'of', 'green', ',', 'though', 'I', 'have', 'decided', 'the', 'lighter', 'shade', 'is', 'really', 'a', 'feminine', 'color', '.', 'This', 'is', 'the', 'only', 'brand', 'that', 'I', 'can', 'find', 'these', 'muted', 'greens'] \n",
      "\n",
      "\tReview ID4 - Sentences:\n",
      " [' Very nice basic clothing.', 'I think the size is fine.', 'I really like being able to find these shades of green, though I have decided the lighter shade is really a feminine color.', 'This is the only brand that I can find these muted greens']\n"
     ]
    }
   ],
   "source": [
    "from nltk.tokenize import word_tokenize, sent_tokenize, RegexpTokenizer\n",
    "\n",
    "def word_sent_tokenize(sent):\n",
    "    return word_tokenize(sent), sent_tokenize(sent)\n",
    "\n",
    "def regex_tokenizer(sent):\n",
    "    return RegexpTokenizer(r'\\w+').tokenize(sent)\n",
    "\n",
    "words, sents = word_sent_tokenize(reviews.iloc[3, 8])\n",
    "print(\"\\tReview ID4 - Words:\\n\", words, \"\\n\\n\\tReview ID4 - Sentences:\\n\", sents)"
   ]
  },
  {
   "cell_type": "markdown",
   "metadata": {},
   "source": [
    "<h3 align=\"center\">StopWords Elimination</h3>"
   ]
  },
  {
   "cell_type": "markdown",
   "metadata": {},
   "source": [
    "We will take stopwords from the NLTK library:"
   ]
  },
  {
   "cell_type": "code",
   "execution_count": 23,
   "metadata": {},
   "outputs": [],
   "source": [
    "from nltk.corpus import stopwords\n",
    "\n",
    "STOP_WORDS = set(stopwords.words(\"english\"))"
   ]
  },
  {
   "cell_type": "code",
   "execution_count": 24,
   "metadata": {},
   "outputs": [
    {
     "name": "stdout",
     "output_type": "stream",
     "text": [
      "\n",
      "======================== STOP WORDS ========================\n",
      " {'can', 'its', 'your', 'until', 'mightn', 'after', \"wasn't\", 'having', 'being', 'further', 'does', 'here', 'ourselves', 'those', 'as', 've', 'by', 'ain', \"she's\", 'off', \"you'd\", 'only', 't', 'this', 'few', 'couldn', \"haven't\", \"don't\", \"it's\", 'wouldn', 'hers', 'did', 'if', \"hadn't\", 'on', 'what', 'isn', 'no', 'now', 'into', \"isn't\", \"needn't\", 'once', 'when', 'been', \"mustn't\", 'his', 'while', 'with', 'yourself', \"wouldn't\", 'he', 'than', 'herself', 'y', 'we', 'that', 'be', 'before', 'itself', 'up', 'but', 'under', 'shouldn', 'who', 'is', 'then', 'more', 'against', 'which', 'ma', 'an', 'between', 'i', 'how', 'any', 'yours', 'doesn', 'it', 'my', 'such', 'were', \"didn't\", \"weren't\", 'because', 'a', 'why', \"shan't\", 'himself', \"couldn't\", \"won't\", 'him', 'd', \"you're\", 'don', 'o', 'just', 'so', 'same', 'all', 'yourselves', 'their', 'didn', 'in', 'll', 'do', 'down', 'about', 'too', 'both', 'haven', \"should've\", \"that'll\", 'from', 'there', 'below', 'of', 'have', 'hadn', 'themselves', 'at', 'very', 's', 'own', 'whom', 'or', 'will', 'weren', 'most', \"you'll\", \"mightn't\", 'during', 'some', 'hasn', \"aren't\", 'wasn', 'doing', 'had', 'she', 'needn', 'aren', 'should', 'myself', 'other', 're', 'me', 'nor', 'again', 'you', 'above', 'm', 'ours', 'won', 'the', 'over', 'not', 'has', 'are', \"hasn't\", 'shan', 'out', 'each', 'was', 'our', 'they', 'them', 'for', 'to', \"you've\", \"doesn't\", 'mustn', 'theirs', 'where', \"shouldn't\", 'these', 'am', 'through', 'and', 'her'} \n",
      "\n",
      "==================== WORDS FROM REVIEW 4 ====================\n",
      " ['Very', 'nice', 'basic', 'clothing', '.', 'I', 'think', 'the', 'size', 'is', 'fine', '.', 'I', 'really', 'like', 'being', 'able', 'to', 'find', 'these', 'shades', 'of', 'green', ',', 'though', 'I', 'have', 'decided', 'the', 'lighter', 'shade', 'is', 'really', 'a', 'feminine', 'color', '.', 'This', 'is', 'the', 'only', 'brand', 'that', 'I', 'can', 'find', 'these', 'muted', 'greens'] \n",
      "\n",
      "================== FILTERED WORDS REVIEW 4 ==================\n",
      " ['Very', 'nice', 'basic', 'clothing', '.', 'I', 'think', 'size', 'fine', '.', 'I', 'really', 'like', 'able', 'find', 'shades', 'green', ',', 'though', 'I', 'decided', 'lighter', 'shade', 'really', 'feminine', 'color', '.', 'This', 'brand', 'I', 'find', 'muted', 'greens']\n"
     ]
    }
   ],
   "source": [
    "def stopwords_elimination(stop_words, sent):\n",
    "     return [w for w in sent if w not in stop_words]\n",
    "\n",
    "\n",
    "filtered_words = stopwords_elimination(STOP_WORDS, words)\n",
    "\n",
    "print(\"\\n======================== STOP WORDS ========================\\n\", STOP_WORDS,\n",
    "      \"\\n\\n==================== WORDS FROM REVIEW 4 ====================\\n\", words,\n",
    "      \"\\n\\n================== FILTERED WORDS REVIEW 4 ==================\\n\", filtered_words)"
   ]
  },
  {
   "cell_type": "markdown",
   "metadata": {},
   "source": [
    "<h4 align=\"center\">StopWords WordCloud Visualization</h4>\n",
    "\n",
    "Next, let's visualize using the WordCloud library:"
   ]
  },
  {
   "cell_type": "code",
   "execution_count": 27,
   "metadata": {},
   "outputs": [
    {
     "data": {
      "image/png": "[encoded data removed]",
      "text/plain": [
       "<Figure size 432x288 with 1 Axes>"
      ]
     },
     "metadata": {
      "needs_background": "light"
     },
     "output_type": "display_data"
    }
   ],
   "source": [
    "from wordcloud import WordCloud\n",
    "import matplotlib.pyplot as plt\n",
    "\n",
    "wordcloud = WordCloud().generate(' '.join(STOP_WORDS))\n",
    "\n",
    "plt.figure()\n",
    "plt.imshow(wordcloud, interpolation=\"bilinear\")\n",
    "plt.axis(\"off\")\n",
    "plt.show()"
   ]
  },
  {
   "cell_type": "markdown",
   "metadata": {},
   "source": [
    "<h3 align=\"center\">Stemming</h3>"
   ]
  },
  {
   "cell_type": "markdown",
   "metadata": {},
   "source": [
    "For grammatical purposes, documents are going to use various forms of a word, such as `running`, `runs`, `runned`. In certain cases, it appears that it would be useful for a search for one of these words to return documents that contain another word in the set. Both stemming and lemmatization have the aim of reducing a word's inflectional and often derivationally related forms to a common base form.\n",
    "\n",
    "**Stamming** is the process of shortening a word to the base by discarding auxiliary parts, such as endings or suffixes. The results of stemming are sometimes very similar to determining the root of a word, but its algorithms are based on other principles. Therefore, the word after processing by the algorithm of steming (stematization) may differ from the morphological root of the word.\n",
    "\n",
    "*Example*: \n",
    "\n",
    "*`running`*, *`runs`*, *`runned`* → **`run`**\n",
    "\n",
    "We would use `PorterStemmer` from `nltk.stem` for our stemming:"
   ]
  },
  {
   "cell_type": "code",
   "execution_count": 28,
   "metadata": {},
   "outputs": [
    {
     "name": "stdout",
     "output_type": "stream",
     "text": [
      "['veri', 'nice', 'basic', 'cloth', '.', 'I', 'think', 'size', 'fine', '.', 'I', 'realli', 'like', 'abl', 'find', 'shade', 'green', ',', 'though', 'I', 'decid', 'lighter', 'shade', 'realli', 'feminin', 'color', '.', 'thi', 'brand', 'I', 'find', 'mute', 'green']\n"
     ]
    }
   ],
   "source": [
    "from nltk.stem import PorterStemmer\n",
    "\n",
    "def stem_words(words):\n",
    "    return [PorterStemmer().stem(word) for word in words]\n",
    "\n",
    "stemmed_words = stem_words(filtered_words)\n",
    "print(stemmed_words)"
   ]
  },
  {
   "cell_type": "markdown",
   "metadata": {},
   "source": [
    "<h3 align=\"center\">Lemmatizing</h3>"
   ]
  },
  {
   "cell_type": "markdown",
   "metadata": {},
   "source": [
    "<cite><b>Lemmatization</b>, unlike <b>Stemming</b>, reduces the inflected words properly ensuring that the root word belongs to the language. In Lemmatization root word is called <b>Lemma</b>. A lemma is the canonical form, dictionary form, or citation form of a set of words.</cite>\n",
    "\n",
    "At lematization the word loses inflectional endings and finds the basic form. For example, `[bats — bat]`, `[feet — foot]`, `[mice — mouse]`.\n",
    "\n",
    "Python `NLTK` provides `WordNet Lemmatizer` that uses the `WordNet Database` to lookup lemmas of words.\n",
    "\n",
    "Let's connect the library and see how it works:"
   ]
  },
  {
   "cell_type": "code",
   "execution_count": 29,
   "metadata": {},
   "outputs": [
    {
     "name": "stdout",
     "output_type": "stream",
     "text": [
      "['Very', 'nice', 'basic', 'clothing', '.', 'I', 'think', 'size', 'fine', '.', 'I', 'really', 'like', 'able', 'find', 'shade', 'green', ',', 'though', 'I', 'decided', 'lighter', 'shade', 'really', 'feminine', 'color', '.', 'This', 'brand', 'I', 'find', 'muted', 'green']\n"
     ]
    }
   ],
   "source": [
    "from nltk.stem import WordNetLemmatizer\n",
    "\n",
    "def lemmatize_words(words):\n",
    "    return [WordNetLemmatizer().lemmatize(word) for word in words]\n",
    "\n",
    "lemmatized_words = lemmatize_words(filtered_words)\n",
    "print(lemmatized_words)"
   ]
  },
  {
   "cell_type": "markdown",
   "metadata": {},
   "source": [
    "<h2 align=\"center\">Processing of All Reviews</h2>\n",
    "\n",
    "Now let's start processing all reviews using the methods described above. Lematization is quite a time-consuming procedure, so you have to wait:"
   ]
  },
  {
   "cell_type": "code",
   "execution_count": null,
   "metadata": {},
   "outputs": [
    {
     "name": "stdout",
     "output_type": "stream",
     "text": [
      "Review without punctuation:  ['These', 'sunglasses', 'are', 'all', 'right', 'They', 'were', 'a', 'little', 'crooked', 'but', 'still', 'cool']\n",
      "\n",
      "\n",
      "Review after stopwords elimination:  ['These', 'sunglasses', 'right', 'They', 'little', 'crooked', 'still', 'cool']\n"
     ]
    }
   ],
   "source": [
    "# Use regex_tokenizer to get rid of punctuation\n",
    "words_list = [regex_tokenizer(item) for item in list(reviews['review_text'])]\n",
    "print(\"Review without punctuation: \", words_list[1])\n",
    "\n",
    "# Eliminate stopwords\n",
    "words_list = [stopwords_elimination(STOP_WORDS, word) for word in words_list]\n",
    "print(\"\\n\\nReview after stopwords elimination: \", words_list[1])\n",
    "\n",
    "# Lemmatizing\n",
    "words_list = [lemmatize_words(word) for word in words_list]\n",
    "print(\"\\n\\nReview after lemmatizing: \", words_list[1])"
   ]
  },
  {
   "cell_type": "code",
   "execution_count": null,
   "metadata": {},
   "outputs": [],
   "source": []
  }
 ],
 "metadata": {
  "kernelspec": {
   "display_name": "Python 3",
   "language": "python",
   "name": "python3"
  },
  "language_info": {
   "codemirror_mode": {
    "name": "ipython",
    "version": 3
   },
   "file_extension": ".py",
   "mimetype": "text/x-python",
   "name": "python",
   "nbconvert_exporter": "python",
   "pygments_lexer": "ipython3",
   "version": "3.8.2"
  }
 },
 "nbformat": 4,
 "nbformat_minor": 4
}
