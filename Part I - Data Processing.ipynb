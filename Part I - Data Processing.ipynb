{
 "cells": [
  {
   "cell_type": "markdown",
   "metadata": {},
   "source": [
    "<h1 align=\"center\">PART I</h1>\n",
    "<h1 align=\"center\">Data Processing and Preparation for Training</h1>\n",
    "\n",
    "The aim was to process the semantic analysis of English texts, so the collection of positive and negative reviews was taken from [here](http://www.cs.jhu.edu/~mdredze/datasets/sentiment/), this dataset is based on a reviews of various Amazon products.\n",
    "\n",
    "To get started, install and unzip the archive ([unprocessed.tar.gz](http://www.cs.jhu.edu/~mdredze/datasets/sentiment/unprocessed.tar.gz)) and move the data to the project folder. Now, we import some libraries we need:"
   ]
  },
  {
   "cell_type": "code",
   "execution_count": 1,
   "metadata": {},
   "outputs": [],
   "source": [
    "import sklearn\n",
    "import numpy as np\n",
    "import pandas as pd\n",
    "import seaborn as sns\n",
    "import xml.etree.ElementTree as ET\n",
    "\n",
    "%matplotlib inline"
   ]
  },
  {
   "cell_type": "markdown",
   "metadata": {},
   "source": [
    "Also let's write a style for alignment in the middle of all graphs, images, etc:"
   ]
  },
  {
   "cell_type": "code",
   "execution_count": 2,
   "metadata": {},
   "outputs": [
    {
     "data": {
      "text/html": [
       "\n",
       "<style>\n",
       ".output_png {\n",
       "    display: table-cell;\n",
       "    text-align: center;\n",
       "    vertical-align: middle;\n",
       "}\n",
       "</style>\n"
      ],
      "text/plain": [
       "<IPython.core.display.HTML object>"
      ]
     },
     "execution_count": 2,
     "metadata": {},
     "output_type": "execute_result"
    }
   ],
   "source": [
    "from IPython.core.display import HTML\n",
    "HTML(\"\"\"\n",
    "<style>\n",
    ".output_png {\n",
    "    display: table-cell;\n",
    "    text-align: center;\n",
    "    vertical-align: middle;\n",
    "}\n",
    "</style>\n",
    "\"\"\")"
   ]
  },
  {
   "cell_type": "markdown",
   "metadata": {},
   "source": [
    "Since we only need files with positive and negative reviews, let's delete the others. And for our negative and positive reviews, we will add a parent tag in which all the reviews will be, so it will be easier to make xml tree. Also, our xml library will complain about the character `&` when parsing, so we will replace it with the word `and`:"
   ]
  },
  {
   "cell_type": "code",
   "execution_count": 3,
   "metadata": {},
   "outputs": [
    {
     "name": "stdout",
     "output_type": "stream",
     "text": [
      "Remove unnecessary files!\n",
      "Add additional tag to reviews!\n"
     ]
    }
   ],
   "source": [
    "import os\n",
    "\n",
    "for parent, dirnames, filenames in os.walk('sorted_data'):\n",
    "    for fn in filenames:\n",
    "        if not (fn.startswith('positive') or fn.startswith('negative')):\n",
    "            os.remove(os.path.join(parent, fn))\n",
    "        else:\n",
    "            filename = os.path.join(parent, fn)\n",
    "            with open(filename, 'r') as original: data = original.read().replace(\"&\", \"and\").replace(\"\u001a\", \"\")\n",
    "            with open(filename, 'w') as modified: modified.writelines([\"<reviews>\\n\"] + data.splitlines(True)[1:-1] + [\"</reviews>\"])\n",
    "\n",
    "print(\"Remove unnecessary files!\\nAdd additional tag to reviews!\")"
   ]
  },
  {
   "cell_type": "markdown",
   "metadata": {},
   "source": [
    "Next, since our reviews are in XML format, we need to process each line to get the value from the tags.\n",
    "\n",
    "**Note**: \n",
    "* **`errors='ignore'`** used to skip all possible incorrect characters in our documents;\n",
    "\n",
    "* **`readLines`** return all lines in the file, as a list where each line is an item in the list object."
   ]
  },
  {
   "cell_type": "code",
   "execution_count": 4,
   "metadata": {},
   "outputs": [
    {
     "name": "stdout",
     "output_type": "stream",
     "text": [
      "<reviews>\n",
      "\n",
      "<review><unique_id>\n",
      "\n",
      "B00008QS9V:it's_a_mighty_wind_a_blowin'!:carla_j._dinsmore_\"acoustic_music_junkie\"\n",
      "\n",
      "</unique_id>\n",
      "\n",
      "<unique_id>\n",
      "\n",
      "3276\n",
      "\n",
      "</unique_id>\n",
      "\n",
      "<asin>\n",
      "\n",
      "B00008QS9V\n",
      "\n",
      "</asin>\n",
      "\n"
     ]
    }
   ],
   "source": [
    "test_read = open('sorted_data/music/positive.review', 'r', encoding='utf8', errors='ignore').readlines()\n",
    "for i in range(10):\n",
    "    print(test_read[i])"
   ]
  },
  {
   "cell_type": "markdown",
   "metadata": {},
   "source": [
    "In our directory with test training sets we have two files - with positive and negative reviews, each of these files contains 1000 unprocessed reviews. Let's check this:"
   ]
  },
  {
   "cell_type": "code",
   "execution_count": 5,
   "metadata": {},
   "outputs": [
    {
     "name": "stdout",
     "output_type": "stream",
     "text": [
      "\n",
      "Number of Positive Reviews (Music): 1000 \n",
      "Number of Negative Reviews (Music): 1000\n"
     ]
    }
   ],
   "source": [
    "pos_reviews = open('sorted_data/music/positive.review', 'r', encoding='utf8', errors='ignore').read()\n",
    "neg_reviews = open('sorted_data/music/negative.review', 'r', encoding='utf8', errors='ignore').read()\n",
    "\n",
    "pos_rev_tree = ET.fromstring(pos_reviews)\n",
    "neg_rev_tree = ET.fromstring(neg_reviews)\n",
    "\n",
    "pos_tags = pos_rev_tree.findall('review')\n",
    "neg_tags = neg_rev_tree.findall('review')\n",
    "\n",
    "print('\\nNumber of Positive Reviews (Music):', len(pos_tags),\n",
    "      '\\nNumber of Negative Reviews (Music):', len(neg_tags))"
   ]
  },
  {
   "cell_type": "markdown",
   "metadata": {},
   "source": [
    "**Note:** \n",
    "* **`fromstring()`** parses XML from a string directly into an Element, which is the root element of the parsed tree;\n",
    "* **`findall() `** finds all elements with a tag which are direct children of the current element (`reviews`)."
   ]
  },
  {
   "cell_type": "markdown",
   "metadata": {},
   "source": [
    "<h2 align=\"center\">XML Parse</h2>\n",
    "\n",
    "Now we will try to parse our XML file at a basic level. We will create a dictionary from the lists. Each list will contain certain tags and their content for single review. We already have a tree with positive and negative reviews, so all that remains is to parse it. But before that, let's list all the tags in our xml files so we don't have to repeat:"
   ]
  },
  {
   "cell_type": "code",
   "execution_count": 6,
   "metadata": {},
   "outputs": [],
   "source": [
    "REVIEW_TAGS = ['unique_id', 'asin', 'product_name', 'helpful', 'rating', 'title',\n",
    "               'date', 'reviewer', 'reviewer_location', 'review_text']"
   ]
  },
  {
   "cell_type": "code",
   "execution_count": 7,
   "metadata": {},
   "outputs": [],
   "source": [
    "def parseXML(xml_reviews):\n",
    "    reviews = {}\n",
    "    count = 0\n",
    "\n",
    "    for item in xml_reviews:\n",
    "        count += 1\n",
    "        rev_name = 'review' + str(count)\n",
    "        reviews[rev_name] = [\n",
    "            REVIEW_TAGS[0] + ' | ' + item.find(REVIEW_TAGS[0]).text.strip(),\n",
    "            REVIEW_TAGS[1] + ' | ' + item.find(REVIEW_TAGS[1]).text.strip(),\n",
    "            REVIEW_TAGS[2] + ' | ' + item.find(REVIEW_TAGS[2]).text.strip(),\n",
    "            REVIEW_TAGS[3] + ' | ' + item.find(REVIEW_TAGS[3]).text.strip(),\n",
    "            REVIEW_TAGS[4] + ' | ' + item.find(REVIEW_TAGS[4]).text.strip(),\n",
    "            REVIEW_TAGS[5] + ' | ' + item.find(REVIEW_TAGS[5]).text.strip(),\n",
    "            REVIEW_TAGS[6] + ' | ' + item.find(REVIEW_TAGS[6]).text.strip(),\n",
    "            REVIEW_TAGS[7] + ' | ' + item.find(REVIEW_TAGS[7]).text.strip(),\n",
    "            REVIEW_TAGS[8] + ' | ' + item.find(REVIEW_TAGS[8]).text.strip(),\n",
    "            REVIEW_TAGS[9] + ' | ' + item.find(REVIEW_TAGS[9]).text.strip()\n",
    "        ]\n",
    "\n",
    "    return reviews"
   ]
  },
  {
   "cell_type": "markdown",
   "metadata": {},
   "source": [
    "Now let's actually create dictionaries with the required values and check output:"
   ]
  },
  {
   "cell_type": "code",
   "execution_count": 8,
   "metadata": {},
   "outputs": [
    {
     "data": {
      "text/plain": [
       "['unique_id | B00008QS9V:it\\'s_a_mighty_wind_a_blowin\\'!:carla_j._dinsmore_\"acoustic_music_junkie\"',\n",
       " 'asin | B00008QS9V',\n",
       " 'product_name | A Mighty Wind: The Album: Music: Various Artists',\n",
       " 'helpful | ',\n",
       " 'rating | 5.0',\n",
       " \"title | It's a Mighty Wind a blowin'!\",\n",
       " 'date | July 5, 2006',\n",
       " 'reviewer | Carla J. Dinsmore \"Acoustic music junkie\"',\n",
       " 'reviewer_location | Wilmington, DE USA',\n",
       " 'review_text | This is a wonderful album, that evokes memories of the 60\\'s folk boom, yet contains original songs. I was amazed at the fantastic harmonies and musical arrangements.\\nAnyone who loves the movie \"A Mighty Wind\" and who loves folk music will fall in love with this album. I know I did']"
      ]
     },
     "execution_count": 8,
     "metadata": {},
     "output_type": "execute_result"
    }
   ],
   "source": [
    "pos_reviews_dict = parseXML(pos_tags)\n",
    "neg_reviews_dict = parseXML(neg_tags)\n",
    "pos_reviews_dict['review1']"
   ]
  },
  {
   "cell_type": "markdown",
   "metadata": {},
   "source": [
    "Next, we will turn our reviews dictionaries into a Pandas DataFrame:"
   ]
  },
  {
   "cell_type": "code",
   "execution_count": 9,
   "metadata": {},
   "outputs": [],
   "source": [
    "def dict_to_dataframe(reviews_dict):\n",
    "    # prepare our dataframe for the data\n",
    "    df = pd.DataFrame(columns=REVIEW_TAGS)\n",
    "    count = 0\n",
    "    for val in reviews_dict.values():\n",
    "        df.loc[count] = [\n",
    "            val[0].split(\"|\")[1], val[1].split(\"|\")[1],\n",
    "            val[2].split(\"|\")[1], val[3].split(\"|\")[1],\n",
    "            val[4].split(\"|\")[1], val[5].split(\"|\")[1],\n",
    "            val[6].split(\"|\")[1], val[7].split(\"|\")[1],\n",
    "            val[8].split(\"|\")[1], val[9].split(\"|\")[1]\n",
    "        ]\n",
    "\n",
    "        count = count + 1\n",
    "\n",
    "    return df\n",
    "\n",
    "pos_music = dict_to_dataframe(pos_reviews_dict)\n",
    "neg_music = dict_to_dataframe(neg_reviews_dict)"
   ]
  },
  {
   "cell_type": "markdown",
   "metadata": {},
   "source": [
    "Let's check for correctness:"
   ]
  },
  {
   "cell_type": "code",
   "execution_count": 10,
   "metadata": {},
   "outputs": [
    {
     "data": {
      "text/html": [
       "<div>\n",
       "<style scoped>\n",
       "    .dataframe tbody tr th:only-of-type {\n",
       "        vertical-align: middle;\n",
       "    }\n",
       "\n",
       "    .dataframe tbody tr th {\n",
       "        vertical-align: top;\n",
       "    }\n",
       "\n",
       "    .dataframe thead th {\n",
       "        text-align: right;\n",
       "    }\n",
       "</style>\n",
       "<table border=\"1\" class=\"dataframe\">\n",
       "  <thead>\n",
       "    <tr style=\"text-align: right;\">\n",
       "      <th></th>\n",
       "      <th>unique_id</th>\n",
       "      <th>asin</th>\n",
       "      <th>product_name</th>\n",
       "      <th>helpful</th>\n",
       "      <th>rating</th>\n",
       "      <th>title</th>\n",
       "      <th>date</th>\n",
       "      <th>reviewer</th>\n",
       "      <th>reviewer_location</th>\n",
       "      <th>review_text</th>\n",
       "    </tr>\n",
       "  </thead>\n",
       "  <tbody>\n",
       "    <tr>\n",
       "      <th>0</th>\n",
       "      <td>B00008QS9V:it's_a_mighty_wind_a_blowin'!:carl...</td>\n",
       "      <td>B00008QS9V</td>\n",
       "      <td>A Mighty Wind: The Album: Music: Various Artists</td>\n",
       "      <td></td>\n",
       "      <td>5.0</td>\n",
       "      <td>It's a Mighty Wind a blowin'!</td>\n",
       "      <td>July 5, 2006</td>\n",
       "      <td>Carla J. Dinsmore \"Acoustic music junkie\"</td>\n",
       "      <td>Wilmington, DE USA</td>\n",
       "      <td>This is a wonderful album, that evokes memori...</td>\n",
       "    </tr>\n",
       "    <tr>\n",
       "      <th>1</th>\n",
       "      <td>B00005JJ04:sometime_tuesday_morning_defies_de...</td>\n",
       "      <td>B00005JJ04</td>\n",
       "      <td>Sometime Tuesday Morning: Music: Johnny A.</td>\n",
       "      <td>4 of 4</td>\n",
       "      <td>5.0</td>\n",
       "      <td>Sometime Tuesday Morning defies description</td>\n",
       "      <td>May 3, 2005</td>\n",
       "      <td>Tim Withee</td>\n",
       "      <td>Auburn, WA United States</td>\n",
       "      <td>On one hand, this CD is a straight ahead inst...</td>\n",
       "    </tr>\n",
       "    <tr>\n",
       "      <th>2</th>\n",
       "      <td>B0002W4SGS:atreyu_jr:hellrun_\"dustin\"</td>\n",
       "      <td>B0002W4SGS</td>\n",
       "      <td>The Caitiff Choir: Music: It Dies Today</td>\n",
       "      <td>0 of 1</td>\n",
       "      <td>5.0</td>\n",
       "      <td>atreyu JR</td>\n",
       "      <td>June 12, 2006</td>\n",
       "      <td>hellrun \"dustin\"</td>\n",
       "      <td>wisconsin</td>\n",
       "      <td>this band reminds me of the thrill i first go...</td>\n",
       "    </tr>\n",
       "  </tbody>\n",
       "</table>\n",
       "</div>"
      ],
      "text/plain": [
       "                                           unique_id         asin  \\\n",
       "0   B00008QS9V:it's_a_mighty_wind_a_blowin'!:carl...   B00008QS9V   \n",
       "1   B00005JJ04:sometime_tuesday_morning_defies_de...   B00005JJ04   \n",
       "2              B0002W4SGS:atreyu_jr:hellrun_\"dustin\"   B0002W4SGS   \n",
       "\n",
       "                                        product_name  helpful rating  \\\n",
       "0   A Mighty Wind: The Album: Music: Various Artists             5.0   \n",
       "1         Sometime Tuesday Morning: Music: Johnny A.   4 of 4    5.0   \n",
       "2            The Caitiff Choir: Music: It Dies Today   0 of 1    5.0   \n",
       "\n",
       "                                          title            date  \\\n",
       "0                 It's a Mighty Wind a blowin'!    July 5, 2006   \n",
       "1   Sometime Tuesday Morning defies description     May 3, 2005   \n",
       "2                                     atreyu JR   June 12, 2006   \n",
       "\n",
       "                                     reviewer          reviewer_location  \\\n",
       "0   Carla J. Dinsmore \"Acoustic music junkie\"         Wilmington, DE USA   \n",
       "1                                  Tim Withee   Auburn, WA United States   \n",
       "2                            hellrun \"dustin\"                  wisconsin   \n",
       "\n",
       "                                         review_text  \n",
       "0   This is a wonderful album, that evokes memori...  \n",
       "1   On one hand, this CD is a straight ahead inst...  \n",
       "2   this band reminds me of the thrill i first go...  "
      ]
     },
     "execution_count": 10,
     "metadata": {},
     "output_type": "execute_result"
    }
   ],
   "source": [
    "pos_music.head(n=3)"
   ]
  },
  {
   "cell_type": "code",
   "execution_count": 11,
   "metadata": {},
   "outputs": [
    {
     "data": {
      "text/html": [
       "<div>\n",
       "<style scoped>\n",
       "    .dataframe tbody tr th:only-of-type {\n",
       "        vertical-align: middle;\n",
       "    }\n",
       "\n",
       "    .dataframe tbody tr th {\n",
       "        vertical-align: top;\n",
       "    }\n",
       "\n",
       "    .dataframe thead th {\n",
       "        text-align: right;\n",
       "    }\n",
       "</style>\n",
       "<table border=\"1\" class=\"dataframe\">\n",
       "  <thead>\n",
       "    <tr style=\"text-align: right;\">\n",
       "      <th></th>\n",
       "      <th>unique_id</th>\n",
       "      <th>asin</th>\n",
       "      <th>product_name</th>\n",
       "      <th>helpful</th>\n",
       "      <th>rating</th>\n",
       "      <th>title</th>\n",
       "      <th>date</th>\n",
       "      <th>reviewer</th>\n",
       "      <th>reviewer_location</th>\n",
       "      <th>review_text</th>\n",
       "    </tr>\n",
       "  </thead>\n",
       "  <tbody>\n",
       "    <tr>\n",
       "      <th>0</th>\n",
       "      <td>B00004YWGC:what_can_i_say?:ms._aj_\"right\"</td>\n",
       "      <td>B00004YWGC</td>\n",
       "      <td>Back For The First Time: Music: Ludacris</td>\n",
       "      <td>1 of 13</td>\n",
       "      <td>2.0</td>\n",
       "      <td>What can I say?</td>\n",
       "      <td>May 4, 2006</td>\n",
       "      <td>Ms. AJ \"Right\"</td>\n",
       "      <td>North Carolina,  USA</td>\n",
       "      <td>I've always held the philosophy you are what ...</td>\n",
       "    </tr>\n",
       "    <tr>\n",
       "      <th>1</th>\n",
       "      <td>B000621498:not_quite_ready_for_prime_time.:g</td>\n",
       "      <td>B000621498</td>\n",
       "      <td>Things Aren't So Beautiful Now: Music: A Thor...</td>\n",
       "      <td>1 of 2</td>\n",
       "      <td>2.0</td>\n",
       "      <td>not quite ready for prime time.</td>\n",
       "      <td>May 8, 2006</td>\n",
       "      <td>g</td>\n",
       "      <td>san francisco</td>\n",
       "      <td>someone get this band a producer and put them...</td>\n",
       "    </tr>\n",
       "    <tr>\n",
       "      <th>2</th>\n",
       "      <td>B0000AQS1A:disapointment:super_dave_\"super_dave\"</td>\n",
       "      <td>B0000AQS1A</td>\n",
       "      <td>Chicken N Beer: Music: Ludacris</td>\n",
       "      <td>1 of 2</td>\n",
       "      <td>2.0</td>\n",
       "      <td>Disapointment</td>\n",
       "      <td>July 1, 2006</td>\n",
       "      <td>Super Dave \"Super Dave\"</td>\n",
       "      <td>Knoxville, TN</td>\n",
       "      <td>Tihs Album is not all that good when it came ...</td>\n",
       "    </tr>\n",
       "  </tbody>\n",
       "</table>\n",
       "</div>"
      ],
      "text/plain": [
       "                                           unique_id         asin  \\\n",
       "0          B00004YWGC:what_can_i_say?:ms._aj_\"right\"   B00004YWGC   \n",
       "1       B000621498:not_quite_ready_for_prime_time.:g   B000621498   \n",
       "2   B0000AQS1A:disapointment:super_dave_\"super_dave\"   B0000AQS1A   \n",
       "\n",
       "                                        product_name   helpful rating  \\\n",
       "0           Back For The First Time: Music: Ludacris   1 of 13    2.0   \n",
       "1   Things Aren't So Beautiful Now: Music: A Thor...    1 of 2    2.0   \n",
       "2                    Chicken N Beer: Music: Ludacris    1 of 2    2.0   \n",
       "\n",
       "                              title           date                  reviewer  \\\n",
       "0                   What can I say?    May 4, 2006            Ms. AJ \"Right\"   \n",
       "1   not quite ready for prime time.    May 8, 2006                         g   \n",
       "2                     Disapointment   July 1, 2006   Super Dave \"Super Dave\"   \n",
       "\n",
       "       reviewer_location                                        review_text  \n",
       "0   North Carolina,  USA   I've always held the philosophy you are what ...  \n",
       "1          san francisco   someone get this band a producer and put them...  \n",
       "2          Knoxville, TN   Tihs Album is not all that good when it came ...  "
      ]
     },
     "execution_count": 11,
     "metadata": {},
     "output_type": "execute_result"
    }
   ],
   "source": [
    "neg_music.head(n=3)"
   ]
  },
  {
   "cell_type": "markdown",
   "metadata": {},
   "source": [
    "Everything is correct, wonderful!"
   ]
  }
 ],
 "metadata": {
  "kernelspec": {
   "display_name": "Python 3",
   "language": "python",
   "name": "python3"
  },
  "language_info": {
   "codemirror_mode": {
    "name": "ipython",
    "version": 3
   },
   "file_extension": ".py",
   "mimetype": "text/x-python",
   "name": "python",
   "nbconvert_exporter": "python",
   "pygments_lexer": "ipython3",
   "version": "3.8.2"
  }
 },
 "nbformat": 4,
 "nbformat_minor": 4
}
