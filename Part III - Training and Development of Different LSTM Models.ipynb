{
 "cells": [
  {
   "cell_type": "markdown",
   "metadata": {},
   "source": [
    "<h1 align=\"center\">PART III</h1>\n",
    "<h1 align=\"center\">Training and Development of Different LSTM Models</h1> "
   ]
  },
  {
   "cell_type": "markdown",
   "metadata": {},
   "source": [
    "To get started, let's download the necessary libraries:"
   ]
  },
  {
   "cell_type": "code",
   "execution_count": 1,
   "metadata": {},
   "outputs": [],
   "source": [
    "import numpy as np\n",
    "import pandas as pd\n",
    "import pickle\n",
    "import gensim, logging\n",
    "import gensim.models.keyedvectors as word2vec\n",
    "import matplotlib.pyplot as plt\n",
    "\n",
    "%matplotlib inline"
   ]
  },
  {
   "cell_type": "markdown",
   "metadata": {},
   "source": [
    "Also let's write a style for alignment in the middle of all graphs, images, etc:"
   ]
  },
  {
   "cell_type": "code",
   "execution_count": 2,
   "metadata": {},
   "outputs": [
    {
     "data": {
      "text/html": [
       "\n",
       "<style>\n",
       ".output_png {\n",
       "    display: table-cell;\n",
       "    text-align: center;\n",
       "    vertical-align: middle;\n",
       "}\n",
       "</style>\n"
      ],
      "text/plain": [
       "<IPython.core.display.HTML object>"
      ]
     },
     "execution_count": 2,
     "metadata": {},
     "output_type": "execute_result"
    }
   ],
   "source": [
    "from IPython.core.display import HTML\n",
    "HTML(\"\"\"\n",
    "<style>\n",
    ".output_png {\n",
    "    display: table-cell;\n",
    "    text-align: center;\n",
    "    vertical-align: middle;\n",
    "}\n",
    "</style>\n",
    "\"\"\")"
   ]
  },
  {
   "cell_type": "markdown",
   "metadata": {},
   "source": [
    "<h2 align=\"center\">Preparation of input data</h2> \n",
    "\n",
    "Firstly, we will load the sample data we processed in the first part:"
   ]
  },
  {
   "cell_type": "code",
   "execution_count": 3,
   "metadata": {},
   "outputs": [],
   "source": [
    "with open('documents.pql', 'rb') as f:\n",
    "     docs = pickle.load(f)"
   ]
  },
  {
   "cell_type": "code",
   "execution_count": 4,
   "metadata": {},
   "outputs": [
    {
     "name": "stdout",
     "output_type": "stream",
     "text": [
      "Number of documents: 38544\n"
     ]
    }
   ],
   "source": [
    "print(\"Number of documents:\", len(docs))"
   ]
  },
  {
   "cell_type": "markdown",
   "metadata": {},
   "source": [
    "Now we will load our word2vec model. \n",
    "\n",
    "This may take some time, as the model contains 400 000 words, so we will get a 400 000 x 50 embedding matrix that contains all the values of the word vectors."
   ]
  },
  {
   "cell_type": "code",
   "execution_count": 5,
   "metadata": {},
   "outputs": [],
   "source": [
    "model = word2vec.KeyedVectors.load_word2vec_format('model/glove.6B.50d.w2vformat.txt', binary=False)"
   ]
  },
  {
   "cell_type": "markdown",
   "metadata": {},
   "source": [
    "Now let's get a list of all the words from our dictionary:"
   ]
  },
  {
   "cell_type": "code",
   "execution_count": 6,
   "metadata": {},
   "outputs": [],
   "source": [
    "words = list(model.vocab)"
   ]
  },
  {
   "cell_type": "markdown",
   "metadata": {},
   "source": [
    "Just to make sure everything is loaded correctly, we can look at the dimensions of the dictionary list and the embedding matrix:"
   ]
  },
  {
   "cell_type": "code",
   "execution_count": 7,
   "metadata": {},
   "outputs": [
    {
     "name": "stdout",
     "output_type": "stream",
     "text": [
      "Total words: 400000 \n",
      "\n",
      "Word-Vectors shape: (400000, 50)\n"
     ]
    }
   ],
   "source": [
    "print(\"Total words:\", len(words), \"\\n\\nWord-Vectors shape:\", model.vectors.shape)"
   ]
  },
  {
   "cell_type": "markdown",
   "metadata": {},
   "source": [
    "The shape of our sample for training will be `(H, N, 50)`, where:\n",
    "* `H` - number of samples;\n",
    "* `N` - number of words in each sentence;\n",
    "* `50` - dimension of each word.\n",
    "\n",
    "Let's analyze how many words are usually found in the reviews:"
   ]
  },
  {
   "cell_type": "code",
   "execution_count": 8,
   "metadata": {},
   "outputs": [
    {
     "name": "stdout",
     "output_type": "stream",
     "text": [
      "Average number of words in the review: 46\n",
      "\n",
      "Maximum review length: 2376 \n",
      "Minimum review length: 1\n",
      "\n",
      "Review with more than 50 words: 10668 \n",
      "Review with more than 100 words: 3667 \n",
      "Review with more than 200 words: 893 \n",
      "Review with more than 300 words: 304 \n",
      "Review with more than 400 words: 126\n"
     ]
    }
   ],
   "source": [
    "max_word, min_word = 0, 100\n",
    "word50, word100, word200, word300, word400  = 0, 0, 0, 0, 0\n",
    "reviews_len = []\n",
    "\n",
    "for review, state in docs:\n",
    "    reviews_len.append(len(review))\n",
    "\n",
    "    if len(review) > max_word: max_word = len(review)\n",
    "    if len(review) < min_word: min_word = len(review)\n",
    "\n",
    "    if len(review) > 50: word50 += 1\n",
    "    if len(review) > 100: word100 += 1\n",
    "    if len(review) > 200: word200 += 1\n",
    "    if len(review) > 300: word300 += 1\n",
    "    if len(review) > 400: word400 += 1\n",
    "    \n",
    "print(\"Average number of words in the review:\", int(sum(reviews_len)/len(reviews_len)))\n",
    "print(\"\\nMaximum review length:\", max_word, \"\\nMinimum review length:\", min_word)\n",
    "print(\"\\nReview with more than 50 words:\", word50, \n",
    "      \"\\nReview with more than 100 words:\", word100,\n",
    "      \"\\nReview with more than 200 words:\", word200, \n",
    "      \"\\nReview with more than 300 words:\", word300,\n",
    "      \"\\nReview with more than 400 words:\", word400)"
   ]
  },
  {
   "cell_type": "markdown",
   "metadata": {},
   "source": [
    "Visualize the frequency of words in the review:"
   ]
  },
  {
   "cell_type": "code",
   "execution_count": 9,
   "metadata": {},
   "outputs": [
    {
     "data": {
      "image/png": "[encoded data removed]",
      "text/plain": [
       "<Figure size 432x288 with 1 Axes>"
      ]
     },
     "metadata": {
      "needs_background": "light"
     },
     "output_type": "display_data"
    }
   ],
   "source": [
    "plt.hist(reviews_len, bins=150)\n",
    "plt.axis([0, 400, 0, 12000])\n",
    "plt.ylabel('Frequency')\n",
    "plt.xlabel('Sequence Length');\n",
    "plt.title(\"Average number of words\");"
   ]
  },
  {
   "cell_type": "markdown",
   "metadata": {},
   "source": [
    "Our next function `fix_review_len()` will do a useful job, this function is designed to fix the size of reviews to a fixed size to feed them into a neural network with reviews of a certain length. Reviews whose length is less than fixed will be extended by zeros. This process does not affect the algorithm and reviews longer than the specified length will be truncated."
   ]
  },
  {
   "cell_type": "code",
   "execution_count": 10,
   "metadata": {},
   "outputs": [
    {
     "name": "stdout",
     "output_type": "stream",
     "text": [
      "[3, 1, 2, 4, 5, [0, 0, 0, 0, 0, 0, 0, 0, 0, 0, 0, 0, 0, 0, 0, 0, 0, 0, 0, 0, 0, 0, 0, 0, 0, 0, 0, 0, 0, 0, 0, 0, 0, 0, 0, 0, 0, 0, 0, 0, 0, 0, 0, 0, 0, 0, 0, 0, 0, 0], [0, 0, 0, 0, 0, 0, 0, 0, 0, 0, 0, 0, 0, 0, 0, 0, 0, 0, 0, 0, 0, 0, 0, 0, 0, 0, 0, 0, 0, 0, 0, 0, 0, 0, 0, 0, 0, 0, 0, 0, 0, 0, 0, 0, 0, 0, 0, 0, 0, 0]]\n"
     ]
    }
   ],
   "source": [
    "def fix_review_len(review, length):\n",
    "    if len(review) > length:\n",
    "        review = review[:length]\n",
    "    elif len(review) < length:\n",
    "        for i in range(length - len(review)):\n",
    "            zeros = [0] * 50\n",
    "            review.append(zeros)\n",
    "    return review\n",
    "\n",
    "example = [3, 1, 2, 4, 5]\n",
    "example = fix_review_len(example, 7)\n",
    "print(example) "
   ]
  },
  {
   "cell_type": "markdown",
   "metadata": {},
   "source": [
    "Now let's slightly improve our `sent_embed()` function from previous part and then update our dataset with word vectors.\n",
    "\n",
    "Based on the histogram data, as well as the average number of words in the files, we can say with confidence that most reviews will have less than 100 words, which is the maximum value of the length of the sequence that we set."
   ]
  },
  {
   "cell_type": "code",
   "execution_count": 11,
   "metadata": {},
   "outputs": [],
   "source": [
    "def sent_embed(words, docs):\n",
    "    x_sent_embed, y_sent_embed = [], [] \n",
    "    \n",
    "    max_seq_len = 100\n",
    "    \n",
    "    # recover the embedding of each sentence with the average of the vector that composes it\n",
    "    # sent - sentence, state - state of the sentence (pos/neg)\n",
    "    for sent, state in docs:\n",
    "        # average embedding of all words in a sentence\n",
    "        sent_embed = []\n",
    "        for word in sent:\n",
    "            try:\n",
    "                # if word is present in the dictionary - add its vector representation\n",
    "                sent_embed.append(model[word])\n",
    "            except KeyError:\n",
    "                # if word is not in the dictionary - add a zero vector\n",
    "                sent_embed.append([0] * 50)\n",
    "        \n",
    "        # add a sentence vector to the list\n",
    "        sent_embed = fix_review_len(sent_embed, max_seq_len)\n",
    "        x_sent_embed.append(sent_embed)\n",
    "        \n",
    "        # add a label to y_sent_embed\n",
    "        if state == 'pos': y_sent_embed.append(1)\n",
    "        elif state == 'neg': y_sent_embed.append(0)\n",
    "            \n",
    "    return x_sent_embed, y_sent_embed"
   ]
  },
  {
   "cell_type": "code",
   "execution_count": 12,
   "metadata": {},
   "outputs": [],
   "source": [
    "x, y = sent_embed(words, docs)"
   ]
  },
  {
   "cell_type": "code",
   "execution_count": 13,
   "metadata": {},
   "outputs": [
    {
     "name": "stdout",
     "output_type": "stream",
     "text": [
      "Shape of X: (38544, 100, 50)\n"
     ]
    }
   ],
   "source": [
    "x = np.array(x)\n",
    "print(\"Shape of X:\", x.shape)"
   ]
  },
  {
   "cell_type": "markdown",
   "metadata": {},
   "source": [
    "<h3 align=\"center\">Split Corpus</h3>\n",
    "\n",
    "Now, for further work, we will divide our corpus for training, testing and development sets:"
   ]
  },
  {
   "cell_type": "code",
   "execution_count": 14,
   "metadata": {},
   "outputs": [],
   "source": [
    "from sklearn.model_selection import train_test_split\n",
    "\n",
    "# train test\n",
    "x_train, x_test, y_train, y_test = train_test_split(x, y, test_size=0.15, random_state=42)\n",
    "\n",
    "# train dev\n",
    "x_train, x_val, y_train, y_val = train_test_split(x_train, y_train, test_size=0.15, random_state=42)"
   ]
  },
  {
   "cell_type": "code",
   "execution_count": 15,
   "metadata": {},
   "outputs": [
    {
     "name": "stdout",
     "output_type": "stream",
     "text": [
      "Length of x_train: 27847 | Length of y_train: 27847\n",
      "Length of x_test:   5782 | Length of y_test:  5782\n",
      "Length of x_val:    4915 | Length of y_val:   4915\n"
     ]
    }
   ],
   "source": [
    "print('Length of x_train:', len(x_train), '| Length of y_train:', len(y_train))\n",
    "print('Length of x_test:  ', len(x_test), '| Length of y_test: ', len(y_test))\n",
    "print('Length of x_val:   ', len(x_val), '| Length of y_val:  ', len(y_val))"
   ]
  },
  {
   "cell_type": "code",
   "execution_count": 16,
   "metadata": {},
   "outputs": [
    {
     "name": "stdout",
     "output_type": "stream",
     "text": [
      "Shape of x_train set: (27847, 100, 50)\n"
     ]
    }
   ],
   "source": [
    "print(\"Shape of x_train set:\", x_train.shape)"
   ]
  },
  {
   "cell_type": "markdown",
   "metadata": {},
   "source": [
    "<h2 align=\"center\">LSTM Model (Batch Size)</h2>\n",
    "\n",
    "Keras's benefit is that it is built on top of symbolic mathematical libraries such as TensorFlow and Theano for fast and efficient computation. This is needed with large neural networks.\n",
    "\n",
    "A downside of using these efficient libraries is that you must define the scope of your data upfront and for all time. Specifically, the batch size.\n",
    "\n",
    "The batch size limits the number of samples to be shown to the network before a weight update can be performed. This same limitation is then imposed when making predictions with the fit model.\n",
    "\n",
    "Specifically, the batch size used when fitting your model controls how many predictions you must make at a time.\n",
    "\n",
    "This is often not a problem when you want to make the same number predictions at a time as the batch size used during training.\n",
    "\n",
    "This does become a problem when you wish to make fewer predictions than the batch size. For example, you may get the best results with a large batch size but are required to make predictions for one observation at a time on something like a time series or sequence problem.\n",
    "\n",
    "This is why it may be desirable to have a different batch size when fitting the network to training data than when making predictions on test data or new input data.\n",
    "\n",
    "Batch gradient descent is a variation of the gradient descent algorithm that calculates the error for each example in the training dataset, but only updates the model after all training examples have been evaluated."
   ]
  },
  {
   "cell_type": "markdown",
   "metadata": {},
   "source": [
    "<h3 align=\"center\">Setting Up and Creating the Network</h3>\n",
    "\n",
    "The network has one input, a hidden layer with 100 units, and an output layer with 1 unit.\n",
    "\n",
    "A mean squared error optimization function is used for this problem with the efficient ADAM optimization algorithm.\n",
    "\n",
    "So now let's configure and create the network:"
   ]
  },
  {
   "cell_type": "code",
   "execution_count": 17,
   "metadata": {},
   "outputs": [
    {
     "name": "stdout",
     "output_type": "stream",
     "text": [
      "Model: \"sequential\"\n",
      "_________________________________________________________________\n",
      "Layer (type)                 Output Shape              Param #   \n",
      "=================================================================\n",
      "lstm (LSTM)                  (None, 100)               60400     \n",
      "_________________________________________________________________\n",
      "dense (Dense)                (None, 1)                 101       \n",
      "=================================================================\n",
      "Total params: 60,501\n",
      "Trainable params: 60,501\n",
      "Non-trainable params: 0\n",
      "_________________________________________________________________\n",
      "None\n"
     ]
    }
   ],
   "source": [
    "from keras.models import Sequential\n",
    "from keras.layers import LSTM\n",
    "from keras.layers.core import Dense\n",
    "from keras.optimizers import Adam\n",
    "\n",
    "# configure network\n",
    "n_neurons = 100\n",
    "n_epoch = 20\n",
    "n_batch = 16 # actually we need 1, but my laptop will do it ~5 hours\n",
    "\n",
    "# design network\n",
    "model_batch = Sequential()\n",
    "model_batch.add(LSTM(n_neurons, input_shape=(x.shape[1], x.shape[2])))\n",
    "model_batch.add(Dense(1, activation='sigmoid'))\n",
    "model_batch.compile(loss='mean_squared_error', optimizer='adam', metrics=['binary_accuracy'])\n",
    "\n",
    "print(model_batch.summary())"
   ]
  },
  {
   "cell_type": "code",
   "execution_count": 18,
   "metadata": {},
   "outputs": [
    {
     "name": "stdout",
     "output_type": "stream",
     "text": [
      "Epoch 1/20\n",
      "1741/1741 [==============================] - 119s 67ms/step - loss: 0.2458 - binary_accuracy: 0.5702\n",
      "Epoch 2/20\n",
      "1741/1741 [==============================] - 117s 67ms/step - loss: 0.2451 - binary_accuracy: 0.5696\n",
      "Epoch 3/20\n",
      "1741/1741 [==============================] - 116s 67ms/step - loss: 0.2425 - binary_accuracy: 0.58231s - loss: 0.2425 - binary_\n",
      "Epoch 4/20\n",
      "1741/1741 [==============================] - 121s 69ms/step - loss: 0.2345 - binary_accuracy: 0.6081\n",
      "Epoch 5/20\n",
      "1741/1741 [==============================] - 118s 68ms/step - loss: 0.2441 - binary_accuracy: 0.5742\n",
      "Epoch 6/20\n",
      "1741/1741 [==============================] - 119s 68ms/step - loss: 0.2229 - binary_accuracy: 0.6504\n",
      "Epoch 7/20\n",
      "1741/1741 [==============================] - 118s 68ms/step - loss: 0.1736 - binary_accuracy: 0.7478\n",
      "Epoch 8/20\n",
      "1741/1741 [==============================] - 117s 67ms/step - loss: 0.1501 - binary_accuracy: 0.7863\n",
      "Epoch 9/20\n",
      "1741/1741 [==============================] - 119s 69ms/step - loss: 0.1337 - binary_accuracy: 0.8108\n",
      "Epoch 10/20\n",
      "1741/1741 [==============================] - 118s 68ms/step - loss: 0.1219 - binary_accuracy: 0.8300\n",
      "Epoch 11/20\n",
      "1741/1741 [==============================] - 117s 67ms/step - loss: 0.1108 - binary_accuracy: 0.8478\n",
      "Epoch 12/20\n",
      "1741/1741 [==============================] - 119s 68ms/step - loss: 0.1018 - binary_accuracy: 0.8633\n",
      "Epoch 13/20\n",
      "1741/1741 [==============================] - 120s 69ms/step - loss: 0.0903 - binary_accuracy: 0.8828\n",
      "Epoch 14/20\n",
      "1741/1741 [==============================] - 135s 78ms/step - loss: 0.0790 - binary_accuracy: 0.8972\n",
      "Epoch 15/20\n",
      "1741/1741 [==============================] - 125s 72ms/step - loss: 0.0716 - binary_accuracy: 0.91020s - loss: 0.0716 - binary_accuracy: 0.910\n",
      "Epoch 16/20\n",
      "1741/1741 [==============================] - 117s 67ms/step - loss: 0.0627 - binary_accuracy: 0.9234\n",
      "Epoch 17/20\n",
      "1741/1741 [==============================] - 122s 70ms/step - loss: 0.0535 - binary_accuracy: 0.9368\n",
      "Epoch 18/20\n",
      "1741/1741 [==============================] - 127s 73ms/step - loss: 0.0498 - binary_accuracy: 0.9412\n",
      "Epoch 19/20\n",
      "1741/1741 [==============================] - 125s 72ms/step - loss: 0.0434 - binary_accuracy: 0.9489\n",
      "Epoch 20/20\n",
      "1741/1741 [==============================] - 137s 78ms/step - loss: 0.0408 - binary_accuracy: 0.9539\n"
     ]
    }
   ],
   "source": [
    "model_batch_hist = model_batch.fit(x_train, np.asarray(y_train), batch_size=n_batch, epochs=n_epoch)"
   ]
  },
  {
   "cell_type": "code",
   "execution_count": 19,
   "metadata": {},
   "outputs": [
    {
     "name": "stdout",
     "output_type": "stream",
     "text": [
      "308/308 [==============================] - 9s 19ms/step - loss: 0.1466 - binary_accuracy: 0.8254\n",
      "\n",
      "Model Accuracy: 82.54%\n"
     ]
    }
   ],
   "source": [
    "score_batch = model_batch.evaluate(x_val, np.asarray(y_val), batch_size=n_batch)\n",
    "print(\"\\nModel Accuracy:\",str(round(score_batch[1] * 100, 2)) + '%')"
   ]
  },
  {
   "cell_type": "code",
   "execution_count": 20,
   "metadata": {},
   "outputs": [
    {
     "data": {
      "image/png": "[encoded data removed]",
      "text/plain": [
       "<Figure size 432x288 with 1 Axes>"
      ]
     },
     "metadata": {},
     "output_type": "display_data"
    }
   ],
   "source": [
    "plt.style.use('ggplot')\n",
    "plt.plot(model_batch_hist.history['loss'])\n",
    "\n",
    "plt.title('Model Loss')\n",
    "plt.ylabel('Loss')\n",
    "plt.xlabel('Epoch')\n",
    "plt.legend(['Train'], loc='lower left')\n",
    "\n",
    "plt.show()"
   ]
  },
  {
   "cell_type": "markdown",
   "metadata": {},
   "source": [
    "The results are good, let's save this model and try a different approach."
   ]
  },
  {
   "cell_type": "code",
   "execution_count": 21,
   "metadata": {},
   "outputs": [],
   "source": [
    "from keras.models import load_model\n",
    "\n",
    "model_batch.save('models/LSTM-Batch-Model.h5')  # save model\n",
    "del model_batch  # delete existing model\n",
    "\n",
    "# returns a compiled model, identical to the previous one\n",
    "model_batch = load_model('models/LSTM-Batch-Model.h5')"
   ]
  },
  {
   "cell_type": "markdown",
   "metadata": {},
   "source": [
    "Let's check if everything is correct:"
   ]
  },
  {
   "cell_type": "code",
   "execution_count": 22,
   "metadata": {},
   "outputs": [
    {
     "name": "stdout",
     "output_type": "stream",
     "text": [
      "308/308 [==============================] - 7s 19ms/step - loss: 0.1466 - binary_accuracy: 0.8254\n"
     ]
    },
    {
     "data": {
      "text/plain": [
       "[0.1466071754693985, 0.8254323601722717]"
      ]
     },
     "execution_count": 22,
     "metadata": {},
     "output_type": "execute_result"
    }
   ],
   "source": [
    "model_batch.evaluate(x_val, np.asarray(y_val), batch_size=n_batch)"
   ]
  },
  {
   "cell_type": "markdown",
   "metadata": {},
   "source": [
    "<h2 align=\"center\">LSTM Model (Mini-Batch Gradient Descent)</h2>\n",
    "\n",
    "Mini-batch gradient descent is a variation of the gradient descent algorithm that splits the training dataset into small batches that are used to calculate model error and update model coefficients.\n",
    "\n",
    "Mini batch algorithm is the most favorable and widely used algorithm that makes precise and faster results using a batch of `m` training examples. In mini batch algorithm rather than using  the complete data set, in every iteration we use a set of `m` training examples called batch to compute the gradient of the cost function. Common mini-batch sizes range between 32 and 256."
   ]
  },
  {
   "cell_type": "markdown",
   "metadata": {},
   "source": [
    "<h3 align=\"center\">Setting Up and Creating the Network</h3>\n",
    "\n",
    "We will use an LSTM network fit for 100 epochs and with batch size = 128.\n",
    "\n",
    "A mean squared error optimization function is used for this problem with the efficient ADAM optimization algorithm.\n",
    "\n",
    "`recurrent_dropout`: float between 0 and 1. Fraction of the input units to drop for recurrent connections. \n",
    "\n",
    "`dropout`: float between 0 and 1. Fraction of the input units to drop for input gates.\n",
    "\n",
    "\n",
    "So now let's configure and create the network:"
   ]
  },
  {
   "cell_type": "code",
   "execution_count": 23,
   "metadata": {},
   "outputs": [
    {
     "name": "stdout",
     "output_type": "stream",
     "text": [
      "Model: \"sequential_1\"\n",
      "_________________________________________________________________\n",
      "Layer (type)                 Output Shape              Param #   \n",
      "=================================================================\n",
      "lstm_1 (LSTM)                (None, 100)               60400     \n",
      "_________________________________________________________________\n",
      "dense_1 (Dense)              (None, 1)                 101       \n",
      "=================================================================\n",
      "Total params: 60,501\n",
      "Trainable params: 60,501\n",
      "Non-trainable params: 0\n",
      "_________________________________________________________________\n",
      "None\n"
     ]
    }
   ],
   "source": [
    "from keras.layers.core import Dropout\n",
    "\n",
    "# configure network\n",
    "n_neurons = 100\n",
    "n_epoch = 100\n",
    "n_batch = 128\n",
    "\n",
    "# design network\n",
    "model_mini = Sequential()\n",
    "model_mini.add(LSTM(n_neurons, input_shape=(x.shape[1], x.shape[2]), dropout=0.2, recurrent_dropout=0.2))\n",
    "model_mini.add(Dense(1, activation='sigmoid'))\n",
    "model_mini.compile(loss='mean_squared_error', optimizer='adam', metrics=['binary_accuracy'])\n",
    "\n",
    "print(model_mini.summary())"
   ]
  },
  {
   "cell_type": "code",
   "execution_count": 24,
   "metadata": {},
   "outputs": [
    {
     "name": "stdout",
     "output_type": "stream",
     "text": [
      "Epoch 1/100\n",
      "218/218 [==============================] - 81s 340ms/step - loss: 0.2427 - binary_accuracy: 0.5688\n",
      "Epoch 2/100\n",
      "218/218 [==============================] - 81s 372ms/step - loss: 0.2322 - binary_accuracy: 0.6052\n",
      "Epoch 3/100\n",
      "218/218 [==============================] - 83s 379ms/step - loss: 0.2363 - binary_accuracy: 0.5707\n",
      "Epoch 4/100\n",
      "218/218 [==============================] - 74s 339ms/step - loss: 0.2331 - binary_accuracy: 0.5890\n",
      "Epoch 5/100\n",
      "218/218 [==============================] - 67s 305ms/step - loss: 0.2441 - binary_accuracy: 0.5759\n",
      "Epoch 6/100\n",
      "218/218 [==============================] - 66s 301ms/step - loss: 0.2449 - binary_accuracy: 0.5723\n",
      "Epoch 7/100\n",
      "218/218 [==============================] - 68s 310ms/step - loss: 0.2443 - binary_accuracy: 0.5709\n",
      "Epoch 8/100\n",
      "218/218 [==============================] - 70s 319ms/step - loss: 0.2451 - binary_accuracy: 0.5683\n",
      "Epoch 9/100\n",
      "218/218 [==============================] - 81s 372ms/step - loss: 0.2342 - binary_accuracy: 0.6058\n",
      "Epoch 10/100\n",
      "218/218 [==============================] - 77s 354ms/step - loss: 0.1884 - binary_accuracy: 0.7233\n",
      "Epoch 11/100\n",
      "218/218 [==============================] - 75s 342ms/step - loss: 0.1728 - binary_accuracy: 0.7481\n",
      "Epoch 12/100\n",
      "218/218 [==============================] - 70s 319ms/step - loss: 0.1696 - binary_accuracy: 0.7502\n",
      "Epoch 13/100\n",
      "218/218 [==============================] - 70s 322ms/step - loss: 0.1653 - binary_accuracy: 0.7573\n",
      "Epoch 14/100\n",
      "218/218 [==============================] - 70s 319ms/step - loss: 0.1631 - binary_accuracy: 0.7611\n",
      "Epoch 15/100\n",
      "218/218 [==============================] - 72s 332ms/step - loss: 0.1561 - binary_accuracy: 0.7742\n",
      "Epoch 16/100\n",
      "218/218 [==============================] - 71s 328ms/step - loss: 0.1517 - binary_accuracy: 0.7789\n",
      "Epoch 17/100\n",
      "218/218 [==============================] - 70s 322ms/step - loss: 0.1507 - binary_accuracy: 0.7819\n",
      "Epoch 18/100\n",
      "218/218 [==============================] - 72s 328ms/step - loss: 0.1453 - binary_accuracy: 0.7901\n",
      "Epoch 19/100\n",
      "218/218 [==============================] - 71s 327ms/step - loss: 0.1415 - binary_accuracy: 0.7952\n",
      "Epoch 20/100\n",
      "218/218 [==============================] - 70s 321ms/step - loss: 0.1429 - binary_accuracy: 0.7953\n",
      "Epoch 21/100\n",
      "218/218 [==============================] - 72s 330ms/step - loss: 0.1363 - binary_accuracy: 0.8039\n",
      "Epoch 22/100\n",
      "218/218 [==============================] - 67s 309ms/step - loss: 0.1333 - binary_accuracy: 0.8097\n",
      "Epoch 23/100\n",
      "218/218 [==============================] - 67s 309ms/step - loss: 0.1343 - binary_accuracy: 0.8087\n",
      "Epoch 24/100\n",
      "218/218 [==============================] - 76s 347ms/step - loss: 0.1301 - binary_accuracy: 0.8141\n",
      "Epoch 25/100\n",
      "218/218 [==============================] - 70s 321ms/step - loss: 0.1278 - binary_accuracy: 0.8197\n",
      "Epoch 26/100\n",
      "218/218 [==============================] - 70s 320ms/step - loss: 0.1286 - binary_accuracy: 0.8156\n",
      "Epoch 27/100\n",
      "218/218 [==============================] - 72s 328ms/step - loss: 0.1267 - binary_accuracy: 0.8204\n",
      "Epoch 28/100\n",
      "218/218 [==============================] - 71s 324ms/step - loss: 0.1203 - binary_accuracy: 0.8310\n",
      "Epoch 29/100\n",
      "218/218 [==============================] - 70s 323ms/step - loss: 0.1176 - binary_accuracy: 0.8348\n",
      "Epoch 30/100\n",
      "218/218 [==============================] - 74s 342ms/step - loss: 0.1186 - binary_accuracy: 0.8338\n",
      "Epoch 31/100\n",
      "218/218 [==============================] - 68s 314ms/step - loss: 0.1173 - binary_accuracy: 0.8364\n",
      "Epoch 32/100\n",
      "218/218 [==============================] - 68s 312ms/step - loss: 0.1161 - binary_accuracy: 0.8389\n",
      "Epoch 33/100\n",
      "218/218 [==============================] - 68s 313ms/step - loss: 0.1137 - binary_accuracy: 0.8415\n",
      "Epoch 34/100\n",
      "218/218 [==============================] - 70s 323ms/step - loss: 0.1087 - binary_accuracy: 0.8502\n",
      "Epoch 35/100\n",
      "218/218 [==============================] - 68s 313ms/step - loss: 0.1102 - binary_accuracy: 0.8462\n",
      "Epoch 36/100\n",
      "218/218 [==============================] - 69s 317ms/step - loss: 0.1058 - binary_accuracy: 0.8549\n",
      "Epoch 37/100\n",
      "218/218 [==============================] - 69s 316ms/step - loss: 0.1057 - binary_accuracy: 0.8555\n",
      "Epoch 38/100\n",
      "218/218 [==============================] - 69s 314ms/step - loss: 0.1063 - binary_accuracy: 0.8536\n",
      "Epoch 39/100\n",
      "218/218 [==============================] - 68s 312ms/step - loss: 0.1417 - binary_accuracy: 0.7788\n",
      "Epoch 40/100\n",
      "218/218 [==============================] - 68s 313ms/step - loss: 0.1058 - binary_accuracy: 0.8537\n",
      "Epoch 41/100\n",
      "218/218 [==============================] - 69s 315ms/step - loss: 0.1043 - binary_accuracy: 0.8602\n",
      "Epoch 42/100\n",
      "218/218 [==============================] - 70s 320ms/step - loss: 0.1038 - binary_accuracy: 0.8566\n",
      "Epoch 43/100\n",
      "218/218 [==============================] - 68s 314ms/step - loss: 0.1006 - binary_accuracy: 0.8653\n",
      "Epoch 44/100\n",
      "218/218 [==============================] - 67s 309ms/step - loss: 0.0974 - binary_accuracy: 0.8672\n",
      "Epoch 45/100\n",
      "218/218 [==============================] - 67s 309ms/step - loss: 0.0965 - binary_accuracy: 0.8700\n",
      "Epoch 46/100\n",
      "218/218 [==============================] - 66s 301ms/step - loss: 0.0998 - binary_accuracy: 0.8648\n",
      "Epoch 47/100\n",
      "218/218 [==============================] - 66s 301ms/step - loss: 0.0981 - binary_accuracy: 0.8670\n",
      "Epoch 48/100\n",
      "218/218 [==============================] - 66s 303ms/step - loss: 0.0965 - binary_accuracy: 0.8658\n",
      "Epoch 49/100\n",
      "218/218 [==============================] - 66s 301ms/step - loss: 0.0949 - binary_accuracy: 0.8715\n",
      "Epoch 50/100\n",
      "218/218 [==============================] - 65s 300ms/step - loss: 0.0939 - binary_accuracy: 0.8768\n",
      "Epoch 51/100\n",
      "218/218 [==============================] - 65s 299ms/step - loss: 0.0903 - binary_accuracy: 0.8787\n",
      "Epoch 52/100\n",
      "218/218 [==============================] - 65s 300ms/step - loss: 0.0923 - binary_accuracy: 0.8758\n",
      "Epoch 53/100\n",
      "218/218 [==============================] - 66s 302ms/step - loss: 0.0909 - binary_accuracy: 0.8788\n",
      "Epoch 54/100\n",
      "218/218 [==============================] - 66s 305ms/step - loss: 0.0865 - binary_accuracy: 0.8825\n",
      "Epoch 55/100\n",
      "218/218 [==============================] - 66s 301ms/step - loss: 0.0886 - binary_accuracy: 0.8814\n",
      "Epoch 56/100\n",
      "218/218 [==============================] - 66s 301ms/step - loss: 0.0878 - binary_accuracy: 0.8809\n",
      "Epoch 57/100\n",
      "218/218 [==============================] - 66s 303ms/step - loss: 0.0846 - binary_accuracy: 0.8888\n",
      "Epoch 58/100\n",
      "218/218 [==============================] - 67s 306ms/step - loss: 0.0853 - binary_accuracy: 0.8847\n",
      "Epoch 59/100\n",
      "218/218 [==============================] - 66s 301ms/step - loss: 0.0857 - binary_accuracy: 0.8868\n",
      "Epoch 60/100\n",
      "218/218 [==============================] - 65s 300ms/step - loss: 0.0839 - binary_accuracy: 0.8881\n",
      "Epoch 61/100\n",
      "218/218 [==============================] - 66s 303ms/step - loss: 0.0816 - binary_accuracy: 0.8898\n",
      "Epoch 62/100\n",
      "218/218 [==============================] - 65s 300ms/step - loss: 0.0814 - binary_accuracy: 0.8922\n",
      "Epoch 63/100\n",
      "218/218 [==============================] - 66s 302ms/step - loss: 0.0825 - binary_accuracy: 0.8905\n",
      "Epoch 64/100\n",
      "218/218 [==============================] - 66s 303ms/step - loss: 0.0829 - binary_accuracy: 0.8901\n",
      "Epoch 65/100\n",
      "218/218 [==============================] - 67s 307ms/step - loss: 0.1583 - binary_accuracy: 0.7863\n",
      "Epoch 66/100\n",
      "218/218 [==============================] - 67s 308ms/step - loss: 0.1388 - binary_accuracy: 0.8162\n",
      "Epoch 67/100\n",
      "218/218 [==============================] - 67s 309ms/step - loss: 0.0933 - binary_accuracy: 0.8727\n",
      "Epoch 68/100\n",
      "218/218 [==============================] - 66s 302ms/step - loss: 0.0837 - binary_accuracy: 0.8897\n",
      "Epoch 69/100\n",
      "218/218 [==============================] - 66s 305ms/step - loss: 0.0817 - binary_accuracy: 0.8906\n",
      "Epoch 70/100\n",
      "218/218 [==============================] - 67s 307ms/step - loss: 0.0799 - binary_accuracy: 0.8947\n",
      "Epoch 71/100\n",
      "218/218 [==============================] - 66s 303ms/step - loss: 0.0903 - binary_accuracy: 0.8816\n",
      "Epoch 72/100\n",
      "218/218 [==============================] - 66s 305ms/step - loss: 0.0849 - binary_accuracy: 0.8876\n",
      "Epoch 73/100\n",
      "218/218 [==============================] - 67s 306ms/step - loss: 0.0764 - binary_accuracy: 0.9007\n",
      "Epoch 74/100\n"
     ]
    },
    {
     "name": "stdout",
     "output_type": "stream",
     "text": [
      "218/218 [==============================] - 66s 302ms/step - loss: 0.0776 - binary_accuracy: 0.8978\n",
      "Epoch 75/100\n",
      "218/218 [==============================] - 66s 301ms/step - loss: 0.0759 - binary_accuracy: 0.8995\n",
      "Epoch 76/100\n",
      "218/218 [==============================] - 68s 311ms/step - loss: 0.0797 - binary_accuracy: 0.8958\n",
      "Epoch 77/100\n",
      "218/218 [==============================] - 66s 302ms/step - loss: 0.0751 - binary_accuracy: 0.9020\n",
      "Epoch 78/100\n",
      "218/218 [==============================] - 65s 299ms/step - loss: 0.0759 - binary_accuracy: 0.8996\n",
      "Epoch 79/100\n",
      "218/218 [==============================] - 65s 300ms/step - loss: 0.0718 - binary_accuracy: 0.9060\n",
      "Epoch 80/100\n",
      "218/218 [==============================] - 66s 302ms/step - loss: 0.0735 - binary_accuracy: 0.9021\n",
      "Epoch 81/100\n",
      "218/218 [==============================] - 65s 299ms/step - loss: 0.0729 - binary_accuracy: 0.9042\n",
      "Epoch 82/100\n",
      "218/218 [==============================] - 65s 300ms/step - loss: 0.0717 - binary_accuracy: 0.9071\n",
      "Epoch 83/100\n",
      "218/218 [==============================] - 66s 303ms/step - loss: 0.0709 - binary_accuracy: 0.9090\n",
      "Epoch 84/100\n",
      "218/218 [==============================] - 66s 301ms/step - loss: 0.0710 - binary_accuracy: 0.9075\n",
      "Epoch 85/100\n",
      "218/218 [==============================] - 66s 303ms/step - loss: 0.0692 - binary_accuracy: 0.9093\n",
      "Epoch 86/100\n",
      "218/218 [==============================] - 66s 304ms/step - loss: 0.0716 - binary_accuracy: 0.9062\n",
      "Epoch 87/100\n",
      "218/218 [==============================] - 65s 300ms/step - loss: 0.0683 - binary_accuracy: 0.9123\n",
      "Epoch 88/100\n",
      "218/218 [==============================] - 66s 305ms/step - loss: 0.0703 - binary_accuracy: 0.9078\n",
      "Epoch 89/100\n",
      "218/218 [==============================] - 66s 301ms/step - loss: 0.0678 - binary_accuracy: 0.9105\n",
      "Epoch 90/100\n",
      "218/218 [==============================] - 66s 303ms/step - loss: 0.0673 - binary_accuracy: 0.9116\n",
      "Epoch 91/100\n",
      "218/218 [==============================] - 66s 302ms/step - loss: 0.0693 - binary_accuracy: 0.9079\n",
      "Epoch 92/100\n",
      "218/218 [==============================] - 65s 299ms/step - loss: 0.0690 - binary_accuracy: 0.9099\n",
      "Epoch 93/100\n",
      "218/218 [==============================] - ETA: 0s - loss: 0.0665 - binary_accuracy: 0.914 - 65s 300ms/step - loss: 0.0665 - binary_accuracy: 0.9143\n",
      "Epoch 94/100\n",
      "218/218 [==============================] - 65s 300ms/step - loss: 0.0661 - binary_accuracy: 0.9140\n",
      "Epoch 95/100\n",
      "218/218 [==============================] - 66s 301ms/step - loss: 0.0634 - binary_accuracy: 0.9193\n",
      "Epoch 96/100\n",
      "218/218 [==============================] - 66s 302ms/step - loss: 0.0652 - binary_accuracy: 0.9134\n",
      "Epoch 97/100\n",
      "218/218 [==============================] - 66s 304ms/step - loss: 0.0648 - binary_accuracy: 0.9148\n",
      "Epoch 98/100\n",
      "218/218 [==============================] - 66s 304ms/step - loss: 0.0667 - binary_accuracy: 0.9124\n",
      "Epoch 99/100\n",
      "218/218 [==============================] - 67s 305ms/step - loss: 0.0604 - binary_accuracy: 0.9201\n",
      "Epoch 100/100\n",
      "218/218 [==============================] - 76s 347ms/step - loss: 0.0658 - binary_accuracy: 0.9136\n"
     ]
    }
   ],
   "source": [
    "model_mini_hist = model_mini.fit(x_train, np.asarray(y_train), batch_size=n_batch, epochs=n_epoch)"
   ]
  },
  {
   "cell_type": "code",
   "execution_count": 25,
   "metadata": {},
   "outputs": [
    {
     "name": "stdout",
     "output_type": "stream",
     "text": [
      "39/39 [==============================] - 3s 51ms/step - loss: 0.1288 - binary_accuracy: 0.8323\n",
      "\n",
      "Model Accuracy: 83.23%\n"
     ]
    }
   ],
   "source": [
    "model_mini_score = model_mini.evaluate(x_val, np.asarray(y_val), batch_size=n_batch)\n",
    "print(\"\\nModel Accuracy:\",str(round(model_mini_score[1] * 100, 2)) + '%')"
   ]
  },
  {
   "cell_type": "code",
   "execution_count": 26,
   "metadata": {},
   "outputs": [
    {
     "data": {
      "image/png": "[encoded data removed]",
      "text/plain": [
       "<Figure size 432x288 with 1 Axes>"
      ]
     },
     "metadata": {},
     "output_type": "display_data"
    }
   ],
   "source": [
    "plt.plot(model_mini_hist.history['loss'])\n",
    "\n",
    "plt.title('Model Loss')\n",
    "plt.ylabel('Loss')\n",
    "plt.xlabel('Epoch')\n",
    "plt.legend(['Train'], loc='lower left')\n",
    "\n",
    "plt.show()"
   ]
  },
  {
   "cell_type": "markdown",
   "metadata": {},
   "source": [
    "This is a good value for the model, we can use it. Let's save our model:"
   ]
  },
  {
   "cell_type": "code",
   "execution_count": 27,
   "metadata": {},
   "outputs": [],
   "source": [
    "model_mini.save('models/LSTM-Mini-Batch-Model.h5')  # save model\n",
    "del model_mini  # delete existing model\n",
    "\n",
    "# returns a compiled model, identical to the previous one\n",
    "model_mini = load_model('models/LSTM-Mini-Batch-Model.h5')"
   ]
  },
  {
   "cell_type": "markdown",
   "metadata": {},
   "source": [
    "Let's check if everything is correct:"
   ]
  },
  {
   "cell_type": "code",
   "execution_count": 28,
   "metadata": {},
   "outputs": [
    {
     "name": "stdout",
     "output_type": "stream",
     "text": [
      "39/39 [==============================] - 9s 52ms/step - loss: 0.1288 - binary_accuracy: 0.8323\n"
     ]
    },
    {
     "data": {
      "text/plain": [
       "[0.12883545458316803, 0.832349956035614]"
      ]
     },
     "execution_count": 28,
     "metadata": {},
     "output_type": "execute_result"
    }
   ],
   "source": [
    "model_mini.evaluate(x_val, np.asarray(y_val), batch_size=n_batch)"
   ]
  },
  {
   "cell_type": "markdown",
   "metadata": {},
   "source": [
    "<h2 align=\"center\">Stacked LSTM Layers</h2>\n",
    "\n",
    "Now we will try the model with a 3 stacked LSTM layers:"
   ]
  },
  {
   "cell_type": "code",
   "execution_count": 29,
   "metadata": {},
   "outputs": [
    {
     "name": "stdout",
     "output_type": "stream",
     "text": [
      "Model: \"sequential_2\"\n",
      "_________________________________________________________________\n",
      "Layer (type)                 Output Shape              Param #   \n",
      "=================================================================\n",
      "lstm_2 (LSTM)                (None, 100, 100)          60400     \n",
      "_________________________________________________________________\n",
      "lstm_3 (LSTM)                (None, 100, 32)           17024     \n",
      "_________________________________________________________________\n",
      "lstm_4 (LSTM)                (None, 32)                8320      \n",
      "_________________________________________________________________\n",
      "dense_2 (Dense)              (None, 1)                 33        \n",
      "=================================================================\n",
      "Total params: 85,777\n",
      "Trainable params: 85,777\n",
      "Non-trainable params: 0\n",
      "_________________________________________________________________\n",
      "None\n"
     ]
    }
   ],
   "source": [
    "# configure network\n",
    "n_neurons = 100\n",
    "n_epoch = 20\n",
    "n_batch = 128\n",
    "\n",
    "# design network\n",
    "model3L = Sequential()\n",
    "\n",
    "model3L.add(LSTM(n_neurons, return_sequences=True, input_shape=(x.shape[1], x.shape[2])))\n",
    "model3L.add(LSTM(32, return_sequences=True))  # returns a sequence of vectors of dimension 32\n",
    "model3L.add(LSTM(32))  # return a single vector of dimension 32\n",
    "\n",
    "model3L.add(Dense(1, activation='sigmoid'))\n",
    "model3L.compile(loss='mean_squared_error', optimizer='adam', metrics=['binary_accuracy'])\n",
    "\n",
    "print(model3L.summary())"
   ]
  },
  {
   "cell_type": "code",
   "execution_count": 30,
   "metadata": {},
   "outputs": [
    {
     "name": "stdout",
     "output_type": "stream",
     "text": [
      "Epoch 1/20\n",
      "218/218 [==============================] - 91s 354ms/step - loss: 0.2358 - binary_accuracy: 0.5985\n",
      "Epoch 2/20\n",
      "218/218 [==============================] - 74s 338ms/step - loss: 0.1848 - binary_accuracy: 0.7314\n",
      "Epoch 3/20\n",
      "218/218 [==============================] - 77s 353ms/step - loss: 0.1776 - binary_accuracy: 0.7441\n",
      "Epoch 4/20\n",
      "218/218 [==============================] - 79s 360ms/step - loss: 0.1663 - binary_accuracy: 0.7644\n",
      "Epoch 5/20\n",
      "218/218 [==============================] - 76s 351ms/step - loss: 0.1574 - binary_accuracy: 0.7754\n",
      "Epoch 6/20\n",
      "218/218 [==============================] - 80s 366ms/step - loss: 0.1486 - binary_accuracy: 0.7892\n",
      "Epoch 7/20\n",
      "218/218 [==============================] - 86s 396ms/step - loss: 0.1422 - binary_accuracy: 0.8014\n",
      "Epoch 8/20\n",
      "218/218 [==============================] - 86s 393ms/step - loss: 0.1432 - binary_accuracy: 0.7969\n",
      "Epoch 9/20\n",
      "218/218 [==============================] - 78s 356ms/step - loss: 0.1305 - binary_accuracy: 0.8202\n",
      "Epoch 10/20\n",
      "218/218 [==============================] - 88s 406ms/step - loss: 0.1259 - binary_accuracy: 0.8229\n",
      "Epoch 11/20\n",
      "218/218 [==============================] - 84s 383ms/step - loss: 0.1213 - binary_accuracy: 0.8357\n",
      "Epoch 12/20\n",
      "218/218 [==============================] - 80s 366ms/step - loss: 0.1171 - binary_accuracy: 0.8411\n",
      "Epoch 13/20\n",
      "218/218 [==============================] - 85s 391ms/step - loss: 0.1128 - binary_accuracy: 0.8481\n",
      "Epoch 14/20\n",
      "218/218 [==============================] - 85s 392ms/step - loss: 0.1071 - binary_accuracy: 0.8556\n",
      "Epoch 15/20\n",
      "218/218 [==============================] - 84s 386ms/step - loss: 0.1025 - binary_accuracy: 0.8658\n",
      "Epoch 16/20\n",
      "218/218 [==============================] - 96s 443ms/step - loss: 0.0970 - binary_accuracy: 0.8726\n",
      "Epoch 17/20\n",
      "218/218 [==============================] - 92s 421ms/step - loss: 0.0950 - binary_accuracy: 0.8767\n",
      "Epoch 18/20\n",
      "218/218 [==============================] - 87s 398ms/step - loss: 0.0901 - binary_accuracy: 0.8842\n",
      "Epoch 19/20\n",
      "218/218 [==============================] - 88s 405ms/step - loss: 0.0890 - binary_accuracy: 0.8843\n",
      "Epoch 20/20\n",
      "218/218 [==============================] - 81s 373ms/step - loss: 0.0819 - binary_accuracy: 0.8969\n"
     ]
    }
   ],
   "source": [
    "model3L_hist = model3L.fit(x_train, np.asarray(y_train), batch_size=n_batch, epochs=n_epoch)"
   ]
  },
  {
   "cell_type": "code",
   "execution_count": 31,
   "metadata": {},
   "outputs": [
    {
     "name": "stdout",
     "output_type": "stream",
     "text": [
      "39/39 [==============================] - 10s 159ms/step - loss: 0.1411 - binary_accuracy: 0.82125s - loss: 0.1390 - binary_accuracy: 0 - ETA: 4s - loss: 0.1374 - binary_accuracy - ETA: 3s - loss: 0.1415 - bina\n",
      "\n",
      "Model Accuracy: 82.12%\n"
     ]
    }
   ],
   "source": [
    "model3L_score = model3L.evaluate(x_val, np.asarray(y_val), batch_size=n_batch)\n",
    "print(\"\\nModel Accuracy:\", str(round(model3L_score[1] * 100, 2)) + '%')"
   ]
  },
  {
   "cell_type": "code",
   "execution_count": 32,
   "metadata": {},
   "outputs": [
    {
     "data": {
      "image/png": "[encoded data removed]",
      "text/plain": [
       "<Figure size 432x288 with 1 Axes>"
      ]
     },
     "metadata": {},
     "output_type": "display_data"
    }
   ],
   "source": [
    "plt.plot(model3L_hist.history['loss'])\n",
    "\n",
    "plt.title('Model Loss')\n",
    "plt.ylabel('Loss')\n",
    "plt.xlabel('Epoch')\n",
    "plt.legend(['Train'], loc='lower left')\n",
    "\n",
    "plt.show()"
   ]
  },
  {
   "cell_type": "markdown",
   "metadata": {},
   "source": [
    "Let's save our model:"
   ]
  },
  {
   "cell_type": "code",
   "execution_count": 33,
   "metadata": {},
   "outputs": [],
   "source": [
    "model3L.save('models/LSTM-3L-Model.h5')  # save model\n",
    "del model3L  # delete existing model\n",
    "\n",
    "# returns a compiled model, identical to the previous one\n",
    "model3L = load_model('models/LSTM-3L-Model.h5')"
   ]
  },
  {
   "cell_type": "markdown",
   "metadata": {},
   "source": [
    "Let's check if everything is correct:"
   ]
  },
  {
   "cell_type": "code",
   "execution_count": 34,
   "metadata": {},
   "outputs": [
    {
     "name": "stdout",
     "output_type": "stream",
     "text": [
      "39/39 [==============================] - 8s 132ms/step - loss: 0.1411 - binary_accuracy: 0.8212\n"
     ]
    },
    {
     "data": {
      "text/plain": [
       "[0.14113344252109528, 0.8211597204208374]"
      ]
     },
     "execution_count": 34,
     "metadata": {},
     "output_type": "execute_result"
    }
   ],
   "source": [
    "model3L.evaluate(x_val, np.asarray(y_val), batch_size=n_batch)"
   ]
  },
  {
   "cell_type": "markdown",
   "metadata": {},
   "source": [
    "<h2 align=\"center\">Bidirectional LSTM</h2>\n",
    "\n",
    "Bidirectional LSTMs are an extension of traditional LSTMs that can improve model performance on sequence classification problems.\n",
    "\n",
    "In problems where all timesteps of the input sequence are available, Bidirectional LSTMs train two instead of one LSTMs on the input sequence. The first on the input sequence as-is and the second on a reversed copy of the input sequence. This can provide additional context to the network and result in faster and even fuller learning on the problem.\n",
    "\n",
    "The idea of Bidirectional Recurrent Neural Networks (RNNs) is straightforward.\n",
    "\n",
    "It involves duplicating the first recurrent layer in the network so that there are now two layers side-by-side, then providing the input sequence as-is as input to the first layer and providing a reversed copy of the input sequence to the second."
   ]
  },
  {
   "cell_type": "code",
   "execution_count": 39,
   "metadata": {},
   "outputs": [
    {
     "name": "stdout",
     "output_type": "stream",
     "text": [
      "Model: \"sequential_5\"\n",
      "_________________________________________________________________\n",
      "Layer (type)                 Output Shape              Param #   \n",
      "=================================================================\n",
      "bidirectional_2 (Bidirection (None, 128)               58880     \n",
      "_________________________________________________________________\n",
      "dropout_2 (Dropout)          (None, 128)               0         \n",
      "_________________________________________________________________\n",
      "dense_5 (Dense)              (None, 1)                 129       \n",
      "=================================================================\n",
      "Total params: 59,009\n",
      "Trainable params: 59,009\n",
      "Non-trainable params: 0\n",
      "_________________________________________________________________\n",
      "None\n"
     ]
    }
   ],
   "source": [
    "from keras.layers import Bidirectional\n",
    "from keras.datasets import imdb\n",
    "\n",
    "# configure network\n",
    "max_seq_len = 100\n",
    "n_epoch = 20\n",
    "n_batch = 128\n",
    "\n",
    "# design network\n",
    "model_Bi_LSTM = Sequential()\n",
    "model_Bi_LSTM.add(Bidirectional(LSTM(64), input_shape=(x.shape[1], x.shape[2])))\n",
    "model_Bi_LSTM.add(Dropout(0.5))\n",
    "model_Bi_LSTM.add(Dense(1, activation='sigmoid'))\n",
    "\n",
    "# try using different optimizers and different optimizer configs\n",
    "model_Bi_LSTM.compile('adam', 'binary_crossentropy', metrics=['accuracy'])\n",
    "print(model_Bi_LSTM.summary())"
   ]
  },
  {
   "cell_type": "code",
   "execution_count": 40,
   "metadata": {},
   "outputs": [
    {
     "name": "stdout",
     "output_type": "stream",
     "text": [
      "Epoch 1/20\n",
      "218/218 [==============================] - 61s 237ms/step - loss: 0.6324 - accuracy: 0.6319 - val_loss: 0.5359 - val_accuracy: 0.7377\n",
      "Epoch 2/20\n",
      "218/218 [==============================] - 46s 211ms/step - loss: 0.5404 - accuracy: 0.7357 - val_loss: 0.5088 - val_accuracy: 0.7577\n",
      "Epoch 3/20\n",
      "218/218 [==============================] - 45s 204ms/step - loss: 0.5035 - accuracy: 0.7589 - val_loss: 0.4838 - val_accuracy: 0.7677\n",
      "Epoch 4/20\n",
      "218/218 [==============================] - 41s 188ms/step - loss: 0.4771 - accuracy: 0.7737 - val_loss: 0.4611 - val_accuracy: 0.7878\n",
      "Epoch 5/20\n",
      "218/218 [==============================] - 40s 181ms/step - loss: 0.4521 - accuracy: 0.7897 - val_loss: 0.4501 - val_accuracy: 0.7915\n",
      "Epoch 6/20\n",
      "218/218 [==============================] - 40s 184ms/step - loss: 0.4310 - accuracy: 0.8006 - val_loss: 0.4480 - val_accuracy: 0.7900\n",
      "Epoch 7/20\n",
      "218/218 [==============================] - 41s 190ms/step - loss: 0.4128 - accuracy: 0.8129 - val_loss: 0.4268 - val_accuracy: 0.8000\n",
      "Epoch 8/20\n",
      "218/218 [==============================] - 43s 199ms/step - loss: 0.4033 - accuracy: 0.8164 - val_loss: 0.4250 - val_accuracy: 0.8087\n",
      "Epoch 9/20\n",
      "218/218 [==============================] - 42s 194ms/step - loss: 0.3882 - accuracy: 0.8271 - val_loss: 0.4282 - val_accuracy: 0.8057\n",
      "Epoch 10/20\n",
      "218/218 [==============================] - 40s 183ms/step - loss: 0.3762 - accuracy: 0.8349 - val_loss: 0.4286 - val_accuracy: 0.8020\n",
      "Epoch 11/20\n",
      "218/218 [==============================] - 42s 195ms/step - loss: 0.3614 - accuracy: 0.8425 - val_loss: 0.4247 - val_accuracy: 0.8114\n",
      "Epoch 12/20\n",
      "218/218 [==============================] - 46s 213ms/step - loss: 0.3460 - accuracy: 0.8473 - val_loss: 0.4414 - val_accuracy: 0.7961\n",
      "Epoch 13/20\n",
      "218/218 [==============================] - 45s 206ms/step - loss: 0.3409 - accuracy: 0.8521 - val_loss: 0.4291 - val_accuracy: 0.8118\n",
      "Epoch 14/20\n",
      "218/218 [==============================] - 46s 211ms/step - loss: 0.3281 - accuracy: 0.8603 - val_loss: 0.4324 - val_accuracy: 0.8102\n",
      "Epoch 15/20\n",
      "218/218 [==============================] - 42s 193ms/step - loss: 0.3108 - accuracy: 0.8666 - val_loss: 0.4387 - val_accuracy: 0.8065\n",
      "Epoch 16/20\n",
      "218/218 [==============================] - 47s 216ms/step - loss: 0.2936 - accuracy: 0.8755 - val_loss: 0.4431 - val_accuracy: 0.8081\n",
      "Epoch 17/20\n",
      "218/218 [==============================] - 43s 196ms/step - loss: 0.2844 - accuracy: 0.8820 - val_loss: 0.4702 - val_accuracy: 0.8049\n",
      "Epoch 18/20\n",
      "218/218 [==============================] - 41s 186ms/step - loss: 0.2815 - accuracy: 0.8843 - val_loss: 0.4590 - val_accuracy: 0.8043\n",
      "Epoch 19/20\n",
      "218/218 [==============================] - 40s 184ms/step - loss: 0.2638 - accuracy: 0.8907 - val_loss: 0.4715 - val_accuracy: 0.8071\n",
      "Epoch 20/20\n",
      "218/218 [==============================] - 43s 198ms/step - loss: 0.2568 - accuracy: 0.8934 - val_loss: 0.4881 - val_accuracy: 0.8094\n"
     ]
    }
   ],
   "source": [
    "model_Bi_LSTM_hist = model_Bi_LSTM.fit(x_train, np.asarray(y_train), epochs=n_epoch, batch_size=n_batch, validation_data=(x_val, np.asarray(y_val)))"
   ]
  },
  {
   "cell_type": "code",
   "execution_count": 42,
   "metadata": {},
   "outputs": [
    {
     "name": "stdout",
     "output_type": "stream",
     "text": [
      "39/39 [==============================] - 2s 40ms/step - loss: 0.4881 - accuracy: 0.8094\n",
      "\n",
      "Model Accuracy: 80.94%\n"
     ]
    }
   ],
   "source": [
    "model_Bi_LSTM_score = model_Bi_LSTM.evaluate(x_val, np.asarray(y_val), batch_size=n_batch)\n",
    "print(\"\\nModel Accuracy:\",str(round(model_Bi_LSTM_score[1] * 100, 2)) + '%')"
   ]
  },
  {
   "cell_type": "code",
   "execution_count": 43,
   "metadata": {},
   "outputs": [
    {
     "data": {
      "image/png": "[encoded data removed]",
      "text/plain": [
       "<Figure size 432x288 with 1 Axes>"
      ]
     },
     "metadata": {},
     "output_type": "display_data"
    }
   ],
   "source": [
    "plt.plot(model_Bi_LSTM_hist.history['loss'])\n",
    "plt.plot(model_Bi_LSTM_hist.history['val_loss'])\n",
    "\n",
    "plt.title('Model Loss')\n",
    "plt.ylabel('Loss')\n",
    "plt.xlabel('Epoch')\n",
    "plt.legend(['Train', 'Val'], loc='lower left')\n",
    "\n",
    "plt.show()"
   ]
  },
  {
   "cell_type": "code",
   "execution_count": 46,
   "metadata": {},
   "outputs": [
    {
     "data": {
      "image/png": "[encoded data removed]",
      "text/plain": [
       "<Figure size 432x288 with 1 Axes>"
      ]
     },
     "metadata": {},
     "output_type": "display_data"
    }
   ],
   "source": [
    "plt.plot(model_Bi_LSTM_hist.history['accuracy'])\n",
    "plt.plot(model_Bi_LSTM_hist.history['val_accuracy'])\n",
    "\n",
    "plt.title('Model Loss')\n",
    "plt.ylabel('Loss')\n",
    "plt.xlabel('Epoch')\n",
    "plt.legend(['Train', 'Val'], loc='lower left')\n",
    "\n",
    "plt.show()"
   ]
  },
  {
   "cell_type": "markdown",
   "metadata": {},
   "source": [
    "Let's save our model:"
   ]
  },
  {
   "cell_type": "code",
   "execution_count": 47,
   "metadata": {},
   "outputs": [],
   "source": [
    "model_Bi_LSTM.save('models/LSTM-Bi-Model.h5')  # save model\n",
    "del model_Bi_LSTM  # delete existing model\n",
    "\n",
    "# returns a compiled model, identical to the previous one\n",
    "model_Bi_LSTM = load_model('models/LSTM-Bi-Model.h5')"
   ]
  },
  {
   "cell_type": "markdown",
   "metadata": {},
   "source": [
    "<h2 align=\"center\">CNN + LSTM</h2>\n",
    "\n",
    "This approach is based entirely on [this work](https://www.aclweb.org/anthology/P16-2037.pdf). As indicated in the work:\n",
    "\n",
    "<cite>\n",
    "    \n",
    "    Dimensional sentiment analysis aims to recognize continuous numerical values in multiple dimensions such as the valencearousal (VA) space. \n",
    "    \n",
    "    Compared to the categorical approach that focuses on sentiment classification such as binary classification (i.e., positive and negative), the dimensional approach can provide more fine-grained sentiment analysis. This study proposes a regional CNN-LSTM model consisting of two parts: regional CNN and LSTM to predict the VA ratings of texts. \n",
    "   \n",
    "    Unlike a conventional CNN which considers a whole text as input, the proposed regional CNN uses an individual sentence as a region, dividing an input text into several regions such that the useful affective information in each region can be extracted and weighted according to their contribution to the VA prediction. Such regional information is sequentially integrated across regions using LSTM for VA prediction. \n",
    "\n",
    "</cite>\n",
    "\n",
    "In short, word vectors of vocabulary words are trained from a large corpus using the word2vec toolkit. For each given text, the  regional CNN model uses the sentence as a region to divide the text into R-domains, ie r1, ..., ri rj, rk, ..., rR. In each region, useful affective functions can be removed when word vectors pass sequentially through the convolutional layer and the  maxpooling  layer. Then such local (regional) features are sequentially integrated between regions using LSTM to construct a text vector for VA prediction."
   ]
  },
  {
   "cell_type": "code",
   "execution_count": 48,
   "metadata": {},
   "outputs": [
    {
     "name": "stdout",
     "output_type": "stream",
     "text": [
      "Model: \"sequential_6\"\n",
      "_________________________________________________________________\n",
      "Layer (type)                 Output Shape              Param #   \n",
      "=================================================================\n",
      "conv1d (Conv1D)              (None, 100, 100)          15100     \n",
      "_________________________________________________________________\n",
      "max_pooling1d (MaxPooling1D) (None, 50, 100)           0         \n",
      "_________________________________________________________________\n",
      "lstm_8 (LSTM)                (None, 100)               80400     \n",
      "_________________________________________________________________\n",
      "dense_6 (Dense)              (None, 1)                 101       \n",
      "=================================================================\n",
      "Total params: 95,601\n",
      "Trainable params: 95,601\n",
      "Non-trainable params: 0\n",
      "_________________________________________________________________\n",
      "None\n"
     ]
    }
   ],
   "source": [
    "from keras.layers import Conv1D, MaxPooling1D\n",
    "\n",
    "# configure network\n",
    "n_epoch = 20\n",
    "n_batch = 128\n",
    "\n",
    "# design network\n",
    "model_CNN_LSTM = Sequential()\n",
    "\n",
    "model_CNN_LSTM.add(Conv1D(filters=100, kernel_size=3, input_shape=(x.shape[1], x.shape[2]), padding='same', activation='relu'))\n",
    "model_CNN_LSTM.add(MaxPooling1D(pool_size=2))\n",
    "model_CNN_LSTM.add(LSTM(100))\n",
    "model_CNN_LSTM.add(Dense(1, activation='sigmoid'))\n",
    "\n",
    "model_CNN_LSTM.compile(loss='binary_crossentropy', optimizer='adam', metrics=['accuracy'])\n",
    "\n",
    "print(model_CNN_LSTM.summary())"
   ]
  },
  {
   "cell_type": "code",
   "execution_count": 49,
   "metadata": {},
   "outputs": [
    {
     "name": "stdout",
     "output_type": "stream",
     "text": [
      "Epoch 1/20\n",
      "218/218 [==============================] - 35s 135ms/step - loss: 0.6413 - accuracy: 0.6218\n",
      "Epoch 2/20\n",
      "218/218 [==============================] - 30s 138ms/step - loss: 0.5066 - accuracy: 0.7550\n",
      "Epoch 3/20\n",
      "218/218 [==============================] - 30s 139ms/step - loss: 0.4492 - accuracy: 0.7936\n",
      "Epoch 4/20\n",
      "218/218 [==============================] - 29s 133ms/step - loss: 0.4160 - accuracy: 0.8109\n",
      "Epoch 5/20\n",
      "218/218 [==============================] - 30s 139ms/step - loss: 0.3841 - accuracy: 0.8314\n",
      "Epoch 6/20\n",
      "218/218 [==============================] - 30s 139ms/step - loss: 0.3719 - accuracy: 0.8384\n",
      "Epoch 7/20\n",
      "218/218 [==============================] - 26s 121ms/step - loss: 0.3486 - accuracy: 0.8529\n",
      "Epoch 8/20\n",
      "218/218 [==============================] - 26s 121ms/step - loss: 0.3248 - accuracy: 0.8640\n",
      "Epoch 9/20\n",
      "218/218 [==============================] - 27s 122ms/step - loss: 0.3060 - accuracy: 0.8765\n",
      "Epoch 10/20\n",
      "218/218 [==============================] - 27s 122ms/step - loss: 0.2956 - accuracy: 0.8807\n",
      "Epoch 11/20\n",
      "218/218 [==============================] - 26s 121ms/step - loss: 0.2746 - accuracy: 0.8881\n",
      "Epoch 12/20\n",
      "218/218 [==============================] - 27s 126ms/step - loss: 0.2468 - accuracy: 0.9058\n",
      "Epoch 13/20\n",
      "218/218 [==============================] - 27s 122ms/step - loss: 0.2280 - accuracy: 0.9140\n",
      "Epoch 14/20\n",
      "218/218 [==============================] - 27s 122ms/step - loss: 0.2091 - accuracy: 0.9238\n",
      "Epoch 15/20\n",
      "218/218 [==============================] - 27s 123ms/step - loss: 0.2146 - accuracy: 0.9204\n",
      "Epoch 16/20\n",
      "218/218 [==============================] - 29s 131ms/step - loss: 0.1987 - accuracy: 0.9286\n",
      "Epoch 17/20\n",
      "218/218 [==============================] - 28s 127ms/step - loss: 0.1885 - accuracy: 0.9324\n",
      "Epoch 18/20\n",
      "218/218 [==============================] - 27s 123ms/step - loss: 0.1565 - accuracy: 0.9474\n",
      "Epoch 19/20\n",
      "218/218 [==============================] - 26s 120ms/step - loss: 0.1625 - accuracy: 0.9435\n",
      "Epoch 20/20\n",
      "218/218 [==============================] - 26s 120ms/step - loss: 0.1279 - accuracy: 0.9577\n"
     ]
    }
   ],
   "source": [
    "model_CNN_LSTM_hist = model_CNN_LSTM.fit(x_train, np.asarray(y_train), epochs=n_epoch, batch_size=n_batch)"
   ]
  },
  {
   "cell_type": "code",
   "execution_count": 50,
   "metadata": {},
   "outputs": [
    {
     "name": "stdout",
     "output_type": "stream",
     "text": [
      "39/39 [==============================] - 3s 44ms/step - loss: 0.5764 - accuracy: 0.8108\n",
      "\n",
      "Model Accuracy: 81.08%\n"
     ]
    }
   ],
   "source": [
    "model_CNN_LSTM_score = model_CNN_LSTM.evaluate(x_val, np.asarray(y_val), batch_size=n_batch)\n",
    "print(\"\\nModel Accuracy:\",str(round(model_CNN_LSTM_score[1] * 100, 2)) + '%')"
   ]
  },
  {
   "cell_type": "code",
   "execution_count": 51,
   "metadata": {},
   "outputs": [
    {
     "data": {
      "image/png": "[encoded data removed]",
      "text/plain": [
       "<Figure size 432x288 with 1 Axes>"
      ]
     },
     "metadata": {},
     "output_type": "display_data"
    }
   ],
   "source": [
    "plt.plot(model_CNN_LSTM_hist.history['loss'])\n",
    "\n",
    "plt.title('Model Loss')\n",
    "plt.ylabel('Loss')\n",
    "plt.xlabel('Epoch')\n",
    "plt.legend(['Train'], loc='lower left')\n",
    "\n",
    "plt.show()"
   ]
  },
  {
   "cell_type": "markdown",
   "metadata": {},
   "source": [
    "Let's save our model:"
   ]
  },
  {
   "cell_type": "code",
   "execution_count": 52,
   "metadata": {},
   "outputs": [],
   "source": [
    "model_CNN_LSTM.save('models/LSTM-CNN-Model.h5')  # save model\n",
    "del model_CNN_LSTM  # delete existing model\n",
    "\n",
    "# returns a compiled model, identical to the previous one\n",
    "model_CNN_LSTM = load_model('models/LSTM-CNN-Model.h5')"
   ]
  },
  {
   "cell_type": "markdown",
   "metadata": {},
   "source": [
    "<h2 align=\"center\">Testing</h2>\n",
    "\n",
    "So far in terms of accuracy the best model is LSTM Model with Mini-Batch Gradient Descent.\n",
    "\n",
    "Let's try to check the test data with all but one of the test examples to see if the model can predict it:"
   ]
  },
  {
   "cell_type": "code",
   "execution_count": 54,
   "metadata": {},
   "outputs": [
    {
     "name": "stdout",
     "output_type": "stream",
     "text": [
      "Length of test data (except 1): 5781\n"
     ]
    }
   ],
   "source": [
    "print(\"Length of test data (except 1):\", len(x_test[:-1]))"
   ]
  },
  {
   "cell_type": "code",
   "execution_count": 55,
   "metadata": {},
   "outputs": [
    {
     "name": "stdout",
     "output_type": "stream",
     "text": [
      "181/181 [==============================] - 3s 17ms/step - loss: 0.1284 - binary_accuracy: 0.8336\n",
      "[0.1283915936946869, 0.8335928320884705]\n"
     ]
    }
   ],
   "source": [
    "score_test = model_mini.evaluate(x_test[:-1], np.asarray(y_test[:-1]))\n",
    "print(score_test)"
   ]
  },
  {
   "cell_type": "code",
   "execution_count": 56,
   "metadata": {},
   "outputs": [
    {
     "name": "stdout",
     "output_type": "stream",
     "text": [
      "1/1 [==============================] - 1s 525ms/step - loss: 0.2636 - accuracy: 1.0000\n",
      "[0.2635563910007477, 1.0]\n"
     ]
    }
   ],
   "source": [
    "score_test_one = model_CNN_LSTM.evaluate(x_test[-1:], np.asarray(y_test[-1:]))\n",
    "print(score_test_one)"
   ]
  },
  {
   "cell_type": "code",
   "execution_count": 58,
   "metadata": {},
   "outputs": [
    {
     "name": "stdout",
     "output_type": "stream",
     "text": [
      "[[1]\n",
      " [0]\n",
      " [0]\n",
      " ...\n",
      " [1]\n",
      " [0]\n",
      " [1]]\n"
     ]
    }
   ],
   "source": [
    "predict_test = model_CNN_LSTM.predict_classes(x_test[:-1])\n",
    "print(predict_test)"
   ]
  },
  {
   "cell_type": "code",
   "execution_count": 59,
   "metadata": {},
   "outputs": [],
   "source": [
    "predict_test_one = model_CNN_LSTM.predict_classes(x_test[-1:])"
   ]
  },
  {
   "cell_type": "code",
   "execution_count": 60,
   "metadata": {},
   "outputs": [
    {
     "name": "stdout",
     "output_type": "stream",
     "text": [
      "Predicted value: 1 \n",
      "Actual value: 1\n"
     ]
    }
   ],
   "source": [
    "print(\"Predicted value:\", predict_test_one[0][0], \"\\nActual value:\", y_test[-1:][0])"
   ]
  },
  {
   "cell_type": "markdown",
   "metadata": {},
   "source": [
    "Prediction works great, now let's visualize the data."
   ]
  },
  {
   "cell_type": "markdown",
   "metadata": {},
   "source": [
    "<h2 align=\"center\">Visualization of Classification Report</h2>\n",
    "\n",
    "We will need our method from previous part to visualize our data, so we will use them now."
   ]
  },
  {
   "cell_type": "code",
   "execution_count": 61,
   "metadata": {},
   "outputs": [],
   "source": [
    "def plot_classification_report(classification_report, title='Classification Report', cmap='RdBu'):\n",
    "    \n",
    "    lines = classification_report.split('\\n')\n",
    "\n",
    "    classes, plotMat, support, class_names = [], [], [], []\n",
    "    \n",
    "    for line in lines[2 : (len(lines) - 5)]:\n",
    "        t = line.strip().split()\n",
    "        if len(t) < 2: continue\n",
    "        classes.append(t[0])\n",
    "        v = [float(x) for x in t[1: len(t) - 1]]\n",
    "        support.append(int(t[-1]))\n",
    "        class_names.append(t[0])\n",
    "        plotMat.append(v)\n",
    "\n",
    "    xlabel = 'Metrics'\n",
    "    ylabel = 'Classes'\n",
    "    \n",
    "    xticklabels = ['Precision', 'Recall', 'F1-score']\n",
    "    yticklabels = ['{0} ({1})'.format(class_names[idx], sup) for idx, sup  in enumerate(support)]\n",
    "    \n",
    "    figure_width = 25\n",
    "    figure_height = len(class_names) + 7\n",
    "    correct_orientation = False\n",
    "    \n",
    "    heatmap(np.array(plotMat), title, xlabel, ylabel, xticklabels, yticklabels, figure_width, figure_height, correct_orientation, cmap=cmap)"
   ]
  },
  {
   "cell_type": "code",
   "execution_count": 62,
   "metadata": {},
   "outputs": [],
   "source": [
    "def heatmap(AUC, title, xlabel, ylabel, xticklabels, yticklabels, figure_width=40, figure_height=20, correct_orientation=False, cmap='RdBu'):\n",
    "    fig, ax = plt.subplots()\n",
    "    c = ax.pcolor(AUC, edgecolors='k', linestyle='dashed', linewidths=0.2, cmap=cmap)\n",
    "\n",
    "    # put the major ticks at the middle of each cell\n",
    "    ax.set_yticks(np.arange(AUC.shape[0]) + 0.5, minor=False)\n",
    "    ax.set_xticks(np.arange(AUC.shape[1]) + 0.5, minor=False)\n",
    "\n",
    "    # set tick labels\n",
    "    ax.set_xticklabels(xticklabels, minor=False)\n",
    "    ax.set_yticklabels(yticklabels, minor=False)\n",
    "\n",
    "    # set title and x/y labels\n",
    "    plt.title(title)\n",
    "    plt.xlabel(xlabel)\n",
    "    plt.ylabel(ylabel)      \n",
    "\n",
    "    # remove last blank column\n",
    "    plt.xlim( (0, AUC.shape[1]) )\n",
    "\n",
    "    # turn off all the ticks\n",
    "    ax = plt.gca()    \n",
    "    for t in ax.xaxis.get_major_ticks():\n",
    "        t.tick1On = False\n",
    "        t.tick2On = False\n",
    "    for t in ax.yaxis.get_major_ticks():\n",
    "        t.tick1On = False\n",
    "        t.tick2On = False\n",
    "\n",
    "    # add color bar\n",
    "    plt.colorbar(c)\n",
    "\n",
    "    # add text in each cell \n",
    "    show_val(c)\n",
    "\n",
    "    # proper orientation (origin at the top left instead of bottom left)\n",
    "    if correct_orientation:\n",
    "        ax.invert_yaxis()\n",
    "        ax.xaxis.tick_top()       \n",
    "\n",
    "    # resize \n",
    "    fig = plt.gcf()\n",
    "    fig.set_size_inches(cm_to_inch(figure_width, figure_height))"
   ]
  },
  {
   "cell_type": "code",
   "execution_count": 63,
   "metadata": {},
   "outputs": [],
   "source": [
    "def show_val(pc, fmt=\"%.2f\", **kw):\n",
    "    pc.update_scalarmappable()\n",
    "    ax = pc.axes\n",
    "    for p, color, value in zip(pc.get_paths(), pc.get_facecolors(), pc.get_array()):\n",
    "        x, y = p.vertices[:-2, :].mean(0)\n",
    "        if np.all(color[:3] > 0.5):\n",
    "            color = (0.0, 0.0, 0.0)\n",
    "        else:\n",
    "            color = (1.0, 1.0, 1.0)\n",
    "        ax.text(x, y, fmt % value, ha=\"center\", va=\"center\", color=color, **kw)"
   ]
  },
  {
   "cell_type": "code",
   "execution_count": 64,
   "metadata": {},
   "outputs": [],
   "source": [
    "def cm_to_inch(*dim):\n",
    "    inch = 2.54\n",
    "    return tuple(i/inch for i in dim[0]) if type(dim[0]) == tuple else tuple(i/inch for i in dim)"
   ]
  },
  {
   "cell_type": "markdown",
   "metadata": {},
   "source": [
    "<h2 align=\"center\">Comparison of Models</h2> \n",
    "\n",
    "A useful tool when predicting the probability of a binary outcome is the Receiver Operating Characteristic curve, or ROC curve.\n",
    "\n",
    "It is a plot of the false positive rate (x-axis) versus the true positive rate (y-axis) for a number of different candidate threshold values between 0.0 and 1.0. Put another way, it plots the false alarm rate versus the hit rate.\n",
    "\n",
    "The true positive rate is calculated as the number of true positives divided by the sum of the number of true positives and the number of false negatives. It describes how good the model is at predicting the positive class when the actual outcome is positive.\n",
    "\n",
    "The false positive rate is calculated as the number of false positives divided by the sum of the number of false positives and the number of true negatives.\n",
    "\n",
    "It is also called the false alarm rate as it summarizes how often a positive class is predicted when the actual outcome is negative.\n",
    "\n",
    "To make this clear:\n",
    "* Smaller values on the x-axis of the plot indicate lower false positives and higher true negatives.\n",
    "* Larger values on the y-axis of the plot indicate higher true positives and lower false negatives."
   ]
  },
  {
   "cell_type": "code",
   "execution_count": 65,
   "metadata": {},
   "outputs": [
    {
     "name": "stdout",
     "output_type": "stream",
     "text": [
      "Classification Report LSTM Batch Model:\n",
      "               precision    recall  f1-score   support\n",
      "\n",
      "           0       0.79      0.78      0.78      2438\n",
      "           1       0.84      0.85      0.84      3344\n",
      "\n",
      "    accuracy                           0.82      5782\n",
      "   macro avg       0.81      0.81      0.81      5782\n",
      "weighted avg       0.82      0.82      0.82      5782\n",
      "\n"
     ]
    },
    {
     "data": {
      "image/png": "[encoded data removed]",
      "text/plain": [
       "<Figure size 708.661x255.118 with 2 Axes>"
      ]
     },
     "metadata": {},
     "output_type": "display_data"
    }
   ],
   "source": [
    "from sklearn.metrics import classification_report\n",
    "\n",
    "batch_prediction = (model_batch.predict(x_test) > 0.5).astype(\"int32\")\n",
    "print('Classification Report LSTM Batch Model:\\n', classification_report(y_test, batch_prediction))\n",
    "\n",
    "plot_classification_report(classification_report(y_test, batch_prediction), title='LSTM Batch Classification Report', cmap='RdBu')"
   ]
  },
  {
   "cell_type": "code",
   "execution_count": 66,
   "metadata": {},
   "outputs": [
    {
     "name": "stdout",
     "output_type": "stream",
     "text": [
      "Classification Report LSTM Mini-Batch Model:\n",
      "               precision    recall  f1-score   support\n",
      "\n",
      "           0       0.85      0.73      0.79      2438\n",
      "           1       0.82      0.91      0.86      3344\n",
      "\n",
      "    accuracy                           0.83      5782\n",
      "   macro avg       0.84      0.82      0.83      5782\n",
      "weighted avg       0.84      0.83      0.83      5782\n",
      "\n"
     ]
    },
    {
     "data": {
      "image/png": "[encoded data removed]",
      "text/plain": [
       "<Figure size 708.661x255.118 with 2 Axes>"
      ]
     },
     "metadata": {},
     "output_type": "display_data"
    }
   ],
   "source": [
    "mini_prediction = (model_mini.predict(x_test) > 0.5).astype(\"int32\")\n",
    "print('Classification Report LSTM Mini-Batch Model:\\n', classification_report(y_test, mini_prediction))\n",
    "\n",
    "plot_classification_report(classification_report(y_test, mini_prediction), title='LSTM Mini-Batch Classification Report', cmap='RdBu')"
   ]
  },
  {
   "cell_type": "code",
   "execution_count": 67,
   "metadata": {},
   "outputs": [
    {
     "name": "stdout",
     "output_type": "stream",
     "text": [
      "Classification Report LSTM Stacked Layers Model:\n",
      "               precision    recall  f1-score   support\n",
      "\n",
      "           0       0.78      0.77      0.78      2438\n",
      "           1       0.84      0.84      0.84      3344\n",
      "\n",
      "    accuracy                           0.81      5782\n",
      "   macro avg       0.81      0.81      0.81      5782\n",
      "weighted avg       0.81      0.81      0.81      5782\n",
      "\n"
     ]
    },
    {
     "data": {
      "image/png": "[encoded data removed]",
      "text/plain": [
       "<Figure size 708.661x255.118 with 2 Axes>"
      ]
     },
     "metadata": {},
     "output_type": "display_data"
    }
   ],
   "source": [
    "stack_layer_prediction = (model3L.predict(x_test) > 0.5).astype(\"int32\")\n",
    "print('Classification Report LSTM Stacked Layers Model:\\n', classification_report(y_test, stack_layer_prediction))\n",
    "\n",
    "plot_classification_report(classification_report(y_test, stack_layer_prediction), title='LSTM Stacked Layers Classification Report', cmap='RdBu')"
   ]
  },
  {
   "cell_type": "code",
   "execution_count": 68,
   "metadata": {},
   "outputs": [
    {
     "name": "stdout",
     "output_type": "stream",
     "text": [
      "Classification Report Bidirectional LSTM Model:\n",
      "               precision    recall  f1-score   support\n",
      "\n",
      "           0       0.79      0.77      0.78      2438\n",
      "           1       0.84      0.85      0.85      3344\n",
      "\n",
      "    accuracy                           0.82      5782\n",
      "   macro avg       0.82      0.81      0.81      5782\n",
      "weighted avg       0.82      0.82      0.82      5782\n",
      "\n"
     ]
    },
    {
     "data": {
      "image/png": "[encoded data removed]",
      "text/plain": [
       "<Figure size 708.661x255.118 with 2 Axes>"
      ]
     },
     "metadata": {},
     "output_type": "display_data"
    }
   ],
   "source": [
    "lstm_bi_prediction = (model_Bi_LSTM.predict(x_test) > 0.5).astype(\"int32\")\n",
    "print('Classification Report Bidirectional LSTM Model:\\n', classification_report(y_test, lstm_bi_prediction))\n",
    "\n",
    "plot_classification_report(classification_report(y_test, lstm_bi_prediction), title='Bidirectional LSTM Classification Report', cmap='RdBu')"
   ]
  },
  {
   "cell_type": "code",
   "execution_count": 69,
   "metadata": {},
   "outputs": [
    {
     "name": "stdout",
     "output_type": "stream",
     "text": [
      "Classification Report CNN + LSTM Model:\n",
      "               precision    recall  f1-score   support\n",
      "\n",
      "           0       0.79      0.74      0.77      2438\n",
      "           1       0.82      0.86      0.84      3344\n",
      "\n",
      "    accuracy                           0.81      5782\n",
      "   macro avg       0.81      0.80      0.80      5782\n",
      "weighted avg       0.81      0.81      0.81      5782\n",
      "\n"
     ]
    },
    {
     "data": {
      "image/png": "[encoded data removed]",
      "text/plain": [
       "<Figure size 708.661x255.118 with 2 Axes>"
      ]
     },
     "metadata": {},
     "output_type": "display_data"
    }
   ],
   "source": [
    "lstm_cnn_prediction = (model_CNN_LSTM.predict(x_test) > 0.5).astype(\"int32\")\n",
    "print('Classification Report CNN + LSTM Model:\\n', classification_report(y_test, lstm_cnn_prediction))\n",
    "\n",
    "plot_classification_report(classification_report(y_test, lstm_cnn_prediction), title='CNN + LSTM Classification Report', cmap='RdBu')"
   ]
  },
  {
   "cell_type": "code",
   "execution_count": 70,
   "metadata": {},
   "outputs": [],
   "source": [
    "from sklearn import metrics\n",
    "from sklearn.metrics import roc_curve, auc\n",
    "\n",
    "fprB, tprB, thresholdsB = metrics.roc_curve(y_test, model_batch.predict(x_test))\n",
    "fprMB, tprMB, thresholdsMB = metrics.roc_curve(y_test, model_mini.predict(x_test))\n",
    "fpr3L, tpr3L, thresholds3L = metrics.roc_curve(y_test, model3L.predict(x_test))\n",
    "fprBi, tprBi, thresholdsBi = metrics.roc_curve(y_test, model_Bi_LSTM.predict(x_test))\n",
    "fprCNN, tprCNN, thresholdsCNN = metrics.roc_curve(y_test, model_CNN_LSTM.predict(x_test))"
   ]
  },
  {
   "cell_type": "code",
   "execution_count": 71,
   "metadata": {},
   "outputs": [
    {
     "data": {
      "image/png": "[encoded data removed]",
      "text/plain": [
       "<Figure size 576x360 with 1 Axes>"
      ]
     },
     "metadata": {},
     "output_type": "display_data"
    }
   ],
   "source": [
    "linewidth = 2\n",
    "plt.figure(figsize=(8, 5))\n",
    "\n",
    "plt.plot(fprB, tprB, color='#db6114', lw=linewidth, label='ROC Curve LSTM Batch (AUC = %0.3f)' % auc(fprB, tprB))\n",
    "plt.plot(fprMB, tprMB, color='#1565c0', lw=linewidth, label='ROC Curve LSTM Mini Batch(AUC = %0.3f)' % auc(fprMB, tprMB))\n",
    "plt.plot(fpr3L, tpr3L, color='#2e7d32', lw=linewidth, label='ROC Curve LSTM Stacked Layers (AUC = %0.3f)' % auc(fpr3L, tpr3L))\n",
    "plt.plot(fprBi, tprBi, color='#ffc107', lw=linewidth, label='ROC Curve Bidirectional LSTM (AUC = %0.3f)' % auc(fprBi, tprBi))\n",
    "plt.plot(fprCNN, tprCNN, color='#6557d2', lw=linewidth, label='ROC Curve  CNN + LSTM (AUC = %0.3f)' % auc(fprCNN, tprCNN))\n",
    "plt.plot([0, 1], [0, 1], color='#616161', lw=linewidth, linestyle='--')\n",
    "\n",
    "plt.xlim([0.0, 1.0])\n",
    "plt.ylim([0.0, 1.05])\n",
    "\n",
    "plt.xlabel('False Positive Rate')\n",
    "plt.ylabel('True Positive Rate')\n",
    "plt.title('ROC Curve Plots')\n",
    "plt.legend(loc=\"lower right\")\n",
    "\n",
    "plt.show()"
   ]
  },
  {
   "cell_type": "markdown",
   "metadata": {},
   "source": [
    "As we can see, all models show approximately the same result, but so far the best is the model with Mini Batch (90%), so we gonna use it. Here we are finished, then we move on to the development of a web application."
   ]
  }
 ],
 "metadata": {
  "kernelspec": {
   "display_name": "Python 3",
   "language": "python",
   "name": "python3"
  },
  "language_info": {
   "codemirror_mode": {
    "name": "ipython",
    "version": 3
   },
   "file_extension": ".py",
   "mimetype": "text/x-python",
   "name": "python",
   "nbconvert_exporter": "python",
   "pygments_lexer": "ipython3",
   "version": "3.8.2"
  }
 },
 "nbformat": 4,
 "nbformat_minor": 4
}
