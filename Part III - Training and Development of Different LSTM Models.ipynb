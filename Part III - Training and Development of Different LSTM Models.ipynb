{
 "cells": [
  {
   "cell_type": "markdown",
   "metadata": {
    "id": "bK4FOeG5ZtWs"
   },
   "source": [
    "<h1 align=\"center\">PART III</h1>\n",
    "<h1 align=\"center\">Training and Development of Different LSTM Models</h1> "
   ]
  },
  {
   "cell_type": "markdown",
   "metadata": {
    "id": "RK0igzi1ZtWu"
   },
   "source": [
    "To get started, let's download the necessary libraries:"
   ]
  },
  {
   "cell_type": "code",
   "execution_count": 1,
   "metadata": {
    "id": "207XAbAlZtWv"
   },
   "outputs": [],
   "source": [
    "import numpy as np\n",
    "import pandas as pd\n",
    "import pickle\n",
    "import gensim, logging\n",
    "import gensim.models.keyedvectors as word2vec\n",
    "import matplotlib.pyplot as plt\n",
    "\n",
    "%matplotlib inline"
   ]
  },
  {
   "cell_type": "code",
   "execution_count": 2,
   "metadata": {
    "id": "ahbTiUEMqzkv"
   },
   "outputs": [],
   "source": [
    "from keras.models import Sequential\n",
    "from keras.layers import LSTM\n",
    "from keras.layers.core import Dense\n",
    "from keras.models import load_model\n",
    "from keras.layers.core import Dropout"
   ]
  },
  {
   "cell_type": "markdown",
   "metadata": {
    "id": "T0KKdQILZtWw"
   },
   "source": [
    "Also let's write a style for alignment in the middle of all graphs, images, etc:"
   ]
  },
  {
   "cell_type": "code",
   "execution_count": 3,
   "metadata": {
    "colab": {
     "base_uri": "https://localhost:8080/",
     "height": 17
    },
    "id": "9qrGx_YKZtWx",
    "outputId": "37a21809-3dca-4565-f851-f89e2b4062da"
   },
   "outputs": [
    {
     "data": {
      "text/html": [
       "\n",
       "<style>\n",
       ".output_png {\n",
       "    display: table-cell;\n",
       "    text-align: center;\n",
       "    vertical-align: middle;\n",
       "}\n",
       "</style>\n"
      ],
      "text/plain": [
       "<IPython.core.display.HTML object>"
      ]
     },
     "execution_count": 3,
     "metadata": {},
     "output_type": "execute_result"
    }
   ],
   "source": [
    "from IPython.core.display import HTML\n",
    "HTML(\"\"\"\n",
    "<style>\n",
    ".output_png {\n",
    "    display: table-cell;\n",
    "    text-align: center;\n",
    "    vertical-align: middle;\n",
    "}\n",
    "</style>\n",
    "\"\"\")"
   ]
  },
  {
   "cell_type": "markdown",
   "metadata": {
    "id": "TmKwMBq8ZtWy"
   },
   "source": [
    "<h2 align=\"center\">Preparation of input data</h2> \n",
    "\n",
    "Firstly, we will load the sample data we processed in the first part:"
   ]
  },
  {
   "cell_type": "code",
   "execution_count": 4,
   "metadata": {
    "id": "SF3wgaQgZtWy"
   },
   "outputs": [],
   "source": [
    "with open('documents.pql', 'rb') as f:\n",
    "     docs = pickle.load(f)"
   ]
  },
  {
   "cell_type": "code",
   "execution_count": 5,
   "metadata": {
    "id": "2FZkuKUSyd0Z"
   },
   "outputs": [],
   "source": [
    "import random\n",
    "\n",
    "pos = [doc for doc in docs if doc[1] == \"pos\"][:15000]\n",
    "neg = [doc for doc in docs if doc[1] == \"neg\"][:15000]\n",
    "\n",
    "docs = pos + neg\n",
    "random.shuffle(docs)"
   ]
  },
  {
   "cell_type": "code",
   "execution_count": 6,
   "metadata": {
    "colab": {
     "base_uri": "https://localhost:8080/"
    },
    "id": "7DC5weErZtWz",
    "outputId": "e07b634e-07d9-4857-e42a-98eb178b980a"
   },
   "outputs": [
    {
     "name": "stdout",
     "output_type": "stream",
     "text": [
      "Number of documents: 30000\n"
     ]
    }
   ],
   "source": [
    "print(\"Number of documents:\", len(docs))"
   ]
  },
  {
   "cell_type": "markdown",
   "metadata": {
    "id": "5RLxmbUBZtWz"
   },
   "source": [
    "Google Word2Vec model is very difficult to process with my RAM, so we will use a smaller model, namely GloVe, model contains 400000 words, so we will get a 400000 x 100 embedding matrix that contains all the values of the word vectors.\n",
    "\n",
    "You can download model [here](https://www.kaggle.com/datasets/anindya2906/glove6b?select=glove.6B.100d.txt)."
   ]
  },
  {
   "cell_type": "code",
   "execution_count": 7,
   "metadata": {
    "id": "LVW8xdVRZtWz"
   },
   "outputs": [],
   "source": [
    "model = word2vec.KeyedVectors.load_word2vec_format('glove.6B.100d.w2vformat.txt', binary=False)"
   ]
  },
  {
   "cell_type": "markdown",
   "metadata": {
    "id": "A1BFwzhWZtW0"
   },
   "source": [
    "Now let's get a list of all the words from our dictionary:"
   ]
  },
  {
   "cell_type": "code",
   "execution_count": 8,
   "metadata": {
    "id": "GOdz3u48ZtW0"
   },
   "outputs": [],
   "source": [
    "words = list(model.index_to_key)"
   ]
  },
  {
   "cell_type": "markdown",
   "metadata": {
    "id": "V0z2NooeZtW0"
   },
   "source": [
    "Just to make sure everything is loaded correctly, we can look at the dimensions of the dictionary list and the embedding matrix:"
   ]
  },
  {
   "cell_type": "code",
   "execution_count": 9,
   "metadata": {
    "colab": {
     "base_uri": "https://localhost:8080/"
    },
    "id": "5t5MEbssZtW0",
    "outputId": "14b9e244-0228-4706-e4c2-9df21eae5178"
   },
   "outputs": [
    {
     "name": "stdout",
     "output_type": "stream",
     "text": [
      "Total words: 400000 \n",
      "\n",
      "Word-Vectors shape: (400000, 100)\n"
     ]
    }
   ],
   "source": [
    "print(\"Total words:\", len(words), \"\\n\\nWord-Vectors shape:\", model.vectors.shape)"
   ]
  },
  {
   "cell_type": "markdown",
   "metadata": {
    "id": "CSQ4xxThZtW1"
   },
   "source": [
    "The shape of our sample for training will be `(H, N, 100)`, where:\n",
    "* `H` - number of samples;\n",
    "* `N` - number of words in each sentence;\n",
    "* `100` - dimension of each word.\n",
    "\n",
    "Let's analyze how many words are usually found in the reviews:"
   ]
  },
  {
   "cell_type": "code",
   "execution_count": 10,
   "metadata": {
    "colab": {
     "base_uri": "https://localhost:8080/"
    },
    "id": "m1IYxmuPZtW1",
    "outputId": "4202c7d4-a762-4551-9c44-926e0b74d95e"
   },
   "outputs": [
    {
     "name": "stdout",
     "output_type": "stream",
     "text": [
      "Average number of words in the review: 46\n",
      "\n",
      "Maximum review length: 2376 \n",
      "Minimum review length: 1\n",
      "\n",
      "Review with more than 50 words: 8319 \n",
      "Review with more than 100 words: 2790 \n",
      "Review with more than 200 words: 693 \n",
      "Review with more than 300 words: 225 \n",
      "Review with more than 400 words: 98\n"
     ]
    }
   ],
   "source": [
    "max_word, min_word = 0, 100\n",
    "word50, word100, word200, word300, word400  = 0, 0, 0, 0, 0\n",
    "reviews_len = []\n",
    "\n",
    "for review, state in docs:\n",
    "    reviews_len.append(len(review))\n",
    "\n",
    "    if len(review) > max_word: max_word = len(review)\n",
    "    if len(review) < min_word: min_word = len(review)\n",
    "\n",
    "    if len(review) > 50: word50 += 1\n",
    "    if len(review) > 100: word100 += 1\n",
    "    if len(review) > 200: word200 += 1\n",
    "    if len(review) > 300: word300 += 1\n",
    "    if len(review) > 400: word400 += 1\n",
    "    \n",
    "print(\"Average number of words in the review:\", int(sum(reviews_len)/len(reviews_len)))\n",
    "print(\"\\nMaximum review length:\", max_word, \"\\nMinimum review length:\", min_word)\n",
    "print(\"\\nReview with more than 50 words:\", word50, \n",
    "      \"\\nReview with more than 100 words:\", word100,\n",
    "      \"\\nReview with more than 200 words:\", word200, \n",
    "      \"\\nReview with more than 300 words:\", word300,\n",
    "      \"\\nReview with more than 400 words:\", word400)"
   ]
  },
  {
   "cell_type": "markdown",
   "metadata": {
    "id": "7iaKaR1BZtW1"
   },
   "source": [
    "Visualize the frequency of words in the review:"
   ]
  },
  {
   "cell_type": "code",
   "execution_count": 11,
   "metadata": {
    "colab": {
     "base_uri": "https://localhost:8080/",
     "height": 295
    },
    "id": "Pk2asIOMZtW2",
    "outputId": "604ffe6b-3387-49cf-fb87-7951589e36f9"
   },
   "outputs": [
    {
     "data": {
      "image/png": "[encoded data removed]",
      "text/plain": [
       "<Figure size 432x288 with 1 Axes>"
      ]
     },
     "metadata": {
      "needs_background": "light"
     },
     "output_type": "display_data"
    }
   ],
   "source": [
    "plt.hist(reviews_len, bins=150)\n",
    "plt.axis([0, 400, 0, 10000])\n",
    "plt.ylabel('Frequency')\n",
    "plt.xlabel('Sequence Length');\n",
    "plt.title(\"Average number of words\");"
   ]
  },
  {
   "cell_type": "markdown",
   "metadata": {
    "id": "NwKoHdVvZtW2"
   },
   "source": [
    "Our next function `fix_review_len()` will do a useful job, this function is designed to fix the size of reviews to a fixed size to feed them into a neural network with reviews of a certain length. Reviews whose length is less than fixed will be extended by zeros. This process does not affect the algorithm and reviews longer than the specified length will be truncated."
   ]
  },
  {
   "cell_type": "code",
   "execution_count": 12,
   "metadata": {
    "colab": {
     "base_uri": "https://localhost:8080/"
    },
    "id": "wbTlHCmAZtW2",
    "outputId": "088d096f-af65-4838-a812-bd4269da19f8"
   },
   "outputs": [
    {
     "name": "stdout",
     "output_type": "stream",
     "text": [
      "[3, 1, 2, 4, 5, [0, 0, 0, 0, 0, 0, 0, 0, 0, 0, 0, 0, 0, 0, 0, 0, 0, 0, 0, 0, 0, 0, 0, 0, 0, 0, 0, 0, 0, 0, 0, 0, 0, 0, 0, 0, 0, 0, 0, 0, 0, 0, 0, 0, 0, 0, 0, 0, 0, 0, 0, 0, 0, 0, 0, 0, 0, 0, 0, 0, 0, 0, 0, 0, 0, 0, 0, 0, 0, 0, 0, 0, 0, 0, 0, 0, 0, 0, 0, 0, 0, 0, 0, 0, 0, 0, 0, 0, 0, 0, 0, 0, 0, 0, 0, 0, 0, 0, 0, 0], [0, 0, 0, 0, 0, 0, 0, 0, 0, 0, 0, 0, 0, 0, 0, 0, 0, 0, 0, 0, 0, 0, 0, 0, 0, 0, 0, 0, 0, 0, 0, 0, 0, 0, 0, 0, 0, 0, 0, 0, 0, 0, 0, 0, 0, 0, 0, 0, 0, 0, 0, 0, 0, 0, 0, 0, 0, 0, 0, 0, 0, 0, 0, 0, 0, 0, 0, 0, 0, 0, 0, 0, 0, 0, 0, 0, 0, 0, 0, 0, 0, 0, 0, 0, 0, 0, 0, 0, 0, 0, 0, 0, 0, 0, 0, 0, 0, 0, 0, 0]]\n"
     ]
    }
   ],
   "source": [
    "def fix_review_len(review, length):\n",
    "    if len(review) > length:\n",
    "        review = review[:length]\n",
    "    elif len(review) < length:\n",
    "        for i in range(length - len(review)):\n",
    "            zeros = [0] * 100\n",
    "            review.append(zeros)\n",
    "    return review\n",
    "\n",
    "example = [3, 1, 2, 4, 5]\n",
    "example = fix_review_len(example, 7)\n",
    "print(example) "
   ]
  },
  {
   "cell_type": "markdown",
   "metadata": {
    "id": "onLNFH-bZtW3"
   },
   "source": [
    "Now let's slightly improve our `sent_embed()` function from previous part and then update our dataset with word vectors.\n",
    "\n",
    "Based on the histogram data, as well as the average number of words in the files, we can say with confidence that most reviews will have less than 100 words, which is the maximum value of the length of the sequence that we set."
   ]
  },
  {
   "cell_type": "code",
   "execution_count": 13,
   "metadata": {
    "id": "h58uiBG8ZtW3"
   },
   "outputs": [],
   "source": [
    "def sent_embed(words, docs):\n",
    "    x_sent_embed, y_sent_embed = [], [] \n",
    "    \n",
    "    max_seq_len = 100\n",
    "    \n",
    "    # recover the embedding of each sentence with the average of the vector that composes it\n",
    "    # sent - sentence, state - state of the sentence (pos/neg)\n",
    "    for sent, state in docs:\n",
    "        # average embedding of all words in a sentence\n",
    "        sent_embed = []\n",
    "        for word in sent:\n",
    "            try:\n",
    "                # if word is present in the dictionary - add its vector representation\n",
    "                sent_embed.append(model[word])\n",
    "            except KeyError:\n",
    "                # if word is not in the dictionary - add a zero vector\n",
    "                sent_embed.append([0] * 100)\n",
    "        \n",
    "        # add a sentence vector to the list\n",
    "        sent_embed = fix_review_len(sent_embed, max_seq_len)\n",
    "        x_sent_embed.append(sent_embed)\n",
    "        \n",
    "        # add a label to y_sent_embed\n",
    "        if state == 'pos': y_sent_embed.append(1)\n",
    "        elif state == 'neg': y_sent_embed.append(0)\n",
    "            \n",
    "    return x_sent_embed, y_sent_embed"
   ]
  },
  {
   "cell_type": "code",
   "execution_count": 14,
   "metadata": {
    "id": "2BePmRm3ZtW4"
   },
   "outputs": [],
   "source": [
    "x, y = sent_embed(words, docs)"
   ]
  },
  {
   "cell_type": "code",
   "execution_count": 15,
   "metadata": {
    "colab": {
     "base_uri": "https://localhost:8080/"
    },
    "id": "dALGpRR9ZtW4",
    "outputId": "0bac5394-0351-42bb-d333-486ab521c4fc"
   },
   "outputs": [
    {
     "name": "stdout",
     "output_type": "stream",
     "text": [
      "Shape of X: (30000, 100, 100)\n"
     ]
    }
   ],
   "source": [
    "x = np.array(x)\n",
    "print(\"Shape of X:\", x.shape)"
   ]
  },
  {
   "cell_type": "markdown",
   "metadata": {
    "id": "b-5DDr5wZtW4"
   },
   "source": [
    "<h3 align=\"center\">Split Corpus</h3>\n",
    "\n",
    "Now, for further work, we will divide our corpus for training, testing and development sets:"
   ]
  },
  {
   "cell_type": "code",
   "execution_count": 16,
   "metadata": {
    "id": "9vlTQXzAZtW4"
   },
   "outputs": [],
   "source": [
    "from sklearn.model_selection import train_test_split\n",
    "\n",
    "# train test\n",
    "x_train, x_test, y_train, y_test = train_test_split(x, y, test_size=0.15, random_state=42)\n",
    "\n",
    "# train dev\n",
    "x_train, x_val, y_train, y_val = train_test_split(x_train, y_train, test_size=0.15, random_state=42)"
   ]
  },
  {
   "cell_type": "code",
   "execution_count": null,
   "metadata": {
    "colab": {
     "base_uri": "https://localhost:8080/"
    },
    "id": "gal_WGq-ZtW5",
    "outputId": "109d67b2-df23-4519-e48f-6d450c9ce0a5"
   },
   "outputs": [
    {
     "name": "stdout",
     "output_type": "stream",
     "text": [
      "Length of x_train: 21675 | Length of y_train: 21675\n",
      "Length of x_test:   4500 | Length of y_test:  4500\n",
      "Length of x_val:    3825 | Length of y_val:   3825\n"
     ]
    }
   ],
   "source": [
    "print('Length of x_train:', len(x_train), '| Length of y_train:', len(y_train))\n",
    "print('Length of x_test:  ', len(x_test), '| Length of y_test: ', len(y_test))\n",
    "print('Length of x_val:   ', len(x_val), '| Length of y_val:  ', len(y_val))"
   ]
  },
  {
   "cell_type": "code",
   "execution_count": null,
   "metadata": {
    "colab": {
     "base_uri": "https://localhost:8080/"
    },
    "id": "Gk96bR9OZtW5",
    "outputId": "f584b82c-a5a2-4e04-8110-03cfeebb6f3f"
   },
   "outputs": [
    {
     "name": "stdout",
     "output_type": "stream",
     "text": [
      "Shape of x_train set: (21675, 100, 100)\n"
     ]
    }
   ],
   "source": [
    "print(\"Shape of x_train set:\", x_train.shape)"
   ]
  },
  {
   "cell_type": "markdown",
   "metadata": {
    "id": "UO05ZRsXZtW5"
   },
   "source": [
    "<h2 align=\"center\">LSTM Model (Stochastic Gradient Descent)</h2>\n",
    "\n",
    "Keras's benefit is that it is built on top of symbolic mathematical libraries such as TensorFlow and Theano for fast and efficient computation. This is needed with large neural networks.\n",
    "\n",
    "A downside of using these efficient libraries is that you must define the scope of your data upfront and for all time. Specifically, the batch size.\n",
    "\n",
    "Neural networks are trained using the stochastic gradient descent optimization algorithm.\n",
    "\n",
    "This involves using the current state of the model to make a prediction, comparing the prediction to the expected values, and using the difference as an estimate of the error gradient. This error gradient is then used to update the model weights and the process is repeated.\n",
    "\n",
    "The error gradient is a statistical estimate. The more training examples used in the estimate, the more accurate this estimate will be and the more likely that the weights of the network will be adjusted in a way that will improve the performance of the model. The improved estimate of the error gradient comes at the cost of having to use the model to make many more predictions before the estimate can be calculated, and in turn, the weights updated.\n",
    "\n",
    "Alternately, using fewer examples results in a less accurate estimate of the error gradient that is highly dependent on the specific training examples used.\n",
    "\n",
    "This results in a noisy estimate that, in turn, results in noisy updates to the model weights, e.g. many updates with perhaps quite different estimates of the error gradient. Nevertheless, these noisy updates can result in faster learning and sometimes a more robust model.\n",
    "\n",
    "The number of training examples used in the estimate of the error gradient is a hyperparameter for the learning algorithm called the “batch size,” or simply the “batch.”\n",
    "\n",
    "A batch size of 32 means that 32 samples from the training dataset will be used to estimate the error gradient before the model weights are updated. One training epoch means that the learning algorithm has made one pass through the training dataset, where examples were separated into randomly selected “batch size” groups.\n",
    "\n",
    "Historically, a training algorithm where the batch size is set to the total number of training examples is called “batch gradient descent” and a training algorithm where the batch size is set to 1 training example is called “stochastic gradient descent” or “online gradient descent.”\n",
    "\n",
    "A configuration of the batch size anywhere in between (e.g. more than 1 example and less than the number of examples in the training dataset) is called “minibatch gradient descent.”\n",
    "\n",
    "  - **Batch Gradient Descent**. Batch size is set to the total number of examples in the training dataset.\n",
    "  - **Stochastic Gradient Descent**. Batch size is set to one.\n",
    "  - **Minibatch Gradient Descent**. Batch size is set to more than one and less than the total number of examples in the training dataset.\n",
    "For shorthand, the algorithm is often referred to as stochastic gradient descent regardless of the batch size. Given that very large datasets are often used to train deep learning neural networks, the batch size is rarely set to the size of the training dataset.\n",
    "\n",
    "Smaller batch sizes are used for two main reasons:\n",
    "\n",
    "  - Smaller batch sizes are noisy, offering a regularizing effect and lower generalization error.\n",
    "  - Smaller batch sizes make it easier to fit one batch worth of training data in memory (i.e. when using a GPU).\n",
    "A third reason is that the batch size is often set at something small, such as 32 examples, and is not tuned by the practitioner. Small batch sizes such as 32 do work well generally.\n",
    "\n",
    "Nevertheless, the batch size impacts how quickly a model learns and the stability of the learning process. It is an important hyperparameter that should be well understood and tuned by the deep learning practitioner."
   ]
  },
  {
   "cell_type": "markdown",
   "metadata": {
    "id": "RsfoHjRbZtW5"
   },
   "source": [
    "<h3 align=\"center\">Setting Up and Creating the Network</h3>\n",
    "\n",
    "The network has one input, a hidden layer with 128 units, and an output layer with 1 unit.\n",
    "\n",
    "A mean squared error optimization function is used for this problem with the efficient ADAM optimization algorithm.\n",
    "\n",
    "So now let's configure and create the network:"
   ]
  },
  {
   "cell_type": "code",
   "execution_count": null,
   "metadata": {
    "colab": {
     "base_uri": "https://localhost:8080/"
    },
    "id": "lMn08CvVZtW6",
    "outputId": "8275bc71-7f80-4cf2-97f7-a176c5cedd77"
   },
   "outputs": [
    {
     "name": "stdout",
     "output_type": "stream",
     "text": [
      "Model: \"sequential\"\n",
      "_________________________________________________________________\n",
      " Layer (type)                Output Shape              Param #   \n",
      "=================================================================\n",
      " lstm (LSTM)                 (None, 128)               117248    \n",
      "                                                                 \n",
      " dense (Dense)               (None, 1)                 129       \n",
      "                                                                 \n",
      "=================================================================\n",
      "Total params: 117,377\n",
      "Trainable params: 117,377\n",
      "Non-trainable params: 0\n",
      "_________________________________________________________________\n",
      "None\n"
     ]
    }
   ],
   "source": [
    "# configure network\n",
    "n_neurons = 128\n",
    "n_epoch = 20\n",
    "n_batch = 1\n",
    "\n",
    "# design network\n",
    "model_batch = Sequential()\n",
    "model_batch.add(LSTM(n_neurons, input_shape=(x.shape[1], x.shape[2])))\n",
    "model_batch.add(Dense(1, activation='sigmoid'))\n",
    "model_batch.compile(loss='mean_squared_error', optimizer='adam', metrics=['binary_accuracy'])\n",
    "\n",
    "print(model_batch.summary())"
   ]
  },
  {
   "cell_type": "code",
   "execution_count": null,
   "metadata": {
    "colab": {
     "base_uri": "https://localhost:8080/"
    },
    "id": "P_Jz8mfqZtW6",
    "outputId": "7147bdc9-9aa5-443d-d05c-f09f718bfc4c"
   },
   "outputs": [
    {
     "name": "stdout",
     "output_type": "stream",
     "text": [
      "Epoch 1/20\n",
      "21675/21675 [==============================] - 814s 37ms/step - loss: 0.2422 - binary_accuracy: 0.5394\n",
      "Epoch 2/20\n",
      "21675/21675 [==============================] - 801s 37ms/step - loss: 0.1546 - binary_accuracy: 0.7764\n",
      "Epoch 3/20\n",
      "21675/21675 [==============================] - 809s 37ms/step - loss: 0.1286 - binary_accuracy: 0.8216\n",
      "Epoch 4/20\n",
      "21675/21675 [==============================] - 810s 37ms/step - loss: 0.1063 - binary_accuracy: 0.8581\n",
      "Epoch 5/20\n",
      "21675/21675 [==============================] - 801s 37ms/step - loss: 0.0886 - binary_accuracy: 0.8845\n",
      "Epoch 6/20\n",
      "21675/21675 [==============================] - 787s 36ms/step - loss: 0.0765 - binary_accuracy: 0.9009\n",
      "Epoch 7/20\n",
      "21675/21675 [==============================] - 795s 37ms/step - loss: 0.0710 - binary_accuracy: 0.9109\n",
      "Epoch 8/20\n",
      "21675/21675 [==============================] - 792s 37ms/step - loss: 0.0651 - binary_accuracy: 0.9182\n",
      "Epoch 9/20\n",
      "21675/21675 [==============================] - 811s 37ms/step - loss: 0.0622 - binary_accuracy: 0.9222\n",
      "Epoch 10/20\n",
      "21675/21675 [==============================] - 815s 38ms/step - loss: 0.0580 - binary_accuracy: 0.9290\n",
      "Epoch 11/20\n",
      "21675/21675 [==============================] - 823s 38ms/step - loss: 0.0547 - binary_accuracy: 0.9331\n",
      "Epoch 12/20\n",
      "21675/21675 [==============================] - 819s 38ms/step - loss: 0.0508 - binary_accuracy: 0.9383\n",
      "Epoch 13/20\n",
      "21675/21675 [==============================] - 827s 38ms/step - loss: 0.0474 - binary_accuracy: 0.9437\n",
      "Epoch 14/20\n",
      "21675/21675 [==============================] - 826s 38ms/step - loss: 0.0479 - binary_accuracy: 0.9409\n",
      "Epoch 15/20\n",
      "21675/21675 [==============================] - 826s 38ms/step - loss: 0.0490 - binary_accuracy: 0.9410\n",
      "Epoch 16/20\n",
      "21675/21675 [==============================] - 844s 39ms/step - loss: 0.0461 - binary_accuracy: 0.9441\n",
      "Epoch 17/20\n",
      "21675/21675 [==============================] - 833s 38ms/step - loss: 0.0436 - binary_accuracy: 0.9478\n",
      "Epoch 18/20\n",
      "21675/21675 [==============================] - 829s 38ms/step - loss: 0.0438 - binary_accuracy: 0.9472\n",
      "Epoch 19/20\n",
      "21675/21675 [==============================] - 823s 38ms/step - loss: 0.0571 - binary_accuracy: 0.9288\n",
      "Epoch 20/20\n",
      "21675/21675 [==============================] - 819s 38ms/step - loss: 0.0515 - binary_accuracy: 0.9355\n"
     ]
    }
   ],
   "source": [
    "model_batch_hist = model_batch.fit(x_train, np.asarray(y_train), batch_size=n_batch, epochs=n_epoch, verbose=1, shuffle=False)"
   ]
  },
  {
   "cell_type": "code",
   "execution_count": null,
   "metadata": {
    "colab": {
     "base_uri": "https://localhost:8080/"
    },
    "id": "AOalT8xDZtW6",
    "outputId": "8be84f8c-20a6-47ab-cd59-e83d38b71a6a"
   },
   "outputs": [
    {
     "name": "stdout",
     "output_type": "stream",
     "text": [
      "3825/3825 [==============================] - 33s 9ms/step - loss: 0.1648 - binary_accuracy: 0.7969\n",
      "\n",
      "Model Accuracy: 79.69%\n"
     ]
    }
   ],
   "source": [
    "score_batch = model_batch.evaluate(x_val, np.asarray(y_val), batch_size=n_batch)\n",
    "print(\"\\nModel Accuracy:\", str(round(score_batch[1] * 100, 2)) + '%')"
   ]
  },
  {
   "cell_type": "code",
   "execution_count": null,
   "metadata": {
    "colab": {
     "base_uri": "https://localhost:8080/",
     "height": 299
    },
    "id": "lKVFVJUOZtW6",
    "outputId": "6cfb202e-d7a1-4dac-fe21-8e4fb17d2eaf"
   },
   "outputs": [
    {
     "data": {
      "image/png": "[encoded data removed]",
      "text/plain": [
       "<Figure size 432x288 with 1 Axes>"
      ]
     },
     "metadata": {},
     "output_type": "display_data"
    }
   ],
   "source": [
    "plt.style.use('ggplot')\n",
    "plt.plot(model_batch_hist.history['loss'])\n",
    "\n",
    "plt.title('Model Loss')\n",
    "plt.ylabel('Loss')\n",
    "plt.xlabel('Epoch')\n",
    "plt.legend(['Train'], loc='lower left')\n",
    "\n",
    "plt.show()"
   ]
  },
  {
   "cell_type": "markdown",
   "metadata": {
    "id": "xjS7oADVZtW7"
   },
   "source": [
    "The results are good, let's save this model and try a different approach."
   ]
  },
  {
   "cell_type": "code",
   "execution_count": null,
   "metadata": {
    "id": "ELVCgR75ZtW7"
   },
   "outputs": [],
   "source": [
    "model_batch.save('models/LSTM-Batch-Model.h5')  # save model\n",
    "del model_batch  # delete existing model"
   ]
  },
  {
   "cell_type": "code",
   "execution_count": 17,
   "metadata": {
    "id": "Pk-NNsaQaAs7"
   },
   "outputs": [],
   "source": [
    "from keras.models import load_model\n",
    "\n",
    "# returns a compiled model, identical to the previous one\n",
    "model_batch = load_model('models/LSTM-Batch-Model.h5')"
   ]
  },
  {
   "cell_type": "markdown",
   "metadata": {
    "id": "6PzImzbOZtW7"
   },
   "source": [
    "Let's check if everything is correct:"
   ]
  },
  {
   "cell_type": "code",
   "execution_count": 21,
   "metadata": {
    "colab": {
     "base_uri": "https://localhost:8080/"
    },
    "id": "jkjeuptqZtW7",
    "outputId": "42a0e639-73b4-4808-f244-34ec7688f449"
   },
   "outputs": [
    {
     "name": "stdout",
     "output_type": "stream",
     "text": [
      "30/30 [==============================] - 16s 397ms/step - loss: 0.0692 - binary_accuracy: 0.9182\n",
      "\n",
      "Model Accuracy: 91.82%\n"
     ]
    }
   ],
   "source": [
    "score_batch = model_batch.evaluate(x_val, np.asarray(y_val), batch_size=n_batch)\n",
    "print(\"\\nModel Accuracy:\", str(round(score_batch[1] * 100, 2)) + '%')"
   ]
  },
  {
   "cell_type": "markdown",
   "metadata": {
    "id": "B6IZ4t9mZtW7"
   },
   "source": [
    "<h2 align=\"center\">LSTM Model (Mini-Batch Gradient Descent)</h2>\n",
    "\n",
    "Mini-batch gradient descent is a variation of the gradient descent algorithm that splits the training dataset into small batches that are used to calculate model error and update model coefficients.\n",
    "\n",
    "Mini batch algorithm is the most favorable and widely used algorithm that makes precise and faster results using a batch of `m` training examples. In mini batch algorithm rather than using  the complete data set, in every iteration we use a set of `m` training examples called batch to compute the gradient of the cost function. Common mini-batch sizes range between 32 and 256."
   ]
  },
  {
   "cell_type": "markdown",
   "metadata": {
    "id": "SPev6XYLZtW8"
   },
   "source": [
    "<h3 align=\"center\">Setting Up and Creating the Network</h3>\n",
    "\n",
    "We will use an LSTM network fit for 20 epochs and with batch size = 128.\n",
    "\n",
    "A mean squared error optimization function is used for this problem with the efficient ADAM optimization algorithm.\n",
    "\n",
    "So now let's configure and create the network:"
   ]
  },
  {
   "cell_type": "code",
   "execution_count": null,
   "metadata": {
    "colab": {
     "base_uri": "https://localhost:8080/"
    },
    "id": "a5odeM8hZtW8",
    "outputId": "64298c6b-e27d-4b86-8911-3278ebbbdd03"
   },
   "outputs": [
    {
     "name": "stdout",
     "output_type": "stream",
     "text": [
      "Model: \"sequential\"\n",
      "_________________________________________________________________\n",
      " Layer (type)                Output Shape              Param #   \n",
      "=================================================================\n",
      " lstm (LSTM)                 (None, 128)               117248    \n",
      "                                                                 \n",
      " dense (Dense)               (None, 1)                 129       \n",
      "                                                                 \n",
      "=================================================================\n",
      "Total params: 117,377\n",
      "Trainable params: 117,377\n",
      "Non-trainable params: 0\n",
      "_________________________________________________________________\n",
      "None\n"
     ]
    }
   ],
   "source": [
    "# configure network\n",
    "n_neurons = 128\n",
    "n_epoch = 20\n",
    "n_batch = 128\n",
    "\n",
    "# design network\n",
    "model_mini = Sequential()\n",
    "model_mini.add(LSTM(n_neurons, input_shape=(x.shape[1], x.shape[2])))\n",
    "model_mini.add(Dense(1, activation='sigmoid'))\n",
    "model_mini.compile(loss='mean_squared_error', optimizer='adam', metrics=['binary_accuracy'])\n",
    "\n",
    "print(model_mini.summary())"
   ]
  },
  {
   "cell_type": "code",
   "execution_count": null,
   "metadata": {
    "colab": {
     "base_uri": "https://localhost:8080/"
    },
    "id": "O1cvbA9gZtW8",
    "outputId": "b7b648a6-9099-4d29-de6c-5d76dedd0402"
   },
   "outputs": [
    {
     "name": "stdout",
     "output_type": "stream",
     "text": [
      "Epoch 1/20\n",
      "170/170 [==============================] - 60s 338ms/step - loss: 0.2163 - binary_accuracy: 0.6496\n",
      "Epoch 2/20\n",
      "170/170 [==============================] - 57s 337ms/step - loss: 0.1772 - binary_accuracy: 0.7510\n",
      "Epoch 3/20\n",
      "170/170 [==============================] - 56s 330ms/step - loss: 0.1597 - binary_accuracy: 0.7737\n",
      "Epoch 4/20\n",
      "170/170 [==============================] - 56s 330ms/step - loss: 0.1473 - binary_accuracy: 0.7918\n",
      "Epoch 5/20\n",
      "170/170 [==============================] - 56s 332ms/step - loss: 0.1373 - binary_accuracy: 0.8092\n",
      "Epoch 6/20\n",
      "170/170 [==============================] - 57s 338ms/step - loss: 0.1310 - binary_accuracy: 0.8217\n",
      "Epoch 7/20\n",
      "170/170 [==============================] - 57s 335ms/step - loss: 0.1205 - binary_accuracy: 0.8371\n",
      "Epoch 8/20\n",
      "170/170 [==============================] - 57s 333ms/step - loss: 0.1133 - binary_accuracy: 0.8477\n",
      "Epoch 9/20\n",
      "170/170 [==============================] - 57s 336ms/step - loss: 0.1110 - binary_accuracy: 0.8543\n",
      "Epoch 10/20\n",
      "170/170 [==============================] - 57s 334ms/step - loss: 0.1022 - binary_accuracy: 0.8645\n",
      "Epoch 11/20\n",
      "170/170 [==============================] - 57s 337ms/step - loss: 0.0969 - binary_accuracy: 0.8742\n",
      "Epoch 12/20\n",
      "170/170 [==============================] - 58s 342ms/step - loss: 0.0909 - binary_accuracy: 0.8850\n",
      "Epoch 13/20\n",
      "170/170 [==============================] - 62s 362ms/step - loss: 0.0817 - binary_accuracy: 0.8969\n",
      "Epoch 14/20\n",
      "170/170 [==============================] - 58s 342ms/step - loss: 0.0771 - binary_accuracy: 0.9040\n",
      "Epoch 15/20\n",
      "170/170 [==============================] - 57s 334ms/step - loss: 0.0688 - binary_accuracy: 0.9165\n",
      "Epoch 16/20\n",
      "170/170 [==============================] - 59s 345ms/step - loss: 0.0679 - binary_accuracy: 0.9180\n",
      "Epoch 17/20\n",
      "170/170 [==============================] - 60s 352ms/step - loss: 0.0620 - binary_accuracy: 0.9261\n",
      "Epoch 18/20\n",
      "170/170 [==============================] - 57s 332ms/step - loss: 0.0588 - binary_accuracy: 0.9310\n",
      "Epoch 19/20\n",
      "170/170 [==============================] - 57s 336ms/step - loss: 0.0555 - binary_accuracy: 0.9367\n",
      "Epoch 20/20\n",
      "170/170 [==============================] - 57s 337ms/step - loss: 0.0590 - binary_accuracy: 0.9327\n"
     ]
    }
   ],
   "source": [
    "model_mini_hist = model_mini.fit(x_train, np.asarray(y_train), batch_size=n_batch, epochs=n_epoch, verbose=1)"
   ]
  },
  {
   "cell_type": "code",
   "execution_count": null,
   "metadata": {
    "colab": {
     "base_uri": "https://localhost:8080/"
    },
    "id": "e4LOkl1DZtW8",
    "outputId": "96ead9b2-a8c5-4e36-c3c1-6de847fcdc3f"
   },
   "outputs": [
    {
     "name": "stdout",
     "output_type": "stream",
     "text": [
      "30/30 [==============================] - 4s 127ms/step - loss: 0.1313 - binary_accuracy: 0.8327\n",
      "\n",
      "Model Accuracy: 83.27%\n"
     ]
    }
   ],
   "source": [
    "model_mini_score = model_mini.evaluate(x_val, np.asarray(y_val), batch_size=n_batch)\n",
    "print(\"\\nModel Accuracy:\", str(round(model_mini_score[1] * 100, 2)) + '%')"
   ]
  },
  {
   "cell_type": "code",
   "execution_count": null,
   "metadata": {
    "colab": {
     "base_uri": "https://localhost:8080/",
     "height": 295
    },
    "id": "n_q09UyIZtW9",
    "outputId": "ebe863fd-91cd-4da5-9d19-a880844545b7"
   },
   "outputs": [
    {
     "data": {
      "image/png": "[encoded data removed]",
      "text/plain": [
       "<Figure size 432x288 with 1 Axes>"
      ]
     },
     "metadata": {
      "needs_background": "light"
     },
     "output_type": "display_data"
    }
   ],
   "source": [
    "plt.plot(model_mini_hist.history['loss'])\n",
    "\n",
    "plt.title('Model Loss')\n",
    "plt.ylabel('Loss')\n",
    "plt.xlabel('Epoch')\n",
    "plt.legend(['Train'], loc='lower left')\n",
    "\n",
    "plt.show()"
   ]
  },
  {
   "cell_type": "markdown",
   "metadata": {
    "id": "hceEHQ59ZtW9"
   },
   "source": [
    "This is a good value for the model, we can use it. Let's save our model:"
   ]
  },
  {
   "cell_type": "code",
   "execution_count": null,
   "metadata": {
    "id": "RuxZrCz0ZtW-"
   },
   "outputs": [],
   "source": [
    "model_mini.save('models/LSTM-Mini-Batch-Model.h5')  # save model\n",
    "del model_mini  # delete existing model"
   ]
  },
  {
   "cell_type": "code",
   "execution_count": 22,
   "metadata": {
    "id": "9Y-JG9FAZ89D"
   },
   "outputs": [],
   "source": [
    "# returns a compiled model, identical to the previous one\n",
    "model_mini = load_model('models/LSTM-Mini-Batch-Model.h5')"
   ]
  },
  {
   "cell_type": "markdown",
   "metadata": {
    "id": "9FJIKNXBZtW-"
   },
   "source": [
    "Let's check if everything is correct:"
   ]
  },
  {
   "cell_type": "code",
   "execution_count": 23,
   "metadata": {
    "colab": {
     "base_uri": "https://localhost:8080/"
    },
    "id": "SWZhq9u5ZtW-",
    "outputId": "eb9d4eef-a55b-4cc3-e180-35d7bdd6ca95"
   },
   "outputs": [
    {
     "name": "stdout",
     "output_type": "stream",
     "text": [
      "30/30 [==============================] - 5s 131ms/step - loss: 0.0747 - binary_accuracy: 0.9067\n",
      "\n",
      "Model Accuracy: 90.67%\n"
     ]
    }
   ],
   "source": [
    "model_mini_score = model_mini.evaluate(x_val, np.asarray(y_val), batch_size=n_batch)\n",
    "print(\"\\nModel Accuracy:\", str(round(model_mini_score[1] * 100, 2)) + '%')"
   ]
  },
  {
   "cell_type": "markdown",
   "metadata": {
    "id": "Hhi8zre1ZtW-"
   },
   "source": [
    "<h2 align=\"center\">Stacked LSTM Layers</h2>\n",
    "\n",
    "Now we will try the model with a 3 stacked LSTM layers:"
   ]
  },
  {
   "cell_type": "code",
   "execution_count": null,
   "metadata": {
    "colab": {
     "base_uri": "https://localhost:8080/"
    },
    "id": "-rhE_r9JZtW_",
    "outputId": "70b98c21-7ef9-4616-dd71-96e827fb661f"
   },
   "outputs": [
    {
     "name": "stdout",
     "output_type": "stream",
     "text": [
      "Model: \"sequential\"\n",
      "_________________________________________________________________\n",
      " Layer (type)                Output Shape              Param #   \n",
      "=================================================================\n",
      " lstm (LSTM)                 (None, 100, 100)          80400     \n",
      "                                                                 \n",
      " lstm_1 (LSTM)               (None, 100, 32)           17024     \n",
      "                                                                 \n",
      " lstm_2 (LSTM)               (None, 32)                8320      \n",
      "                                                                 \n",
      " dense (Dense)               (None, 1)                 33        \n",
      "                                                                 \n",
      "=================================================================\n",
      "Total params: 105,777\n",
      "Trainable params: 105,777\n",
      "Non-trainable params: 0\n",
      "_________________________________________________________________\n",
      "None\n"
     ]
    }
   ],
   "source": [
    "# configure network\n",
    "n_neurons = 100\n",
    "n_epoch = 20\n",
    "n_batch = 128\n",
    "\n",
    "# design network\n",
    "model3L = Sequential()\n",
    "\n",
    "model3L.add(LSTM(n_neurons, return_sequences=True, input_shape=(x.shape[1], x.shape[2])))\n",
    "model3L.add(LSTM(32, return_sequences=True))  # returns a sequence of vectors of dimension 32\n",
    "model3L.add(LSTM(32))  # return a single vector of dimension 32\n",
    "\n",
    "model3L.add(Dense(1, activation='sigmoid'))\n",
    "model3L.compile(loss='mean_squared_error', optimizer='adam', metrics=['binary_accuracy'])\n",
    "\n",
    "print(model3L.summary())"
   ]
  },
  {
   "cell_type": "code",
   "execution_count": null,
   "metadata": {
    "colab": {
     "base_uri": "https://localhost:8080/"
    },
    "id": "rfk9cxSYZtW_",
    "outputId": "6b2061e9-7c0f-406a-c45b-cd4df26a01f8"
   },
   "outputs": [
    {
     "name": "stdout",
     "output_type": "stream",
     "text": [
      "Epoch 1/20\n",
      "170/170 [==============================] - 74s 399ms/step - loss: 0.2189 - binary_accuracy: 0.6408\n",
      "Epoch 2/20\n",
      "170/170 [==============================] - 69s 408ms/step - loss: 0.1775 - binary_accuracy: 0.7501\n",
      "Epoch 3/20\n",
      "170/170 [==============================] - 68s 398ms/step - loss: 0.1627 - binary_accuracy: 0.7672\n",
      "Epoch 4/20\n",
      "170/170 [==============================] - 73s 431ms/step - loss: 0.1502 - binary_accuracy: 0.7873\n",
      "Epoch 5/20\n",
      "170/170 [==============================] - 68s 403ms/step - loss: 0.1473 - binary_accuracy: 0.7971\n",
      "Epoch 6/20\n",
      "170/170 [==============================] - 70s 411ms/step - loss: 0.1373 - binary_accuracy: 0.8132\n",
      "Epoch 7/20\n",
      "170/170 [==============================] - 68s 403ms/step - loss: 0.1293 - binary_accuracy: 0.8238\n",
      "Epoch 8/20\n",
      "170/170 [==============================] - 68s 398ms/step - loss: 0.1225 - binary_accuracy: 0.8332\n",
      "Epoch 9/20\n",
      "170/170 [==============================] - 68s 401ms/step - loss: 0.1131 - binary_accuracy: 0.8470\n",
      "Epoch 10/20\n",
      "170/170 [==============================] - 69s 407ms/step - loss: 0.1132 - binary_accuracy: 0.8470\n",
      "Epoch 11/20\n",
      "170/170 [==============================] - 70s 410ms/step - loss: 0.1026 - binary_accuracy: 0.8633\n",
      "Epoch 12/20\n",
      "170/170 [==============================] - 68s 402ms/step - loss: 0.0968 - binary_accuracy: 0.8743\n",
      "Epoch 13/20\n",
      "170/170 [==============================] - 69s 404ms/step - loss: 0.0919 - binary_accuracy: 0.8824\n",
      "Epoch 14/20\n",
      "170/170 [==============================] - 69s 406ms/step - loss: 0.0840 - binary_accuracy: 0.8930\n",
      "Epoch 15/20\n",
      "170/170 [==============================] - 69s 408ms/step - loss: 0.0828 - binary_accuracy: 0.8957\n",
      "Epoch 16/20\n",
      "170/170 [==============================] - 69s 407ms/step - loss: 0.0732 - binary_accuracy: 0.9098\n",
      "Epoch 17/20\n",
      "170/170 [==============================] - 69s 404ms/step - loss: 0.0701 - binary_accuracy: 0.9145\n",
      "Epoch 18/20\n",
      "170/170 [==============================] - 68s 403ms/step - loss: 0.0645 - binary_accuracy: 0.9230\n",
      "Epoch 19/20\n",
      "170/170 [==============================] - 69s 407ms/step - loss: 0.0626 - binary_accuracy: 0.9246\n",
      "Epoch 20/20\n",
      "170/170 [==============================] - 69s 407ms/step - loss: 0.0625 - binary_accuracy: 0.9258\n"
     ]
    }
   ],
   "source": [
    "model3L_hist = model3L.fit(x_train, np.asarray(y_train), batch_size=n_batch, epochs=n_epoch, verbose=1)"
   ]
  },
  {
   "cell_type": "code",
   "execution_count": null,
   "metadata": {
    "colab": {
     "base_uri": "https://localhost:8080/"
    },
    "id": "Z66lHsYnZtW_",
    "outputId": "d727be3d-2058-4266-df4e-c55d2b6bd3cd"
   },
   "outputs": [
    {
     "name": "stdout",
     "output_type": "stream",
     "text": [
      "30/30 [==============================] - 6s 147ms/step - loss: 0.1419 - binary_accuracy: 0.8207\n",
      "\n",
      "Model Accuracy: 82.07%\n"
     ]
    }
   ],
   "source": [
    "model3L_score = model3L.evaluate(x_val, np.asarray(y_val), batch_size=n_batch)\n",
    "print(\"\\nModel Accuracy:\", str(round(model3L_score[1] * 100, 2)) + '%')"
   ]
  },
  {
   "cell_type": "code",
   "execution_count": null,
   "metadata": {
    "colab": {
     "base_uri": "https://localhost:8080/",
     "height": 295
    },
    "id": "tx4LX6JNZtW_",
    "outputId": "ddf63d0b-15e2-491a-a274-2df5e6c17648"
   },
   "outputs": [
    {
     "data": {
      "image/png": "[encoded data removed]",
      "text/plain": [
       "<Figure size 432x288 with 1 Axes>"
      ]
     },
     "metadata": {
      "needs_background": "light"
     },
     "output_type": "display_data"
    }
   ],
   "source": [
    "plt.plot(model3L_hist.history['loss'])\n",
    "\n",
    "plt.title('Model Loss')\n",
    "plt.ylabel('Loss')\n",
    "plt.xlabel('Epoch')\n",
    "plt.legend(['Train'], loc='lower left')\n",
    "\n",
    "plt.show()"
   ]
  },
  {
   "cell_type": "markdown",
   "metadata": {
    "id": "vTuyvAM-ZtXC"
   },
   "source": [
    "Let's save our model:"
   ]
  },
  {
   "cell_type": "code",
   "execution_count": null,
   "metadata": {
    "id": "QCG_Af_EZtXC"
   },
   "outputs": [],
   "source": [
    "model3L.save('models/LSTM-3L-Model.h5')  # save model\n",
    "del model3L  # delete existing model"
   ]
  },
  {
   "cell_type": "code",
   "execution_count": 24,
   "metadata": {
    "id": "Tgs_iFa1aKdP"
   },
   "outputs": [],
   "source": [
    "# returns a compiled model, identical to the previous one\n",
    "model3L = load_model('models/LSTM-3L-Model.h5')"
   ]
  },
  {
   "cell_type": "markdown",
   "metadata": {
    "id": "l4ATCsPeZtXC"
   },
   "source": [
    "Let's check if everything is correct:"
   ]
  },
  {
   "cell_type": "code",
   "execution_count": 25,
   "metadata": {
    "colab": {
     "base_uri": "https://localhost:8080/"
    },
    "id": "OA83RjgYZtXC",
    "outputId": "473f5f6f-f1bf-4039-91a3-87d801148a48"
   },
   "outputs": [
    {
     "name": "stdout",
     "output_type": "stream",
     "text": [
      "30/30 [==============================] - 6s 144ms/step - loss: 0.0740 - binary_accuracy: 0.9098\n",
      "\n",
      "Model Accuracy: 90.98%\n"
     ]
    }
   ],
   "source": [
    "model3L_score = model3L.evaluate(x_val, np.asarray(y_val), batch_size=n_batch)\n",
    "print(\"\\nModel Accuracy:\", str(round(model3L_score[1] * 100, 2)) + '%')"
   ]
  },
  {
   "cell_type": "markdown",
   "metadata": {
    "id": "d2zteJmhZtXC"
   },
   "source": [
    "<h2 align=\"center\">Bidirectional LSTM</h2>\n",
    "\n",
    "Bidirectional LSTMs are an extension of traditional LSTMs that can improve model performance on sequence classification problems.\n",
    "\n",
    "In problems where all timesteps of the input sequence are available, Bidirectional LSTMs train two instead of one LSTMs on the input sequence. The first on the input sequence as-is and the second on a reversed copy of the input sequence. This can provide additional context to the network and result in faster and even fuller learning on the problem.\n",
    "\n",
    "The idea of Bidirectional Recurrent Neural Networks (RNNs) is straightforward.\n",
    "\n",
    "It involves duplicating the first recurrent layer in the network so that there are now two layers side-by-side, then providing the input sequence as-is as input to the first layer and providing a reversed copy of the input sequence to the second."
   ]
  },
  {
   "cell_type": "code",
   "execution_count": null,
   "metadata": {
    "colab": {
     "base_uri": "https://localhost:8080/"
    },
    "id": "91_ZiDYhZtXD",
    "outputId": "315ee5f3-8ff7-4ced-e6cf-d6c5d0710c40"
   },
   "outputs": [
    {
     "name": "stdout",
     "output_type": "stream",
     "text": [
      "Model: \"sequential_1\"\n",
      "_________________________________________________________________\n",
      " Layer (type)                Output Shape              Param #   \n",
      "=================================================================\n",
      " bidirectional (Bidirectiona  (None, 100, 128)         84480     \n",
      " l)                                                              \n",
      "                                                                 \n",
      " bidirectional_1 (Bidirectio  (None, 128)              98816     \n",
      " nal)                                                            \n",
      "                                                                 \n",
      " dropout (Dropout)           (None, 128)               0         \n",
      "                                                                 \n",
      " dense_1 (Dense)             (None, 1)                 129       \n",
      "                                                                 \n",
      "=================================================================\n",
      "Total params: 183,425\n",
      "Trainable params: 183,425\n",
      "Non-trainable params: 0\n",
      "_________________________________________________________________\n",
      "None\n"
     ]
    }
   ],
   "source": [
    "from keras.layers.core import Dropout\n",
    "from keras.layers import Bidirectional\n",
    "\n",
    "# configure network\n",
    "n_epoch = 20\n",
    "n_batch = 64\n",
    "\n",
    "# design network\n",
    "model_Bi_LSTM = Sequential()\n",
    "model_Bi_LSTM.add(Bidirectional(LSTM(64, return_sequences=True), input_shape=(x.shape[1], x.shape[2])))\n",
    "model_Bi_LSTM.add(Bidirectional(LSTM(64)))\n",
    "model_Bi_LSTM.add(Dropout(0.5))\n",
    "model_Bi_LSTM.add(Dense(1, activation='sigmoid'))\n",
    "\n",
    "# try using different optimizers and different optimizer configs\n",
    "model_Bi_LSTM.compile('adam', 'binary_crossentropy', metrics=['binary_accuracy'])\n",
    "print(model_Bi_LSTM.summary())"
   ]
  },
  {
   "cell_type": "code",
   "execution_count": null,
   "metadata": {
    "colab": {
     "base_uri": "https://localhost:8080/"
    },
    "id": "FUBS8nSHZtXD",
    "outputId": "830d52e7-b26c-40d2-f15c-2aa5c55f1f8a"
   },
   "outputs": [
    {
     "name": "stdout",
     "output_type": "stream",
     "text": [
      "Epoch 1/20\n",
      "339/339 [==============================] - 133s 370ms/step - loss: 0.5575 - binary_accuracy: 0.7166 - val_loss: 0.5054 - val_binary_accuracy: 0.7537\n",
      "Epoch 2/20\n",
      "339/339 [==============================] - 125s 369ms/step - loss: 0.4757 - binary_accuracy: 0.7772 - val_loss: 0.4474 - val_binary_accuracy: 0.7856\n",
      "Epoch 3/20\n",
      "339/339 [==============================] - 123s 363ms/step - loss: 0.4388 - binary_accuracy: 0.7957 - val_loss: 0.4401 - val_binary_accuracy: 0.7864\n",
      "Epoch 4/20\n",
      "339/339 [==============================] - 121s 357ms/step - loss: 0.4008 - binary_accuracy: 0.8215 - val_loss: 0.4184 - val_binary_accuracy: 0.8026\n",
      "Epoch 5/20\n",
      "339/339 [==============================] - 121s 356ms/step - loss: 0.3726 - binary_accuracy: 0.8356 - val_loss: 0.3843 - val_binary_accuracy: 0.8303\n",
      "Epoch 6/20\n",
      "339/339 [==============================] - 120s 355ms/step - loss: 0.3490 - binary_accuracy: 0.8478 - val_loss: 0.3800 - val_binary_accuracy: 0.8340\n",
      "Epoch 7/20\n",
      "339/339 [==============================] - 121s 357ms/step - loss: 0.3240 - binary_accuracy: 0.8627 - val_loss: 0.4203 - val_binary_accuracy: 0.8081\n",
      "Epoch 8/20\n",
      "339/339 [==============================] - 122s 359ms/step - loss: 0.3008 - binary_accuracy: 0.8763 - val_loss: 0.3766 - val_binary_accuracy: 0.8358\n",
      "Epoch 9/20\n",
      "339/339 [==============================] - 125s 370ms/step - loss: 0.2718 - binary_accuracy: 0.8914 - val_loss: 0.4048 - val_binary_accuracy: 0.8327\n",
      "Epoch 10/20\n",
      "339/339 [==============================] - 125s 370ms/step - loss: 0.2536 - binary_accuracy: 0.8975 - val_loss: 0.4587 - val_binary_accuracy: 0.8254\n",
      "Epoch 11/20\n",
      "339/339 [==============================] - 123s 362ms/step - loss: 0.2269 - binary_accuracy: 0.9116 - val_loss: 0.4401 - val_binary_accuracy: 0.8345\n",
      "Epoch 12/20\n",
      "339/339 [==============================] - 123s 362ms/step - loss: 0.1947 - binary_accuracy: 0.9257 - val_loss: 0.4250 - val_binary_accuracy: 0.8439\n",
      "Epoch 13/20\n",
      "339/339 [==============================] - 123s 362ms/step - loss: 0.1760 - binary_accuracy: 0.9324 - val_loss: 0.4879 - val_binary_accuracy: 0.8395\n",
      "Epoch 14/20\n",
      "339/339 [==============================] - 122s 359ms/step - loss: 0.1466 - binary_accuracy: 0.9453 - val_loss: 0.5243 - val_binary_accuracy: 0.8371\n",
      "Epoch 15/20\n",
      "339/339 [==============================] - 123s 364ms/step - loss: 0.1220 - binary_accuracy: 0.9562 - val_loss: 0.5274 - val_binary_accuracy: 0.8217\n",
      "Epoch 16/20\n",
      "339/339 [==============================] - 123s 364ms/step - loss: 0.1220 - binary_accuracy: 0.9564 - val_loss: 0.6252 - val_binary_accuracy: 0.8259\n",
      "Epoch 17/20\n",
      "339/339 [==============================] - 124s 365ms/step - loss: 0.0949 - binary_accuracy: 0.9682 - val_loss: 0.5920 - val_binary_accuracy: 0.8337\n",
      "Epoch 18/20\n",
      "339/339 [==============================] - 121s 358ms/step - loss: 0.0744 - binary_accuracy: 0.9757 - val_loss: 0.7071 - val_binary_accuracy: 0.8188\n",
      "Epoch 19/20\n",
      "339/339 [==============================] - 121s 358ms/step - loss: 0.0818 - binary_accuracy: 0.9727 - val_loss: 0.6927 - val_binary_accuracy: 0.8235\n",
      "Epoch 20/20\n",
      "339/339 [==============================] - 122s 361ms/step - loss: 0.0703 - binary_accuracy: 0.9761 - val_loss: 0.7010 - val_binary_accuracy: 0.8342\n"
     ]
    }
   ],
   "source": [
    "model_Bi_LSTM_hist = model_Bi_LSTM.fit(x_train, np.asarray(y_train), epochs=n_epoch, batch_size=n_batch, verbose=1, validation_data=(x_val, np.asarray(y_val)))"
   ]
  },
  {
   "cell_type": "code",
   "execution_count": null,
   "metadata": {
    "colab": {
     "base_uri": "https://localhost:8080/"
    },
    "id": "S46I1EENZtXD",
    "outputId": "24c2e9ca-71e0-478a-873e-f002857f0fad"
   },
   "outputs": [
    {
     "name": "stdout",
     "output_type": "stream",
     "text": [
      "60/60 [==============================] - 6s 105ms/step - loss: 0.7010 - binary_accuracy: 0.8342\n",
      "\n",
      "Model Accuracy: 83.42%\n"
     ]
    }
   ],
   "source": [
    "model_Bi_LSTM_score = model_Bi_LSTM.evaluate(x_val, np.asarray(y_val), batch_size=n_batch)\n",
    "print(\"\\nModel Accuracy:\",str(round(model_Bi_LSTM_score[1] * 100, 2)) + '%')"
   ]
  },
  {
   "cell_type": "code",
   "execution_count": null,
   "metadata": {
    "colab": {
     "base_uri": "https://localhost:8080/",
     "height": 295
    },
    "id": "IVyY3L1tZtXD",
    "outputId": "23484dd3-e718-475a-e6bf-792b2d47f72c"
   },
   "outputs": [
    {
     "data": {
      "image/png": "[encoded data removed]",
      "text/plain": [
       "<Figure size 432x288 with 1 Axes>"
      ]
     },
     "metadata": {
      "needs_background": "light"
     },
     "output_type": "display_data"
    }
   ],
   "source": [
    "plt.plot(model_Bi_LSTM_hist.history['loss'])\n",
    "plt.plot(model_Bi_LSTM_hist.history['val_loss'])\n",
    "\n",
    "plt.title('Model Loss')\n",
    "plt.ylabel('Loss')\n",
    "plt.xlabel('Epoch')\n",
    "plt.legend(['Train', 'Val'], loc='lower left')\n",
    "\n",
    "plt.show()"
   ]
  },
  {
   "cell_type": "code",
   "execution_count": null,
   "metadata": {
    "colab": {
     "base_uri": "https://localhost:8080/",
     "height": 295
    },
    "id": "rZOeE_vLZtXD",
    "outputId": "ec579766-0b8d-4999-c8cb-684c019ddf13"
   },
   "outputs": [
    {
     "data": {
      "image/png": "[encoded data removed]",
      "text/plain": [
       "<Figure size 432x288 with 1 Axes>"
      ]
     },
     "metadata": {
      "needs_background": "light"
     },
     "output_type": "display_data"
    }
   ],
   "source": [
    "plt.plot(model_Bi_LSTM_hist.history['binary_accuracy'])\n",
    "plt.plot(model_Bi_LSTM_hist.history['val_binary_accuracy'])\n",
    "\n",
    "plt.title('Model Loss')\n",
    "plt.ylabel('Loss')\n",
    "plt.xlabel('Epoch')\n",
    "plt.legend(['Train', 'Val'], loc='lower left')\n",
    "\n",
    "plt.show()"
   ]
  },
  {
   "cell_type": "markdown",
   "metadata": {
    "id": "IoQJQeIdZtXE"
   },
   "source": [
    "Let's save our model:"
   ]
  },
  {
   "cell_type": "code",
   "execution_count": null,
   "metadata": {
    "id": "kscMkhQkZtXE"
   },
   "outputs": [],
   "source": [
    "model_Bi_LSTM.save('models/LSTM-Bi-Model.h5')  # save model\n",
    "del model_Bi_LSTM  # delete existing model"
   ]
  },
  {
   "cell_type": "code",
   "execution_count": 26,
   "metadata": {
    "id": "d0YonJWraOeF"
   },
   "outputs": [],
   "source": [
    "# returns a compiled model, identical to the previous one\n",
    "model_Bi_LSTM = load_model('models/LSTM-Bi-Model.h5')"
   ]
  },
  {
   "cell_type": "code",
   "execution_count": 27,
   "metadata": {
    "colab": {
     "base_uri": "https://localhost:8080/"
    },
    "id": "7TDowu1umwzy",
    "outputId": "2cc9ebf8-8665-4788-e094-b4d0b332e930"
   },
   "outputs": [
    {
     "name": "stdout",
     "output_type": "stream",
     "text": [
      "60/60 [==============================] - 7s 93ms/step - loss: 0.2522 - binary_accuracy: 0.9331\n",
      "\n",
      "Model Accuracy: 93.31%\n"
     ]
    }
   ],
   "source": [
    "model_Bi_LSTM_score = model_Bi_LSTM.evaluate(x_val, np.asarray(y_val), batch_size=n_batch)\n",
    "print(\"\\nModel Accuracy:\", str(round(model_Bi_LSTM_score[1] * 100, 2)) + '%')"
   ]
  },
  {
   "cell_type": "markdown",
   "metadata": {
    "id": "a3vslMkOZtXE"
   },
   "source": [
    "<h2 align=\"center\">CNN + LSTM</h2>\n",
    "\n",
    "This approach is based entirely on [this work](https://www.aclweb.org/anthology/P16-2037.pdf). As indicated in the work:\n",
    "\n",
    "<cite>\n",
    "    \n",
    "    Dimensional sentiment analysis aims to recognize continuous numerical values in multiple dimensions such as the valencearousal (VA) space. \n",
    "    \n",
    "    Compared to the categorical approach that focuses on sentiment classification such as binary classification (i.e., positive and negative), the dimensional approach can provide more fine-grained sentiment analysis. This study proposes a regional CNN-LSTM model consisting of two parts: regional CNN and LSTM to predict the VA ratings of texts. \n",
    "   \n",
    "    Unlike a conventional CNN which considers a whole text as input, the proposed regional CNN uses an individual sentence as a region, dividing an input text into several regions such that the useful affective information in each region can be extracted and weighted according to their contribution to the VA prediction. Such regional information is sequentially integrated across regions using LSTM for VA prediction. \n",
    "\n",
    "</cite>\n",
    "\n",
    "In short, word vectors of vocabulary words are trained from a large corpus using the word2vec toolkit. For each given text, the  regional CNN model uses the sentence as a region to divide the text into R-domains, ie r1, ..., ri rj, rk, ..., rR. In each region, useful affective functions can be removed when word vectors pass sequentially through the convolutional layer and the  maxpooling  layer. Then such local (regional) features are sequentially integrated between regions using LSTM to construct a text vector for VA prediction."
   ]
  },
  {
   "cell_type": "code",
   "execution_count": null,
   "metadata": {
    "colab": {
     "base_uri": "https://localhost:8080/"
    },
    "id": "DwNuefZ_ZtXE",
    "outputId": "ae34fb87-838b-49a1-f2cd-d470acf04831"
   },
   "outputs": [
    {
     "name": "stdout",
     "output_type": "stream",
     "text": [
      "Model: \"sequential_2\"\n",
      "_________________________________________________________________\n",
      " Layer (type)                Output Shape              Param #   \n",
      "=================================================================\n",
      " conv1d (Conv1D)             (None, 100, 128)          51328     \n",
      "                                                                 \n",
      " max_pooling1d (MaxPooling1D  (None, 33, 128)          0         \n",
      " )                                                               \n",
      "                                                                 \n",
      " bidirectional_2 (Bidirectio  (None, 33, 128)          98816     \n",
      " nal)                                                            \n",
      "                                                                 \n",
      " lstm_6 (LSTM)               (None, 32)                20608     \n",
      "                                                                 \n",
      " dropout_1 (Dropout)         (None, 32)                0         \n",
      "                                                                 \n",
      " dense_2 (Dense)             (None, 1)                 33        \n",
      "                                                                 \n",
      "=================================================================\n",
      "Total params: 170,785\n",
      "Trainable params: 170,785\n",
      "Non-trainable params: 0\n",
      "_________________________________________________________________\n",
      "None\n"
     ]
    }
   ],
   "source": [
    "from keras.layers import Conv1D, MaxPooling1D, Flatten\n",
    "from keras.layers import Bidirectional\n",
    "\n",
    "# configure network\n",
    "n_epoch = 20\n",
    "n_batch = 128\n",
    "\n",
    "# design network\n",
    "model_CNN_LSTM = Sequential()\n",
    "\n",
    "model_CNN_LSTM.add(Conv1D(filters=128, kernel_size=4, input_shape=(x.shape[1], x.shape[2]), padding='same', activation='relu'))\n",
    "model_CNN_LSTM.add(MaxPooling1D(pool_size=3))\n",
    "model_CNN_LSTM.add(Bidirectional(LSTM(64, return_sequences = True)))\n",
    "model_CNN_LSTM.add(LSTM(32, recurrent_dropout = 0.4))\n",
    "model_CNN_LSTM.add(Dropout(0.2))\n",
    "model_CNN_LSTM.add(Dense(1, activation='sigmoid'))\n",
    "\n",
    "model_CNN_LSTM.compile(loss='binary_crossentropy', optimizer='adam', metrics=['binary_accuracy'])\n",
    "\n",
    "print(model_CNN_LSTM.summary())"
   ]
  },
  {
   "cell_type": "code",
   "execution_count": null,
   "metadata": {
    "colab": {
     "base_uri": "https://localhost:8080/"
    },
    "id": "nG3Gl2KlZtXE",
    "outputId": "0b161fe6-0dbb-4c5a-ed67-a4195d090381"
   },
   "outputs": [
    {
     "name": "stdout",
     "output_type": "stream",
     "text": [
      "Epoch 1/20\n",
      "170/170 [==============================] - 50s 252ms/step - loss: 0.5844 - binary_accuracy: 0.6836\n",
      "Epoch 2/20\n",
      "170/170 [==============================] - 43s 254ms/step - loss: 0.4661 - binary_accuracy: 0.7814\n",
      "Epoch 3/20\n",
      "170/170 [==============================] - 43s 254ms/step - loss: 0.3921 - binary_accuracy: 0.8293\n",
      "Epoch 4/20\n",
      "170/170 [==============================] - 43s 253ms/step - loss: 0.3271 - binary_accuracy: 0.8630\n",
      "Epoch 5/20\n",
      "170/170 [==============================] - 43s 252ms/step - loss: 0.2834 - binary_accuracy: 0.8844\n",
      "Epoch 6/20\n",
      "170/170 [==============================] - 43s 253ms/step - loss: 0.2306 - binary_accuracy: 0.9112\n",
      "Epoch 7/20\n",
      "170/170 [==============================] - 44s 257ms/step - loss: 0.1780 - binary_accuracy: 0.9364\n",
      "Epoch 8/20\n",
      "170/170 [==============================] - 43s 255ms/step - loss: 0.1597 - binary_accuracy: 0.9436\n",
      "Epoch 9/20\n",
      "170/170 [==============================] - 44s 256ms/step - loss: 0.1218 - binary_accuracy: 0.9592\n",
      "Epoch 10/20\n",
      "170/170 [==============================] - 44s 261ms/step - loss: 0.1073 - binary_accuracy: 0.9650\n",
      "Epoch 11/20\n",
      "170/170 [==============================] - 44s 260ms/step - loss: 0.0918 - binary_accuracy: 0.9720\n",
      "Epoch 12/20\n",
      "170/170 [==============================] - 44s 259ms/step - loss: 0.0876 - binary_accuracy: 0.9728\n",
      "Epoch 13/20\n",
      "170/170 [==============================] - 44s 258ms/step - loss: 0.0729 - binary_accuracy: 0.9791\n",
      "Epoch 14/20\n",
      "170/170 [==============================] - 44s 258ms/step - loss: 0.0639 - binary_accuracy: 0.9821\n",
      "Epoch 15/20\n",
      "170/170 [==============================] - 44s 259ms/step - loss: 0.0612 - binary_accuracy: 0.9844\n",
      "Epoch 16/20\n",
      "170/170 [==============================] - 45s 263ms/step - loss: 0.0551 - binary_accuracy: 0.9854\n",
      "Epoch 17/20\n",
      "170/170 [==============================] - 44s 259ms/step - loss: 0.0544 - binary_accuracy: 0.9855\n",
      "Epoch 18/20\n",
      "170/170 [==============================] - 44s 260ms/step - loss: 0.0503 - binary_accuracy: 0.9871\n",
      "Epoch 19/20\n",
      "170/170 [==============================] - 44s 258ms/step - loss: 0.0934 - binary_accuracy: 0.9687\n",
      "Epoch 20/20\n",
      "170/170 [==============================] - 44s 258ms/step - loss: 0.0445 - binary_accuracy: 0.9890\n"
     ]
    }
   ],
   "source": [
    "model_CNN_LSTM_hist = model_CNN_LSTM.fit(x_train, np.asarray(y_train), epochs=n_epoch, batch_size=n_batch)"
   ]
  },
  {
   "cell_type": "code",
   "execution_count": null,
   "metadata": {
    "colab": {
     "base_uri": "https://localhost:8080/"
    },
    "id": "yK8I8-i1ZtXF",
    "outputId": "d8c52db7-4e20-45a8-9753-800407b10020"
   },
   "outputs": [
    {
     "name": "stdout",
     "output_type": "stream",
     "text": [
      "30/30 [==============================] - 4s 81ms/step - loss: 0.8386 - binary_accuracy: 0.8188\n",
      "\n",
      "Model Accuracy: 81.88%\n"
     ]
    }
   ],
   "source": [
    "model_CNN_LSTM_score = model_CNN_LSTM.evaluate(x_val, np.asarray(y_val), batch_size=n_batch)\n",
    "print(\"\\nModel Accuracy:\",str(round(model_CNN_LSTM_score[1] * 100, 2)) + '%')"
   ]
  },
  {
   "cell_type": "code",
   "execution_count": null,
   "metadata": {
    "colab": {
     "base_uri": "https://localhost:8080/",
     "height": 295
    },
    "id": "Zyk3Q0tXZtXF",
    "outputId": "103996cc-c44c-4b63-dca6-fd439090b282"
   },
   "outputs": [
    {
     "data": {
      "image/png": "[encoded data removed]",
      "text/plain": [
       "<Figure size 432x288 with 1 Axes>"
      ]
     },
     "metadata": {
      "needs_background": "light"
     },
     "output_type": "display_data"
    }
   ],
   "source": [
    "plt.plot(model_CNN_LSTM_hist.history['loss'])\n",
    "\n",
    "plt.title('Model Loss')\n",
    "plt.ylabel('Loss')\n",
    "plt.xlabel('Epoch')\n",
    "plt.legend(['Train'], loc='lower left')\n",
    "\n",
    "plt.show()"
   ]
  },
  {
   "cell_type": "markdown",
   "metadata": {
    "id": "mbH-cK4TZtXF"
   },
   "source": [
    "Let's save our model:"
   ]
  },
  {
   "cell_type": "code",
   "execution_count": null,
   "metadata": {
    "id": "nXJekFFUZtXF"
   },
   "outputs": [],
   "source": [
    "model_CNN_LSTM.save('models/LSTM-CNN-Model.h5')  # save model\n",
    "del model_CNN_LSTM  # delete existing model"
   ]
  },
  {
   "cell_type": "code",
   "execution_count": 28,
   "metadata": {
    "id": "P1p_mEdwpEkK"
   },
   "outputs": [],
   "source": [
    "# returns a compiled model, identical to the previous one\n",
    "model_CNN_LSTM = load_model('models/LSTM-CNN-Model.h5')"
   ]
  },
  {
   "cell_type": "code",
   "execution_count": 29,
   "metadata": {
    "colab": {
     "base_uri": "https://localhost:8080/"
    },
    "id": "uhvSNNC5m9ky",
    "outputId": "f82cd583-1870-491d-e9fa-14e2c8c795df"
   },
   "outputs": [
    {
     "name": "stdout",
     "output_type": "stream",
     "text": [
      "30/30 [==============================] - 5s 75ms/step - loss: 0.2533 - binary_accuracy: 0.9448\n",
      "\n",
      "Model Accuracy: 94.48%\n"
     ]
    }
   ],
   "source": [
    "model_CNN_LSTM_score = model_CNN_LSTM.evaluate(x_val, np.asarray(y_val), batch_size=n_batch)\n",
    "print(\"\\nModel Accuracy:\", str(round(model_CNN_LSTM_score[1] * 100, 2)) + '%')"
   ]
  },
  {
   "cell_type": "markdown",
   "metadata": {
    "id": "shEEexHiZtXF"
   },
   "source": [
    "<h2 align=\"center\">Testing</h2>\n",
    "\n",
    "So far in terms of accuracy the best model is LSTM Model with Mini-Batch Gradient Descent.\n",
    "\n",
    "Let's try to check the test data with all but one of the test examples to see if the model can predict it:"
   ]
  },
  {
   "cell_type": "code",
   "execution_count": null,
   "metadata": {
    "colab": {
     "base_uri": "https://localhost:8080/"
    },
    "id": "6E0ZIkM0ZtXF",
    "outputId": "cd2567c0-0d8e-4897-86a3-a2708272e847"
   },
   "outputs": [
    {
     "name": "stdout",
     "output_type": "stream",
     "text": [
      "Length of test data (except 1): 5781\n"
     ]
    }
   ],
   "source": [
    "print(\"Length of test data (except 1):\", len(x_test[:-1]))"
   ]
  },
  {
   "cell_type": "code",
   "execution_count": null,
   "metadata": {
    "colab": {
     "base_uri": "https://localhost:8080/"
    },
    "id": "U3otd9AgZtXG",
    "outputId": "b626800f-716e-439a-af30-5cbc8601f974"
   },
   "outputs": [
    {
     "name": "stdout",
     "output_type": "stream",
     "text": [
      "181/181 [==============================] - 7s 35ms/step - loss: 0.1390 - binary_accuracy: 0.8324\n",
      "[0.13903364539146423, 0.8323819637298584]\n"
     ]
    }
   ],
   "source": [
    "score_test = model_mini.evaluate(x_test[:-1], np.asarray(y_test[:-1]))\n",
    "print(score_test)"
   ]
  },
  {
   "cell_type": "code",
   "execution_count": null,
   "metadata": {
    "colab": {
     "base_uri": "https://localhost:8080/"
    },
    "id": "G5MRX62sZtXG",
    "outputId": "42052f63-6fa6-4ccf-bcda-ea88fecaa766"
   },
   "outputs": [
    {
     "name": "stdout",
     "output_type": "stream",
     "text": [
      "1/1 [==============================] - 1s 583ms/step - loss: 0.0084 - binary_accuracy: 1.0000\n",
      "[0.008366141468286514, 1.0]\n"
     ]
    }
   ],
   "source": [
    "score_test_one = model_CNN_LSTM.evaluate(x_test[-1:], np.asarray(y_test[-1:]))\n",
    "print(score_test_one)"
   ]
  },
  {
   "cell_type": "code",
   "execution_count": null,
   "metadata": {
    "colab": {
     "base_uri": "https://localhost:8080/"
    },
    "id": "xE4SWgv4ZtXG",
    "outputId": "6e1498cc-cbea-48e9-f58e-4a2901f8db55"
   },
   "outputs": [
    {
     "name": "stdout",
     "output_type": "stream",
     "text": [
      "[[1]\n",
      " [0]\n",
      " [1]\n",
      " ...\n",
      " [1]\n",
      " [1]\n",
      " [1]]\n"
     ]
    }
   ],
   "source": [
    "predict_test = (model_CNN_LSTM.predict(x_test[:-1]) > 0.5).astype(\"int32\")\n",
    "print(predict_test)"
   ]
  },
  {
   "cell_type": "code",
   "execution_count": null,
   "metadata": {
    "id": "HUnlwzSQZtXG"
   },
   "outputs": [],
   "source": [
    "predict_test_one = (model_CNN_LSTM.predict(x_test[-1:]) > 0.5).astype(\"int32\")"
   ]
  },
  {
   "cell_type": "code",
   "execution_count": null,
   "metadata": {
    "colab": {
     "base_uri": "https://localhost:8080/"
    },
    "id": "y_OgHg7sZtXG",
    "outputId": "8e7eb65c-a0aa-43e5-c145-1fe432d782b9"
   },
   "outputs": [
    {
     "name": "stdout",
     "output_type": "stream",
     "text": [
      "Predicted value: 1 \n",
      "Actual value: 1\n"
     ]
    }
   ],
   "source": [
    "print(\"Predicted value:\", predict_test_one[0][0], \"\\nActual value:\", y_test[-1:][0])"
   ]
  },
  {
   "cell_type": "markdown",
   "metadata": {
    "id": "2qtrGThgZtXG"
   },
   "source": [
    "Prediction works great, now let's visualize the data."
   ]
  },
  {
   "cell_type": "markdown",
   "metadata": {
    "id": "ohO5DMXQZtXH"
   },
   "source": [
    "<h2 align=\"center\">Visualization of Classification Report</h2>\n",
    "\n",
    "We will need our method from previous part to visualize our data, so we will use them now."
   ]
  },
  {
   "cell_type": "code",
   "execution_count": 30,
   "metadata": {
    "id": "dwvIw5LMZtXH"
   },
   "outputs": [],
   "source": [
    "def plot_classification_report(classification_report, title='Classification Report', cmap='RdBu'):\n",
    "    \n",
    "    lines = classification_report.split('\\n')\n",
    "\n",
    "    classes, plotMat, support, class_names = [], [], [], []\n",
    "    \n",
    "    for line in lines[2 : (len(lines) - 5)]:\n",
    "        t = line.strip().split()\n",
    "        if len(t) < 2: continue\n",
    "        classes.append(t[0])\n",
    "        v = [float(x) for x in t[1: len(t) - 1]]\n",
    "        support.append(int(t[-1]))\n",
    "        class_names.append(t[0])\n",
    "        plotMat.append(v)\n",
    "\n",
    "    xlabel = 'Metrics'\n",
    "    ylabel = 'Classes'\n",
    "    \n",
    "    xticklabels = ['Precision', 'Recall', 'F1-score']\n",
    "    yticklabels = ['{0} ({1})'.format(class_names[idx], sup) for idx, sup  in enumerate(support)]\n",
    "    \n",
    "    figure_width = 25\n",
    "    figure_height = len(class_names) + 7\n",
    "    correct_orientation = False\n",
    "    \n",
    "    heatmap(np.array(plotMat), title, xlabel, ylabel, xticklabels, yticklabels, figure_width, figure_height, correct_orientation, cmap=cmap)"
   ]
  },
  {
   "cell_type": "code",
   "execution_count": 31,
   "metadata": {
    "id": "-SxQWnH2ZtXH"
   },
   "outputs": [],
   "source": [
    "def heatmap(AUC, title, xlabel, ylabel, xticklabels, yticklabels, figure_width=40, figure_height=20, correct_orientation=False, cmap='RdBu'):\n",
    "    fig, ax = plt.subplots()\n",
    "    c = ax.pcolor(AUC, edgecolors='k', linestyle='dashed', linewidths=0.2, cmap=cmap)\n",
    "\n",
    "    # put the major ticks at the middle of each cell\n",
    "    ax.set_yticks(np.arange(AUC.shape[0]) + 0.5, minor=False)\n",
    "    ax.set_xticks(np.arange(AUC.shape[1]) + 0.5, minor=False)\n",
    "\n",
    "    # set tick labels\n",
    "    ax.set_xticklabels(xticklabels, minor=False)\n",
    "    ax.set_yticklabels(yticklabels, minor=False)\n",
    "\n",
    "    # set title and x/y labels\n",
    "    plt.title(title)\n",
    "    plt.xlabel(xlabel)\n",
    "    plt.ylabel(ylabel)      \n",
    "\n",
    "    # remove last blank column\n",
    "    plt.xlim( (0, AUC.shape[1]) )\n",
    "\n",
    "    # turn off all the ticks\n",
    "    ax = plt.gca()    \n",
    "    for t in ax.xaxis.get_major_ticks():\n",
    "        t.tick1line.set_visible = False\n",
    "        t.tick2line.set_visible = False\n",
    "    for t in ax.yaxis.get_major_ticks():\n",
    "        t.tick1line.set_visible = False\n",
    "        t.tick2line.set_visible = False\n",
    "\n",
    "    # add color bar\n",
    "    plt.colorbar(c)\n",
    "\n",
    "    # add text in each cell \n",
    "    show_val(c)\n",
    "\n",
    "    # proper orientation (origin at the top left instead of bottom left)\n",
    "    if correct_orientation:\n",
    "        ax.invert_yaxis()\n",
    "        ax.xaxis.tick_top()       \n",
    "\n",
    "    # resize \n",
    "    fig = plt.gcf()\n",
    "    fig.set_size_inches(cm_to_inch(figure_width, figure_height))"
   ]
  },
  {
   "cell_type": "code",
   "execution_count": 32,
   "metadata": {
    "id": "jqu5LdXZZtXH"
   },
   "outputs": [],
   "source": [
    "def show_val(pc, fmt=\"%.2f\", **kw):\n",
    "    pc.update_scalarmappable()\n",
    "    ax = pc.axes\n",
    "    for p, color, value in zip(pc.get_paths(), pc.get_facecolors(), pc.get_array()):\n",
    "        x, y = p.vertices[:-2, :].mean(0)\n",
    "        if np.all(color[:3] > 0.5):\n",
    "            color = (0.0, 0.0, 0.0)\n",
    "        else:\n",
    "            color = (1.0, 1.0, 1.0)\n",
    "        ax.text(x, y, fmt % value, ha=\"center\", va=\"center\", color=color, **kw)"
   ]
  },
  {
   "cell_type": "code",
   "execution_count": 33,
   "metadata": {
    "id": "L_QQe0fPZtXH"
   },
   "outputs": [],
   "source": [
    "def cm_to_inch(*dim):\n",
    "    inch = 2.54\n",
    "    return tuple(i/inch for i in dim[0]) if type(dim[0]) == tuple else tuple(i/inch for i in dim)"
   ]
  },
  {
   "cell_type": "markdown",
   "metadata": {
    "id": "Fb4DlXofZtXI"
   },
   "source": [
    "<h2 align=\"center\">Comparison of Models</h2> \n",
    "\n",
    "A useful tool when predicting the probability of a binary outcome is the Receiver Operating Characteristic curve, or ROC curve.\n",
    "\n",
    "It is a plot of the false positive rate (x-axis) versus the true positive rate (y-axis) for a number of different candidate threshold values between 0.0 and 1.0. Put another way, it plots the false alarm rate versus the hit rate.\n",
    "\n",
    "The true positive rate is calculated as the number of true positives divided by the sum of the number of true positives and the number of false negatives. It describes how good the model is at predicting the positive class when the actual outcome is positive.\n",
    "\n",
    "The false positive rate is calculated as the number of false positives divided by the sum of the number of false positives and the number of true negatives.\n",
    "\n",
    "It is also called the false alarm rate as it summarizes how often a positive class is predicted when the actual outcome is negative.\n",
    "\n",
    "To make this clear:\n",
    "* Smaller values on the x-axis of the plot indicate lower false positives and higher true negatives.\n",
    "* Larger values on the y-axis of the plot indicate higher true positives and lower false negatives."
   ]
  },
  {
   "cell_type": "code",
   "execution_count": 34,
   "metadata": {
    "colab": {
     "base_uri": "https://localhost:8080/",
     "height": 445
    },
    "id": "tbcuMZNGZtXI",
    "outputId": "12db50f3-569e-45e5-d25e-5851c4b8c834"
   },
   "outputs": [
    {
     "name": "stdout",
     "output_type": "stream",
     "text": [
      "Classification Report LSTM Stochastic Gradient Descent Model:\n",
      "               precision    recall  f1-score   support\n",
      "\n",
      "           0       0.90      0.91      0.91      2176\n",
      "           1       0.92      0.90      0.91      2324\n",
      "\n",
      "    accuracy                           0.91      4500\n",
      "   macro avg       0.91      0.91      0.91      4500\n",
      "weighted avg       0.91      0.91      0.91      4500\n",
      "\n"
     ]
    },
    {
     "data": {
      "image/png": "[encoded data removed]",
      "text/plain": [
       "<Figure size 708.661x255.118 with 2 Axes>"
      ]
     },
     "metadata": {
      "needs_background": "light"
     },
     "output_type": "display_data"
    }
   ],
   "source": [
    "from sklearn.metrics import classification_report\n",
    "\n",
    "batch_prediction = (model_batch.predict(x_test) > 0.5).astype(\"int32\")\n",
    "print('Classification Report LSTM Stochastic Gradient Descent Model:\\n', classification_report(y_test, batch_prediction))\n",
    "\n",
    "plot_classification_report(classification_report(y_test, batch_prediction), title='LSTM Stochastic Gradient Descent Classification Report', cmap='RdBu')"
   ]
  },
  {
   "cell_type": "code",
   "execution_count": 35,
   "metadata": {
    "colab": {
     "base_uri": "https://localhost:8080/",
     "height": 445
    },
    "id": "o7ZSh7hjZtXI",
    "outputId": "178068e0-72f4-4097-bab6-8f0caa00b672"
   },
   "outputs": [
    {
     "name": "stdout",
     "output_type": "stream",
     "text": [
      "Classification Report LSTM Mini-Batch Model:\n",
      "               precision    recall  f1-score   support\n",
      "\n",
      "           0       0.90      0.94      0.92      2176\n",
      "           1       0.94      0.90      0.92      2324\n",
      "\n",
      "    accuracy                           0.92      4500\n",
      "   macro avg       0.92      0.92      0.92      4500\n",
      "weighted avg       0.92      0.92      0.92      4500\n",
      "\n"
     ]
    },
    {
     "data": {
      "image/png": "[encoded data removed]",
      "text/plain": [
       "<Figure size 708.661x255.118 with 2 Axes>"
      ]
     },
     "metadata": {
      "needs_background": "light"
     },
     "output_type": "display_data"
    }
   ],
   "source": [
    "mini_prediction = (model_mini.predict(x_test) > 0.5).astype(\"int32\")\n",
    "print('Classification Report LSTM Mini-Batch Model:\\n', classification_report(y_test, mini_prediction))\n",
    "\n",
    "plot_classification_report(classification_report(y_test, mini_prediction), title='LSTM Mini-Batch Classification Report', cmap='RdBu')"
   ]
  },
  {
   "cell_type": "code",
   "execution_count": 36,
   "metadata": {
    "colab": {
     "base_uri": "https://localhost:8080/",
     "height": 445
    },
    "id": "LMHvPMiIZtXI",
    "outputId": "a2c2cd27-fe8c-4f1c-d434-543467c3c4f2"
   },
   "outputs": [
    {
     "name": "stdout",
     "output_type": "stream",
     "text": [
      "Classification Report LSTM Stacked Layers Model:\n",
      "               precision    recall  f1-score   support\n",
      "\n",
      "           0       0.91      0.89      0.90      2176\n",
      "           1       0.90      0.92      0.91      2324\n",
      "\n",
      "    accuracy                           0.91      4500\n",
      "   macro avg       0.91      0.91      0.91      4500\n",
      "weighted avg       0.91      0.91      0.91      4500\n",
      "\n"
     ]
    },
    {
     "data": {
      "image/png": "[encoded data removed]",
      "text/plain": [
       "<Figure size 708.661x255.118 with 2 Axes>"
      ]
     },
     "metadata": {
      "needs_background": "light"
     },
     "output_type": "display_data"
    }
   ],
   "source": [
    "stack_layer_prediction = (model3L.predict(x_test) > 0.5).astype(\"int32\")\n",
    "print('Classification Report LSTM Stacked Layers Model:\\n', classification_report(y_test, stack_layer_prediction))\n",
    "\n",
    "plot_classification_report(classification_report(y_test, stack_layer_prediction), title='LSTM Stacked Layers Classification Report', cmap='RdBu')"
   ]
  },
  {
   "cell_type": "code",
   "execution_count": 37,
   "metadata": {
    "colab": {
     "base_uri": "https://localhost:8080/",
     "height": 445
    },
    "id": "QW-amKnwZtXI",
    "outputId": "d72b1631-ff1a-4d7c-fb51-8f59aa096d35"
   },
   "outputs": [
    {
     "name": "stdout",
     "output_type": "stream",
     "text": [
      "Classification Report Bidirectional LSTM Model:\n",
      "               precision    recall  f1-score   support\n",
      "\n",
      "           0       0.95      0.92      0.93      2176\n",
      "           1       0.92      0.96      0.94      2324\n",
      "\n",
      "    accuracy                           0.94      4500\n",
      "   macro avg       0.94      0.94      0.94      4500\n",
      "weighted avg       0.94      0.94      0.94      4500\n",
      "\n"
     ]
    },
    {
     "data": {
      "image/png": "[encoded data removed]",
      "text/plain": [
       "<Figure size 708.661x255.118 with 2 Axes>"
      ]
     },
     "metadata": {
      "needs_background": "light"
     },
     "output_type": "display_data"
    }
   ],
   "source": [
    "lstm_bi_prediction = (model_Bi_LSTM.predict(x_test) > 0.5).astype(\"int32\")\n",
    "print('Classification Report Bidirectional LSTM Model:\\n', classification_report(y_test, lstm_bi_prediction))\n",
    "\n",
    "plot_classification_report(classification_report(y_test, lstm_bi_prediction), title='Bidirectional LSTM Classification Report', cmap='RdBu')"
   ]
  },
  {
   "cell_type": "code",
   "execution_count": 38,
   "metadata": {
    "colab": {
     "base_uri": "https://localhost:8080/",
     "height": 445
    },
    "id": "A1feLDbSZtXJ",
    "outputId": "a91d08b7-42cc-4671-b23c-ed01fac112f2"
   },
   "outputs": [
    {
     "name": "stdout",
     "output_type": "stream",
     "text": [
      "Classification Report CNN + LSTM Model:\n",
      "               precision    recall  f1-score   support\n",
      "\n",
      "           0       0.92      0.96      0.94      2176\n",
      "           1       0.96      0.93      0.94      2324\n",
      "\n",
      "    accuracy                           0.94      4500\n",
      "   macro avg       0.94      0.94      0.94      4500\n",
      "weighted avg       0.94      0.94      0.94      4500\n",
      "\n"
     ]
    },
    {
     "data": {
      "image/png": "[encoded data removed]",
      "text/plain": [
       "<Figure size 708.661x255.118 with 2 Axes>"
      ]
     },
     "metadata": {
      "needs_background": "light"
     },
     "output_type": "display_data"
    }
   ],
   "source": [
    "lstm_cnn_prediction = (model_CNN_LSTM.predict(x_test) > 0.5).astype(\"int32\")\n",
    "print('Classification Report CNN + LSTM Model:\\n', classification_report(y_test, lstm_cnn_prediction))\n",
    "\n",
    "plot_classification_report(classification_report(y_test, lstm_cnn_prediction), title='CNN + LSTM Classification Report', cmap='RdBu')"
   ]
  },
  {
   "cell_type": "code",
   "execution_count": 39,
   "metadata": {
    "id": "yXjPDtRVZtXJ"
   },
   "outputs": [],
   "source": [
    "from sklearn import metrics\n",
    "from sklearn.metrics import roc_curve, auc\n",
    "\n",
    "fprB, tprB, thresholdsB = metrics.roc_curve(y_test, model_batch.predict(x_test))\n",
    "fprMB, tprMB, thresholdsMB = metrics.roc_curve(y_test, model_mini.predict(x_test))\n",
    "fpr3L, tpr3L, thresholds3L = metrics.roc_curve(y_test, model3L.predict(x_test))\n",
    "fprBi, tprBi, thresholdsBi = metrics.roc_curve(y_test, model_Bi_LSTM.predict(x_test))\n",
    "fprCNN, tprCNN, thresholdsCNN = metrics.roc_curve(y_test, model_CNN_LSTM.predict(x_test))"
   ]
  },
  {
   "cell_type": "code",
   "execution_count": 40,
   "metadata": {
    "colab": {
     "base_uri": "https://localhost:8080/",
     "height": 350
    },
    "id": "IqnADfg_ZtXJ",
    "outputId": "f8f73257-6ab8-48be-e501-e0f6c82c627f"
   },
   "outputs": [
    {
     "data": {
      "image/png": "[encoded data removed]",
      "text/plain": [
       "<Figure size 576x360 with 1 Axes>"
      ]
     },
     "metadata": {
      "needs_background": "light"
     },
     "output_type": "display_data"
    }
   ],
   "source": [
    "linewidth = 2\n",
    "plt.figure(figsize=(8, 5))\n",
    "\n",
    "plt.plot(fprB, tprB, color='#db6114', lw=linewidth, label='ROC Curve LSTM Stochastic GD (AUC = %0.3f)' % auc(fprB, tprB))\n",
    "plt.plot(fprMB, tprMB, color='#1565c0', lw=linewidth, label='ROC Curve LSTM Mini Batch(AUC = %0.3f)' % auc(fprMB, tprMB))\n",
    "plt.plot(fpr3L, tpr3L, color='#2e7d32', lw=linewidth, label='ROC Curve LSTM Stacked Layers (AUC = %0.3f)' % auc(fpr3L, tpr3L))\n",
    "plt.plot(fprBi, tprBi, color='#ffc107', lw=linewidth, label='ROC Curve Bidirectional LSTM (AUC = %0.3f)' % auc(fprBi, tprBi))\n",
    "plt.plot(fprCNN, tprCNN, color='#6557d2', lw=linewidth, label='ROC Curve  CNN + LSTM (AUC = %0.3f)' % auc(fprCNN, tprCNN))\n",
    "plt.plot([0, 1], [0, 1], color='#616161', lw=linewidth, linestyle='--')\n",
    "\n",
    "plt.xlim([0.0, 1.0])\n",
    "plt.ylim([0.0, 1.05])\n",
    "\n",
    "plt.xlabel('False Positive Rate')\n",
    "plt.ylabel('True Positive Rate')\n",
    "plt.title('ROC Curve Plots')\n",
    "plt.legend(loc=\"lower right\")\n",
    "\n",
    "plt.show()"
   ]
  },
  {
   "cell_type": "markdown",
   "metadata": {
    "id": "HihEst91ZtXJ"
   },
   "source": [
    "As we can see, all models show approximately the same result, but so far the best is the model with Stacked Layers (90.4%), so we gonna use it. Here we are finished, then we move on to the development of a web application."
   ]
  }
 ],
 "metadata": {
  "colab": {
   "collapsed_sections": [],
   "name": "Part_III_Training_and_Development_of_Different_LSTM_Models.ipynb",
   "provenance": []
  },
  "kernelspec": {
   "display_name": "Python 3",
   "language": "python",
   "name": "python3"
  },
  "language_info": {
   "codemirror_mode": {
    "name": "ipython",
    "version": 3
   },
   "file_extension": ".py",
   "mimetype": "text/x-python",
   "name": "python",
   "nbconvert_exporter": "python",
   "pygments_lexer": "ipython3",
   "version": "3.8.2"
  }
 },
 "nbformat": 4,
 "nbformat_minor": 1
}
