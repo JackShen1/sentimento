{
 "cells": [
  {
   "cell_type": "markdown",
   "metadata": {
    "id": "bK4FOeG5ZtWs"
   },
   "source": [
    "<h1 align=\"center\">PART III</h1>\n",
    "<h1 align=\"center\">Training and Development of Different LSTM Models</h1> "
   ]
  },
  {
   "cell_type": "markdown",
   "metadata": {
    "id": "RK0igzi1ZtWu"
   },
   "source": [
    "To get started, let's download the necessary libraries:"
   ]
  },
  {
   "cell_type": "code",
   "execution_count": 1,
   "metadata": {
    "id": "207XAbAlZtWv"
   },
   "outputs": [],
   "source": [
    "import numpy as np\n",
    "import pandas as pd\n",
    "import pickle\n",
    "import gensim, logging\n",
    "import gensim.models.keyedvectors as word2vec\n",
    "import matplotlib.pyplot as plt\n",
    "\n",
    "%matplotlib inline"
   ]
  },
  {
   "cell_type": "markdown",
   "metadata": {
    "id": "T0KKdQILZtWw"
   },
   "source": [
    "Also let's write a style for alignment in the middle of all graphs, images, etc:"
   ]
  },
  {
   "cell_type": "code",
   "execution_count": 2,
   "metadata": {
    "colab": {
     "base_uri": "https://localhost:8080/",
     "height": 17
    },
    "id": "9qrGx_YKZtWx",
    "outputId": "851633f3-98b0-48fb-95c8-51204b7907db"
   },
   "outputs": [
    {
     "data": {
      "text/html": [
       "\n",
       "<style>\n",
       ".output_png {\n",
       "    display: table-cell;\n",
       "    text-align: center;\n",
       "    vertical-align: middle;\n",
       "}\n",
       "</style>\n"
      ],
      "text/plain": [
       "<IPython.core.display.HTML object>"
      ]
     },
     "execution_count": 2,
     "metadata": {},
     "output_type": "execute_result"
    }
   ],
   "source": [
    "from IPython.core.display import HTML\n",
    "HTML(\"\"\"\n",
    "<style>\n",
    ".output_png {\n",
    "    display: table-cell;\n",
    "    text-align: center;\n",
    "    vertical-align: middle;\n",
    "}\n",
    "</style>\n",
    "\"\"\")"
   ]
  },
  {
   "cell_type": "markdown",
   "metadata": {
    "id": "TmKwMBq8ZtWy"
   },
   "source": [
    "<h2 align=\"center\">Preparation of input data</h2> \n",
    "\n",
    "Firstly, we will load the sample data we processed in the first part:"
   ]
  },
  {
   "cell_type": "code",
   "execution_count": 3,
   "metadata": {
    "id": "SF3wgaQgZtWy"
   },
   "outputs": [],
   "source": [
    "with open('documents.pql', 'rb') as f:\n",
    "     docs = pickle.load(f)"
   ]
  },
  {
   "cell_type": "code",
   "execution_count": 4,
   "metadata": {
    "colab": {
     "base_uri": "https://localhost:8080/"
    },
    "id": "7DC5weErZtWz",
    "outputId": "3a595d1d-e028-4393-a3f0-6a0abefb5ee3"
   },
   "outputs": [
    {
     "name": "stdout",
     "output_type": "stream",
     "text": [
      "Number of documents: 38544\n"
     ]
    }
   ],
   "source": [
    "print(\"Number of documents:\", len(docs))"
   ]
  },
  {
   "cell_type": "markdown",
   "metadata": {
    "id": "5RLxmbUBZtWz"
   },
   "source": [
    "Now we will load our word2vec model. \n",
    "\n",
    "This may take some time, as the model contains 3 000 000 words, so we will get a 3 000 000 x 300 embedding matrix that contains all the values of the word vectors."
   ]
  },
  {
   "cell_type": "code",
   "execution_count": 5,
   "metadata": {
    "id": "LVW8xdVRZtWz"
   },
   "outputs": [],
   "source": [
    "model = word2vec.KeyedVectors.load_word2vec_format('glove.6B.100d.w2vformat.txt', binary=False)"
   ]
  },
  {
   "cell_type": "markdown",
   "metadata": {
    "id": "A1BFwzhWZtW0"
   },
   "source": [
    "Now let's get a list of all the words from our dictionary:"
   ]
  },
  {
   "cell_type": "code",
   "execution_count": 6,
   "metadata": {
    "id": "GOdz3u48ZtW0"
   },
   "outputs": [],
   "source": [
    "words = list(model.index_to_key)"
   ]
  },
  {
   "cell_type": "markdown",
   "metadata": {
    "id": "V0z2NooeZtW0"
   },
   "source": [
    "Just to make sure everything is loaded correctly, we can look at the dimensions of the dictionary list and the embedding matrix:"
   ]
  },
  {
   "cell_type": "code",
   "execution_count": 7,
   "metadata": {
    "colab": {
     "base_uri": "https://localhost:8080/"
    },
    "id": "5t5MEbssZtW0",
    "outputId": "cab6e1fa-29d6-4310-d5e1-298120aed6bc"
   },
   "outputs": [
    {
     "name": "stdout",
     "output_type": "stream",
     "text": [
      "Total words: 400000 \n",
      "\n",
      "Word-Vectors shape: (400000, 100)\n"
     ]
    }
   ],
   "source": [
    "print(\"Total words:\", len(words), \"\\n\\nWord-Vectors shape:\", model.vectors.shape)"
   ]
  },
  {
   "cell_type": "markdown",
   "metadata": {
    "id": "CSQ4xxThZtW1"
   },
   "source": [
    "The shape of our sample for training will be `(H, N, 100)`, where:\n",
    "* `H` - number of samples;\n",
    "* `N` - number of words in each sentence;\n",
    "* `100` - dimension of each word.\n",
    "\n",
    "Let's analyze how many words are usually found in the reviews:"
   ]
  },
  {
   "cell_type": "code",
   "execution_count": 8,
   "metadata": {
    "colab": {
     "base_uri": "https://localhost:8080/"
    },
    "id": "m1IYxmuPZtW1",
    "outputId": "de34541d-7015-48c9-a9e3-ac86628a66f7"
   },
   "outputs": [
    {
     "name": "stdout",
     "output_type": "stream",
     "text": [
      "Average number of words in the review: 46\n",
      "\n",
      "Maximum review length: 2376 \n",
      "Minimum review length: 1\n",
      "\n",
      "Review with more than 50 words: 10668 \n",
      "Review with more than 100 words: 3667 \n",
      "Review with more than 200 words: 893 \n",
      "Review with more than 300 words: 304 \n",
      "Review with more than 400 words: 126\n"
     ]
    }
   ],
   "source": [
    "max_word, min_word = 0, 100\n",
    "word50, word100, word200, word300, word400  = 0, 0, 0, 0, 0\n",
    "reviews_len = []\n",
    "\n",
    "for review, state in docs:\n",
    "    reviews_len.append(len(review))\n",
    "\n",
    "    if len(review) > max_word: max_word = len(review)\n",
    "    if len(review) < min_word: min_word = len(review)\n",
    "\n",
    "    if len(review) > 50: word50 += 1\n",
    "    if len(review) > 100: word100 += 1\n",
    "    if len(review) > 200: word200 += 1\n",
    "    if len(review) > 300: word300 += 1\n",
    "    if len(review) > 400: word400 += 1\n",
    "    \n",
    "print(\"Average number of words in the review:\", int(sum(reviews_len)/len(reviews_len)))\n",
    "print(\"\\nMaximum review length:\", max_word, \"\\nMinimum review length:\", min_word)\n",
    "print(\"\\nReview with more than 50 words:\", word50, \n",
    "      \"\\nReview with more than 100 words:\", word100,\n",
    "      \"\\nReview with more than 200 words:\", word200, \n",
    "      \"\\nReview with more than 300 words:\", word300,\n",
    "      \"\\nReview with more than 400 words:\", word400)"
   ]
  },
  {
   "cell_type": "markdown",
   "metadata": {
    "id": "7iaKaR1BZtW1"
   },
   "source": [
    "Visualize the frequency of words in the review:"
   ]
  },
  {
   "cell_type": "code",
   "execution_count": 9,
   "metadata": {
    "colab": {
     "base_uri": "https://localhost:8080/",
     "height": 295
    },
    "id": "Pk2asIOMZtW2",
    "outputId": "f75230f8-e8b5-40c4-d280-ca85a0aedb50"
   },
   "outputs": [
    {
     "data": {
      "image/png": "[encoded data removed]",
      "text/plain": [
       "<Figure size 432x288 with 1 Axes>"
      ]
     },
     "metadata": {
      "needs_background": "light"
     },
     "output_type": "display_data"
    }
   ],
   "source": [
    "plt.hist(reviews_len, bins=150)\n",
    "plt.axis([0, 400, 0, 12000])\n",
    "plt.ylabel('Frequency')\n",
    "plt.xlabel('Sequence Length');\n",
    "plt.title(\"Average number of words\");"
   ]
  },
  {
   "cell_type": "markdown",
   "metadata": {
    "id": "NwKoHdVvZtW2"
   },
   "source": [
    "Our next function `fix_review_len()` will do a useful job, this function is designed to fix the size of reviews to a fixed size to feed them into a neural network with reviews of a certain length. Reviews whose length is less than fixed will be extended by zeros. This process does not affect the algorithm and reviews longer than the specified length will be truncated."
   ]
  },
  {
   "cell_type": "code",
   "execution_count": 10,
   "metadata": {
    "colab": {
     "base_uri": "https://localhost:8080/"
    },
    "id": "wbTlHCmAZtW2",
    "outputId": "341cdfc6-0dd1-4ae6-c2a7-a1f84ef4b637"
   },
   "outputs": [
    {
     "name": "stdout",
     "output_type": "stream",
     "text": [
      "[3, 1, 2, 4, 5, [0, 0, 0, 0, 0, 0, 0, 0, 0, 0, 0, 0, 0, 0, 0, 0, 0, 0, 0, 0, 0, 0, 0, 0, 0, 0, 0, 0, 0, 0, 0, 0, 0, 0, 0, 0, 0, 0, 0, 0, 0, 0, 0, 0, 0, 0, 0, 0, 0, 0, 0, 0, 0, 0, 0, 0, 0, 0, 0, 0, 0, 0, 0, 0, 0, 0, 0, 0, 0, 0, 0, 0, 0, 0, 0, 0, 0, 0, 0, 0, 0, 0, 0, 0, 0, 0, 0, 0, 0, 0, 0, 0, 0, 0, 0, 0, 0, 0, 0, 0], [0, 0, 0, 0, 0, 0, 0, 0, 0, 0, 0, 0, 0, 0, 0, 0, 0, 0, 0, 0, 0, 0, 0, 0, 0, 0, 0, 0, 0, 0, 0, 0, 0, 0, 0, 0, 0, 0, 0, 0, 0, 0, 0, 0, 0, 0, 0, 0, 0, 0, 0, 0, 0, 0, 0, 0, 0, 0, 0, 0, 0, 0, 0, 0, 0, 0, 0, 0, 0, 0, 0, 0, 0, 0, 0, 0, 0, 0, 0, 0, 0, 0, 0, 0, 0, 0, 0, 0, 0, 0, 0, 0, 0, 0, 0, 0, 0, 0, 0, 0]]\n"
     ]
    }
   ],
   "source": [
    "def fix_review_len(review, length):\n",
    "    if len(review) > length:\n",
    "        review = review[:length]\n",
    "    elif len(review) < length:\n",
    "        for i in range(length - len(review)):\n",
    "            zeros = [0] * 100\n",
    "            review.append(zeros)\n",
    "    return review\n",
    "\n",
    "example = [3, 1, 2, 4, 5]\n",
    "example = fix_review_len(example, 7)\n",
    "print(example) "
   ]
  },
  {
   "cell_type": "markdown",
   "metadata": {
    "id": "onLNFH-bZtW3"
   },
   "source": [
    "Now let's slightly improve our `sent_embed()` function from previous part and then update our dataset with word vectors.\n",
    "\n",
    "Based on the histogram data, as well as the average number of words in the files, we can say with confidence that most reviews will have less than 100 words, which is the maximum value of the length of the sequence that we set."
   ]
  },
  {
   "cell_type": "code",
   "execution_count": 11,
   "metadata": {
    "id": "h58uiBG8ZtW3"
   },
   "outputs": [],
   "source": [
    "def sent_embed(words, docs):\n",
    "    x_sent_embed, y_sent_embed = [], [] \n",
    "    \n",
    "    max_seq_len = 100\n",
    "    \n",
    "    # recover the embedding of each sentence with the average of the vector that composes it\n",
    "    # sent - sentence, state - state of the sentence (pos/neg)\n",
    "    for sent, state in docs:\n",
    "        # average embedding of all words in a sentence\n",
    "        sent_embed = []\n",
    "        for word in sent:\n",
    "            try:\n",
    "                # if word is present in the dictionary - add its vector representation\n",
    "                sent_embed.append(model[word])\n",
    "            except KeyError:\n",
    "                # if word is not in the dictionary - add a zero vector\n",
    "                sent_embed.append([0] * 100)\n",
    "        \n",
    "        # add a sentence vector to the list\n",
    "        sent_embed = fix_review_len(sent_embed, max_seq_len)\n",
    "        x_sent_embed.append(sent_embed)\n",
    "        \n",
    "        # add a label to y_sent_embed\n",
    "        if state == 'pos': y_sent_embed.append(1)\n",
    "        elif state == 'neg': y_sent_embed.append(0)\n",
    "            \n",
    "    return x_sent_embed, y_sent_embed"
   ]
  },
  {
   "cell_type": "code",
   "execution_count": 12,
   "metadata": {
    "id": "2BePmRm3ZtW4"
   },
   "outputs": [],
   "source": [
    "x, y = sent_embed(words, docs)"
   ]
  },
  {
   "cell_type": "code",
   "execution_count": 13,
   "metadata": {
    "colab": {
     "base_uri": "https://localhost:8080/"
    },
    "id": "dALGpRR9ZtW4",
    "outputId": "dfe87bd2-0933-4f0e-999f-f930144aceaa"
   },
   "outputs": [
    {
     "name": "stdout",
     "output_type": "stream",
     "text": [
      "Shape of X: (38544, 100, 100)\n"
     ]
    }
   ],
   "source": [
    "x = np.array(x)\n",
    "print(\"Shape of X:\", x.shape)"
   ]
  },
  {
   "cell_type": "markdown",
   "metadata": {
    "id": "b-5DDr5wZtW4"
   },
   "source": [
    "<h3 align=\"center\">Split Corpus</h3>\n",
    "\n",
    "Now, for further work, we will divide our corpus for training, testing and development sets:"
   ]
  },
  {
   "cell_type": "code",
   "execution_count": 14,
   "metadata": {
    "id": "9vlTQXzAZtW4"
   },
   "outputs": [],
   "source": [
    "from sklearn.model_selection import train_test_split\n",
    "\n",
    "# train test\n",
    "x_train, x_test, y_train, y_test = train_test_split(x, y, test_size=0.15, random_state=42)\n",
    "\n",
    "# train dev\n",
    "x_train, x_val, y_train, y_val = train_test_split(x_train, y_train, test_size=0.15, random_state=42)"
   ]
  },
  {
   "cell_type": "code",
   "execution_count": 15,
   "metadata": {
    "colab": {
     "base_uri": "https://localhost:8080/"
    },
    "id": "gal_WGq-ZtW5",
    "outputId": "1ce2dfd9-abfc-4c07-b98c-262edf5e3be5"
   },
   "outputs": [
    {
     "name": "stdout",
     "output_type": "stream",
     "text": [
      "Length of x_train: 27847 | Length of y_train: 27847\n",
      "Length of x_test:   5782 | Length of y_test:  5782\n",
      "Length of x_val:    4915 | Length of y_val:   4915\n"
     ]
    }
   ],
   "source": [
    "print('Length of x_train:', len(x_train), '| Length of y_train:', len(y_train))\n",
    "print('Length of x_test:  ', len(x_test), '| Length of y_test: ', len(y_test))\n",
    "print('Length of x_val:   ', len(x_val), '| Length of y_val:  ', len(y_val))"
   ]
  },
  {
   "cell_type": "code",
   "execution_count": 16,
   "metadata": {
    "colab": {
     "base_uri": "https://localhost:8080/"
    },
    "id": "Gk96bR9OZtW5",
    "outputId": "089124b0-daa5-4e0c-8d41-750abb2f48f5"
   },
   "outputs": [
    {
     "name": "stdout",
     "output_type": "stream",
     "text": [
      "Shape of x_train set: (27847, 100, 100)\n"
     ]
    }
   ],
   "source": [
    "print(\"Shape of x_train set:\", x_train.shape)"
   ]
  },
  {
   "cell_type": "markdown",
   "metadata": {
    "id": "UO05ZRsXZtW5"
   },
   "source": [
    "<h2 align=\"center\">LSTM Model (Stochastic Gradient Descent)</h2>\n",
    "\n",
    "Keras's benefit is that it is built on top of symbolic mathematical libraries such as TensorFlow and Theano for fast and efficient computation. This is needed with large neural networks.\n",
    "\n",
    "A downside of using these efficient libraries is that you must define the scope of your data upfront and for all time. Specifically, the batch size.\n",
    "\n",
    "Neural networks are trained using the stochastic gradient descent optimization algorithm.\n",
    "\n",
    "This involves using the current state of the model to make a prediction, comparing the prediction to the expected values, and using the difference as an estimate of the error gradient. This error gradient is then used to update the model weights and the process is repeated.\n",
    "\n",
    "The error gradient is a statistical estimate. The more training examples used in the estimate, the more accurate this estimate will be and the more likely that the weights of the network will be adjusted in a way that will improve the performance of the model. The improved estimate of the error gradient comes at the cost of having to use the model to make many more predictions before the estimate can be calculated, and in turn, the weights updated.\n",
    "\n",
    "Alternately, using fewer examples results in a less accurate estimate of the error gradient that is highly dependent on the specific training examples used.\n",
    "\n",
    "This results in a noisy estimate that, in turn, results in noisy updates to the model weights, e.g. many updates with perhaps quite different estimates of the error gradient. Nevertheless, these noisy updates can result in faster learning and sometimes a more robust model.\n",
    "\n",
    "The number of training examples used in the estimate of the error gradient is a hyperparameter for the learning algorithm called the “batch size,” or simply the “batch.”\n",
    "\n",
    "A batch size of 32 means that 32 samples from the training dataset will be used to estimate the error gradient before the model weights are updated. One training epoch means that the learning algorithm has made one pass through the training dataset, where examples were separated into randomly selected “batch size” groups.\n",
    "\n",
    "Historically, a training algorithm where the batch size is set to the total number of training examples is called “batch gradient descent” and a training algorithm where the batch size is set to 1 training example is called “stochastic gradient descent” or “online gradient descent.”\n",
    "\n",
    "A configuration of the batch size anywhere in between (e.g. more than 1 example and less than the number of examples in the training dataset) is called “minibatch gradient descent.”\n",
    "\n",
    "  - **Batch Gradient Descent**. Batch size is set to the total number of examples in the training dataset.\n",
    "  - **Stochastic Gradient Descent**. Batch size is set to one.\n",
    "  - **Minibatch Gradient Descent**. Batch size is set to more than one and less than the total number of examples in the training dataset.\n",
    "For shorthand, the algorithm is often referred to as stochastic gradient descent regardless of the batch size. Given that very large datasets are often used to train deep learning neural networks, the batch size is rarely set to the size of the training dataset.\n",
    "\n",
    "Smaller batch sizes are used for two main reasons:\n",
    "\n",
    "  - Smaller batch sizes are noisy, offering a regularizing effect and lower generalization error.\n",
    "  - Smaller batch sizes make it easier to fit one batch worth of training data in memory (i.e. when using a GPU).\n",
    "A third reason is that the batch size is often set at something small, such as 32 examples, and is not tuned by the practitioner. Small batch sizes such as 32 do work well generally.\n",
    "\n",
    "Nevertheless, the batch size impacts how quickly a model learns and the stability of the learning process. It is an important hyperparameter that should be well understood and tuned by the deep learning practitioner."
   ]
  },
  {
   "cell_type": "markdown",
   "metadata": {
    "id": "RsfoHjRbZtW5"
   },
   "source": [
    "<h3 align=\"center\">Setting Up and Creating the Network</h3>\n",
    "\n",
    "The network has one input, a hidden layer with 100 units, and an output layer with 1 unit.\n",
    "\n",
    "A mean squared error optimization function is used for this problem with the efficient ADAM optimization algorithm.\n",
    "\n",
    "So now let's configure and create the network:"
   ]
  },
  {
   "cell_type": "code",
   "execution_count": null,
   "metadata": {
    "colab": {
     "base_uri": "https://localhost:8080/"
    },
    "id": "lMn08CvVZtW6",
    "outputId": "af5f480b-5f95-4d64-a809-1c65e4a56c74"
   },
   "outputs": [
    {
     "name": "stdout",
     "output_type": "stream",
     "text": [
      "Model: \"sequential\"\n",
      "_________________________________________________________________\n",
      " Layer (type)                Output Shape              Param #   \n",
      "=================================================================\n",
      " lstm (LSTM)                 (None, 128)               117248    \n",
      "                                                                 \n",
      " dense (Dense)               (None, 1)                 129       \n",
      "                                                                 \n",
      "=================================================================\n",
      "Total params: 117,377\n",
      "Trainable params: 117,377\n",
      "Non-trainable params: 0\n",
      "_________________________________________________________________\n",
      "None\n"
     ]
    }
   ],
   "source": [
    "from keras.models import Sequential\n",
    "from keras.layers import LSTM\n",
    "from keras.layers.core import Dense\n",
    "\n",
    "# configure network\n",
    "n_neurons = 128\n",
    "n_epoch = 20\n",
    "n_batch = 1\n",
    "\n",
    "# design network\n",
    "model_batch = Sequential()\n",
    "model_batch.add(LSTM(n_neurons, input_shape=(x.shape[1], x.shape[2])))\n",
    "model_batch.add(Dense(1, activation='sigmoid'))\n",
    "model_batch.compile(loss='mean_squared_error', optimizer='adam', metrics=['binary_accuracy'])\n",
    "\n",
    "print(model_batch.summary())"
   ]
  },
  {
   "cell_type": "code",
   "execution_count": null,
   "metadata": {
    "colab": {
     "base_uri": "https://localhost:8080/"
    },
    "id": "P_Jz8mfqZtW6",
    "outputId": "99105c8b-e798-4f41-c10f-0d56cc84c07a"
   },
   "outputs": [
    {
     "name": "stdout",
     "output_type": "stream",
     "text": [
      "Epoch 1/20\n",
      "27847/27847 [==============================] - 972s 35ms/step - loss: 0.2488 - binary_accuracy: 0.5560\n",
      "Epoch 2/20\n",
      "27847/27847 [==============================] - 982s 35ms/step - loss: 0.2487 - binary_accuracy: 0.5528\n",
      "Epoch 3/20\n",
      "27847/27847 [==============================] - 994s 36ms/step - loss: 0.2464 - binary_accuracy: 0.5662\n",
      "Epoch 4/20\n",
      "27847/27847 [==============================] - 989s 35ms/step - loss: 0.1549 - binary_accuracy: 0.7790\n",
      "Epoch 5/20\n",
      "27847/27847 [==============================] - 996s 36ms/step - loss: 0.1276 - binary_accuracy: 0.8228\n",
      "Epoch 6/20\n",
      "27847/27847 [==============================] - 990s 36ms/step - loss: 0.1087 - binary_accuracy: 0.8544\n",
      "Epoch 7/20\n",
      "27847/27847 [==============================] - 980s 35ms/step - loss: 0.0905 - binary_accuracy: 0.8831\n",
      "Epoch 8/20\n",
      "27847/27847 [==============================] - 977s 35ms/step - loss: 0.0787 - binary_accuracy: 0.9019\n",
      "Epoch 9/20\n",
      "27847/27847 [==============================] - 982s 35ms/step - loss: 0.0698 - binary_accuracy: 0.9137\n",
      "Epoch 10/20\n",
      "27847/27847 [==============================] - 982s 35ms/step - loss: 0.0645 - binary_accuracy: 0.9213\n",
      "Epoch 11/20\n",
      "27847/27847 [==============================] - 976s 35ms/step - loss: 0.0615 - binary_accuracy: 0.9255\n",
      "Epoch 12/20\n",
      "27847/27847 [==============================] - 979s 35ms/step - loss: 0.0576 - binary_accuracy: 0.9305\n",
      "Epoch 13/20\n",
      "27847/27847 [==============================] - 980s 35ms/step - loss: 0.0542 - binary_accuracy: 0.9340\n",
      "Epoch 14/20\n",
      "27847/27847 [==============================] - 975s 35ms/step - loss: 0.0530 - binary_accuracy: 0.9358\n",
      "Epoch 15/20\n",
      "27847/27847 [==============================] - 970s 35ms/step - loss: 0.0496 - binary_accuracy: 0.9406\n",
      "Epoch 16/20\n",
      "27847/27847 [==============================] - 972s 35ms/step - loss: 0.0500 - binary_accuracy: 0.9404\n",
      "Epoch 17/20\n",
      "27847/27847 [==============================] - 977s 35ms/step - loss: 0.0554 - binary_accuracy: 0.9330\n",
      "Epoch 18/20\n",
      "27847/27847 [==============================] - 981s 35ms/step - loss: 0.0455 - binary_accuracy: 0.9455\n",
      "Epoch 19/20\n",
      "27847/27847 [==============================] - 975s 35ms/step - loss: 0.0479 - binary_accuracy: 0.9421\n",
      "Epoch 20/20\n",
      "27847/27847 [==============================] - 984s 35ms/step - loss: 0.0430 - binary_accuracy: 0.9486\n"
     ]
    }
   ],
   "source": [
    "model_batch_hist = model_batch.fit(x_train, np.asarray(y_train), batch_size=n_batch, epochs=n_epoch, verbose=1, shuffle=False)"
   ]
  },
  {
   "cell_type": "code",
   "execution_count": null,
   "metadata": {
    "colab": {
     "base_uri": "https://localhost:8080/"
    },
    "id": "AOalT8xDZtW6",
    "outputId": "28cb21c4-e52a-4eef-f171-ff20fa47bdb3"
   },
   "outputs": [
    {
     "name": "stdout",
     "output_type": "stream",
     "text": [
      "4915/4915 [==============================] - 43s 9ms/step - loss: 0.1653 - binary_accuracy: 0.8041\n",
      "\n",
      "Model Accuracy: 80.41%\n"
     ]
    }
   ],
   "source": [
    "score_batch = model_batch.evaluate(x_val, np.asarray(y_val), batch_size=n_batch)\n",
    "print(\"\\nModel Accuracy:\", str(round(score_batch[1] * 100, 2)) + '%')"
   ]
  },
  {
   "cell_type": "code",
   "execution_count": null,
   "metadata": {
    "colab": {
     "base_uri": "https://localhost:8080/",
     "height": 299
    },
    "id": "lKVFVJUOZtW6",
    "outputId": "039371c5-da69-4fbd-85d7-3e11ba2e8a1a"
   },
   "outputs": [
    {
     "data": {
      "image/png": "[encoded data removed]",
      "text/plain": [
       "<Figure size 432x288 with 1 Axes>"
      ]
     },
     "metadata": {},
     "output_type": "display_data"
    }
   ],
   "source": [
    "plt.style.use('ggplot')\n",
    "plt.plot(model_batch_hist.history['loss'])\n",
    "\n",
    "plt.title('Model Loss')\n",
    "plt.ylabel('Loss')\n",
    "plt.xlabel('Epoch')\n",
    "plt.legend(['Train'], loc='lower left')\n",
    "\n",
    "plt.show()"
   ]
  },
  {
   "cell_type": "markdown",
   "metadata": {
    "id": "xjS7oADVZtW7"
   },
   "source": [
    "The results are good, let's save this model and try a different approach."
   ]
  },
  {
   "cell_type": "code",
   "execution_count": null,
   "metadata": {
    "id": "ELVCgR75ZtW7"
   },
   "outputs": [],
   "source": [
    "model_batch.save('models/LSTM-Batch-Model.h5')  # save model\n",
    "del model_batch  # delete existing model"
   ]
  },
  {
   "cell_type": "code",
   "execution_count": 17,
   "metadata": {
    "colab": {
     "base_uri": "https://localhost:8080/",
     "height": 346
    },
    "id": "Pk-NNsaQaAs7",
    "outputId": "508569d2-c482-4a03-af44-f2b534797c39"
   },
   "outputs": [],
   "source": [
    "from keras.models import load_model\n",
    "\n",
    "# returns a compiled model, identical to the previous one\n",
    "model_batch = load_model('models/LSTM-Batch-Model.h5')"
   ]
  },
  {
   "cell_type": "markdown",
   "metadata": {
    "id": "6PzImzbOZtW7"
   },
   "source": [
    "Let's check if everything is correct:"
   ]
  },
  {
   "cell_type": "code",
   "execution_count": null,
   "metadata": {
    "colab": {
     "base_uri": "https://localhost:8080/"
    },
    "id": "jkjeuptqZtW7",
    "outputId": "3ff10f45-6cfa-4114-eba8-ae4dba831b5d"
   },
   "outputs": [
    {
     "name": "stdout",
     "output_type": "stream",
     "text": [
      "4915/4915 [==============================] - 32s 6ms/step - loss: 0.1594 - binary_accuracy: 0.8049\n"
     ]
    },
    {
     "data": {
      "text/plain": [
       "[0.15940243005752563, 0.8048830032348633]"
      ]
     },
     "execution_count": 22,
     "metadata": {},
     "output_type": "execute_result"
    }
   ],
   "source": [
    "model_batch.evaluate(x_val, np.asarray(y_val), batch_size=n_batch)"
   ]
  },
  {
   "cell_type": "markdown",
   "metadata": {
    "id": "B6IZ4t9mZtW7"
   },
   "source": [
    "<h2 align=\"center\">LSTM Model (Mini-Batch Gradient Descent)</h2>\n",
    "\n",
    "Mini-batch gradient descent is a variation of the gradient descent algorithm that splits the training dataset into small batches that are used to calculate model error and update model coefficients.\n",
    "\n",
    "Mini batch algorithm is the most favorable and widely used algorithm that makes precise and faster results using a batch of `m` training examples. In mini batch algorithm rather than using  the complete data set, in every iteration we use a set of `m` training examples called batch to compute the gradient of the cost function. Common mini-batch sizes range between 32 and 256."
   ]
  },
  {
   "cell_type": "markdown",
   "metadata": {
    "id": "SPev6XYLZtW8"
   },
   "source": [
    "<h3 align=\"center\">Setting Up and Creating the Network</h3>\n",
    "\n",
    "We will use an LSTM network fit for 100 epochs and with batch size = 128.\n",
    "\n",
    "A mean squared error optimization function is used for this problem with the efficient ADAM optimization algorithm.\n",
    "\n",
    "So now let's configure and create the network:"
   ]
  },
  {
   "cell_type": "code",
   "execution_count": null,
   "metadata": {
    "colab": {
     "base_uri": "https://localhost:8080/"
    },
    "id": "a5odeM8hZtW8",
    "outputId": "75432cfe-708c-46e9-f7e6-ff6f4008be53"
   },
   "outputs": [
    {
     "name": "stdout",
     "output_type": "stream",
     "text": [
      "Model: \"sequential_1\"\n",
      "_________________________________________________________________\n",
      " Layer (type)                Output Shape              Param #   \n",
      "=================================================================\n",
      " lstm_1 (LSTM)               (None, 128)               117248    \n",
      "                                                                 \n",
      " dense_1 (Dense)             (None, 1)                 129       \n",
      "                                                                 \n",
      "=================================================================\n",
      "Total params: 117,377\n",
      "Trainable params: 117,377\n",
      "Non-trainable params: 0\n",
      "_________________________________________________________________\n",
      "None\n"
     ]
    }
   ],
   "source": [
    "# configure network\n",
    "n_neurons = 128\n",
    "n_epoch = 20\n",
    "n_batch = 128\n",
    "\n",
    "# design network\n",
    "model_mini = Sequential()\n",
    "model_mini.add(LSTM(n_neurons, input_shape=(x.shape[1], x.shape[2])))\n",
    "model_mini.add(Dense(1, activation='sigmoid'))\n",
    "model_mini.compile(loss='mean_squared_error', optimizer='adam', metrics=['binary_accuracy'])\n",
    "\n",
    "print(model_mini.summary())"
   ]
  },
  {
   "cell_type": "code",
   "execution_count": null,
   "metadata": {
    "colab": {
     "base_uri": "https://localhost:8080/"
    },
    "id": "O1cvbA9gZtW8",
    "outputId": "cd66a79b-e4a1-4f2c-b140-491252bc1048"
   },
   "outputs": [
    {
     "name": "stdout",
     "output_type": "stream",
     "text": [
      "Epoch 1/20\n",
      "218/218 [==============================] - 47s 208ms/step - loss: 0.2211 - binary_accuracy: 0.6640\n",
      "Epoch 2/20\n",
      "218/218 [==============================] - 46s 209ms/step - loss: 0.1684 - binary_accuracy: 0.7667\n",
      "Epoch 3/20\n",
      "218/218 [==============================] - 46s 209ms/step - loss: 0.1481 - binary_accuracy: 0.7911\n",
      "Epoch 4/20\n",
      "218/218 [==============================] - 46s 210ms/step - loss: 0.1374 - binary_accuracy: 0.8094\n",
      "Epoch 5/20\n",
      "218/218 [==============================] - 45s 208ms/step - loss: 0.1257 - binary_accuracy: 0.8272\n",
      "Epoch 6/20\n",
      "218/218 [==============================] - 45s 208ms/step - loss: 0.1208 - binary_accuracy: 0.8365\n",
      "Epoch 7/20\n",
      "218/218 [==============================] - 45s 208ms/step - loss: 0.1116 - binary_accuracy: 0.8490\n",
      "Epoch 8/20\n",
      "218/218 [==============================] - 46s 209ms/step - loss: 0.1056 - binary_accuracy: 0.8590\n",
      "Epoch 9/20\n",
      "218/218 [==============================] - 45s 209ms/step - loss: 0.0998 - binary_accuracy: 0.8688\n",
      "Epoch 10/20\n",
      "218/218 [==============================] - 45s 209ms/step - loss: 0.0935 - binary_accuracy: 0.8786\n",
      "Epoch 11/20\n",
      "218/218 [==============================] - 46s 210ms/step - loss: 0.0855 - binary_accuracy: 0.8918\n",
      "Epoch 12/20\n",
      "218/218 [==============================] - 46s 210ms/step - loss: 0.0788 - binary_accuracy: 0.9034\n",
      "Epoch 13/20\n",
      "218/218 [==============================] - 45s 208ms/step - loss: 0.0762 - binary_accuracy: 0.9078\n",
      "Epoch 14/20\n",
      "218/218 [==============================] - 45s 208ms/step - loss: 0.0694 - binary_accuracy: 0.9166\n",
      "Epoch 15/20\n",
      "218/218 [==============================] - 46s 209ms/step - loss: 0.0664 - binary_accuracy: 0.9210\n",
      "Epoch 16/20\n",
      "218/218 [==============================] - 46s 209ms/step - loss: 0.0595 - binary_accuracy: 0.9309\n",
      "Epoch 17/20\n",
      "218/218 [==============================] - 46s 209ms/step - loss: 0.0569 - binary_accuracy: 0.9350\n",
      "Epoch 18/20\n",
      "218/218 [==============================] - 45s 209ms/step - loss: 0.0529 - binary_accuracy: 0.9401\n",
      "Epoch 19/20\n",
      "218/218 [==============================] - 45s 208ms/step - loss: 0.0497 - binary_accuracy: 0.9450\n",
      "Epoch 20/20\n",
      "218/218 [==============================] - 46s 209ms/step - loss: 0.0461 - binary_accuracy: 0.9494\n"
     ]
    }
   ],
   "source": [
    "model_mini_hist = model_mini.fit(x_train, np.asarray(y_train), batch_size=n_batch, epochs=n_epoch, verbose=1)"
   ]
  },
  {
   "cell_type": "code",
   "execution_count": null,
   "metadata": {
    "colab": {
     "base_uri": "https://localhost:8080/"
    },
    "id": "e4LOkl1DZtW8",
    "outputId": "75eb74d8-faa3-411e-e448-9bf0a3fe8e48"
   },
   "outputs": [
    {
     "name": "stdout",
     "output_type": "stream",
     "text": [
      "39/39 [==============================] - 3s 81ms/step - loss: 0.1435 - binary_accuracy: 0.8256\n",
      "\n",
      "Model Accuracy: 82.56%\n"
     ]
    }
   ],
   "source": [
    "model_mini_score = model_mini.evaluate(x_val, np.asarray(y_val), batch_size=n_batch)\n",
    "print(\"\\nModel Accuracy:\",str(round(model_mini_score[1] * 100, 2)) + '%')"
   ]
  },
  {
   "cell_type": "code",
   "execution_count": null,
   "metadata": {
    "colab": {
     "base_uri": "https://localhost:8080/",
     "height": 295
    },
    "id": "n_q09UyIZtW9",
    "outputId": "45e9c5ea-66f2-4d14-d6a7-133ba268326c"
   },
   "outputs": [
    {
     "data": {
      "image/png": "[encoded data removed]",
      "text/plain": [
       "<Figure size 432x288 with 1 Axes>"
      ]
     },
     "metadata": {
      "needs_background": "light"
     },
     "output_type": "display_data"
    }
   ],
   "source": [
    "plt.plot(model_mini_hist.history['loss'])\n",
    "\n",
    "plt.title('Model Loss')\n",
    "plt.ylabel('Loss')\n",
    "plt.xlabel('Epoch')\n",
    "plt.legend(['Train'], loc='lower left')\n",
    "\n",
    "plt.show()"
   ]
  },
  {
   "cell_type": "markdown",
   "metadata": {
    "id": "hceEHQ59ZtW9"
   },
   "source": [
    "This is a good value for the model, we can use it. Let's save our model:"
   ]
  },
  {
   "cell_type": "code",
   "execution_count": null,
   "metadata": {
    "id": "RuxZrCz0ZtW-"
   },
   "outputs": [],
   "source": [
    "model_mini.save('models/LSTM-Mini-Batch-Model.h5')  # save model\n",
    "del model_mini  # delete existing model\n",
    "\n",
    "# returns a compiled model, identical to the previous one\n",
    "model_mini = load_model('models/LSTM-Mini-Batch-Model.h5')"
   ]
  },
  {
   "cell_type": "code",
   "execution_count": 18,
   "metadata": {
    "id": "9Y-JG9FAZ89D"
   },
   "outputs": [],
   "source": [
    "# returns a compiled model, identical to the previous one\n",
    "model_mini = load_model('models/LSTM-Mini-Batch-Model.h5')"
   ]
  },
  {
   "cell_type": "markdown",
   "metadata": {
    "id": "9FJIKNXBZtW-"
   },
   "source": [
    "Let's check if everything is correct:"
   ]
  },
  {
   "cell_type": "code",
   "execution_count": null,
   "metadata": {
    "colab": {
     "base_uri": "https://localhost:8080/"
    },
    "id": "SWZhq9u5ZtW-",
    "outputId": "2e12f3b0-d342-47b6-98ba-b5b4989c97ce"
   },
   "outputs": [
    {
     "name": "stdout",
     "output_type": "stream",
     "text": [
      "39/39 [==============================] - 4s 80ms/step - loss: 0.1435 - binary_accuracy: 0.8256\n"
     ]
    },
    {
     "data": {
      "text/plain": [
       "[0.1435185968875885, 0.8256357908248901]"
      ]
     },
     "execution_count": 31,
     "metadata": {},
     "output_type": "execute_result"
    }
   ],
   "source": [
    "model_mini.evaluate(x_val, np.asarray(y_val), batch_size=n_batch)"
   ]
  },
  {
   "cell_type": "markdown",
   "metadata": {
    "id": "Hhi8zre1ZtW-"
   },
   "source": [
    "<h2 align=\"center\">Stacked LSTM Layers</h2>\n",
    "\n",
    "Now we will try the model with a 3 stacked LSTM layers:"
   ]
  },
  {
   "cell_type": "code",
   "execution_count": null,
   "metadata": {
    "colab": {
     "base_uri": "https://localhost:8080/"
    },
    "id": "-rhE_r9JZtW_",
    "outputId": "2a0e13cf-acf1-4ae4-853a-5717640e20fd"
   },
   "outputs": [
    {
     "name": "stdout",
     "output_type": "stream",
     "text": [
      "Model: \"sequential_4\"\n",
      "_________________________________________________________________\n",
      " Layer (type)                Output Shape              Param #   \n",
      "=================================================================\n",
      " lstm_12 (LSTM)              (None, 100, 100)          80400     \n",
      "                                                                 \n",
      " lstm_13 (LSTM)              (None, 100, 32)           17024     \n",
      "                                                                 \n",
      " lstm_14 (LSTM)              (None, 32)                8320      \n",
      "                                                                 \n",
      " dense_4 (Dense)             (None, 1)                 33        \n",
      "                                                                 \n",
      "=================================================================\n",
      "Total params: 105,777\n",
      "Trainable params: 105,777\n",
      "Non-trainable params: 0\n",
      "_________________________________________________________________\n",
      "None\n"
     ]
    }
   ],
   "source": [
    "# configure network\n",
    "n_neurons = 100\n",
    "n_epoch = 20\n",
    "n_batch = 128\n",
    "\n",
    "# design network\n",
    "model3L = Sequential()\n",
    "\n",
    "model3L.add(LSTM(n_neurons, return_sequences=True, input_shape=(x.shape[1], x.shape[2])))\n",
    "model3L.add(LSTM(32, return_sequences=True))  # returns a sequence of vectors of dimension 32\n",
    "model3L.add(LSTM(32))  # return a single vector of dimension 32\n",
    "\n",
    "model3L.add(Dense(1, activation='sigmoid'))\n",
    "model3L.compile(loss='mean_squared_error', optimizer='adam', metrics=['binary_accuracy'])\n",
    "\n",
    "print(model3L.summary())"
   ]
  },
  {
   "cell_type": "code",
   "execution_count": null,
   "metadata": {
    "colab": {
     "base_uri": "https://localhost:8080/"
    },
    "id": "rfk9cxSYZtW_",
    "outputId": "a117690f-169c-4257-9ef3-602b1a7c59fe"
   },
   "outputs": [
    {
     "name": "stdout",
     "output_type": "stream",
     "text": [
      "Epoch 1/20\n",
      "218/218 [==============================] - 62s 262ms/step - loss: 0.2047 - binary_accuracy: 0.6884\n",
      "Epoch 2/20\n",
      "218/218 [==============================] - 57s 262ms/step - loss: 0.1666 - binary_accuracy: 0.7687\n",
      "Epoch 3/20\n",
      "218/218 [==============================] - 57s 260ms/step - loss: 0.1528 - binary_accuracy: 0.7858\n",
      "Epoch 4/20\n",
      "218/218 [==============================] - 57s 260ms/step - loss: 0.1465 - binary_accuracy: 0.7955\n",
      "Epoch 5/20\n",
      "218/218 [==============================] - 57s 260ms/step - loss: 0.1373 - binary_accuracy: 0.8100\n",
      "Epoch 6/20\n",
      "218/218 [==============================] - 57s 259ms/step - loss: 0.1272 - binary_accuracy: 0.8240\n",
      "Epoch 7/20\n",
      "218/218 [==============================] - 57s 260ms/step - loss: 0.1195 - binary_accuracy: 0.8379\n",
      "Epoch 8/20\n",
      "218/218 [==============================] - 57s 260ms/step - loss: 0.1138 - binary_accuracy: 0.8449\n",
      "Epoch 9/20\n",
      "218/218 [==============================] - 57s 260ms/step - loss: 0.1068 - binary_accuracy: 0.8563\n",
      "Epoch 10/20\n",
      "218/218 [==============================] - 56s 258ms/step - loss: 0.1043 - binary_accuracy: 0.8601\n",
      "Epoch 11/20\n",
      "218/218 [==============================] - 57s 260ms/step - loss: 0.0951 - binary_accuracy: 0.8747\n",
      "Epoch 12/20\n",
      "218/218 [==============================] - 57s 260ms/step - loss: 0.0915 - binary_accuracy: 0.8819\n",
      "Epoch 13/20\n",
      "218/218 [==============================] - 57s 260ms/step - loss: 0.0862 - binary_accuracy: 0.8896\n",
      "Epoch 14/20\n",
      "218/218 [==============================] - 56s 259ms/step - loss: 0.0797 - binary_accuracy: 0.8995\n",
      "Epoch 15/20\n",
      "218/218 [==============================] - 56s 258ms/step - loss: 0.0751 - binary_accuracy: 0.9062\n",
      "Epoch 16/20\n",
      "218/218 [==============================] - 56s 258ms/step - loss: 0.0703 - binary_accuracy: 0.9140\n",
      "Epoch 17/20\n",
      "218/218 [==============================] - 56s 259ms/step - loss: 0.0725 - binary_accuracy: 0.9112\n",
      "Epoch 18/20\n",
      "218/218 [==============================] - 57s 260ms/step - loss: 0.0621 - binary_accuracy: 0.9256\n",
      "Epoch 19/20\n",
      "218/218 [==============================] - 56s 259ms/step - loss: 0.0564 - binary_accuracy: 0.9344\n",
      "Epoch 20/20\n",
      "218/218 [==============================] - 56s 258ms/step - loss: 0.0617 - binary_accuracy: 0.9265\n"
     ]
    }
   ],
   "source": [
    "model3L_hist = model3L.fit(x_train, np.asarray(y_train), batch_size=n_batch, epochs=n_epoch, verbose=1)"
   ]
  },
  {
   "cell_type": "code",
   "execution_count": null,
   "metadata": {
    "colab": {
     "base_uri": "https://localhost:8080/"
    },
    "id": "Z66lHsYnZtW_",
    "outputId": "11e24fbc-e3f1-4df4-f76a-19f8417f44a3"
   },
   "outputs": [
    {
     "name": "stdout",
     "output_type": "stream",
     "text": [
      "39/39 [==============================] - 6s 116ms/step - loss: 0.1306 - binary_accuracy: 0.8330\n",
      "\n",
      "Model Accuracy: 83.3%\n"
     ]
    }
   ],
   "source": [
    "model3L_score = model3L.evaluate(x_val, np.asarray(y_val), batch_size=n_batch)\n",
    "print(\"\\nModel Accuracy:\", str(round(model3L_score[1] * 100, 2)) + '%')"
   ]
  },
  {
   "cell_type": "code",
   "execution_count": null,
   "metadata": {
    "colab": {
     "base_uri": "https://localhost:8080/",
     "height": 295
    },
    "id": "tx4LX6JNZtW_",
    "outputId": "e2c0e62b-419b-425d-e4f5-efdf73d02f78"
   },
   "outputs": [
    {
     "data": {
      "image/png": "[encoded data removed]",
      "text/plain": [
       "<Figure size 432x288 with 1 Axes>"
      ]
     },
     "metadata": {
      "needs_background": "light"
     },
     "output_type": "display_data"
    }
   ],
   "source": [
    "plt.plot(model3L_hist.history['loss'])\n",
    "\n",
    "plt.title('Model Loss')\n",
    "plt.ylabel('Loss')\n",
    "plt.xlabel('Epoch')\n",
    "plt.legend(['Train'], loc='lower left')\n",
    "\n",
    "plt.show()"
   ]
  },
  {
   "cell_type": "markdown",
   "metadata": {
    "id": "vTuyvAM-ZtXC"
   },
   "source": [
    "Let's save our model:"
   ]
  },
  {
   "cell_type": "code",
   "execution_count": null,
   "metadata": {
    "id": "QCG_Af_EZtXC"
   },
   "outputs": [],
   "source": [
    "model3L.save('models/LSTM-3L-Model.h5')  # save model\n",
    "del model3L  # delete existing model"
   ]
  },
  {
   "cell_type": "code",
   "execution_count": 19,
   "metadata": {
    "id": "Tgs_iFa1aKdP"
   },
   "outputs": [],
   "source": [
    "# returns a compiled model, identical to the previous one\n",
    "model3L = load_model('models/LSTM-3L-Model.h5')"
   ]
  },
  {
   "cell_type": "markdown",
   "metadata": {
    "id": "l4ATCsPeZtXC"
   },
   "source": [
    "Let's check if everything is correct:"
   ]
  },
  {
   "cell_type": "code",
   "execution_count": null,
   "metadata": {
    "colab": {
     "base_uri": "https://localhost:8080/"
    },
    "id": "OA83RjgYZtXC",
    "outputId": "2fd90e0a-c5dc-4b8f-a001-5a27c03978ef"
   },
   "outputs": [
    {
     "name": "stdout",
     "output_type": "stream",
     "text": [
      "39/39 [==============================] - 6s 132ms/step - loss: 0.1306 - binary_accuracy: 0.8330\n"
     ]
    },
    {
     "data": {
      "text/plain": [
       "[0.13063323497772217, 0.832960307598114]"
      ]
     },
     "execution_count": 25,
     "metadata": {},
     "output_type": "execute_result"
    }
   ],
   "source": [
    "model3L.evaluate(x_val, np.asarray(y_val), batch_size=n_batch)"
   ]
  },
  {
   "cell_type": "markdown",
   "metadata": {
    "id": "d2zteJmhZtXC"
   },
   "source": [
    "<h2 align=\"center\">Bidirectional LSTM</h2>\n",
    "\n",
    "Bidirectional LSTMs are an extension of traditional LSTMs that can improve model performance on sequence classification problems.\n",
    "\n",
    "In problems where all timesteps of the input sequence are available, Bidirectional LSTMs train two instead of one LSTMs on the input sequence. The first on the input sequence as-is and the second on a reversed copy of the input sequence. This can provide additional context to the network and result in faster and even fuller learning on the problem.\n",
    "\n",
    "The idea of Bidirectional Recurrent Neural Networks (RNNs) is straightforward.\n",
    "\n",
    "It involves duplicating the first recurrent layer in the network so that there are now two layers side-by-side, then providing the input sequence as-is as input to the first layer and providing a reversed copy of the input sequence to the second."
   ]
  },
  {
   "cell_type": "code",
   "execution_count": null,
   "metadata": {
    "colab": {
     "base_uri": "https://localhost:8080/"
    },
    "id": "91_ZiDYhZtXD",
    "outputId": "4878be52-41ae-4bd3-b201-92b965df3464"
   },
   "outputs": [
    {
     "name": "stdout",
     "output_type": "stream",
     "text": [
      "Model: \"sequential_1\"\n",
      "_________________________________________________________________\n",
      " Layer (type)                Output Shape              Param #   \n",
      "=================================================================\n",
      " bidirectional_1 (Bidirectio  (None, 128)              84480     \n",
      " nal)                                                            \n",
      "                                                                 \n",
      " dropout_1 (Dropout)         (None, 128)               0         \n",
      "                                                                 \n",
      " dense_1 (Dense)             (None, 1)                 129       \n",
      "                                                                 \n",
      "=================================================================\n",
      "Total params: 84,609\n",
      "Trainable params: 84,609\n",
      "Non-trainable params: 0\n",
      "_________________________________________________________________\n",
      "None\n"
     ]
    }
   ],
   "source": [
    "from keras.layers.core import Dropout\n",
    "from keras.layers import Bidirectional\n",
    "\n",
    "# configure network\n",
    "n_epoch = 20\n",
    "n_batch = 64\n",
    "\n",
    "# design network\n",
    "model_Bi_LSTM = Sequential()\n",
    "model_Bi_LSTM.add(Bidirectional(LSTM(64), input_shape=(x.shape[1], x.shape[2])))\n",
    "model_Bi_LSTM.add(Dropout(0.5))\n",
    "model_Bi_LSTM.add(Dense(1, activation='sigmoid'))\n",
    "\n",
    "# try using different optimizers and different optimizer configs\n",
    "model_Bi_LSTM.compile('adam', 'binary_crossentropy', metrics=['binary_accuracy'])\n",
    "print(model_Bi_LSTM.summary())"
   ]
  },
  {
   "cell_type": "code",
   "execution_count": null,
   "metadata": {
    "colab": {
     "base_uri": "https://localhost:8080/"
    },
    "id": "FUBS8nSHZtXD",
    "outputId": "da0e6427-bea0-4217-8540-bae6811184b1"
   },
   "outputs": [
    {
     "name": "stdout",
     "output_type": "stream",
     "text": [
      "Epoch 1/20\n",
      "436/436 [==============================] - 52s 110ms/step - loss: 0.5399 - binary_accuracy: 0.7314 - val_loss: 0.4875 - val_binary_accuracy: 0.7723\n",
      "Epoch 2/20\n",
      "436/436 [==============================] - 48s 109ms/step - loss: 0.4687 - binary_accuracy: 0.7853 - val_loss: 0.4589 - val_binary_accuracy: 0.7876\n",
      "Epoch 3/20\n",
      "436/436 [==============================] - 47s 108ms/step - loss: 0.4319 - binary_accuracy: 0.8031 - val_loss: 0.4603 - val_binary_accuracy: 0.7937\n",
      "Epoch 4/20\n",
      "436/436 [==============================] - 48s 109ms/step - loss: 0.3991 - binary_accuracy: 0.8211 - val_loss: 0.4166 - val_binary_accuracy: 0.8022\n",
      "Epoch 5/20\n",
      "436/436 [==============================] - 47s 108ms/step - loss: 0.3772 - binary_accuracy: 0.8333 - val_loss: 0.3975 - val_binary_accuracy: 0.8187\n",
      "Epoch 6/20\n",
      "436/436 [==============================] - 47s 108ms/step - loss: 0.3578 - binary_accuracy: 0.8438 - val_loss: 0.4166 - val_binary_accuracy: 0.8006\n",
      "Epoch 7/20\n",
      "436/436 [==============================] - 47s 109ms/step - loss: 0.3366 - binary_accuracy: 0.8573 - val_loss: 0.3857 - val_binary_accuracy: 0.8291\n",
      "Epoch 8/20\n",
      "436/436 [==============================] - 50s 116ms/step - loss: 0.3215 - binary_accuracy: 0.8642 - val_loss: 0.3879 - val_binary_accuracy: 0.8307\n",
      "Epoch 9/20\n",
      "436/436 [==============================] - 48s 109ms/step - loss: 0.3016 - binary_accuracy: 0.8751 - val_loss: 0.3822 - val_binary_accuracy: 0.8317\n",
      "Epoch 10/20\n",
      "436/436 [==============================] - 48s 109ms/step - loss: 0.2792 - binary_accuracy: 0.8844 - val_loss: 0.3851 - val_binary_accuracy: 0.8370\n",
      "Epoch 11/20\n",
      "436/436 [==============================] - 47s 109ms/step - loss: 0.2602 - binary_accuracy: 0.8942 - val_loss: 0.3891 - val_binary_accuracy: 0.8376\n",
      "Epoch 12/20\n",
      "436/436 [==============================] - 47s 109ms/step - loss: 0.2403 - binary_accuracy: 0.9026 - val_loss: 0.4142 - val_binary_accuracy: 0.8348\n",
      "Epoch 13/20\n",
      "436/436 [==============================] - 48s 109ms/step - loss: 0.2273 - binary_accuracy: 0.9107 - val_loss: 0.4182 - val_binary_accuracy: 0.8344\n",
      "Epoch 14/20\n",
      "436/436 [==============================] - 48s 109ms/step - loss: 0.2028 - binary_accuracy: 0.9203 - val_loss: 0.4496 - val_binary_accuracy: 0.8328\n",
      "Epoch 15/20\n",
      "436/436 [==============================] - 48s 109ms/step - loss: 0.1921 - binary_accuracy: 0.9257 - val_loss: 0.4433 - val_binary_accuracy: 0.8346\n",
      "Epoch 16/20\n",
      "436/436 [==============================] - 48s 109ms/step - loss: 0.1806 - binary_accuracy: 0.9290 - val_loss: 0.4654 - val_binary_accuracy: 0.8401\n",
      "Epoch 17/20\n",
      "436/436 [==============================] - 48s 110ms/step - loss: 0.1786 - binary_accuracy: 0.9300 - val_loss: 0.4373 - val_binary_accuracy: 0.8358\n",
      "Epoch 18/20\n",
      "436/436 [==============================] - 48s 109ms/step - loss: 0.1652 - binary_accuracy: 0.9384 - val_loss: 0.4926 - val_binary_accuracy: 0.8395\n",
      "Epoch 19/20\n",
      "436/436 [==============================] - 48s 110ms/step - loss: 0.1487 - binary_accuracy: 0.9443 - val_loss: 0.5418 - val_binary_accuracy: 0.8346\n",
      "Epoch 20/20\n",
      "436/436 [==============================] - 48s 110ms/step - loss: 0.1436 - binary_accuracy: 0.9471 - val_loss: 0.4957 - val_binary_accuracy: 0.8330\n"
     ]
    }
   ],
   "source": [
    "model_Bi_LSTM_hist = model_Bi_LSTM.fit(x_train, np.asarray(y_train), epochs=n_epoch, batch_size=n_batch, verbose=1, validation_data=(x_val, np.asarray(y_val)))"
   ]
  },
  {
   "cell_type": "code",
   "execution_count": null,
   "metadata": {
    "colab": {
     "base_uri": "https://localhost:8080/"
    },
    "id": "S46I1EENZtXD",
    "outputId": "c2a4662c-1627-4138-862e-a771597f9066"
   },
   "outputs": [
    {
     "name": "stdout",
     "output_type": "stream",
     "text": [
      "77/77 [==============================] - 3s 34ms/step - loss: 0.4957 - binary_accuracy: 0.8330\n",
      "\n",
      "Model Accuracy: 83.3%\n"
     ]
    }
   ],
   "source": [
    "model_Bi_LSTM_score = model_Bi_LSTM.evaluate(x_val, np.asarray(y_val), batch_size=n_batch)\n",
    "print(\"\\nModel Accuracy:\",str(round(model_Bi_LSTM_score[1] * 100, 2)) + '%')"
   ]
  },
  {
   "cell_type": "code",
   "execution_count": null,
   "metadata": {
    "colab": {
     "base_uri": "https://localhost:8080/",
     "height": 295
    },
    "id": "IVyY3L1tZtXD",
    "outputId": "d10ff03c-c50b-421f-cff9-b05551f4dbda"
   },
   "outputs": [
    {
     "data": {
      "image/png": "[encoded data removed]",
      "text/plain": [
       "<Figure size 432x288 with 1 Axes>"
      ]
     },
     "metadata": {
      "needs_background": "light"
     },
     "output_type": "display_data"
    }
   ],
   "source": [
    "plt.plot(model_Bi_LSTM_hist.history['loss'])\n",
    "plt.plot(model_Bi_LSTM_hist.history['val_loss'])\n",
    "\n",
    "plt.title('Model Loss')\n",
    "plt.ylabel('Loss')\n",
    "plt.xlabel('Epoch')\n",
    "plt.legend(['Train', 'Val'], loc='lower left')\n",
    "\n",
    "plt.show()"
   ]
  },
  {
   "cell_type": "code",
   "execution_count": null,
   "metadata": {
    "colab": {
     "base_uri": "https://localhost:8080/",
     "height": 295
    },
    "id": "rZOeE_vLZtXD",
    "outputId": "3bfd1c6e-a553-4c91-8c95-e44c392bcc6c"
   },
   "outputs": [
    {
     "data": {
      "image/png": "[encoded data removed]",
      "text/plain": [
       "<Figure size 432x288 with 1 Axes>"
      ]
     },
     "metadata": {
      "needs_background": "light"
     },
     "output_type": "display_data"
    }
   ],
   "source": [
    "plt.plot(model_Bi_LSTM_hist.history['binary_accuracy'])\n",
    "plt.plot(model_Bi_LSTM_hist.history['val_binary_accuracy'])\n",
    "\n",
    "plt.title('Model Loss')\n",
    "plt.ylabel('Loss')\n",
    "plt.xlabel('Epoch')\n",
    "plt.legend(['Train', 'Val'], loc='lower left')\n",
    "\n",
    "plt.show()"
   ]
  },
  {
   "cell_type": "markdown",
   "metadata": {
    "id": "IoQJQeIdZtXE"
   },
   "source": [
    "Let's save our model:"
   ]
  },
  {
   "cell_type": "code",
   "execution_count": null,
   "metadata": {
    "id": "kscMkhQkZtXE"
   },
   "outputs": [],
   "source": [
    "model_Bi_LSTM.save('models/LSTM-Bi-Model.h5')  # save model\n",
    "del model_Bi_LSTM  # delete existing model"
   ]
  },
  {
   "cell_type": "code",
   "execution_count": 20,
   "metadata": {
    "id": "d0YonJWraOeF"
   },
   "outputs": [],
   "source": [
    "# returns a compiled model, identical to the previous one\n",
    "model_Bi_LSTM = load_model('models/LSTM-Bi-Model.h5')"
   ]
  },
  {
   "cell_type": "markdown",
   "metadata": {
    "id": "a3vslMkOZtXE"
   },
   "source": [
    "<h2 align=\"center\">CNN + LSTM</h2>\n",
    "\n",
    "This approach is based entirely on [this work](https://www.aclweb.org/anthology/P16-2037.pdf). As indicated in the work:\n",
    "\n",
    "<cite>\n",
    "    \n",
    "    Dimensional sentiment analysis aims to recognize continuous numerical values in multiple dimensions such as the valencearousal (VA) space. \n",
    "    \n",
    "    Compared to the categorical approach that focuses on sentiment classification such as binary classification (i.e., positive and negative), the dimensional approach can provide more fine-grained sentiment analysis. This study proposes a regional CNN-LSTM model consisting of two parts: regional CNN and LSTM to predict the VA ratings of texts. \n",
    "   \n",
    "    Unlike a conventional CNN which considers a whole text as input, the proposed regional CNN uses an individual sentence as a region, dividing an input text into several regions such that the useful affective information in each region can be extracted and weighted according to their contribution to the VA prediction. Such regional information is sequentially integrated across regions using LSTM for VA prediction. \n",
    "\n",
    "</cite>\n",
    "\n",
    "In short, word vectors of vocabulary words are trained from a large corpus using the word2vec toolkit. For each given text, the  regional CNN model uses the sentence as a region to divide the text into R-domains, ie r1, ..., ri rj, rk, ..., rR. In each region, useful affective functions can be removed when word vectors pass sequentially through the convolutional layer and the  maxpooling  layer. Then such local (regional) features are sequentially integrated between regions using LSTM to construct a text vector for VA prediction."
   ]
  },
  {
   "cell_type": "code",
   "execution_count": 24,
   "metadata": {
    "colab": {
     "base_uri": "https://localhost:8080/"
    },
    "id": "DwNuefZ_ZtXE",
    "outputId": "34f9ad78-d696-4d85-cc1c-fdffd9ef814b"
   },
   "outputs": [
    {
     "name": "stdout",
     "output_type": "stream",
     "text": [
      "Model: \"sequential_1\"\n",
      "_________________________________________________________________\n",
      " Layer (type)                Output Shape              Param #   \n",
      "=================================================================\n",
      " conv1d_1 (Conv1D)           (None, 100, 32)           9632      \n",
      "                                                                 \n",
      " max_pooling1d_1 (MaxPooling  (None, 50, 32)           0         \n",
      " 1D)                                                             \n",
      "                                                                 \n",
      " lstm_1 (LSTM)               (None, 100)               53200     \n",
      "                                                                 \n",
      " dense_1 (Dense)             (None, 1)                 101       \n",
      "                                                                 \n",
      "=================================================================\n",
      "Total params: 62,933\n",
      "Trainable params: 62,933\n",
      "Non-trainable params: 0\n",
      "_________________________________________________________________\n",
      "None\n"
     ]
    }
   ],
   "source": [
    "from keras.models import Sequential\n",
    "from keras.layers import LSTM\n",
    "from keras.layers.core import Dense\n",
    "from keras.layers import Conv1D, MaxPooling1D, Flatten\n",
    "\n",
    "# configure network\n",
    "n_epoch = 20\n",
    "n_batch = 256\n",
    "\n",
    "# design network\n",
    "model_CNN_LSTM = Sequential()\n",
    "\n",
    "model_CNN_LSTM.add(Conv1D(filters=32, kernel_size=3, input_shape=(x.shape[1], x.shape[2]), padding='same', activation='relu'))\n",
    "model_CNN_LSTM.add(MaxPooling1D(pool_size=2))\n",
    "model_CNN_LSTM.add(LSTM(100))\n",
    "model_CNN_LSTM.add(Dense(1, activation='sigmoid'))\n",
    "\n",
    "model_CNN_LSTM.compile(loss='binary_crossentropy', optimizer='adam', metrics=['binary_accuracy'])\n",
    "\n",
    "print(model_CNN_LSTM.summary())"
   ]
  },
  {
   "cell_type": "code",
   "execution_count": 25,
   "metadata": {
    "colab": {
     "base_uri": "https://localhost:8080/"
    },
    "id": "nG3Gl2KlZtXE",
    "outputId": "97eb3359-253d-4b89-a256-09415e4591ca"
   },
   "outputs": [
    {
     "name": "stdout",
     "output_type": "stream",
     "text": [
      "Epoch 1/20\n",
      "109/109 [==============================] - 32s 271ms/step - loss: 0.5906 - binary_accuracy: 0.6768\n",
      "Epoch 2/20\n",
      "109/109 [==============================] - 28s 258ms/step - loss: 0.4879 - binary_accuracy: 0.7675\n",
      "Epoch 3/20\n",
      "109/109 [==============================] - 29s 262ms/step - loss: 0.4467 - binary_accuracy: 0.7944\n",
      "Epoch 4/20\n",
      "109/109 [==============================] - 30s 276ms/step - loss: 0.4162 - binary_accuracy: 0.8129\n",
      "Epoch 5/20\n",
      "109/109 [==============================] - 30s 275ms/step - loss: 0.3933 - binary_accuracy: 0.8262\n",
      "Epoch 6/20\n",
      "109/109 [==============================] - 29s 266ms/step - loss: 0.3756 - binary_accuracy: 0.8342\n",
      "Epoch 7/20\n",
      "109/109 [==============================] - 35s 320ms/step - loss: 0.3636 - binary_accuracy: 0.8400\n",
      "Epoch 8/20\n",
      "109/109 [==============================] - 31s 282ms/step - loss: 0.3507 - binary_accuracy: 0.8513\n",
      "Epoch 9/20\n",
      "109/109 [==============================] - 28s 261ms/step - loss: 0.3366 - binary_accuracy: 0.8546\n",
      "Epoch 10/20\n",
      "109/109 [==============================] - 32s 297ms/step - loss: 0.3210 - binary_accuracy: 0.8670\n",
      "Epoch 11/20\n",
      "109/109 [==============================] - 33s 304ms/step - loss: 0.3129 - binary_accuracy: 0.8707\n",
      "Epoch 12/20\n",
      "109/109 [==============================] - 31s 283ms/step - loss: 0.3079 - binary_accuracy: 0.8724\n",
      "Epoch 13/20\n",
      "109/109 [==============================] - 33s 304ms/step - loss: 0.3020 - binary_accuracy: 0.8770\n",
      "Epoch 14/20\n",
      "109/109 [==============================] - 29s 267ms/step - loss: 0.2897 - binary_accuracy: 0.8835\n",
      "Epoch 15/20\n",
      "109/109 [==============================] - 32s 291ms/step - loss: 0.2782 - binary_accuracy: 0.8885\n",
      "Epoch 16/20\n",
      "109/109 [==============================] - 34s 314ms/step - loss: 0.2708 - binary_accuracy: 0.8939\n",
      "Epoch 17/20\n",
      "109/109 [==============================] - 29s 262ms/step - loss: 0.2679 - binary_accuracy: 0.8966\n",
      "Epoch 18/20\n",
      "109/109 [==============================] - 29s 263ms/step - loss: 0.2537 - binary_accuracy: 0.9030\n",
      "Epoch 19/20\n",
      "109/109 [==============================] - 30s 272ms/step - loss: 0.2469 - binary_accuracy: 0.9070\n",
      "Epoch 20/20\n",
      "109/109 [==============================] - 28s 257ms/step - loss: 0.2437 - binary_accuracy: 0.9088\n"
     ]
    }
   ],
   "source": [
    "model_CNN_LSTM_hist = model_CNN_LSTM.fit(x_train, np.asarray(y_train), epochs=n_epoch, batch_size=n_batch)"
   ]
  },
  {
   "cell_type": "code",
   "execution_count": 26,
   "metadata": {
    "colab": {
     "base_uri": "https://localhost:8080/"
    },
    "id": "yK8I8-i1ZtXF",
    "outputId": "f3c699b7-3302-4e81-acab-4d88fb158c5f"
   },
   "outputs": [
    {
     "name": "stdout",
     "output_type": "stream",
     "text": [
      "20/20 [==============================] - 2s 93ms/step - loss: 0.4456 - binary_accuracy: 0.8124\n",
      "\n",
      "Model Accuracy: 81.24%\n"
     ]
    }
   ],
   "source": [
    "model_CNN_LSTM_score = model_CNN_LSTM.evaluate(x_val, np.asarray(y_val), batch_size=n_batch)\n",
    "print(\"\\nModel Accuracy:\",str(round(model_CNN_LSTM_score[1] * 100, 2)) + '%')"
   ]
  },
  {
   "cell_type": "code",
   "execution_count": 27,
   "metadata": {
    "colab": {
     "base_uri": "https://localhost:8080/",
     "height": 295
    },
    "id": "Zyk3Q0tXZtXF",
    "outputId": "466182b2-bdbf-415e-ab70-681922851c69"
   },
   "outputs": [
    {
     "data": {
      "image/png": "[encoded data removed]",
      "text/plain": [
       "<Figure size 432x288 with 1 Axes>"
      ]
     },
     "metadata": {
      "needs_background": "light"
     },
     "output_type": "display_data"
    }
   ],
   "source": [
    "plt.plot(model_CNN_LSTM_hist.history['loss'])\n",
    "\n",
    "plt.title('Model Loss')\n",
    "plt.ylabel('Loss')\n",
    "plt.xlabel('Epoch')\n",
    "plt.legend(['Train'], loc='lower left')\n",
    "\n",
    "plt.show()"
   ]
  },
  {
   "cell_type": "markdown",
   "metadata": {
    "id": "mbH-cK4TZtXF"
   },
   "source": [
    "Let's save our model:"
   ]
  },
  {
   "cell_type": "code",
   "execution_count": 28,
   "metadata": {
    "id": "nXJekFFUZtXF"
   },
   "outputs": [],
   "source": [
    "model_CNN_LSTM.save('models/LSTM-CNN-Model.h5')  # save model\n",
    "del model_CNN_LSTM  # delete existing model"
   ]
  },
  {
   "cell_type": "code",
   "execution_count": 21,
   "metadata": {
    "id": "P1p_mEdwpEkK"
   },
   "outputs": [],
   "source": [
    "# returns a compiled model, identical to the previous one\n",
    "model_CNN_LSTM = load_model('models/LSTM-CNN-Model.h5')"
   ]
  },
  {
   "cell_type": "markdown",
   "metadata": {
    "id": "shEEexHiZtXF"
   },
   "source": [
    "<h2 align=\"center\">Testing</h2>\n",
    "\n",
    "So far in terms of accuracy the best model is LSTM Model with Mini-Batch Gradient Descent.\n",
    "\n",
    "Let's try to check the test data with all but one of the test examples to see if the model can predict it:"
   ]
  },
  {
   "cell_type": "code",
   "execution_count": null,
   "metadata": {
    "colab": {
     "base_uri": "https://localhost:8080/"
    },
    "id": "6E0ZIkM0ZtXF",
    "outputId": "cd2567c0-0d8e-4897-86a3-a2708272e847"
   },
   "outputs": [
    {
     "name": "stdout",
     "output_type": "stream",
     "text": [
      "Length of test data (except 1): 5781\n"
     ]
    }
   ],
   "source": [
    "print(\"Length of test data (except 1):\", len(x_test[:-1]))"
   ]
  },
  {
   "cell_type": "code",
   "execution_count": null,
   "metadata": {
    "colab": {
     "base_uri": "https://localhost:8080/"
    },
    "id": "U3otd9AgZtXG",
    "outputId": "b626800f-716e-439a-af30-5cbc8601f974"
   },
   "outputs": [
    {
     "name": "stdout",
     "output_type": "stream",
     "text": [
      "181/181 [==============================] - 7s 35ms/step - loss: 0.1390 - binary_accuracy: 0.8324\n",
      "[0.13903364539146423, 0.8323819637298584]\n"
     ]
    }
   ],
   "source": [
    "score_test = model_mini.evaluate(x_test[:-1], np.asarray(y_test[:-1]))\n",
    "print(score_test)"
   ]
  },
  {
   "cell_type": "code",
   "execution_count": null,
   "metadata": {
    "colab": {
     "base_uri": "https://localhost:8080/"
    },
    "id": "G5MRX62sZtXG",
    "outputId": "42052f63-6fa6-4ccf-bcda-ea88fecaa766"
   },
   "outputs": [
    {
     "name": "stdout",
     "output_type": "stream",
     "text": [
      "1/1 [==============================] - 1s 583ms/step - loss: 0.0084 - binary_accuracy: 1.0000\n",
      "[0.008366141468286514, 1.0]\n"
     ]
    }
   ],
   "source": [
    "score_test_one = model_CNN_LSTM.evaluate(x_test[-1:], np.asarray(y_test[-1:]))\n",
    "print(score_test_one)"
   ]
  },
  {
   "cell_type": "code",
   "execution_count": null,
   "metadata": {
    "colab": {
     "base_uri": "https://localhost:8080/"
    },
    "id": "xE4SWgv4ZtXG",
    "outputId": "6e1498cc-cbea-48e9-f58e-4a2901f8db55"
   },
   "outputs": [
    {
     "name": "stdout",
     "output_type": "stream",
     "text": [
      "[[1]\n",
      " [0]\n",
      " [1]\n",
      " ...\n",
      " [1]\n",
      " [1]\n",
      " [1]]\n"
     ]
    }
   ],
   "source": [
    "predict_test = (model_CNN_LSTM.predict(x_test[:-1]) > 0.5).astype(\"int32\")\n",
    "print(predict_test)"
   ]
  },
  {
   "cell_type": "code",
   "execution_count": null,
   "metadata": {
    "id": "HUnlwzSQZtXG"
   },
   "outputs": [],
   "source": [
    "predict_test_one = (model_CNN_LSTM.predict(x_test[-1:]) > 0.5).astype(\"int32\")"
   ]
  },
  {
   "cell_type": "code",
   "execution_count": null,
   "metadata": {
    "colab": {
     "base_uri": "https://localhost:8080/"
    },
    "id": "y_OgHg7sZtXG",
    "outputId": "8e7eb65c-a0aa-43e5-c145-1fe432d782b9"
   },
   "outputs": [
    {
     "name": "stdout",
     "output_type": "stream",
     "text": [
      "Predicted value: 1 \n",
      "Actual value: 1\n"
     ]
    }
   ],
   "source": [
    "print(\"Predicted value:\", predict_test_one[0][0], \"\\nActual value:\", y_test[-1:][0])"
   ]
  },
  {
   "cell_type": "markdown",
   "metadata": {
    "id": "2qtrGThgZtXG"
   },
   "source": [
    "Prediction works great, now let's visualize the data."
   ]
  },
  {
   "cell_type": "markdown",
   "metadata": {
    "id": "ohO5DMXQZtXH"
   },
   "source": [
    "<h2 align=\"center\">Visualization of Classification Report</h2>\n",
    "\n",
    "We will need our method from previous part to visualize our data, so we will use them now."
   ]
  },
  {
   "cell_type": "code",
   "execution_count": 22,
   "metadata": {
    "id": "dwvIw5LMZtXH"
   },
   "outputs": [],
   "source": [
    "def plot_classification_report(classification_report, title='Classification Report', cmap='RdBu'):\n",
    "    \n",
    "    lines = classification_report.split('\\n')\n",
    "\n",
    "    classes, plotMat, support, class_names = [], [], [], []\n",
    "    \n",
    "    for line in lines[2 : (len(lines) - 5)]:\n",
    "        t = line.strip().split()\n",
    "        if len(t) < 2: continue\n",
    "        classes.append(t[0])\n",
    "        v = [float(x) for x in t[1: len(t) - 1]]\n",
    "        support.append(int(t[-1]))\n",
    "        class_names.append(t[0])\n",
    "        plotMat.append(v)\n",
    "\n",
    "    xlabel = 'Metrics'\n",
    "    ylabel = 'Classes'\n",
    "    \n",
    "    xticklabels = ['Precision', 'Recall', 'F1-score']\n",
    "    yticklabels = ['{0} ({1})'.format(class_names[idx], sup) for idx, sup  in enumerate(support)]\n",
    "    \n",
    "    figure_width = 25\n",
    "    figure_height = len(class_names) + 7\n",
    "    correct_orientation = False\n",
    "    \n",
    "    heatmap(np.array(plotMat), title, xlabel, ylabel, xticklabels, yticklabels, figure_width, figure_height, correct_orientation, cmap=cmap)"
   ]
  },
  {
   "cell_type": "code",
   "execution_count": 23,
   "metadata": {
    "id": "-SxQWnH2ZtXH"
   },
   "outputs": [],
   "source": [
    "def heatmap(AUC, title, xlabel, ylabel, xticklabels, yticklabels, figure_width=40, figure_height=20, correct_orientation=False, cmap='RdBu'):\n",
    "    fig, ax = plt.subplots()\n",
    "    c = ax.pcolor(AUC, edgecolors='k', linestyle='dashed', linewidths=0.2, cmap=cmap)\n",
    "\n",
    "    # put the major ticks at the middle of each cell\n",
    "    ax.set_yticks(np.arange(AUC.shape[0]) + 0.5, minor=False)\n",
    "    ax.set_xticks(np.arange(AUC.shape[1]) + 0.5, minor=False)\n",
    "\n",
    "    # set tick labels\n",
    "    ax.set_xticklabels(xticklabels, minor=False)\n",
    "    ax.set_yticklabels(yticklabels, minor=False)\n",
    "\n",
    "    # set title and x/y labels\n",
    "    plt.title(title)\n",
    "    plt.xlabel(xlabel)\n",
    "    plt.ylabel(ylabel)      \n",
    "\n",
    "    # remove last blank column\n",
    "    plt.xlim( (0, AUC.shape[1]) )\n",
    "\n",
    "    # turn off all the ticks\n",
    "    ax = plt.gca()    \n",
    "    for t in ax.xaxis.get_major_ticks():\n",
    "        t.tick1line.set_visible = False\n",
    "        t.tick2line.set_visible = False\n",
    "    for t in ax.yaxis.get_major_ticks():\n",
    "        t.tick1line.set_visible = False\n",
    "        t.tick2line.set_visible = False\n",
    "\n",
    "    # add color bar\n",
    "    plt.colorbar(c)\n",
    "\n",
    "    # add text in each cell \n",
    "    show_val(c)\n",
    "\n",
    "    # proper orientation (origin at the top left instead of bottom left)\n",
    "    if correct_orientation:\n",
    "        ax.invert_yaxis()\n",
    "        ax.xaxis.tick_top()       \n",
    "\n",
    "    # resize \n",
    "    fig = plt.gcf()\n",
    "    fig.set_size_inches(cm_to_inch(figure_width, figure_height))"
   ]
  },
  {
   "cell_type": "code",
   "execution_count": 24,
   "metadata": {
    "id": "jqu5LdXZZtXH"
   },
   "outputs": [],
   "source": [
    "def show_val(pc, fmt=\"%.2f\", **kw):\n",
    "    pc.update_scalarmappable()\n",
    "    ax = pc.axes\n",
    "    for p, color, value in zip(pc.get_paths(), pc.get_facecolors(), pc.get_array()):\n",
    "        x, y = p.vertices[:-2, :].mean(0)\n",
    "        if np.all(color[:3] > 0.5):\n",
    "            color = (0.0, 0.0, 0.0)\n",
    "        else:\n",
    "            color = (1.0, 1.0, 1.0)\n",
    "        ax.text(x, y, fmt % value, ha=\"center\", va=\"center\", color=color, **kw)"
   ]
  },
  {
   "cell_type": "code",
   "execution_count": 25,
   "metadata": {
    "id": "L_QQe0fPZtXH"
   },
   "outputs": [],
   "source": [
    "def cm_to_inch(*dim):\n",
    "    inch = 2.54\n",
    "    return tuple(i/inch for i in dim[0]) if type(dim[0]) == tuple else tuple(i/inch for i in dim)"
   ]
  },
  {
   "cell_type": "markdown",
   "metadata": {
    "id": "Fb4DlXofZtXI"
   },
   "source": [
    "<h2 align=\"center\">Comparison of Models</h2> \n",
    "\n",
    "A useful tool when predicting the probability of a binary outcome is the Receiver Operating Characteristic curve, or ROC curve.\n",
    "\n",
    "It is a plot of the false positive rate (x-axis) versus the true positive rate (y-axis) for a number of different candidate threshold values between 0.0 and 1.0. Put another way, it plots the false alarm rate versus the hit rate.\n",
    "\n",
    "The true positive rate is calculated as the number of true positives divided by the sum of the number of true positives and the number of false negatives. It describes how good the model is at predicting the positive class when the actual outcome is positive.\n",
    "\n",
    "The false positive rate is calculated as the number of false positives divided by the sum of the number of false positives and the number of true negatives.\n",
    "\n",
    "It is also called the false alarm rate as it summarizes how often a positive class is predicted when the actual outcome is negative.\n",
    "\n",
    "To make this clear:\n",
    "* Smaller values on the x-axis of the plot indicate lower false positives and higher true negatives.\n",
    "* Larger values on the y-axis of the plot indicate higher true positives and lower false negatives."
   ]
  },
  {
   "cell_type": "code",
   "execution_count": 26,
   "metadata": {
    "colab": {
     "base_uri": "https://localhost:8080/",
     "height": 450
    },
    "id": "tbcuMZNGZtXI",
    "outputId": "b0d3ee08-faa4-4506-f946-32f43c2d86f5"
   },
   "outputs": [
    {
     "name": "stdout",
     "output_type": "stream",
     "text": [
      "Classification Report LSTM Stochastic Gradient Descent Model:\n",
      "               precision    recall  f1-score   support\n",
      "\n",
      "           0       0.83      0.73      0.77      2523\n",
      "           1       0.81      0.88      0.84      3259\n",
      "\n",
      "    accuracy                           0.81      5782\n",
      "   macro avg       0.82      0.80      0.81      5782\n",
      "weighted avg       0.82      0.81      0.81      5782\n",
      "\n"
     ]
    },
    {
     "data": {
      "image/png": "[encoded data removed]",
      "text/plain": [
       "<Figure size 708.661x255.118 with 2 Axes>"
      ]
     },
     "metadata": {
      "needs_background": "light"
     },
     "output_type": "display_data"
    }
   ],
   "source": [
    "from sklearn.metrics import classification_report\n",
    "\n",
    "batch_prediction = (model_batch.predict(x_test) > 0.5).astype(\"int32\")\n",
    "print('Classification Report LSTM Stochastic Gradient Descent Model:\\n', classification_report(y_test, batch_prediction))\n",
    "\n",
    "plot_classification_report(classification_report(y_test, batch_prediction), title='LSTM Stochastic Gradient Descent Classification Report', cmap='RdBu')"
   ]
  },
  {
   "cell_type": "code",
   "execution_count": 27,
   "metadata": {
    "colab": {
     "base_uri": "https://localhost:8080/",
     "height": 583
    },
    "id": "o7ZSh7hjZtXI",
    "outputId": "e652bb06-371e-4830-b047-d0e9275d191e"
   },
   "outputs": [
    {
     "name": "stdout",
     "output_type": "stream",
     "text": [
      "Classification Report LSTM Mini-Batch Model:\n",
      "               precision    recall  f1-score   support\n",
      "\n",
      "           0       0.85      0.75      0.80      2523\n",
      "           1       0.82      0.90      0.86      3259\n",
      "\n",
      "    accuracy                           0.83      5782\n",
      "   macro avg       0.84      0.82      0.83      5782\n",
      "weighted avg       0.83      0.83      0.83      5782\n",
      "\n"
     ]
    },
    {
     "data": {
      "image/png": "[encoded data removed]",
      "text/plain": [
       "<Figure size 708.661x255.118 with 2 Axes>"
      ]
     },
     "metadata": {
      "needs_background": "light"
     },
     "output_type": "display_data"
    }
   ],
   "source": [
    "mini_prediction = (model_mini.predict(x_test) > 0.5).astype(\"int32\")\n",
    "print('Classification Report LSTM Mini-Batch Model:\\n', classification_report(y_test, mini_prediction))\n",
    "\n",
    "plot_classification_report(classification_report(y_test, mini_prediction), title='LSTM Mini-Batch Classification Report', cmap='RdBu')"
   ]
  },
  {
   "cell_type": "code",
   "execution_count": 28,
   "metadata": {
    "colab": {
     "base_uri": "https://localhost:8080/",
     "height": 583
    },
    "id": "LMHvPMiIZtXI",
    "outputId": "c21c03c0-9d1e-486a-8353-72ee6b750764"
   },
   "outputs": [
    {
     "name": "stdout",
     "output_type": "stream",
     "text": [
      "Classification Report LSTM Stacked Layers Model:\n",
      "               precision    recall  f1-score   support\n",
      "\n",
      "           0       0.82      0.80      0.81      2523\n",
      "           1       0.85      0.86      0.85      3259\n",
      "\n",
      "    accuracy                           0.83      5782\n",
      "   macro avg       0.83      0.83      0.83      5782\n",
      "weighted avg       0.83      0.83      0.83      5782\n",
      "\n"
     ]
    },
    {
     "data": {
      "image/png": "[encoded data removed]",
      "text/plain": [
       "<Figure size 708.661x255.118 with 2 Axes>"
      ]
     },
     "metadata": {
      "needs_background": "light"
     },
     "output_type": "display_data"
    }
   ],
   "source": [
    "stack_layer_prediction = (model3L.predict(x_test) > 0.5).astype(\"int32\")\n",
    "print('Classification Report LSTM Stacked Layers Model:\\n', classification_report(y_test, stack_layer_prediction))\n",
    "\n",
    "plot_classification_report(classification_report(y_test, stack_layer_prediction), title='LSTM Stacked Layers Classification Report', cmap='RdBu')"
   ]
  },
  {
   "cell_type": "code",
   "execution_count": 29,
   "metadata": {
    "colab": {
     "base_uri": "https://localhost:8080/",
     "height": 583
    },
    "id": "QW-amKnwZtXI",
    "outputId": "0ee75bc5-90b9-4b76-86b6-846a452399c8"
   },
   "outputs": [
    {
     "name": "stdout",
     "output_type": "stream",
     "text": [
      "Classification Report Bidirectional LSTM Model:\n",
      "               precision    recall  f1-score   support\n",
      "\n",
      "           0       0.80      0.81      0.81      2523\n",
      "           1       0.85      0.84      0.85      3259\n",
      "\n",
      "    accuracy                           0.83      5782\n",
      "   macro avg       0.83      0.83      0.83      5782\n",
      "weighted avg       0.83      0.83      0.83      5782\n",
      "\n"
     ]
    },
    {
     "data": {
      "image/png": "[encoded data removed]",
      "text/plain": [
       "<Figure size 708.661x255.118 with 2 Axes>"
      ]
     },
     "metadata": {
      "needs_background": "light"
     },
     "output_type": "display_data"
    }
   ],
   "source": [
    "lstm_bi_prediction = (model_Bi_LSTM.predict(x_test) > 0.5).astype(\"int32\")\n",
    "print('Classification Report Bidirectional LSTM Model:\\n', classification_report(y_test, lstm_bi_prediction))\n",
    "\n",
    "plot_classification_report(classification_report(y_test, lstm_bi_prediction), title='Bidirectional LSTM Classification Report', cmap='RdBu')"
   ]
  },
  {
   "cell_type": "code",
   "execution_count": 30,
   "metadata": {
    "colab": {
     "base_uri": "https://localhost:8080/",
     "height": 217
    },
    "id": "A1feLDbSZtXJ",
    "outputId": "72580f5a-2b5d-4b8f-bf73-91faeabb9384"
   },
   "outputs": [
    {
     "name": "stdout",
     "output_type": "stream",
     "text": [
      "Classification Report CNN + LSTM Model:\n",
      "               precision    recall  f1-score   support\n",
      "\n",
      "           0       0.81      0.75      0.78      2523\n",
      "           1       0.82      0.87      0.84      3259\n",
      "\n",
      "    accuracy                           0.82      5782\n",
      "   macro avg       0.82      0.81      0.81      5782\n",
      "weighted avg       0.82      0.82      0.82      5782\n",
      "\n"
     ]
    },
    {
     "data": {
      "image/png": "[encoded data removed]",
      "text/plain": [
       "<Figure size 708.661x255.118 with 2 Axes>"
      ]
     },
     "metadata": {
      "needs_background": "light"
     },
     "output_type": "display_data"
    }
   ],
   "source": [
    "lstm_cnn_prediction = (model_CNN_LSTM.predict(x_test) > 0.5).astype(\"int32\")\n",
    "print('Classification Report CNN + LSTM Model:\\n', classification_report(y_test, lstm_cnn_prediction))\n",
    "\n",
    "plot_classification_report(classification_report(y_test, lstm_cnn_prediction), title='CNN + LSTM Classification Report', cmap='RdBu')"
   ]
  },
  {
   "cell_type": "code",
   "execution_count": 31,
   "metadata": {
    "id": "yXjPDtRVZtXJ"
   },
   "outputs": [],
   "source": [
    "from sklearn import metrics\n",
    "from sklearn.metrics import roc_curve, auc\n",
    "\n",
    "fprB, tprB, thresholdsB = metrics.roc_curve(y_test, model_batch.predict(x_test))\n",
    "fprMB, tprMB, thresholdsMB = metrics.roc_curve(y_test, model_mini.predict(x_test))\n",
    "fpr3L, tpr3L, thresholds3L = metrics.roc_curve(y_test, model3L.predict(x_test))\n",
    "fprBi, tprBi, thresholdsBi = metrics.roc_curve(y_test, model_Bi_LSTM.predict(x_test))\n",
    "fprCNN, tprCNN, thresholdsCNN = metrics.roc_curve(y_test, model_CNN_LSTM.predict(x_test))"
   ]
  },
  {
   "cell_type": "code",
   "execution_count": 32,
   "metadata": {
    "colab": {
     "base_uri": "https://localhost:8080/",
     "height": 350
    },
    "id": "IqnADfg_ZtXJ",
    "outputId": "e870cf5c-c771-4295-9117-fad9f0ad3fb8"
   },
   "outputs": [
    {
     "data": {
      "image/png": "[encoded data removed]",
      "text/plain": [
       "<Figure size 576x360 with 1 Axes>"
      ]
     },
     "metadata": {
      "needs_background": "light"
     },
     "output_type": "display_data"
    }
   ],
   "source": [
    "linewidth = 2\n",
    "plt.figure(figsize=(8, 5))\n",
    "\n",
    "plt.plot(fprB, tprB, color='#db6114', lw=linewidth, label='ROC Curve LSTM Stochastic GD (AUC = %0.3f)' % auc(fprB, tprB))\n",
    "plt.plot(fprMB, tprMB, color='#1565c0', lw=linewidth, label='ROC Curve LSTM Mini Batch(AUC = %0.3f)' % auc(fprMB, tprMB))\n",
    "plt.plot(fpr3L, tpr3L, color='#2e7d32', lw=linewidth, label='ROC Curve LSTM Stacked Layers (AUC = %0.3f)' % auc(fpr3L, tpr3L))\n",
    "plt.plot(fprBi, tprBi, color='#ffc107', lw=linewidth, label='ROC Curve Bidirectional LSTM (AUC = %0.3f)' % auc(fprBi, tprBi))\n",
    "plt.plot(fprCNN, tprCNN, color='#6557d2', lw=linewidth, label='ROC Curve  CNN + LSTM (AUC = %0.3f)' % auc(fprCNN, tprCNN))\n",
    "plt.plot([0, 1], [0, 1], color='#616161', lw=linewidth, linestyle='--')\n",
    "\n",
    "plt.xlim([0.0, 1.0])\n",
    "plt.ylim([0.0, 1.05])\n",
    "\n",
    "plt.xlabel('False Positive Rate')\n",
    "plt.ylabel('True Positive Rate')\n",
    "plt.title('ROC Curve Plots')\n",
    "plt.legend(loc=\"lower right\")\n",
    "\n",
    "plt.show()"
   ]
  },
  {
   "cell_type": "markdown",
   "metadata": {
    "id": "HihEst91ZtXJ"
   },
   "source": [
    "As we can see, all models show approximately the same result, but so far the best is the model with Stacked Layers (90.4%), so we gonna use it. Here we are finished, then we move on to the development of a web application."
   ]
  }
 ],
 "metadata": {
  "colab": {
   "collapsed_sections": [],
   "name": "Part III - Training and Development of Different LSTM Models.ipynb",
   "provenance": []
  },
  "kernelspec": {
   "display_name": "Python 3",
   "language": "python",
   "name": "python3"
  },
  "language_info": {
   "codemirror_mode": {
    "name": "ipython",
    "version": 3
   },
   "file_extension": ".py",
   "mimetype": "text/x-python",
   "name": "python",
   "nbconvert_exporter": "python",
   "pygments_lexer": "ipython3",
   "version": "3.8.2"
  }
 },
 "nbformat": 4,
 "nbformat_minor": 1
}
